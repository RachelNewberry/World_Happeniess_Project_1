{
 "cells": [
  {
   "cell_type": "code",
   "execution_count": null,
   "metadata": {},
   "outputs": [],
   "source": [
    "# Import Dependencies\n",
    "import pandas as pd\n",
    "import seaborn as sns\n",
    "import matplotlib.pyplot as plt\n",
    "import plotly.express as px\n",
    "import plotly.io as pio\n",
    "import plotly.graph_objs as go\n",
    "import numpy as np"
   ]
  },
  {
   "cell_type": "code",
   "execution_count": null,
   "metadata": {},
   "outputs": [],
   "source": [
    "world_happiness_2015 = \"./data/2015.csv\"\n",
    "world_happiness_2016 = \"./data/2016.csv\"\n",
    "world_happiness_2017 = \"./data/2017.csv\"\n",
    "world_happiness_2018 = \"./data/2018.csv\"\n",
    "world_happiness_2019 = \"./data/2019.csv\"\n",
    "economic_freedom_report = \"./data/economic_freedom_report.csv\""
   ]
  },
  {
   "cell_type": "code",
   "execution_count": null,
   "metadata": {},
   "outputs": [],
   "source": [
    "csv_2015_df = pd.read_csv(world_happiness_2015)\n",
    "csv_2016_df = pd.read_csv(world_happiness_2016)\n",
    "csv_2017_df = pd.read_csv(world_happiness_2017)\n",
    "csv_2018_df = pd.read_csv(world_happiness_2018)\n",
    "csv_2019_df = pd.read_csv(world_happiness_2019)\n",
    "csv_economic_freedom_report = pd.read_csv(economic_freedom_report)"
   ]
  },
  {
   "cell_type": "code",
   "execution_count": null,
   "metadata": {},
   "outputs": [],
   "source": [
    "# Merge 2015 and 2016 data\n",
    "df_2015_2016 = pd.merge(csv_2015_df,csv_2016_df,on = \"Country\")"
   ]
  },
  {
   "cell_type": "code",
   "execution_count": null,
   "metadata": {},
   "outputs": [],
   "source": [
    "# Rename the columns\n",
    "df_2015_2016 = df_2015_2016.rename(columns={\"Happiness Rank_x\": \"Happiness Rank_2015\", \n",
    "                                           \"Happiness Score_x\":\"Happiness Score_2015\", \n",
    "                                           \"Economy (GDP per Capita)_x\":\"Economy (GDP per Capita)_2015\",\n",
    "                                           \"Family_x\":\"Family_2015\",\n",
    "                                           \"Health (Life Expectancy)_x\":\"Health (Life Expectancy)_2015\",\n",
    "                                           \"Freedom_x\":\"Freedom_2015\",\n",
    "                                           \"Trust (Government Corruption)_x\":\"Trust (Government Corruption)_2015\",\n",
    "                                            \"Generosity_x\":\"Generosity_2015\",\n",
    "                                           \"Happiness Rank_y\":\"Happiness Rank_2016\",\n",
    "                                           \"Happiness Score_y\":\"Happiness Score_2016\",\n",
    "                                           \"Economy (GDP per Capita)_y\":\"Economy (GDP per Capita)_2016\",\n",
    "                                           \"Family_y\":\"Family_2016\",\n",
    "                                           \"Health (Life Expectancy)_y\":\"Health (Life Expectancy)_2016\",\n",
    "                                           \"Freedom_y\":\"Freedom_2016\",\n",
    "                                           \"Trust (Government Corruption)_y\":\"Trust (Government Corruption)_2016\",\n",
    "                                           \"Generosity_y\":\"Generosity_2016\",\n",
    "                                           \"Dystopia Residual_y\":\"Dystopia Residual_2016\"\n",
    "                                          })"
   ]
  },
  {
   "cell_type": "code",
   "execution_count": null,
   "metadata": {},
   "outputs": [],
   "source": [
    "# Selecting only the required columns \n",
    "df_2015_2016_new = df_2015_2016[[\n",
    "    \"Country\",\n",
    "    \"Happiness Rank_2015\",\n",
    "    \"Happiness Score_2015\",\n",
    "    \"Economy (GDP per Capita)_2015\",\n",
    "    \"Health (Life Expectancy)_2015\",\n",
    "    \"Generosity_2015\",\n",
    "    \"Freedom_2015\",\n",
    "    \"Trust (Government Corruption)_2015\",\n",
    "    \"Happiness Rank_2016\",\n",
    "    \"Happiness Score_2016\",\n",
    "    \"Economy (GDP per Capita)_2016\",\n",
    "    \"Health (Life Expectancy)_2016\",\n",
    "    \"Generosity_2016\",\n",
    "    \"Freedom_2016\",\n",
    "    \"Trust (Government Corruption)_2016\"    \n",
    "]]"
   ]
  },
  {
   "cell_type": "code",
   "execution_count": null,
   "metadata": {},
   "outputs": [],
   "source": [
    "# Merge 2015 and 2016 data with 2017 data\n",
    "df_15_16_17 = pd.merge(df_2015_2016_new, csv_2017_df, on = \"Country\")"
   ]
  },
  {
   "cell_type": "code",
   "execution_count": null,
   "metadata": {},
   "outputs": [],
   "source": [
    "# Rename the 2017 columns\n",
    "df_15_16_17 = df_15_16_17.rename(columns={\"Happiness.Rank\": \"Happiness Rank_2017\", \n",
    "                                           \"Happiness.Score\":\"Happiness Score_2017\", \n",
    "                                           \"Economy..GDP.per.Capita.\":\"Economy (GDP per Capita)_2017\",\n",
    "                                           \"Family\":\"Family_2017\",\n",
    "                                           \"Health..Life.Expectancy.\":\"Health (Life Expectancy)_2017\",\n",
    "                                           \"Freedom\":\"Freedom_2017\",\n",
    "                                           \"Trust..Government.Corruption.\":\"Trust (Government Corruption)_2017\",\n",
    "                                            \"Generosity\":\"Generosity_2017\",\n",
    "                                           \"Dystopia.Residual\":\"Dystopia Residual_2017\"\n",
    "                                          })"
   ]
  },
  {
   "cell_type": "code",
   "execution_count": null,
   "metadata": {},
   "outputs": [],
   "source": [
    "# Create a new DataFrame with only required columns\n",
    "df_15_16_17_new = df_15_16_17[[\n",
    "    'Country', \n",
    "    'Happiness Rank_2015',\n",
    "    'Happiness Score_2015',\n",
    "    'Economy (GDP per Capita)_2015',\n",
    "    'Health (Life Expectancy)_2015',\n",
    "    'Generosity_2015',\n",
    "    'Freedom_2015',\n",
    "    'Trust (Government Corruption)_2015',\n",
    "    'Happiness Rank_2016',\n",
    "    'Happiness Score_2016',\n",
    "    'Economy (GDP per Capita)_2016',\n",
    "    'Health (Life Expectancy)_2016',\n",
    "    'Generosity_2016',\n",
    "    'Freedom_2016',\n",
    "    'Trust (Government Corruption)_2016',\n",
    "    'Happiness Rank_2017',\n",
    "    'Happiness Score_2017',\n",
    "    'Economy (GDP per Capita)_2017',\n",
    "    'Health (Life Expectancy)_2017',\n",
    "    'Generosity_2017',\n",
    "    'Freedom_2017',    \n",
    "    'Trust (Government Corruption)_2017',\n",
    "    ]]"
   ]
  },
  {
   "cell_type": "code",
   "execution_count": null,
   "metadata": {},
   "outputs": [],
   "source": [
    "# Merge '15, '16, '17 data with '18 data\n",
    "df_15_16_17_18 = pd.merge(df_15_16_17_new, csv_2018_df, on = \"Country\")"
   ]
  },
  {
   "cell_type": "code",
   "execution_count": null,
   "metadata": {},
   "outputs": [],
   "source": [
    "# Rename the 2018 columns\n",
    "df_15_16_17_18 = df_15_16_17_18.rename(columns={\"Overall rank\": \"Happiness Rank_2018\", \n",
    "                                           \"Score\":\"Happiness Score_2018\", \n",
    "                                           \"GDP per capita\":\"Economy (GDP per Capita)_2018\",\n",
    "                                           \"Family\":\"Family_2017\",\n",
    "                                           \"Healthy life expectancy\":\"Health (Life Expectancy)_2018\",\n",
    "                                           \"Freedom to make life choices\":\"Freedom_2018\",\n",
    "                                           \"Perceptions of corruption\":\"Trust (Government Corruption)_2018\",\n",
    "                                            \"Generosity\":\"Generosity_2018\"\n",
    "                                            })"
   ]
  },
  {
   "cell_type": "code",
   "execution_count": null,
   "metadata": {},
   "outputs": [],
   "source": [
    "# Create a new DataFrame with only required columns\n",
    "df_15_16_17_18_new = df_15_16_17_18[[\n",
    "    'Country', \n",
    "    'Happiness Rank_2015',\n",
    "    'Happiness Score_2015',\n",
    "    'Economy (GDP per Capita)_2015',\n",
    "    'Health (Life Expectancy)_2015',\n",
    "    'Generosity_2015',\n",
    "    'Freedom_2015',\n",
    "    'Trust (Government Corruption)_2015',\n",
    "    'Happiness Rank_2016',\n",
    "    'Happiness Score_2016',\n",
    "    'Economy (GDP per Capita)_2016',\n",
    "    'Health (Life Expectancy)_2016',\n",
    "    'Generosity_2016',\n",
    "    'Freedom_2016',\n",
    "    'Trust (Government Corruption)_2016',\n",
    "    'Happiness Rank_2017',\n",
    "    'Happiness Score_2017',\n",
    "    'Economy (GDP per Capita)_2017',\n",
    "    'Health (Life Expectancy)_2017',\n",
    "    'Generosity_2017',\n",
    "    'Freedom_2017',    \n",
    "    'Trust (Government Corruption)_2017',\n",
    "    'Happiness Rank_2018',\n",
    "    'Happiness Score_2018',\n",
    "    'Economy (GDP per Capita)_2018',\n",
    "    'Health (Life Expectancy)_2018',\n",
    "    'Generosity_2018',\n",
    "    'Freedom_2018', \n",
    "    'Trust (Government Corruption)_2018'\n",
    "    ]]"
   ]
  },
  {
   "cell_type": "code",
   "execution_count": null,
   "metadata": {},
   "outputs": [],
   "source": [
    "# Merge '15, '16, '17, '18 data with '19 data\n",
    "df_15_16_17_18_19 = pd.merge(df_15_16_17_18_new, csv_2019_df, on = \"Country\")"
   ]
  },
  {
   "cell_type": "code",
   "execution_count": null,
   "metadata": {},
   "outputs": [],
   "source": [
    "# Rename the 2019 columns\n",
    "df_15_16_17_18_19 = df_15_16_17_18_19.rename(columns={\"Overall rank\": \"Happiness Rank_2019\", \n",
    "                                           \"Score\":\"Happiness Score_2019\", \n",
    "                                           \"GDP per capita\":\"Economy (GDP per Capita)_2019\",\n",
    "                                           \"Family\":\"Family_2017\",\n",
    "                                           \"Healthy life expectancy\":\"Health (Life Expectancy)_2019\",\n",
    "                                           \"Freedom to make life choices\":\"Freedom_2019\",\n",
    "                                           \"Perceptions of corruption\":\"Trust (Government Corruption)_2019\",\n",
    "                                            \"Generosity\":\"Generosity_2019\"\n",
    "                                            })"
   ]
  },
  {
   "cell_type": "code",
   "execution_count": null,
   "metadata": {},
   "outputs": [],
   "source": [
    "# Create a new DataFrame with only required columns\n",
    "df_15_16_17_18_19_new = df_15_16_17_18_19[[\n",
    "    'Country', \n",
    "    'Happiness Rank_2015',\n",
    "    'Happiness Score_2015',\n",
    "    'Economy (GDP per Capita)_2015',\n",
    "    'Health (Life Expectancy)_2015',\n",
    "    'Generosity_2015',\n",
    "    'Freedom_2015',\n",
    "    'Trust (Government Corruption)_2015',\n",
    "    'Happiness Rank_2016',\n",
    "    'Happiness Score_2016',\n",
    "    'Economy (GDP per Capita)_2016',\n",
    "    'Health (Life Expectancy)_2016',\n",
    "    'Generosity_2016',\n",
    "    'Freedom_2016',\n",
    "    'Trust (Government Corruption)_2016',\n",
    "    'Happiness Rank_2017',\n",
    "    'Happiness Score_2017',\n",
    "    'Economy (GDP per Capita)_2017',\n",
    "    'Health (Life Expectancy)_2017',\n",
    "    'Generosity_2017',\n",
    "    'Freedom_2017',    \n",
    "    'Trust (Government Corruption)_2017',\n",
    "    'Happiness Rank_2018',\n",
    "    'Happiness Score_2018',\n",
    "    'Economy (GDP per Capita)_2018',\n",
    "    'Health (Life Expectancy)_2018',\n",
    "    'Generosity_2018',\n",
    "    'Freedom_2018', \n",
    "    'Trust (Government Corruption)_2018',\n",
    "    'Happiness Rank_2019',\n",
    "    'Happiness Score_2019',\n",
    "    'Economy (GDP per Capita)_2019',\n",
    "    'Health (Life Expectancy)_2019',\n",
    "    'Generosity_2019',\n",
    "    'Freedom_2019',\n",
    "    'Trust (Government Corruption)_2019'       \n",
    "    ]]\n",
    "df_15_16_17_18_19_new.columns"
   ]
  },
  {
   "cell_type": "code",
   "execution_count": null,
   "metadata": {},
   "outputs": [],
   "source": [
    "# Merge '15, '16, '17, '18, '19 data with world economic freedom data\n",
    "df_15_19_econ = pd.merge(df_15_16_17_18_19_new, csv_economic_freedom_report, on = \"Country\")\n",
    "df_15_19_econ.columns"
   ]
  },
  {
   "cell_type": "code",
   "execution_count": null,
   "metadata": {},
   "outputs": [],
   "source": [
    "# Rename column from world economic freedom data\n",
    "df_15_19_econ = df_15_19_econ.rename(columns = {'rank': 'Economic Freedom Rank',\n",
    "                                                'score': 'Economic Freedom Score'\n",
    "                                               })"
   ]
  },
  {
   "cell_type": "code",
   "execution_count": null,
   "metadata": {},
   "outputs": [],
   "source": [
    "# # Create a new DataFrame with only required columns \n",
    "df_final = df_15_19_econ[[\n",
    "    'Country', 'Happiness Rank_2015', 'Happiness Score_2015',\n",
    "       'Economy (GDP per Capita)_2015', 'Health (Life Expectancy)_2015',\n",
    "       'Generosity_2015', 'Freedom_2015', 'Trust (Government Corruption)_2015',\n",
    "       'Happiness Rank_2016', 'Happiness Score_2016',\n",
    "       'Economy (GDP per Capita)_2016', 'Health (Life Expectancy)_2016',\n",
    "       'Generosity_2016', 'Freedom_2016', 'Trust (Government Corruption)_2016',\n",
    "       'Happiness Rank_2017', 'Happiness Score_2017',\n",
    "       'Economy (GDP per Capita)_2017', 'Health (Life Expectancy)_2017',\n",
    "       'Generosity_2017', 'Freedom_2017', 'Trust (Government Corruption)_2017',\n",
    "       'Happiness Rank_2018', 'Happiness Score_2018',\n",
    "       'Economy (GDP per Capita)_2018', 'Health (Life Expectancy)_2018',\n",
    "       'Generosity_2018', 'Freedom_2018', 'Trust (Government Corruption)_2018',\n",
    "       'Happiness Rank_2019', 'Happiness Score_2019',\n",
    "       'Economy (GDP per Capita)_2019', 'Health (Life Expectancy)_2019',\n",
    "       'Generosity_2019', 'Freedom_2019', 'Trust (Government Corruption)_2019',\n",
    "       'Economic Freedom Rank', 'Economic Freedom Score'\n",
    "]]\n",
    "df_final"
   ]
  },
  {
   "cell_type": "code",
   "execution_count": null,
   "metadata": {},
   "outputs": [],
   "source": [
    "df_final.count()"
   ]
  },
  {
   "cell_type": "code",
   "execution_count": null,
   "metadata": {},
   "outputs": [],
   "source": [
    "# Get the median Trust value for 2018\n",
    "Trust_2018 = df_final[\"Trust (Government Corruption)_2018\"].median()\n",
    "Trust_2018"
   ]
  },
  {
   "cell_type": "code",
   "execution_count": null,
   "metadata": {},
   "outputs": [],
   "source": [
    "# Find the row with the missing value\n",
    "df_final[df_final[\"Trust (Government Corruption)_2018\"].isna() == True]"
   ]
  },
  {
   "cell_type": "code",
   "execution_count": null,
   "metadata": {},
   "outputs": [],
   "source": [
    "# Assigning value to the missing cell\n",
    "df_final['Trust (Government Corruption)_2018'] = df_final['Trust (Government Corruption)_2018'].fillna((df_final['Trust (Government Corruption)_2018'].median()))"
   ]
  },
  {
   "cell_type": "code",
   "execution_count": null,
   "metadata": {},
   "outputs": [],
   "source": [
    "# Checking if the missing value has been replaced by the median value\n",
    "df_final[\"Trust (Government Corruption)_2018\"].isna().value_counts()"
   ]
  },
  {
   "cell_type": "code",
   "execution_count": null,
   "metadata": {},
   "outputs": [],
   "source": [
    "# Sorting Data based on the Economic Freedom Score - Ascending\n",
    "df_final_sorted = df_final.sort_values(by= 'Economic Freedom Score', ascending = True)\n",
    "df_final_sorted"
   ]
  },
  {
   "cell_type": "code",
   "execution_count": null,
   "metadata": {},
   "outputs": [],
   "source": [
    "#Creating a csv file\n",
    "\n",
    "df_final.to_csv(\"data/mergeddf.csv\", index=False, header=True)"
   ]
  },
  {
   "cell_type": "code",
   "execution_count": null,
   "metadata": {},
   "outputs": [],
   "source": [
    "#Spliiting DataFrame in half\n",
    "#df_split = df_final(frac=0.5)\n",
    "#df_split.reset_index()\n",
    "\n",
    "low = df_final_sorted.iloc[:65,:]\n",
    "high = df_final_sorted.iloc[66:,:]\n",
    "\n",
    "print(\"Shapeof newdataframes - {}, {}\".format(low.shape, high.shape))"
   ]
  },
  {
   "cell_type": "code",
   "execution_count": null,
   "metadata": {},
   "outputs": [],
   "source": [
    "high.head()\n"
   ]
  },
  {
   "cell_type": "code",
   "execution_count": null,
   "metadata": {},
   "outputs": [],
   "source": [
    "print(high. columns)"
   ]
  },
  {
   "cell_type": "code",
   "execution_count": null,
   "metadata": {},
   "outputs": [],
   "source": [
    "high_df = pd.DataFrame(high, columns = ['Country', 'Happiness Rank_2015', 'Happiness Score_2015',\n",
    "       'Economy (GDP per Capita)_2015', 'Health (Life Expectancy)_2015',\n",
    "       'Generosity_2015', 'Freedom_2015', 'Trust (Government Corruption)_2015',\n",
    "       'Happiness Rank_2016', 'Happiness Score_2016',\n",
    "       'Economy (GDP per Capita)_2016', 'Health (Life Expectancy)_2016',\n",
    "       'Generosity_2016', 'Freedom_2016', 'Trust (Government Corruption)_2016',\n",
    "       'Happiness Rank_2017', 'Happiness Score_2017',\n",
    "       'Economy (GDP per Capita)_2017', 'Health (Life Expectancy)_2017',\n",
    "       'Generosity_2017', 'Freedom_2017', 'Trust (Government Corruption)_2017',\n",
    "       'Happiness Rank_2018', 'Happiness Score_2018',\n",
    "       'Economy (GDP per Capita)_2018', 'Health (Life Expectancy)_2018',\n",
    "       'Generosity_2018', 'Freedom_2018', 'Trust (Government Corruption)_2018',\n",
    "       'Happiness Rank_2019', 'Happiness Score_2019',\n",
    "       'Economy (GDP per Capita)_2019', 'Health (Life Expectancy)_2019',\n",
    "       'Generosity_2019', 'Freedom_2019', 'Trust (Government Corruption)_2019',\n",
    "       'Economic Freedom Rank', 'Economic Freedom Score', 'QuantileRank'])\n",
    "high_df.head()\n"
   ]
  },
  {
   "cell_type": "code",
   "execution_count": null,
   "metadata": {},
   "outputs": [],
   "source": [
    "columns_needed = ['Happiness Score',\n",
    "       'Economy', 'Health',\n",
    "       'Generosity', 'Freedom', 'Trust']\n",
    "for col in columns_needed:\n",
    "    high_df[col+\"_avg\"]= high_df.loc[:,high_df.columns.str.contains(col)].mean(axis=1)"
   ]
  },
  {
   "cell_type": "code",
   "execution_count": null,
   "metadata": {},
   "outputs": [],
   "source": [
    "high_df"
   ]
  },
  {
   "cell_type": "code",
   "execution_count": null,
   "metadata": {},
   "outputs": [],
   "source": [
    "high_df.loc[:,high_df.columns.str.contains(r\"Economy \\(GDP per Capita\\)\")]"
   ]
  },
  {
   "cell_type": "code",
   "execution_count": null,
   "metadata": {},
   "outputs": [],
   "source": [
    "high_df_melt=pd.melt(high_df,value_vars=high_df.columns[high_df.columns.str.contains(\"avg\")],var_name=\"catogories\",value_name=\"score\")"
   ]
  },
  {
   "cell_type": "code",
   "execution_count": null,
   "metadata": {},
   "outputs": [],
   "source": [
    "sns.barplot(x=\"score\",y=\"catogories\",data=high_df_melt, ci=None)\n",
    "plt.savefig(\"data/higher_bar_plot.png\")\n",
    "x = ['0','2','4','6','8' , '10' , '12' , '14','16']\n",
    "plt.xticks(np.arange(len(x)), x, rotation=0)"
   ]
  },
  {
   "cell_type": "code",
   "execution_count": null,
   "metadata": {},
   "outputs": [],
   "source": [
    "high_df_line=pd.DataFrame() \n",
    "for col in columns_needed:\n",
    "    try:\n",
    "        high_df_line[col]  = high_df.loc[:,(high_df.columns.str.match(col))&~(high_df.columns.str.contains(\"avg\"))].mean(axis=0).values\n",
    "    except:\n",
    "        print(col)\n",
    "high_df_line[\"year\"]=range(2015,2020)"
   ]
  },
  {
   "cell_type": "code",
   "execution_count": null,
   "metadata": {},
   "outputs": [],
   "source": [
    "high_df_line"
   ]
  },
  {
   "cell_type": "code",
   "execution_count": null,
   "metadata": {},
   "outputs": [],
   "source": [
    "high_df_line=pd.melt(high_df_line,id_vars=[\"year\"],value_vars=high_df_line.columns[high_df_line.columns!=\"year\"],var_name=\"catogories\",value_name=\"score\")\n",
    "high_df_line"
   ]
  },
  {
   "cell_type": "code",
   "execution_count": null,
   "metadata": {},
   "outputs": [],
   "source": [
    "sns.lineplot(data=high_df_line,x=\"year\",y=\"score\",hue=\"catogories\")\n",
    "plt.savefig(\"data/higher_line_plot.png\")"
   ]
  },
  {
   "cell_type": "code",
   "execution_count": null,
   "metadata": {},
   "outputs": [],
   "source": []
  },
  {
   "cell_type": "code",
   "execution_count": null,
   "metadata": {},
   "outputs": [],
   "source": [
    "# Select columns using prefix\n",
    "df_2015 = df_final.filter(regex='2015$', axis=1)\n",
    "df_2016 = df_final.filter(regex='2016$', axis=1)\n",
    "df_2017 = df_final.filter(regex='2017$', axis=1)\n",
    "df_2018 = df_final.filter(regex='2018$', axis=1)\n",
    "df_2019 = df_final.filter(regex='2019$', axis=1)\n",
    "\n",
    "# Add Countries Column to the DataFrames\n",
    "df_2015['Country'] = df_final['Country']\n",
    "df_2016['Country'] = df_final['Country']\n",
    "df_2017['Country'] = df_final['Country']\n",
    "df_2018['Country'] = df_final['Country']\n",
    "df_2019['Country'] = df_final['Country']\n",
    "\n",
    "# Remove Suffixes from the column names\n",
    "df_2015.columns = df_2015.columns.str.strip('_2015')\n",
    "df_2016.columns = df_2015.columns.str.strip('_2016')\n",
    "df_2017.columns = df_2015.columns.str.strip('_2017')\n",
    "df_2018.columns = df_2015.columns.str.strip('_2018')\n",
    "df_2019.columns = df_2015.columns.str.strip('_2019')\n",
    "\n",
    "# Sorting Data based on Happiness Score\n",
    "df_2015 = df_2015.sort_values(by= 'Happiness Rank', ascending = True)\n",
    "df_2016 = df_2016.sort_values(by= 'Happiness Rank', ascending = True)\n",
    "df_2017 = df_2017.sort_values(by= 'Happiness Rank', ascending = True)\n",
    "df_2018 = df_2018.sort_values(by= 'Happiness Rank', ascending = True)\n",
    "df_2019 = df_2019.sort_values(by= 'Happiness Rank', ascending = True)"
   ]
  },
  {
   "cell_type": "code",
   "execution_count": null,
   "metadata": {},
   "outputs": [],
   "source": [
    "# Create a list of years\n",
    "years = [2015, 2016, 2017, 2018, 2019]\n",
    "\n",
    "# Create an empty dictionary to store different years of data\n",
    "df_years = {}\n",
    "\n",
    "# Add the dataframes to the dictionary\n",
    "df_years[2015],df_years[2016],df_years[2017],df_years[2018],df_years[2019] = df_2015,df_2016,df_2017,df_2018,df_2019"
   ]
  },
  {
   "cell_type": "code",
   "execution_count": null,
   "metadata": {},
   "outputs": [],
   "source": [
    "# Creating horizontal plots for top 10 and botton 10 countries\n",
    "\n",
    "# Create empty dictionaries to hold the top 10 and bottom 10 countries\n",
    "top_countries = {}\n",
    "bottom_countries = {}\n",
    "combined_countries = {}\n",
    "\n",
    "# Looping through years to add df to empty dictionaries\n",
    "for year in years:\n",
    "    top_countries[year] = df_years[year].set_index('Country')\n",
    "    \n",
    "    # Adding the top 10 countries\n",
    "    top_countries[year] = df_years[year].loc[:, ['Country',\n",
    "                                                 'Economy (GDP per Capita)',\n",
    "                                                 'Health (Life Expectancy)',\n",
    "                                                 'Generosity','Freedom',\n",
    "                                                 'Trust (Government Corruption)']].head(10)\n",
    "    \n",
    "    # Adding the bottom 10 countries\n",
    "    bottom_countries[year] = df_years[year].loc[:, ['Country',\n",
    "                                                 'Economy (GDP per Capita)',\n",
    "                                                 'Health (Life Expectancy)',\n",
    "                                                 'Generosity','Freedom',\n",
    "                                                 'Trust (Government Corruption)']].tail(10)\n",
    "    \n",
    "    # Combining the top and bottom countries\n",
    "    combined_countries[year] = pd.concat([bottom_countries[year][::-1],\n",
    "                                          top_countries[year][::-1]]).set_index('Country', drop =True)\n",
    "    \n",
    "    # Plot the figure\n",
    "    fig = px.bar(combined_countries[year],\n",
    "                 color_discrete_sequence = px.colors.colorbrewer.Paired,\n",
    "                 orientation ='h',\n",
    "                 title = f\"{year} Top and Bottom Countries' Contributing Factors\",\n",
    "                 barmode = 'stack',\n",
    "                 labels = dict(Country=\"Countries\",\n",
    "                               value = \"Happiness Score\",\n",
    "                               variable = \"Contributing Factors\"))\n",
    "    \n",
    "    # Set the background color to black\n",
    "    fig.layout.template = 'plotly_dark'\n",
    "    \n",
    "    # Save figure\n",
    "    fig.write_image(f\"Output/{year} Top and Bottom Countries' Contributing Factors.png\") \n",
    "    \n",
    "    # Display the figure\n",
    "    fig.show()"
   ]
  },
  {
   "cell_type": "code",
   "execution_count": null,
   "metadata": {},
   "outputs": [],
   "source": [
    "# Correlational Heatmaps\n",
    "\n",
    "# Creating an empty dictionary for heatmaps\n",
    "corr_heatmap = {}\n",
    "\n",
    "# Looping to map correlations for 5 years\n",
    "for year in years:\n",
    "    corr_heatmap[year] = df_years[year]\n",
    "    fig = plt.figure(figsize=(10,6))\n",
    "             \n",
    "    # Plot the heatmaps\n",
    "    sns.heatmap(corr_heatmap[year].corr(), annot = True)\n",
    "    \n",
    "    # Add title to the figure\n",
    "    plt.title(f'Correlational Heatmap for {year}')\n",
    "    \n",
    "    # Save the figure\n",
    "    plt.savefig(f'Output/Correlational Heatmap for {year}.png', bbox_inches = 'tight')\n",
    "          \n",
    "    # Display the figure\n",
    "    plt.show()"
   ]
  },
  {
   "cell_type": "code",
   "execution_count": null,
   "metadata": {},
   "outputs": [],
   "source": [
    "# Happiness Trend of Top 10 Countries from 2015 to 2019\n",
    "\n",
    "# Exporting Cleaned Data to csv\n",
    "for year in years:\n",
    "    df_years[year] = df_years[year][['Country',\n",
    "                                     'Happiness Rank',\n",
    "                                     'Happiness Score',\n",
    "                                     'Economy (GDP per Capita)',\n",
    "                                     'Health (Life Expectancy)',\n",
    "                                     'Generosity',\n",
    "                                     'Freedom',\n",
    "                                     'Trust (Government Corruption)']]\n",
    "    df_years[year].to_csv(f\"Output/{year}.csv\", index=False)"
   ]
  },
  {
   "cell_type": "code",
   "execution_count": null,
   "metadata": {},
   "outputs": [],
   "source": [
    "# Getting years\n",
    "for year in years:\n",
    "    df_years[year]['Year'] = [year for x in range(len(df_years[year].Country))]"
   ]
  },
  {
   "cell_type": "code",
   "execution_count": null,
   "metadata": {},
   "outputs": [],
   "source": [
    "# Concatenate csv files for plotly graphs\n",
    "df_years_list = [df_years[x] for x in range(2015, 2020)]\n",
    "df_concat = pd.concat(df_years_list)"
   ]
  },
  {
   "cell_type": "code",
   "execution_count": null,
   "metadata": {},
   "outputs": [],
   "source": [
    "# Export the concatenated dataframe to csv\n",
    "df_concat.sort_values('Happiness Rank', inplace=True)\n",
    "df_concat.reset_index(drop=True, inplace=True)\n",
    "df_concat.to_csv(f'Output/df_concat.csv', index=False)"
   ]
  },
  {
   "cell_type": "code",
   "execution_count": null,
   "metadata": {},
   "outputs": [],
   "source": [
    "# Create a dataframe with Top ranking 10 countries\n",
    "df_top_10 = df_concat[df_concat['Happiness Rank']<=10].sort_values(by=['Year'])\n",
    "\n",
    "# Retrieving a list of countries from the dataframe\n",
    "countries = df_concat.loc[df_concat['Happiness Rank']<=10]['Country'].unique()\n",
    "\n",
    "# Plotting the graph\n",
    "fig = go.Figure()\n",
    "\n",
    "# Using loop to plot each country based on ranking from 2015 to 2019\n",
    "for country in countries:\n",
    "    x = df_top_10.loc[df_top_10['Country']==country]['Year']\n",
    "    y = df_top_10.loc[df_top_10['Country']==country]['Happiness Rank']\n",
    "    \n",
    "    # Plotting scatter graph with lines\n",
    "    fig.add_trace(go.Scatter(x=x, y=y,\n",
    "                  mode = 'markers+lines',\n",
    "                  line= dict(width=5, dash='solid'),\n",
    "                  marker=dict(size=10, symbol = 'circle'),\n",
    "                  name = country))\n",
    "    \n",
    "# Customizing the figure\n",
    "fig.update_xaxes(nticks =5)\n",
    "fig.update_yaxes(tick0 = 1, dtick=1, autorange = \"reversed\")\n",
    "fig.update_layout(title = 'Happiness Trend of Top 10 Ranking Countries',\n",
    "                  xaxis_title = 'Year',\n",
    "                  yaxis_title='Happiness Rank')\n",
    "\n",
    "\n",
    "# Set the background color to black\n",
    "fig.layout.template = 'plotly_dark'\n",
    "\n",
    "# Displaying the figure\n",
    "fig.show()\n",
    "\n",
    "# Saving fig in the Output folder\n",
    "pio.write_image(fig, 'Output/Happiness Trend of Top 10 Ranking Countries.png')"
   ]
  },
  {
   "cell_type": "code",
   "execution_count": null,
   "metadata": {},
   "outputs": [],
   "source": []
  },
  {
   "cell_type": "code",
   "execution_count": null,
   "metadata": {},
   "outputs": [],
   "source": [
    "low.head() "
   ]
  },
  {
   "cell_type": "code",
   "execution_count": null,
   "metadata": {},
   "outputs": [],
   "source": [
    "print(low. columns)"
   ]
  },
  {
   "cell_type": "code",
   "execution_count": null,
   "metadata": {},
   "outputs": [],
   "source": [
    "low_df = pd.DataFrame(low, columns = ['Country', 'Happiness Rank_2015', 'Happiness Score_2015',\n",
    "       'Economy (GDP per Capita)_2015', 'Health (Life Expectancy)_2015',\n",
    "       'Generosity_2015', 'Freedom_2015', 'Trust (Government Corruption)_2015',\n",
    "       'Happiness Rank_2016', 'Happiness Score_2016',\n",
    "       'Economy (GDP per Capita)_2016', 'Health (Life Expectancy)_2016',\n",
    "       'Generosity_2016', 'Freedom_2016', 'Trust (Government Corruption)_2016',\n",
    "       'Happiness Rank_2017', 'Happiness Score_2017',\n",
    "       'Economy (GDP per Capita)_2017', 'Health (Life Expectancy)_2017',\n",
    "       'Generosity_2017', 'Freedom_2017', 'Trust (Government Corruption)_2017',\n",
    "       'Happiness Rank_2018', 'Happiness Score_2018',\n",
    "       'Economy (GDP per Capita)_2018', 'Health (Life Expectancy)_2018',\n",
    "       'Generosity_2018', 'Freedom_2018', 'Trust (Government Corruption)_2018',\n",
    "       'Happiness Rank_2019', 'Happiness Score_2019',\n",
    "       'Economy (GDP per Capita)_2019', 'Health (Life Expectancy)_2019',\n",
    "       'Generosity_2019', 'Freedom_2019', 'Trust (Government Corruption)_2019',\n",
    "       'Economic Freedom Rank', 'Economic Freedom Score', 'QuantileRank'])\n",
    "low_df.head()"
   ]
  },
  {
   "cell_type": "code",
   "execution_count": null,
   "metadata": {},
   "outputs": [],
   "source": [
    "columns_needed = ['Happiness Score',\n",
    "       'Economy', 'Health',\n",
    "       'Generosity', 'Freedom', 'Trust']\n",
    "for col in columns_needed:\n",
    "    low_df[col+\"_avg\"]= low_df.loc[:,low_df.columns.str.contains(col)].mean(axis=1)"
   ]
  },
  {
   "cell_type": "code",
   "execution_count": null,
   "metadata": {},
   "outputs": [],
   "source": [
    "low_df.loc[:,low_df.columns.str.contains(r\"Economy \\(GDP per Capita\\)\")]\n"
   ]
  },
  {
   "cell_type": "code",
   "execution_count": null,
   "metadata": {},
   "outputs": [],
   "source": [
    "low_df_melt=pd.melt(low_df,value_vars=low_df.columns[low_df.columns.str.contains(\"avg\")],\n",
    "                    var_name=\"catogories\",value_name=\"score\")"
   ]
  },
  {
   "cell_type": "code",
   "execution_count": null,
   "metadata": {},
   "outputs": [],
   "source": [
    "sns.barplot(x=\"score\",y=\"catogories\",data=low_df_melt, ci=None)\n",
    "plt.savefig(\"data/lower_bar_plot.png\")"
   ]
  },
  {
   "cell_type": "code",
   "execution_count": null,
   "metadata": {},
   "outputs": [],
   "source": [
    "low_df_line=pd.DataFrame() \n",
    "for col in columns_needed:\n",
    "    try:\n",
    "        low_df_line[col]  = low_df.loc[:,(low_df.columns.str.match(col))&~\n",
    "                                       (low_df.columns.str.contains(\"avg\"))].mean(axis=0).values\n",
    "    except:\n",
    "        print(col)\n",
    "low_df_line[\"year\"]=range(2015,2020)"
   ]
  },
  {
   "cell_type": "code",
   "execution_count": null,
   "metadata": {},
   "outputs": [],
   "source": [
    "low_df_line=pd.melt(low_df_line,id_vars=[\"year\"],value_vars=low_df_line.columns[low_df_line.columns!=\"year\"],var_name=\"catogories\",value_name=\"score\")\n",
    "low_df_line"
   ]
  },
  {
   "cell_type": "code",
   "execution_count": null,
   "metadata": {},
   "outputs": [],
   "source": [
    "sns.lineplot(data=low_df_line,x=\"year\",y=\"score\",hue=\"catogories\")\n",
    "plt.savefig(\"data/lower_line_plot.png\")"
   ]
  },
  {
   "cell_type": "code",
   "execution_count": null,
   "metadata": {},
   "outputs": [],
   "source": [
    "#Creating a csv file\n",
    "\n",
    "low_df.to_csv(\"data/rachel.csv\", index=False, header=True)"
   ]
  },
  {
   "cell_type": "code",
   "execution_count": null,
   "metadata": {},
   "outputs": [],
   "source": []
  },
  {
   "cell_type": "code",
   "execution_count": null,
   "metadata": {},
   "outputs": [],
   "source": []
  }
 ],
 "metadata": {
  "kernelspec": {
   "display_name": "Python 3",
   "language": "python",
   "name": "python3"
  },
  "language_info": {
   "codemirror_mode": {
    "name": "ipython",
    "version": 3
   },
   "file_extension": ".py",
   "mimetype": "text/x-python",
   "name": "python",
   "nbconvert_exporter": "python",
   "pygments_lexer": "ipython3",
   "version": "3.8.5"
  }
 },
 "nbformat": 4,
 "nbformat_minor": 4
}
