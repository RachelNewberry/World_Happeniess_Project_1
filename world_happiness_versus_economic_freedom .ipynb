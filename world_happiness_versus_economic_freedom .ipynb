{
 "cells": [
  {
   "cell_type": "code",
<<<<<<< Updated upstream

   "execution_count": 66,

=======
   "execution_count": null,
>>>>>>> Stashed changes
   "metadata": {},
   "outputs": [],
   "source": [
    "# Import Dependencies\n",
    "import pandas as pd\n",
    "import seaborn as sns\n",
    "import matplotlib.pyplot as plt\n",
<<<<<<< Updated upstream

    "import plotly.express as px"

    "import numpy as np"

=======
    "import numpy as np\n",
    "import plotly.express as px\n",
    "import plotly.io as plt_io\n",
    "import plotly.graph_objs as go\n",
    "import plotly.io as pio"
>>>>>>> Stashed changes
   ]
  },
  {
   "cell_type": "code",
   "execution_count": null,
   "metadata": {},
   "outputs": [],
   "source": [
    "world_happiness_2015 = \"./data/2015.csv\"\n",
    "world_happiness_2016 = \"./data/2016.csv\"\n",
    "world_happiness_2017 = \"./data/2017.csv\"\n",
    "world_happiness_2018 = \"./data/2018.csv\"\n",
    "world_happiness_2019 = \"./data/2019.csv\"\n",
    "economic_freedom_report = \"./data/economic_freedom_report.csv\""
   ]
  },
  {
   "cell_type": "code",
   "execution_count": null,
   "metadata": {},
   "outputs": [],
   "source": [
    "csv_2015_df = pd.read_csv(world_happiness_2015)\n",
    "csv_2016_df = pd.read_csv(world_happiness_2016)\n",
    "csv_2017_df = pd.read_csv(world_happiness_2017)\n",
    "csv_2018_df = pd.read_csv(world_happiness_2018)\n",
    "csv_2019_df = pd.read_csv(world_happiness_2019)\n",
    "csv_economic_freedom_report = pd.read_csv(economic_freedom_report)"
   ]
  },
  {
   "cell_type": "code",
   "execution_count": null,
   "metadata": {},
   "outputs": [],
   "source": [
    "# Merge 2015 and 2016 data\n",
    "df_2015_2016 = pd.merge(csv_2015_df, csv_2016_df, on = \"Country\")"
   ]
  },
  {
   "cell_type": "code",
   "execution_count": null,
   "metadata": {},
   "outputs": [],
   "source": [
    "# Rename the columns\n",
    "df_2015_2016 = df_2015_2016.rename(columns={\"Happiness Rank_x\": \"Happiness Rank_2015\", \n",
    "                                           \"Happiness Score_x\":\"Happiness Score_2015\", \n",
    "                                           \"Economy (GDP per Capita)_x\":\"Economy (GDP per Capita)_2015\",\n",
    "                                           \"Family_x\":\"Family_2015\",\n",
    "                                           \"Health (Life Expectancy)_x\":\"Health (Life Expectancy)_2015\",\n",
    "                                           \"Freedom_x\":\"Freedom_2015\",\n",
    "                                           \"Trust (Government Corruption)_x\":\"Trust (Government Corruption)_2015\",\n",
    "                                            \"Generosity_x\":\"Generosity_2015\",\n",
    "                                           \"Happiness Rank_y\":\"Happiness Rank_2016\",\n",
    "                                           \"Happiness Score_y\":\"Happiness Score_2016\",\n",
    "                                           \"Economy (GDP per Capita)_y\":\"Economy (GDP per Capita)_2016\",\n",
    "                                           \"Family_y\":\"Family_2016\",\n",
    "                                           \"Health (Life Expectancy)_y\":\"Health (Life Expectancy)_2016\",\n",
    "                                           \"Freedom_y\":\"Freedom_2016\",\n",
    "                                           \"Trust (Government Corruption)_y\":\"Trust (Government Corruption)_2016\",\n",
    "                                           \"Generosity_y\":\"Generosity_2016\",\n",
    "                                           \"Dystopia Residual_y\":\"Dystopia Residual_2016\"\n",
    "                                          })"
   ]
  },
  {
   "cell_type": "code",
   "execution_count": null,
   "metadata": {},
   "outputs": [],
   "source": [
    "# Selecting only the required columns \n",
    "df_2015_2016_new = df_2015_2016[[\n",
    "    \"Country\",\n",
    "    \"Happiness Rank_2015\",\n",
    "    \"Happiness Score_2015\",\n",
    "    \"Economy (GDP per Capita)_2015\",\n",
    "    \"Health (Life Expectancy)_2015\",\n",
    "    \"Generosity_2015\",\n",
    "    \"Freedom_2015\",\n",
    "    \"Trust (Government Corruption)_2015\",\n",
    "    \"Happiness Rank_2016\",\n",
    "    \"Happiness Score_2016\",\n",
    "    \"Economy (GDP per Capita)_2016\",\n",
    "    \"Health (Life Expectancy)_2016\",\n",
    "    \"Generosity_2016\",\n",
    "    \"Freedom_2016\",\n",
    "    \"Trust (Government Corruption)_2016\"    \n",
    "]]"
   ]
  },
  {
   "cell_type": "code",
   "execution_count": null,
   "metadata": {},
   "outputs": [],
   "source": [
    "# Merge 2015 and 2016 data with 2017 data\n",
    "df_15_16_17 = pd.merge(df_2015_2016_new, csv_2017_df, on = \"Country\")"
   ]
  },
  {
   "cell_type": "code",
   "execution_count": null,
   "metadata": {},
   "outputs": [],
   "source": [
    "# Rename the 2017 columns\n",
    "df_15_16_17 = df_15_16_17.rename(columns={\"Happiness.Rank\": \"Happiness Rank_2017\", \n",
    "                                           \"Happiness.Score\":\"Happiness Score_2017\", \n",
    "                                           \"Economy..GDP.per.Capita.\":\"Economy (GDP per Capita)_2017\",\n",
    "                                           \"Family\":\"Family_2017\",\n",
    "                                           \"Health..Life.Expectancy.\":\"Health (Life Expectancy)_2017\",\n",
    "                                           \"Freedom\":\"Freedom_2017\",\n",
    "                                           \"Trust..Government.Corruption.\":\"Trust (Government Corruption)_2017\",\n",
    "                                            \"Generosity\":\"Generosity_2017\",\n",
    "                                           \"Dystopia.Residual\":\"Dystopia Residual_2017\"\n",
    "                                          })"
   ]
  },
  {
   "cell_type": "code",
   "execution_count": null,
   "metadata": {},
   "outputs": [],
   "source": [
    "# Create a new DataFrame with only required columns\n",
    "df_15_16_17_new = df_15_16_17[[\n",
    "    'Country', \n",
    "    'Happiness Rank_2015',\n",
    "    'Happiness Score_2015',\n",
    "    'Economy (GDP per Capita)_2015',\n",
    "    'Health (Life Expectancy)_2015',\n",
    "    'Generosity_2015',\n",
    "    'Freedom_2015',\n",
    "    'Trust (Government Corruption)_2015',\n",
    "    'Happiness Rank_2016',\n",
    "    'Happiness Score_2016',\n",
    "    'Economy (GDP per Capita)_2016',\n",
    "    'Health (Life Expectancy)_2016',\n",
    "    'Generosity_2016',\n",
    "    'Freedom_2016',\n",
    "    'Trust (Government Corruption)_2016',\n",
    "    'Happiness Rank_2017',\n",
    "    'Happiness Score_2017',\n",
    "    'Economy (GDP per Capita)_2017',\n",
    "    'Health (Life Expectancy)_2017',\n",
    "    'Generosity_2017',\n",
    "    'Freedom_2017',    \n",
    "    'Trust (Government Corruption)_2017',\n",
    "    ]]"
   ]
  },
  {
   "cell_type": "code",
   "execution_count": null,
   "metadata": {},
   "outputs": [],
   "source": [
    "# Merge '15, '16, '17 data with '18 data\n",
    "df_15_16_17_18 = pd.merge(df_15_16_17_new, csv_2018_df, on = \"Country\")"
   ]
  },
  {
   "cell_type": "code",
   "execution_count": null,
   "metadata": {},
   "outputs": [],
   "source": [
    "# Rename the 2018 columns\n",
    "df_15_16_17_18 = df_15_16_17_18.rename(columns={\"Overall rank\": \"Happiness Rank_2018\", \n",
    "                                           \"Score\":\"Happiness Score_2018\", \n",
    "                                           \"GDP per capita\":\"Economy (GDP per Capita)_2018\",\n",
    "                                           \"Family\":\"Family_2017\",\n",
    "                                           \"Healthy life expectancy\":\"Health (Life Expectancy)_2018\",\n",
    "                                           \"Freedom to make life choices\":\"Freedom_2018\",\n",
    "                                           \"Perceptions of corruption\":\"Trust (Government Corruption)_2018\",\n",
    "                                            \"Generosity\":\"Generosity_2018\"\n",
    "                                            })"
   ]
  },
  {
   "cell_type": "code",
   "execution_count": null,
   "metadata": {},
   "outputs": [],
   "source": [
    "# Create a new DataFrame with only required columns\n",
    "df_15_16_17_18_new = df_15_16_17_18[[\n",
    "    'Country', \n",
    "    'Happiness Rank_2015',\n",
    "    'Happiness Score_2015',\n",
    "    'Economy (GDP per Capita)_2015',\n",
    "    'Health (Life Expectancy)_2015',\n",
    "    'Generosity_2015',\n",
    "    'Freedom_2015',\n",
    "    'Trust (Government Corruption)_2015',\n",
    "    'Happiness Rank_2016',\n",
    "    'Happiness Score_2016',\n",
    "    'Economy (GDP per Capita)_2016',\n",
    "    'Health (Life Expectancy)_2016',\n",
    "    'Generosity_2016',\n",
    "    'Freedom_2016',\n",
    "    'Trust (Government Corruption)_2016',\n",
    "    'Happiness Rank_2017',\n",
    "    'Happiness Score_2017',\n",
    "    'Economy (GDP per Capita)_2017',\n",
    "    'Health (Life Expectancy)_2017',\n",
    "    'Generosity_2017',\n",
    "    'Freedom_2017',    \n",
    "    'Trust (Government Corruption)_2017',\n",
    "    'Happiness Rank_2018',\n",
    "    'Happiness Score_2018',\n",
    "    'Economy (GDP per Capita)_2018',\n",
    "    'Health (Life Expectancy)_2018',\n",
    "    'Generosity_2018',\n",
    "    'Freedom_2018', \n",
    "    'Trust (Government Corruption)_2018'\n",
    "    ]]"
   ]
  },
  {
   "cell_type": "code",
   "execution_count": null,
   "metadata": {},
   "outputs": [],
   "source": [
    "# Merge '15, '16, '17, '18 data with '19 data\n",
    "df_15_16_17_18_19 = pd.merge(df_15_16_17_18_new, csv_2019_df, on = \"Country\")"
   ]
  },
  {
   "cell_type": "code",
   "execution_count": null,
   "metadata": {},
   "outputs": [],
   "source": [
    "# Rename the 2019 columns\n",
    "df_15_16_17_18_19 = df_15_16_17_18_19.rename(columns={\"Overall rank\": \"Happiness Rank_2019\", \n",
    "                                           \"Score\":\"Happiness Score_2019\", \n",
    "                                           \"GDP per capita\":\"Economy (GDP per Capita)_2019\",\n",
    "                                           \"Family\":\"Family_2017\",\n",
    "                                           \"Healthy life expectancy\":\"Health (Life Expectancy)_2019\",\n",
    "                                           \"Freedom to make life choices\":\"Freedom_2019\",\n",
    "                                           \"Perceptions of corruption\":\"Trust (Government Corruption)_2019\",\n",
    "                                            \"Generosity\":\"Generosity_2019\"\n",
    "                                            })"
   ]
  },
  {
   "cell_type": "code",
   "execution_count": null,
   "metadata": {},
   "outputs": [],
   "source": [
    "# Create a new DataFrame with only required columns\n",
    "df_15_16_17_18_19_new = df_15_16_17_18_19[[\n",
    "    'Country', \n",
    "    'Happiness Rank_2015',\n",
    "    'Happiness Score_2015',\n",
    "    'Economy (GDP per Capita)_2015',\n",
    "    'Health (Life Expectancy)_2015',\n",
    "    'Generosity_2015',\n",
    "    'Freedom_2015',\n",
    "    'Trust (Government Corruption)_2015',\n",
    "    'Happiness Rank_2016',\n",
    "    'Happiness Score_2016',\n",
    "    'Economy (GDP per Capita)_2016',\n",
    "    'Health (Life Expectancy)_2016',\n",
    "    'Generosity_2016',\n",
    "    'Freedom_2016',\n",
    "    'Trust (Government Corruption)_2016',\n",
    "    'Happiness Rank_2017',\n",
    "    'Happiness Score_2017',\n",
    "    'Economy (GDP per Capita)_2017',\n",
    "    'Health (Life Expectancy)_2017',\n",
    "    'Generosity_2017',\n",
    "    'Freedom_2017',    \n",
    "    'Trust (Government Corruption)_2017',\n",
    "    'Happiness Rank_2018',\n",
    "    'Happiness Score_2018',\n",
    "    'Economy (GDP per Capita)_2018',\n",
    "    'Health (Life Expectancy)_2018',\n",
    "    'Generosity_2018',\n",
    "    'Freedom_2018', \n",
    "    'Trust (Government Corruption)_2018',\n",
    "    'Happiness Rank_2019',\n",
    "    'Happiness Score_2019',\n",
    "    'Economy (GDP per Capita)_2019',\n",
    "    'Health (Life Expectancy)_2019',\n",
    "    'Generosity_2019',\n",
    "    'Freedom_2019',\n",
    "    'Trust (Government Corruption)_2019'       \n",
    "    ]]\n",
    "df_15_16_17_18_19_new.columns"
   ]
  },
  {
   "cell_type": "code",
   "execution_count": null,
   "metadata": {},
   "outputs": [],
   "source": [
    "# Merge '15, '16, '17, '18, '19 data with world economic freedom data\n",
    "df_15_19_econ = pd.merge(df_15_16_17_18_19_new, csv_economic_freedom_report, on = \"Country\")\n",
    "df_15_19_econ.columns"
   ]
  },
  {
   "cell_type": "code",
   "execution_count": null,
   "metadata": {},
   "outputs": [],
   "source": [
    "# Rename column from world economic freedom data\n",
    "df_15_19_econ = df_15_19_econ.rename(columns = {'rank': 'Economic Freedom Rank',\n",
    "                                                'score': 'Economic Freedom Score'\n",
    "                                               })"
   ]
  },
  {
   "cell_type": "code",
   "execution_count": null,
   "metadata": {},
   "outputs": [],
   "source": [
    "# # Create a new DataFrame with only required columns \n",
    "df_final = df_15_19_econ[[\n",
    "    'Country', 'Happiness Rank_2015', 'Happiness Score_2015',\n",
    "       'Economy (GDP per Capita)_2015', 'Health (Life Expectancy)_2015',\n",
    "       'Generosity_2015', 'Freedom_2015', 'Trust (Government Corruption)_2015',\n",
    "       'Happiness Rank_2016', 'Happiness Score_2016',\n",
    "       'Economy (GDP per Capita)_2016', 'Health (Life Expectancy)_2016',\n",
    "       'Generosity_2016', 'Freedom_2016', 'Trust (Government Corruption)_2016',\n",
    "       'Happiness Rank_2017', 'Happiness Score_2017',\n",
    "       'Economy (GDP per Capita)_2017', 'Health (Life Expectancy)_2017',\n",
    "       'Generosity_2017', 'Freedom_2017', 'Trust (Government Corruption)_2017',\n",
    "       'Happiness Rank_2018', 'Happiness Score_2018',\n",
    "       'Economy (GDP per Capita)_2018', 'Health (Life Expectancy)_2018',\n",
    "       'Generosity_2018', 'Freedom_2018', 'Trust (Government Corruption)_2018',\n",
    "       'Happiness Rank_2019', 'Happiness Score_2019',\n",
    "       'Economy (GDP per Capita)_2019', 'Health (Life Expectancy)_2019',\n",
    "       'Generosity_2019', 'Freedom_2019', 'Trust (Government Corruption)_2019',\n",
    "       'Economic Freedom Rank', 'Economic Freedom Score'\n",
    "]]\n",
    "df_final"
   ]
  },
  {
   "cell_type": "code",
   "execution_count": null,
   "metadata": {},
   "outputs": [],
   "source": [
    "df_final.count()"
   ]
  },
  {
   "cell_type": "code",
   "execution_count": null,
   "metadata": {},
   "outputs": [],
   "source": [
    "# Get the median Trust value for 2018\n",
    "Trust_2018 = df_final[\"Trust (Government Corruption)_2018\"].median()\n",
    "Trust_2018"
   ]
  },
  {
   "cell_type": "code",
   "execution_count": null,
   "metadata": {},
   "outputs": [],
   "source": [
    "# Find the row with the missing value\n",
    "df_final[df_final[\"Trust (Government Corruption)_2018\"].isna() == True]"
   ]
  },
  {
   "cell_type": "code",
   "execution_count": null,
   "metadata": {},
   "outputs": [],
   "source": [
    "# Assigning value to the missing cell\n",
    "df_final['Trust (Government Corruption)_2018'] = df_final['Trust (Government Corruption)_2018'].fillna((df_final['Trust (Government Corruption)_2018'].median()))"
   ]
  },
  {
   "cell_type": "code",
   "execution_count": null,
   "metadata": {},
   "outputs": [],
   "source": [
    "# Checking if the missing value has been replaced by the median value\n",
    "df_final[\"Trust (Government Corruption)_2018\"].isna().value_counts()"
   ]
  },
  {
   "cell_type": "code",
   "execution_count": null,
   "metadata": {},
   "outputs": [],
   "source": [
    "# Sorting Data based on the Economic Freedom Score - Ascending\n",
    "df_final_sorted = df_final.sort_values(by= 'Economic Freedom Score', ascending = True)\n",
    "df_final_sorted"
   ]
  },
  {
   "cell_type": "code",
<<<<<<< Updated upstream

   "execution_count": 26,
=======
   "execution_count": null,
>>>>>>> Stashed changes
   "metadata": {},
   "outputs": [],
   "source": [
    "#Creating a csv file\n",
    "\n",
    "df_final.to_csv(\"data/mergeddf.csv\", index=False, header=True)"
   ]
  },
  {
   "cell_type": "code",
<<<<<<< Updated upstream

   "execution_count": 25,

=======
   "execution_count": null,
>>>>>>> Stashed changes
   "metadata": {},
   "outputs": [],
   "source": [
    "#Spliiting DataFrame in half\n",
    "#df_split = df_final(frac=0.5)\n",
    "#df_split.reset_index()\n",
    "\n",
    "low = df_final_sorted.iloc[:65,:]\n",
    "high = df_final_sorted.iloc[66:,:]\n",
    "\n",
    "print(\"Shapeof newdataframes - {}, {}\".format(low.shape, high.shape))"
   ]
  },
  {
   "cell_type": "code",
<<<<<<< Updated upstream
   "execution_count": 33,
   "metadata": {},
   "outputs": [
    {
     "name": "stderr",
     "output_type": "stream",
     "text": [
      "<ipython-input-33-5f6c2b8726d7>:9: SettingWithCopyWarning: \n",
      "A value is trying to be set on a copy of a slice from a DataFrame.\n",
      "Try using .loc[row_indexer,col_indexer] = value instead\n",
      "\n",
      "See the caveats in the documentation: https://pandas.pydata.org/pandas-docs/stable/user_guide/indexing.html#returning-a-view-versus-a-copy\n",
      "  df_2015['Country'] = df_final['Country']\n",
      "<ipython-input-33-5f6c2b8726d7>:10: SettingWithCopyWarning: \n",
      "A value is trying to be set on a copy of a slice from a DataFrame.\n",
      "Try using .loc[row_indexer,col_indexer] = value instead\n",
      "\n",
      "See the caveats in the documentation: https://pandas.pydata.org/pandas-docs/stable/user_guide/indexing.html#returning-a-view-versus-a-copy\n",
      "  df_2016['Country'] = df_final['Country']\n",
      "<ipython-input-33-5f6c2b8726d7>:11: SettingWithCopyWarning: \n",
      "A value is trying to be set on a copy of a slice from a DataFrame.\n",
      "Try using .loc[row_indexer,col_indexer] = value instead\n",
      "\n",
      "See the caveats in the documentation: https://pandas.pydata.org/pandas-docs/stable/user_guide/indexing.html#returning-a-view-versus-a-copy\n",
      "  df_2017['Country'] = df_final['Country']\n",
      "<ipython-input-33-5f6c2b8726d7>:12: SettingWithCopyWarning: \n",
      "A value is trying to be set on a copy of a slice from a DataFrame.\n",
      "Try using .loc[row_indexer,col_indexer] = value instead\n",
      "\n",
      "See the caveats in the documentation: https://pandas.pydata.org/pandas-docs/stable/user_guide/indexing.html#returning-a-view-versus-a-copy\n",
      "  df_2018['Country'] = df_final['Country']\n",
      "<ipython-input-33-5f6c2b8726d7>:13: SettingWithCopyWarning: \n",
      "A value is trying to be set on a copy of a slice from a DataFrame.\n",
      "Try using .loc[row_indexer,col_indexer] = value instead\n",
      "\n",
      "See the caveats in the documentation: https://pandas.pydata.org/pandas-docs/stable/user_guide/indexing.html#returning-a-view-versus-a-copy\n",
      "  df_2019['Country'] = df_final['Country']\n"
     ]
    }
   ],
   "source": [
    "# Adding Countries column top each year's df\n",
    "df_2015 = df_final.filter(regex = '2015$', axis=1)\n",
    "df_2016 = df_final.filter(regex = '2016$', axis=1)\n",
    "df_2017 = df_final.filter(regex = '2017$', axis=1)\n",
    "df_2018 = df_final.filter(regex = '2018$', axis=1)\n",
    "df_2019 = df_final.filter(regex = '2019$', axis=1)\n",
    "\n",
    "# Adding Country column to the dataframes\n",
    "df_2015['Country'] = df_final['Country']\n",
    "df_2016['Country'] = df_final['Country']\n",
    "df_2017['Country'] = df_final['Country']\n",
    "df_2018['Country'] = df_final['Country']\n",
    "df_2019['Country'] = df_final['Country']\n",
    "\n",
    "# Removing the suffixes\n",
    "df_2015.columns = df_2015.columns.str.strip('_2015')\n",
    "df_2016.columns = df_2015.columns.str.strip('_2015')\n",
    "df_2017.columns = df_2015.columns.str.strip('_2015')\n",
    "df_2018.columns = df_2015.columns.str.strip('_2015')\n",
    "df_2019.columns = df_2015.columns.str.strip('_2015')\n",
    "\n",
    "# Sorting based on Happiness Rank\n",
    "df_2015 = df_2015.sort_values(by= 'Happiness Rank', ascending = True)\n",
    "df_2016 = df_2016.sort_values(by= 'Happiness Rank', ascending = True)\n",
    "df_2017 = df_2017.sort_values(by= 'Happiness Rank', ascending = True)\n",
    "df_2018 = df_2018.sort_values(by= 'Happiness Rank', ascending = True)\n",
    "df_2019 = df_2019.sort_values(by= 'Happiness Rank', ascending = True)\n",
    "\n",
    "# Creating an empty dictionary with years of data\n",
    "df = {}\n",
    "\n",
    "# Creating a list of years\n",
    "years = [2015, 2016, 2017, 2018, 2019]\n",
    "\n",
    "# Storing the values in the dictionary\n",
    "df[2015],df[2016],df[2017],df[2018],df[2019] = df_2015,df_2016,df_2017,df_2018,df_2019"
   ]
  },
  {
   "cell_type": "code",
   "execution_count": 44,
   "metadata": {},
   "outputs": [
    {
     "data": {
      "application/vnd.plotly.v1+json": {
       "config": {
        "plotlyServerURL": "https://plot.ly"
       },
       "data": [
        {
         "alignmentgroup": "True",
         "hovertemplate": "Contributing Factors=Economy (GDP per Capita)<br>Happiness Score=%{x}<br>Countries=%{y}<extra></extra>",
         "legendgroup": "Economy (GDP per Capita)",
         "marker": {
          "color": "rgb(166,206,227)"
         },
         "name": "Economy (GDP per Capita)",
         "offsetgroup": "Economy (GDP per Capita)",
         "orientation": "h",
         "showlegend": true,
         "textposition": "auto",
         "type": "bar",
         "x": [
          0.20868,
          0.0153,
          0.6632,
          0.28665,
          0.22208000000000003,
          0.25811999999999996,
          0.17417,
          0.34193,
          0.20824,
          0.2852,
          1.33358,
          1.2501799999999998,
          1.33171,
          1.32944,
          1.29025,
          1.32629,
          1.459,
          1.32548,
          1.3023200000000001,
          1.3965100000000001
         ],
         "xaxis": "x",
         "y": [
          "Togo",
          "Burundi",
          "Syria",
          "Benin",
          "Rwanda",
          "Burkina Faso",
          "Guinea",
          "Chad",
          "Madagascar",
          "Tanzania",
          "Australia",
          "New Zealand",
          "Sweden",
          "Netherlands",
          "Finland",
          "Canada",
          "Norway",
          "Denmark",
          "Iceland",
          "Switzerland"
         ],
         "yaxis": "y"
        },
        {
         "alignmentgroup": "True",
         "hovertemplate": "Contributing Factors=Health (Life Expectancy)<br>Happiness Score=%{x}<br>Countries=%{y}<extra></extra>",
         "legendgroup": "Health (Life Expectancy)",
         "marker": {
          "color": "rgb(31,120,180)"
         },
         "name": "Health (Life Expectancy)",
         "offsetgroup": "Health (Life Expectancy)",
         "orientation": "h",
         "showlegend": true,
         "textposition": "auto",
         "type": "bar",
         "x": [
          0.28443,
          0.22396,
          0.7219300000000001,
          0.3191,
          0.42863999999999997,
          0.27125,
          0.24009,
          0.1501,
          0.46721,
          0.38215,
          0.93156,
          0.9083700000000001,
          0.9108700000000001,
          0.89284,
          0.8891100000000001,
          0.9056299999999999,
          0.88521,
          0.87464,
          0.94784,
          0.9414299999999999
         ],
         "xaxis": "x",
         "y": [
          "Togo",
          "Burundi",
          "Syria",
          "Benin",
          "Rwanda",
          "Burkina Faso",
          "Guinea",
          "Chad",
          "Madagascar",
          "Tanzania",
          "Australia",
          "New Zealand",
          "Sweden",
          "Netherlands",
          "Finland",
          "Canada",
          "Norway",
          "Denmark",
          "Iceland",
          "Switzerland"
         ],
         "yaxis": "y"
        },
        {
         "alignmentgroup": "True",
         "hovertemplate": "Contributing Factors=Generosity<br>Happiness Score=%{x}<br>Countries=%{y}<extra></extra>",
         "legendgroup": "Generosity",
         "marker": {
          "color": "rgb(178,223,138)"
         },
         "name": "Generosity",
         "offsetgroup": "Generosity",
         "orientation": "h",
         "showlegend": true,
         "textposition": "auto",
         "type": "bar",
         "x": [
          0.16680999999999999,
          0.19727,
          0.47179,
          0.1826,
          0.22628,
          0.21746999999999997,
          0.28657,
          0.18386,
          0.21333000000000002,
          0.34376999999999996,
          0.43562,
          0.47501000000000004,
          0.36262,
          0.4761,
          0.23351,
          0.45811,
          0.34699,
          0.34139,
          0.4363,
          0.29678000000000004
         ],
         "xaxis": "x",
         "y": [
          "Togo",
          "Burundi",
          "Syria",
          "Benin",
          "Rwanda",
          "Burkina Faso",
          "Guinea",
          "Chad",
          "Madagascar",
          "Tanzania",
          "Australia",
          "New Zealand",
          "Sweden",
          "Netherlands",
          "Finland",
          "Canada",
          "Norway",
          "Denmark",
          "Iceland",
          "Switzerland"
         ],
         "yaxis": "y"
        },
        {
         "alignmentgroup": "True",
         "hovertemplate": "Contributing Factors=Freedom<br>Happiness Score=%{x}<br>Countries=%{y}<extra></extra>",
         "legendgroup": "Freedom",
         "marker": {
          "color": "rgb(51,160,44)"
         },
         "name": "Freedom",
         "offsetgroup": "Freedom",
         "orientation": "h",
         "showlegend": true,
         "textposition": "auto",
         "type": "bar",
         "x": [
          0.36453,
          0.1185,
          0.15684,
          0.4845,
          0.59201,
          0.39493,
          0.37725,
          0.23501,
          0.19184,
          0.32878,
          0.6512399999999999,
          0.6393800000000001,
          0.6598,
          0.6157600000000001,
          0.64169,
          0.63297,
          0.66973,
          0.6493800000000001,
          0.6287699999999999,
          0.66557
         ],
         "xaxis": "x",
         "y": [
          "Togo",
          "Burundi",
          "Syria",
          "Benin",
          "Rwanda",
          "Burkina Faso",
          "Guinea",
          "Chad",
          "Madagascar",
          "Tanzania",
          "Australia",
          "New Zealand",
          "Sweden",
          "Netherlands",
          "Finland",
          "Canada",
          "Norway",
          "Denmark",
          "Iceland",
          "Switzerland"
         ],
         "yaxis": "y"
        },
        {
         "alignmentgroup": "True",
         "hovertemplate": "Contributing Factors=Trust (Government Corruption)<br>Happiness Score=%{x}<br>Countries=%{y}<extra></extra>",
         "legendgroup": "Trust (Government Corruption)",
         "marker": {
          "color": "rgb(251,154,153)"
         },
         "name": "Trust (Government Corruption)",
         "offsetgroup": "Trust (Government Corruption)",
         "orientation": "h",
         "showlegend": true,
         "textposition": "auto",
         "type": "bar",
         "x": [
          0.10730999999999999,
          0.10062,
          0.18905999999999998,
          0.0801,
          0.55191,
          0.12832000000000002,
          0.12139000000000001,
          0.05269,
          0.08123999999999999,
          0.05747000000000001,
          0.35636999999999996,
          0.42922,
          0.43843999999999994,
          0.31814000000000003,
          0.41372,
          0.32957,
          0.36503,
          0.48357,
          0.14145,
          0.41978000000000004
         ],
         "xaxis": "x",
         "y": [
          "Togo",
          "Burundi",
          "Syria",
          "Benin",
          "Rwanda",
          "Burkina Faso",
          "Guinea",
          "Chad",
          "Madagascar",
          "Tanzania",
          "Australia",
          "New Zealand",
          "Sweden",
          "Netherlands",
          "Finland",
          "Canada",
          "Norway",
          "Denmark",
          "Iceland",
          "Switzerland"
         ],
         "yaxis": "y"
        }
       ],
       "layout": {
        "barmode": "stack",
        "legend": {
         "title": {
          "text": "Contributing Factors"
         },
         "tracegroupgap": 0
        },
        "template": {
         "data": {
          "bar": [
           {
            "error_x": {
             "color": "#2a3f5f"
            },
            "error_y": {
             "color": "#2a3f5f"
            },
            "marker": {
             "line": {
              "color": "#E5ECF6",
              "width": 0.5
             }
            },
            "type": "bar"
           }
          ],
          "barpolar": [
           {
            "marker": {
             "line": {
              "color": "#E5ECF6",
              "width": 0.5
             }
            },
            "type": "barpolar"
           }
          ],
          "carpet": [
           {
            "aaxis": {
             "endlinecolor": "#2a3f5f",
             "gridcolor": "white",
             "linecolor": "white",
             "minorgridcolor": "white",
             "startlinecolor": "#2a3f5f"
            },
            "baxis": {
             "endlinecolor": "#2a3f5f",
             "gridcolor": "white",
             "linecolor": "white",
             "minorgridcolor": "white",
             "startlinecolor": "#2a3f5f"
            },
            "type": "carpet"
           }
          ],
          "choropleth": [
           {
            "colorbar": {
             "outlinewidth": 0,
             "ticks": ""
            },
            "type": "choropleth"
           }
          ],
          "contour": [
           {
            "colorbar": {
             "outlinewidth": 0,
             "ticks": ""
            },
            "colorscale": [
             [
              0,
              "#0d0887"
             ],
             [
              0.1111111111111111,
              "#46039f"
             ],
             [
              0.2222222222222222,
              "#7201a8"
             ],
             [
              0.3333333333333333,
              "#9c179e"
             ],
             [
              0.4444444444444444,
              "#bd3786"
             ],
             [
              0.5555555555555556,
              "#d8576b"
             ],
             [
              0.6666666666666666,
              "#ed7953"
             ],
             [
              0.7777777777777778,
              "#fb9f3a"
             ],
             [
              0.8888888888888888,
              "#fdca26"
             ],
             [
              1,
              "#f0f921"
             ]
            ],
            "type": "contour"
           }
          ],
          "contourcarpet": [
           {
            "colorbar": {
             "outlinewidth": 0,
             "ticks": ""
            },
            "type": "contourcarpet"
           }
          ],
          "heatmap": [
           {
            "colorbar": {
             "outlinewidth": 0,
             "ticks": ""
            },
            "colorscale": [
             [
              0,
              "#0d0887"
             ],
             [
              0.1111111111111111,
              "#46039f"
             ],
             [
              0.2222222222222222,
              "#7201a8"
             ],
             [
              0.3333333333333333,
              "#9c179e"
             ],
             [
              0.4444444444444444,
              "#bd3786"
             ],
             [
              0.5555555555555556,
              "#d8576b"
             ],
             [
              0.6666666666666666,
              "#ed7953"
             ],
             [
              0.7777777777777778,
              "#fb9f3a"
             ],
             [
              0.8888888888888888,
              "#fdca26"
             ],
             [
              1,
              "#f0f921"
             ]
            ],
            "type": "heatmap"
           }
          ],
          "heatmapgl": [
           {
            "colorbar": {
             "outlinewidth": 0,
             "ticks": ""
            },
            "colorscale": [
             [
              0,
              "#0d0887"
             ],
             [
              0.1111111111111111,
              "#46039f"
             ],
             [
              0.2222222222222222,
              "#7201a8"
             ],
             [
              0.3333333333333333,
              "#9c179e"
             ],
             [
              0.4444444444444444,
              "#bd3786"
             ],
             [
              0.5555555555555556,
              "#d8576b"
             ],
             [
              0.6666666666666666,
              "#ed7953"
             ],
             [
              0.7777777777777778,
              "#fb9f3a"
             ],
             [
              0.8888888888888888,
              "#fdca26"
             ],
             [
              1,
              "#f0f921"
             ]
            ],
            "type": "heatmapgl"
           }
          ],
          "histogram": [
           {
            "marker": {
             "colorbar": {
              "outlinewidth": 0,
              "ticks": ""
             }
            },
            "type": "histogram"
           }
          ],
          "histogram2d": [
           {
            "colorbar": {
             "outlinewidth": 0,
             "ticks": ""
            },
            "colorscale": [
             [
              0,
              "#0d0887"
             ],
             [
              0.1111111111111111,
              "#46039f"
             ],
             [
              0.2222222222222222,
              "#7201a8"
             ],
             [
              0.3333333333333333,
              "#9c179e"
             ],
             [
              0.4444444444444444,
              "#bd3786"
             ],
             [
              0.5555555555555556,
              "#d8576b"
             ],
             [
              0.6666666666666666,
              "#ed7953"
             ],
             [
              0.7777777777777778,
              "#fb9f3a"
             ],
             [
              0.8888888888888888,
              "#fdca26"
             ],
             [
              1,
              "#f0f921"
             ]
            ],
            "type": "histogram2d"
           }
          ],
          "histogram2dcontour": [
           {
            "colorbar": {
             "outlinewidth": 0,
             "ticks": ""
            },
            "colorscale": [
             [
              0,
              "#0d0887"
             ],
             [
              0.1111111111111111,
              "#46039f"
             ],
             [
              0.2222222222222222,
              "#7201a8"
             ],
             [
              0.3333333333333333,
              "#9c179e"
             ],
             [
              0.4444444444444444,
              "#bd3786"
             ],
             [
              0.5555555555555556,
              "#d8576b"
             ],
             [
              0.6666666666666666,
              "#ed7953"
             ],
             [
              0.7777777777777778,
              "#fb9f3a"
             ],
             [
              0.8888888888888888,
              "#fdca26"
             ],
             [
              1,
              "#f0f921"
             ]
            ],
            "type": "histogram2dcontour"
           }
          ],
          "mesh3d": [
           {
            "colorbar": {
             "outlinewidth": 0,
             "ticks": ""
            },
            "type": "mesh3d"
           }
          ],
          "parcoords": [
           {
            "line": {
             "colorbar": {
              "outlinewidth": 0,
              "ticks": ""
             }
            },
            "type": "parcoords"
           }
          ],
          "pie": [
           {
            "automargin": true,
            "type": "pie"
           }
          ],
          "scatter": [
           {
            "marker": {
             "colorbar": {
              "outlinewidth": 0,
              "ticks": ""
             }
            },
            "type": "scatter"
           }
          ],
          "scatter3d": [
           {
            "line": {
             "colorbar": {
              "outlinewidth": 0,
              "ticks": ""
             }
            },
            "marker": {
             "colorbar": {
              "outlinewidth": 0,
              "ticks": ""
             }
            },
            "type": "scatter3d"
           }
          ],
          "scattercarpet": [
           {
            "marker": {
             "colorbar": {
              "outlinewidth": 0,
              "ticks": ""
             }
            },
            "type": "scattercarpet"
           }
          ],
          "scattergeo": [
           {
            "marker": {
             "colorbar": {
              "outlinewidth": 0,
              "ticks": ""
             }
            },
            "type": "scattergeo"
           }
          ],
          "scattergl": [
           {
            "marker": {
             "colorbar": {
              "outlinewidth": 0,
              "ticks": ""
             }
            },
            "type": "scattergl"
           }
          ],
          "scattermapbox": [
           {
            "marker": {
             "colorbar": {
              "outlinewidth": 0,
              "ticks": ""
             }
            },
            "type": "scattermapbox"
           }
          ],
          "scatterpolar": [
           {
            "marker": {
             "colorbar": {
              "outlinewidth": 0,
              "ticks": ""
             }
            },
            "type": "scatterpolar"
           }
          ],
          "scatterpolargl": [
           {
            "marker": {
             "colorbar": {
              "outlinewidth": 0,
              "ticks": ""
             }
            },
            "type": "scatterpolargl"
           }
          ],
          "scatterternary": [
           {
            "marker": {
             "colorbar": {
              "outlinewidth": 0,
              "ticks": ""
             }
            },
            "type": "scatterternary"
           }
          ],
          "surface": [
           {
            "colorbar": {
             "outlinewidth": 0,
             "ticks": ""
            },
            "colorscale": [
             [
              0,
              "#0d0887"
             ],
             [
              0.1111111111111111,
              "#46039f"
             ],
             [
              0.2222222222222222,
              "#7201a8"
             ],
             [
              0.3333333333333333,
              "#9c179e"
             ],
             [
              0.4444444444444444,
              "#bd3786"
             ],
             [
              0.5555555555555556,
              "#d8576b"
             ],
             [
              0.6666666666666666,
              "#ed7953"
             ],
             [
              0.7777777777777778,
              "#fb9f3a"
             ],
             [
              0.8888888888888888,
              "#fdca26"
             ],
             [
              1,
              "#f0f921"
             ]
            ],
            "type": "surface"
           }
          ],
          "table": [
           {
            "cells": {
             "fill": {
              "color": "#EBF0F8"
             },
             "line": {
              "color": "white"
             }
            },
            "header": {
             "fill": {
              "color": "#C8D4E3"
             },
             "line": {
              "color": "white"
             }
            },
            "type": "table"
           }
          ]
         },
         "layout": {
          "annotationdefaults": {
           "arrowcolor": "#2a3f5f",
           "arrowhead": 0,
           "arrowwidth": 1
          },
          "autotypenumbers": "strict",
          "coloraxis": {
           "colorbar": {
            "outlinewidth": 0,
            "ticks": ""
           }
          },
          "colorscale": {
           "diverging": [
            [
             0,
             "#8e0152"
            ],
            [
             0.1,
             "#c51b7d"
            ],
            [
             0.2,
             "#de77ae"
            ],
            [
             0.3,
             "#f1b6da"
            ],
            [
             0.4,
             "#fde0ef"
            ],
            [
             0.5,
             "#f7f7f7"
            ],
            [
             0.6,
             "#e6f5d0"
            ],
            [
             0.7,
             "#b8e186"
            ],
            [
             0.8,
             "#7fbc41"
            ],
            [
             0.9,
             "#4d9221"
            ],
            [
             1,
             "#276419"
            ]
           ],
           "sequential": [
            [
             0,
             "#0d0887"
            ],
            [
             0.1111111111111111,
             "#46039f"
            ],
            [
             0.2222222222222222,
             "#7201a8"
            ],
            [
             0.3333333333333333,
             "#9c179e"
            ],
            [
             0.4444444444444444,
             "#bd3786"
            ],
            [
             0.5555555555555556,
             "#d8576b"
            ],
            [
             0.6666666666666666,
             "#ed7953"
            ],
            [
             0.7777777777777778,
             "#fb9f3a"
            ],
            [
             0.8888888888888888,
             "#fdca26"
            ],
            [
             1,
             "#f0f921"
            ]
           ],
           "sequentialminus": [
            [
             0,
             "#0d0887"
            ],
            [
             0.1111111111111111,
             "#46039f"
            ],
            [
             0.2222222222222222,
             "#7201a8"
            ],
            [
             0.3333333333333333,
             "#9c179e"
            ],
            [
             0.4444444444444444,
             "#bd3786"
            ],
            [
             0.5555555555555556,
             "#d8576b"
            ],
            [
             0.6666666666666666,
             "#ed7953"
            ],
            [
             0.7777777777777778,
             "#fb9f3a"
            ],
            [
             0.8888888888888888,
             "#fdca26"
            ],
            [
             1,
             "#f0f921"
            ]
           ]
          },
          "colorway": [
           "#636efa",
           "#EF553B",
           "#00cc96",
           "#ab63fa",
           "#FFA15A",
           "#19d3f3",
           "#FF6692",
           "#B6E880",
           "#FF97FF",
           "#FECB52"
          ],
          "font": {
           "color": "#2a3f5f"
          },
          "geo": {
           "bgcolor": "white",
           "lakecolor": "white",
           "landcolor": "#E5ECF6",
           "showlakes": true,
           "showland": true,
           "subunitcolor": "white"
          },
          "hoverlabel": {
           "align": "left"
          },
          "hovermode": "closest",
          "mapbox": {
           "style": "light"
          },
          "paper_bgcolor": "white",
          "plot_bgcolor": "#E5ECF6",
          "polar": {
           "angularaxis": {
            "gridcolor": "white",
            "linecolor": "white",
            "ticks": ""
           },
           "bgcolor": "#E5ECF6",
           "radialaxis": {
            "gridcolor": "white",
            "linecolor": "white",
            "ticks": ""
           }
          },
          "scene": {
           "xaxis": {
            "backgroundcolor": "#E5ECF6",
            "gridcolor": "white",
            "gridwidth": 2,
            "linecolor": "white",
            "showbackground": true,
            "ticks": "",
            "zerolinecolor": "white"
           },
           "yaxis": {
            "backgroundcolor": "#E5ECF6",
            "gridcolor": "white",
            "gridwidth": 2,
            "linecolor": "white",
            "showbackground": true,
            "ticks": "",
            "zerolinecolor": "white"
           },
           "zaxis": {
            "backgroundcolor": "#E5ECF6",
            "gridcolor": "white",
            "gridwidth": 2,
            "linecolor": "white",
            "showbackground": true,
            "ticks": "",
            "zerolinecolor": "white"
           }
          },
          "shapedefaults": {
           "line": {
            "color": "#2a3f5f"
           }
          },
          "ternary": {
           "aaxis": {
            "gridcolor": "white",
            "linecolor": "white",
            "ticks": ""
           },
           "baxis": {
            "gridcolor": "white",
            "linecolor": "white",
            "ticks": ""
           },
           "bgcolor": "#E5ECF6",
           "caxis": {
            "gridcolor": "white",
            "linecolor": "white",
            "ticks": ""
           }
          },
          "title": {
           "x": 0.05
          },
          "xaxis": {
           "automargin": true,
           "gridcolor": "white",
           "linecolor": "white",
           "ticks": "",
           "title": {
            "standoff": 15
           },
           "zerolinecolor": "white",
           "zerolinewidth": 2
          },
          "yaxis": {
           "automargin": true,
           "gridcolor": "white",
           "linecolor": "white",
           "ticks": "",
           "title": {
            "standoff": 15
           },
           "zerolinecolor": "white",
           "zerolinewidth": 2
          }
         }
        },
        "title": {
         "text": "2015 Top/Bottom Countries"
        },
        "xaxis": {
         "anchor": "y",
         "domain": [
          0,
          1
         ],
         "title": {
          "text": "Happiness Score"
         }
        },
        "yaxis": {
         "anchor": "x",
         "domain": [
          0,
          1
         ],
         "title": {
          "text": "Countries"
         }
        }
       }
      },
      "text/html": [
       "<div>                            <div id=\"85c47801-567f-4033-aa9d-a90b500df65a\" class=\"plotly-graph-div\" style=\"height:525px; width:100%;\"></div>            <script type=\"text/javascript\">                require([\"plotly\"], function(Plotly) {                    window.PLOTLYENV=window.PLOTLYENV || {};                                    if (document.getElementById(\"85c47801-567f-4033-aa9d-a90b500df65a\")) {                    Plotly.newPlot(                        \"85c47801-567f-4033-aa9d-a90b500df65a\",                        [{\"alignmentgroup\": \"True\", \"hovertemplate\": \"Contributing Factors=Economy (GDP per Capita)<br>Happiness Score=%{x}<br>Countries=%{y}<extra></extra>\", \"legendgroup\": \"Economy (GDP per Capita)\", \"marker\": {\"color\": \"rgb(166,206,227)\"}, \"name\": \"Economy (GDP per Capita)\", \"offsetgroup\": \"Economy (GDP per Capita)\", \"orientation\": \"h\", \"showlegend\": true, \"textposition\": \"auto\", \"type\": \"bar\", \"x\": [0.20868, 0.0153, 0.6632, 0.28665, 0.22208000000000003, 0.25811999999999996, 0.17417, 0.34193, 0.20824, 0.2852, 1.33358, 1.2501799999999998, 1.33171, 1.32944, 1.29025, 1.32629, 1.459, 1.32548, 1.3023200000000001, 1.3965100000000001], \"xaxis\": \"x\", \"y\": [\"Togo\", \"Burundi\", \"Syria\", \"Benin\", \"Rwanda\", \"Burkina Faso\", \"Guinea\", \"Chad\", \"Madagascar\", \"Tanzania\", \"Australia\", \"New Zealand\", \"Sweden\", \"Netherlands\", \"Finland\", \"Canada\", \"Norway\", \"Denmark\", \"Iceland\", \"Switzerland\"], \"yaxis\": \"y\"}, {\"alignmentgroup\": \"True\", \"hovertemplate\": \"Contributing Factors=Health (Life Expectancy)<br>Happiness Score=%{x}<br>Countries=%{y}<extra></extra>\", \"legendgroup\": \"Health (Life Expectancy)\", \"marker\": {\"color\": \"rgb(31,120,180)\"}, \"name\": \"Health (Life Expectancy)\", \"offsetgroup\": \"Health (Life Expectancy)\", \"orientation\": \"h\", \"showlegend\": true, \"textposition\": \"auto\", \"type\": \"bar\", \"x\": [0.28443, 0.22396, 0.7219300000000001, 0.3191, 0.42863999999999997, 0.27125, 0.24009, 0.1501, 0.46721, 0.38215, 0.93156, 0.9083700000000001, 0.9108700000000001, 0.89284, 0.8891100000000001, 0.9056299999999999, 0.88521, 0.87464, 0.94784, 0.9414299999999999], \"xaxis\": \"x\", \"y\": [\"Togo\", \"Burundi\", \"Syria\", \"Benin\", \"Rwanda\", \"Burkina Faso\", \"Guinea\", \"Chad\", \"Madagascar\", \"Tanzania\", \"Australia\", \"New Zealand\", \"Sweden\", \"Netherlands\", \"Finland\", \"Canada\", \"Norway\", \"Denmark\", \"Iceland\", \"Switzerland\"], \"yaxis\": \"y\"}, {\"alignmentgroup\": \"True\", \"hovertemplate\": \"Contributing Factors=Generosity<br>Happiness Score=%{x}<br>Countries=%{y}<extra></extra>\", \"legendgroup\": \"Generosity\", \"marker\": {\"color\": \"rgb(178,223,138)\"}, \"name\": \"Generosity\", \"offsetgroup\": \"Generosity\", \"orientation\": \"h\", \"showlegend\": true, \"textposition\": \"auto\", \"type\": \"bar\", \"x\": [0.16680999999999999, 0.19727, 0.47179, 0.1826, 0.22628, 0.21746999999999997, 0.28657, 0.18386, 0.21333000000000002, 0.34376999999999996, 0.43562, 0.47501000000000004, 0.36262, 0.4761, 0.23351, 0.45811, 0.34699, 0.34139, 0.4363, 0.29678000000000004], \"xaxis\": \"x\", \"y\": [\"Togo\", \"Burundi\", \"Syria\", \"Benin\", \"Rwanda\", \"Burkina Faso\", \"Guinea\", \"Chad\", \"Madagascar\", \"Tanzania\", \"Australia\", \"New Zealand\", \"Sweden\", \"Netherlands\", \"Finland\", \"Canada\", \"Norway\", \"Denmark\", \"Iceland\", \"Switzerland\"], \"yaxis\": \"y\"}, {\"alignmentgroup\": \"True\", \"hovertemplate\": \"Contributing Factors=Freedom<br>Happiness Score=%{x}<br>Countries=%{y}<extra></extra>\", \"legendgroup\": \"Freedom\", \"marker\": {\"color\": \"rgb(51,160,44)\"}, \"name\": \"Freedom\", \"offsetgroup\": \"Freedom\", \"orientation\": \"h\", \"showlegend\": true, \"textposition\": \"auto\", \"type\": \"bar\", \"x\": [0.36453, 0.1185, 0.15684, 0.4845, 0.59201, 0.39493, 0.37725, 0.23501, 0.19184, 0.32878, 0.6512399999999999, 0.6393800000000001, 0.6598, 0.6157600000000001, 0.64169, 0.63297, 0.66973, 0.6493800000000001, 0.6287699999999999, 0.66557], \"xaxis\": \"x\", \"y\": [\"Togo\", \"Burundi\", \"Syria\", \"Benin\", \"Rwanda\", \"Burkina Faso\", \"Guinea\", \"Chad\", \"Madagascar\", \"Tanzania\", \"Australia\", \"New Zealand\", \"Sweden\", \"Netherlands\", \"Finland\", \"Canada\", \"Norway\", \"Denmark\", \"Iceland\", \"Switzerland\"], \"yaxis\": \"y\"}, {\"alignmentgroup\": \"True\", \"hovertemplate\": \"Contributing Factors=Trust (Government Corruption)<br>Happiness Score=%{x}<br>Countries=%{y}<extra></extra>\", \"legendgroup\": \"Trust (Government Corruption)\", \"marker\": {\"color\": \"rgb(251,154,153)\"}, \"name\": \"Trust (Government Corruption)\", \"offsetgroup\": \"Trust (Government Corruption)\", \"orientation\": \"h\", \"showlegend\": true, \"textposition\": \"auto\", \"type\": \"bar\", \"x\": [0.10730999999999999, 0.10062, 0.18905999999999998, 0.0801, 0.55191, 0.12832000000000002, 0.12139000000000001, 0.05269, 0.08123999999999999, 0.05747000000000001, 0.35636999999999996, 0.42922, 0.43843999999999994, 0.31814000000000003, 0.41372, 0.32957, 0.36503, 0.48357, 0.14145, 0.41978000000000004], \"xaxis\": \"x\", \"y\": [\"Togo\", \"Burundi\", \"Syria\", \"Benin\", \"Rwanda\", \"Burkina Faso\", \"Guinea\", \"Chad\", \"Madagascar\", \"Tanzania\", \"Australia\", \"New Zealand\", \"Sweden\", \"Netherlands\", \"Finland\", \"Canada\", \"Norway\", \"Denmark\", \"Iceland\", \"Switzerland\"], \"yaxis\": \"y\"}],                        {\"barmode\": \"stack\", \"legend\": {\"title\": {\"text\": \"Contributing Factors\"}, \"tracegroupgap\": 0}, \"template\": {\"data\": {\"bar\": [{\"error_x\": {\"color\": \"#2a3f5f\"}, \"error_y\": {\"color\": \"#2a3f5f\"}, \"marker\": {\"line\": {\"color\": \"#E5ECF6\", \"width\": 0.5}}, \"type\": \"bar\"}], \"barpolar\": [{\"marker\": {\"line\": {\"color\": \"#E5ECF6\", \"width\": 0.5}}, \"type\": \"barpolar\"}], \"carpet\": [{\"aaxis\": {\"endlinecolor\": \"#2a3f5f\", \"gridcolor\": \"white\", \"linecolor\": \"white\", \"minorgridcolor\": \"white\", \"startlinecolor\": \"#2a3f5f\"}, \"baxis\": {\"endlinecolor\": \"#2a3f5f\", \"gridcolor\": \"white\", \"linecolor\": \"white\", \"minorgridcolor\": \"white\", \"startlinecolor\": \"#2a3f5f\"}, \"type\": \"carpet\"}], \"choropleth\": [{\"colorbar\": {\"outlinewidth\": 0, \"ticks\": \"\"}, \"type\": \"choropleth\"}], \"contour\": [{\"colorbar\": {\"outlinewidth\": 0, \"ticks\": \"\"}, \"colorscale\": [[0.0, \"#0d0887\"], [0.1111111111111111, \"#46039f\"], [0.2222222222222222, \"#7201a8\"], [0.3333333333333333, \"#9c179e\"], [0.4444444444444444, \"#bd3786\"], [0.5555555555555556, \"#d8576b\"], [0.6666666666666666, \"#ed7953\"], [0.7777777777777778, \"#fb9f3a\"], [0.8888888888888888, \"#fdca26\"], [1.0, \"#f0f921\"]], \"type\": \"contour\"}], \"contourcarpet\": [{\"colorbar\": {\"outlinewidth\": 0, \"ticks\": \"\"}, \"type\": \"contourcarpet\"}], \"heatmap\": [{\"colorbar\": {\"outlinewidth\": 0, \"ticks\": \"\"}, \"colorscale\": [[0.0, \"#0d0887\"], [0.1111111111111111, \"#46039f\"], [0.2222222222222222, \"#7201a8\"], [0.3333333333333333, \"#9c179e\"], [0.4444444444444444, \"#bd3786\"], [0.5555555555555556, \"#d8576b\"], [0.6666666666666666, \"#ed7953\"], [0.7777777777777778, \"#fb9f3a\"], [0.8888888888888888, \"#fdca26\"], [1.0, \"#f0f921\"]], \"type\": \"heatmap\"}], \"heatmapgl\": [{\"colorbar\": {\"outlinewidth\": 0, \"ticks\": \"\"}, \"colorscale\": [[0.0, \"#0d0887\"], [0.1111111111111111, \"#46039f\"], [0.2222222222222222, \"#7201a8\"], [0.3333333333333333, \"#9c179e\"], [0.4444444444444444, \"#bd3786\"], [0.5555555555555556, \"#d8576b\"], [0.6666666666666666, \"#ed7953\"], [0.7777777777777778, \"#fb9f3a\"], [0.8888888888888888, \"#fdca26\"], [1.0, \"#f0f921\"]], \"type\": \"heatmapgl\"}], \"histogram\": [{\"marker\": {\"colorbar\": {\"outlinewidth\": 0, \"ticks\": \"\"}}, \"type\": \"histogram\"}], \"histogram2d\": [{\"colorbar\": {\"outlinewidth\": 0, \"ticks\": \"\"}, \"colorscale\": [[0.0, \"#0d0887\"], [0.1111111111111111, \"#46039f\"], [0.2222222222222222, \"#7201a8\"], [0.3333333333333333, \"#9c179e\"], [0.4444444444444444, \"#bd3786\"], [0.5555555555555556, \"#d8576b\"], [0.6666666666666666, \"#ed7953\"], [0.7777777777777778, \"#fb9f3a\"], [0.8888888888888888, \"#fdca26\"], [1.0, \"#f0f921\"]], \"type\": \"histogram2d\"}], \"histogram2dcontour\": [{\"colorbar\": {\"outlinewidth\": 0, \"ticks\": \"\"}, \"colorscale\": [[0.0, \"#0d0887\"], [0.1111111111111111, \"#46039f\"], [0.2222222222222222, \"#7201a8\"], [0.3333333333333333, \"#9c179e\"], [0.4444444444444444, \"#bd3786\"], [0.5555555555555556, \"#d8576b\"], [0.6666666666666666, \"#ed7953\"], [0.7777777777777778, \"#fb9f3a\"], [0.8888888888888888, \"#fdca26\"], [1.0, \"#f0f921\"]], \"type\": \"histogram2dcontour\"}], \"mesh3d\": [{\"colorbar\": {\"outlinewidth\": 0, \"ticks\": \"\"}, \"type\": \"mesh3d\"}], \"parcoords\": [{\"line\": {\"colorbar\": {\"outlinewidth\": 0, \"ticks\": \"\"}}, \"type\": \"parcoords\"}], \"pie\": [{\"automargin\": true, \"type\": \"pie\"}], \"scatter\": [{\"marker\": {\"colorbar\": {\"outlinewidth\": 0, \"ticks\": \"\"}}, \"type\": \"scatter\"}], \"scatter3d\": [{\"line\": {\"colorbar\": {\"outlinewidth\": 0, \"ticks\": \"\"}}, \"marker\": {\"colorbar\": {\"outlinewidth\": 0, \"ticks\": \"\"}}, \"type\": \"scatter3d\"}], \"scattercarpet\": [{\"marker\": {\"colorbar\": {\"outlinewidth\": 0, \"ticks\": \"\"}}, \"type\": \"scattercarpet\"}], \"scattergeo\": [{\"marker\": {\"colorbar\": {\"outlinewidth\": 0, \"ticks\": \"\"}}, \"type\": \"scattergeo\"}], \"scattergl\": [{\"marker\": {\"colorbar\": {\"outlinewidth\": 0, \"ticks\": \"\"}}, \"type\": \"scattergl\"}], \"scattermapbox\": [{\"marker\": {\"colorbar\": {\"outlinewidth\": 0, \"ticks\": \"\"}}, \"type\": \"scattermapbox\"}], \"scatterpolar\": [{\"marker\": {\"colorbar\": {\"outlinewidth\": 0, \"ticks\": \"\"}}, \"type\": \"scatterpolar\"}], \"scatterpolargl\": [{\"marker\": {\"colorbar\": {\"outlinewidth\": 0, \"ticks\": \"\"}}, \"type\": \"scatterpolargl\"}], \"scatterternary\": [{\"marker\": {\"colorbar\": {\"outlinewidth\": 0, \"ticks\": \"\"}}, \"type\": \"scatterternary\"}], \"surface\": [{\"colorbar\": {\"outlinewidth\": 0, \"ticks\": \"\"}, \"colorscale\": [[0.0, \"#0d0887\"], [0.1111111111111111, \"#46039f\"], [0.2222222222222222, \"#7201a8\"], [0.3333333333333333, \"#9c179e\"], [0.4444444444444444, \"#bd3786\"], [0.5555555555555556, \"#d8576b\"], [0.6666666666666666, \"#ed7953\"], [0.7777777777777778, \"#fb9f3a\"], [0.8888888888888888, \"#fdca26\"], [1.0, \"#f0f921\"]], \"type\": \"surface\"}], \"table\": [{\"cells\": {\"fill\": {\"color\": \"#EBF0F8\"}, \"line\": {\"color\": \"white\"}}, \"header\": {\"fill\": {\"color\": \"#C8D4E3\"}, \"line\": {\"color\": \"white\"}}, \"type\": \"table\"}]}, \"layout\": {\"annotationdefaults\": {\"arrowcolor\": \"#2a3f5f\", \"arrowhead\": 0, \"arrowwidth\": 1}, \"autotypenumbers\": \"strict\", \"coloraxis\": {\"colorbar\": {\"outlinewidth\": 0, \"ticks\": \"\"}}, \"colorscale\": {\"diverging\": [[0, \"#8e0152\"], [0.1, \"#c51b7d\"], [0.2, \"#de77ae\"], [0.3, \"#f1b6da\"], [0.4, \"#fde0ef\"], [0.5, \"#f7f7f7\"], [0.6, \"#e6f5d0\"], [0.7, \"#b8e186\"], [0.8, \"#7fbc41\"], [0.9, \"#4d9221\"], [1, \"#276419\"]], \"sequential\": [[0.0, \"#0d0887\"], [0.1111111111111111, \"#46039f\"], [0.2222222222222222, \"#7201a8\"], [0.3333333333333333, \"#9c179e\"], [0.4444444444444444, \"#bd3786\"], [0.5555555555555556, \"#d8576b\"], [0.6666666666666666, \"#ed7953\"], [0.7777777777777778, \"#fb9f3a\"], [0.8888888888888888, \"#fdca26\"], [1.0, \"#f0f921\"]], \"sequentialminus\": [[0.0, \"#0d0887\"], [0.1111111111111111, \"#46039f\"], [0.2222222222222222, \"#7201a8\"], [0.3333333333333333, \"#9c179e\"], [0.4444444444444444, \"#bd3786\"], [0.5555555555555556, \"#d8576b\"], [0.6666666666666666, \"#ed7953\"], [0.7777777777777778, \"#fb9f3a\"], [0.8888888888888888, \"#fdca26\"], [1.0, \"#f0f921\"]]}, \"colorway\": [\"#636efa\", \"#EF553B\", \"#00cc96\", \"#ab63fa\", \"#FFA15A\", \"#19d3f3\", \"#FF6692\", \"#B6E880\", \"#FF97FF\", \"#FECB52\"], \"font\": {\"color\": \"#2a3f5f\"}, \"geo\": {\"bgcolor\": \"white\", \"lakecolor\": \"white\", \"landcolor\": \"#E5ECF6\", \"showlakes\": true, \"showland\": true, \"subunitcolor\": \"white\"}, \"hoverlabel\": {\"align\": \"left\"}, \"hovermode\": \"closest\", \"mapbox\": {\"style\": \"light\"}, \"paper_bgcolor\": \"white\", \"plot_bgcolor\": \"#E5ECF6\", \"polar\": {\"angularaxis\": {\"gridcolor\": \"white\", \"linecolor\": \"white\", \"ticks\": \"\"}, \"bgcolor\": \"#E5ECF6\", \"radialaxis\": {\"gridcolor\": \"white\", \"linecolor\": \"white\", \"ticks\": \"\"}}, \"scene\": {\"xaxis\": {\"backgroundcolor\": \"#E5ECF6\", \"gridcolor\": \"white\", \"gridwidth\": 2, \"linecolor\": \"white\", \"showbackground\": true, \"ticks\": \"\", \"zerolinecolor\": \"white\"}, \"yaxis\": {\"backgroundcolor\": \"#E5ECF6\", \"gridcolor\": \"white\", \"gridwidth\": 2, \"linecolor\": \"white\", \"showbackground\": true, \"ticks\": \"\", \"zerolinecolor\": \"white\"}, \"zaxis\": {\"backgroundcolor\": \"#E5ECF6\", \"gridcolor\": \"white\", \"gridwidth\": 2, \"linecolor\": \"white\", \"showbackground\": true, \"ticks\": \"\", \"zerolinecolor\": \"white\"}}, \"shapedefaults\": {\"line\": {\"color\": \"#2a3f5f\"}}, \"ternary\": {\"aaxis\": {\"gridcolor\": \"white\", \"linecolor\": \"white\", \"ticks\": \"\"}, \"baxis\": {\"gridcolor\": \"white\", \"linecolor\": \"white\", \"ticks\": \"\"}, \"bgcolor\": \"#E5ECF6\", \"caxis\": {\"gridcolor\": \"white\", \"linecolor\": \"white\", \"ticks\": \"\"}}, \"title\": {\"x\": 0.05}, \"xaxis\": {\"automargin\": true, \"gridcolor\": \"white\", \"linecolor\": \"white\", \"ticks\": \"\", \"title\": {\"standoff\": 15}, \"zerolinecolor\": \"white\", \"zerolinewidth\": 2}, \"yaxis\": {\"automargin\": true, \"gridcolor\": \"white\", \"linecolor\": \"white\", \"ticks\": \"\", \"title\": {\"standoff\": 15}, \"zerolinecolor\": \"white\", \"zerolinewidth\": 2}}}, \"title\": {\"text\": \"2015 Top/Bottom Countries\"}, \"xaxis\": {\"anchor\": \"y\", \"domain\": [0.0, 1.0], \"title\": {\"text\": \"Happiness Score\"}}, \"yaxis\": {\"anchor\": \"x\", \"domain\": [0.0, 1.0], \"title\": {\"text\": \"Countries\"}}},                        {\"responsive\": true}                    ).then(function(){\n",
       "                            \n",
       "var gd = document.getElementById('85c47801-567f-4033-aa9d-a90b500df65a');\n",
       "var x = new MutationObserver(function (mutations, observer) {{\n",
       "        var display = window.getComputedStyle(gd).display;\n",
       "        if (!display || display === 'none') {{\n",
       "            console.log([gd, 'removed!']);\n",
       "            Plotly.purge(gd);\n",
       "            observer.disconnect();\n",
       "        }}\n",
       "}});\n",
       "\n",

       "// Listen for the removal of the full notebook cells\n",
       "var notebookContainer = gd.closest('#notebook-container');\n",
       "if (notebookContainer) {{\n",
       "    x.observe(notebookContainer, {childList: true});\n",
       "}}\n",
       "\n",
       "// Listen for the clearing of the current output cell\n",
       "var outputEl = gd.closest('.output');\n",
       "if (outputEl) {{\n",
       "    x.observe(outputEl, {childList: true});\n",
       "}}\n",
       "\n",
       "                        })                };                });            </script>        </div>"
      ]
     },
     "metadata": {},
     "output_type": "display_data"
    },
       "    .dataframe thead th {\n",
       "        text-align: right;\n",
       "    }\n",
       "</style>\n",
       "<table border=\"1\" class=\"dataframe\">\n",
       "  <thead>\n",
       "    <tr style=\"text-align: right;\">\n",
       "      <th></th>\n",
       "      <th>Country</th>\n",
       "      <th>Happiness Rank_2015</th>\n",
       "      <th>Happiness Score_2015</th>\n",
       "      <th>Economy (GDP per Capita)_2015</th>\n",
       "      <th>Health (Life Expectancy)_2015</th>\n",
       "      <th>Generosity_2015</th>\n",
       "      <th>Freedom_2015</th>\n",
       "      <th>Trust (Government Corruption)_2015</th>\n",
       "      <th>Happiness Rank_2016</th>\n",
       "      <th>Happiness Score_2016</th>\n",
       "      <th>...</th>\n",
       "      <th>Trust (Government Corruption)_2018</th>\n",
       "      <th>Happiness Rank_2019</th>\n",
       "      <th>Happiness Score_2019</th>\n",
       "      <th>Economy (GDP per Capita)_2019</th>\n",
       "      <th>Health (Life Expectancy)_2019</th>\n",
       "      <th>Generosity_2019</th>\n",
       "      <th>Freedom_2019</th>\n",
       "      <th>Trust (Government Corruption)_2019</th>\n",
       "      <th>Economic Freedom Rank</th>\n",
       "      <th>Economic Freedom Score</th>\n",
       "    </tr>\n",
       "  </thead>\n",
       "  <tbody>\n",
       "    <tr>\n",
       "      <th>43</th>\n",
       "      <td>Bahrain</td>\n",
       "      <td>49</td>\n",
       "      <td>5.960</td>\n",
       "      <td>1.32376</td>\n",
       "      <td>0.74716</td>\n",
       "      <td>0.17362</td>\n",
       "      <td>0.45492</td>\n",
       "      <td>0.30600</td>\n",
       "      <td>42</td>\n",
       "      <td>6.218</td>\n",
       "      <td>...</td>\n",
       "      <td>0.123</td>\n",
       "      <td>37</td>\n",
       "      <td>6.199</td>\n",
       "      <td>1.362</td>\n",
       "      <td>0.871</td>\n",
       "      <td>0.255</td>\n",
       "      <td>0.536</td>\n",
       "      <td>0.110</td>\n",
       "      <td>68</td>\n",
       "      <td>7.16</td>\n",
       "    </tr>\n",
       "    <tr>\n",
       "      <th>75</th>\n",
       "      <td>Zambia</td>\n",
       "      <td>85</td>\n",
       "      <td>5.129</td>\n",
       "      <td>0.47038</td>\n",
       "      <td>0.29924</td>\n",
       "      <td>0.19591</td>\n",
       "      <td>0.48827</td>\n",
       "      <td>0.12468</td>\n",
       "      <td>106</td>\n",
       "      <td>4.795</td>\n",
       "      <td>...</td>\n",
       "      <td>0.082</td>\n",
       "      <td>138</td>\n",
       "      <td>4.107</td>\n",
       "      <td>0.578</td>\n",
       "      <td>0.426</td>\n",
       "      <td>0.247</td>\n",
       "      <td>0.431</td>\n",
       "      <td>0.087</td>\n",
       "      <td>67</td>\n",
       "      <td>7.19</td>\n",
       "    </tr>\n",
       "    <tr>\n",
       "      <th>13</th>\n",
       "      <td>Mexico</td>\n",
       "      <td>14</td>\n",
       "      <td>7.187</td>\n",
       "      <td>1.02054</td>\n",
       "      <td>0.81444</td>\n",
       "      <td>0.14074</td>\n",
       "      <td>0.48181</td>\n",
       "      <td>0.21312</td>\n",
       "      <td>21</td>\n",
       "      <td>6.778</td>\n",
       "      <td>...</td>\n",
       "      <td>0.095</td>\n",
       "      <td>23</td>\n",
       "      <td>6.595</td>\n",
       "      <td>1.070</td>\n",
       "      <td>0.861</td>\n",
       "      <td>0.074</td>\n",
       "      <td>0.433</td>\n",
       "      <td>0.073</td>\n",
       "      <td>66</td>\n",
       "      <td>7.21</td>\n",
       "    </tr>\n",
       "    <tr>\n",
       "      <th>47</th>\n",
       "      <td>Paraguay</td>\n",
       "      <td>53</td>\n",
       "      <td>5.878</td>\n",
       "      <td>0.75985</td>\n",
       "      <td>0.66098</td>\n",
       "      <td>0.34240</td>\n",
       "      <td>0.53899</td>\n",
       "      <td>0.08242</td>\n",
       "      <td>70</td>\n",
       "      <td>5.538</td>\n",
       "      <td>...</td>\n",
       "      <td>0.074</td>\n",
       "      <td>63</td>\n",
       "      <td>5.743</td>\n",
       "      <td>0.855</td>\n",
       "      <td>0.777</td>\n",
       "      <td>0.184</td>\n",
       "      <td>0.514</td>\n",
       "      <td>0.080</td>\n",
       "      <td>65</td>\n",
       "      <td>7.23</td>\n",
       "    </tr>\n",
       "    <tr>\n",
       "      <th>30</th>\n",
       "      <td>Uruguay</td>\n",
       "      <td>32</td>\n",
       "      <td>6.485</td>\n",
       "      <td>1.06166</td>\n",
       "      <td>0.81160</td>\n",
       "      <td>0.23240</td>\n",
       "      <td>0.60362</td>\n",
       "      <td>0.24558</td>\n",
       "      <td>29</td>\n",
       "      <td>6.545</td>\n",
       "      <td>...</td>\n",
       "      <td>0.155</td>\n",
       "      <td>33</td>\n",
       "      <td>6.293</td>\n",
       "      <td>1.124</td>\n",
       "      <td>0.891</td>\n",
       "      <td>0.127</td>\n",
       "      <td>0.523</td>\n",
       "      <td>0.150</td>\n",
       "      <td>64</td>\n",
       "      <td>7.25</td>\n",
       "    </tr>\n",
       "  </tbody>\n",
       "</table>\n",
       "<p>5 rows × 38 columns</p>\n",
       "</div>"
      ],
      "text/plain": [
       "     Country  Happiness Rank_2015  Happiness Score_2015  \\\n",
       "43   Bahrain                   49                 5.960   \n",
       "75    Zambia                   85                 5.129   \n",
       "13    Mexico                   14                 7.187   \n",
       "47  Paraguay                   53                 5.878   \n",
       "30   Uruguay                   32                 6.485   \n",
       "\n",
       "    Economy (GDP per Capita)_2015  Health (Life Expectancy)_2015  \\\n",
       "43                        1.32376                        0.74716   \n",
       "75                        0.47038                        0.29924   \n",
       "13                        1.02054                        0.81444   \n",
       "47                        0.75985                        0.66098   \n",
       "30                        1.06166                        0.81160   \n",
       "\n",
       "    Generosity_2015  Freedom_2015  Trust (Government Corruption)_2015  \\\n",
       "43          0.17362       0.45492                             0.30600   \n",
       "75          0.19591       0.48827                             0.12468   \n",
       "13          0.14074       0.48181                             0.21312   \n",
       "47          0.34240       0.53899                             0.08242   \n",
       "30          0.23240       0.60362                             0.24558   \n",
       "\n",
       "    Happiness Rank_2016  Happiness Score_2016  ...  \\\n",
       "43                   42                 6.218  ...   \n",
       "75                  106                 4.795  ...   \n",
       "13                   21                 6.778  ...   \n",
       "47                   70                 5.538  ...   \n",
       "30                   29                 6.545  ...   \n",
       "\n",
       "    Trust (Government Corruption)_2018  Happiness Rank_2019  \\\n",
       "43                               0.123                   37   \n",
       "75                               0.082                  138   \n",
       "13                               0.095                   23   \n",
       "47                               0.074                   63   \n",
       "30                               0.155                   33   \n",
       "\n",
       "    Happiness Score_2019  Economy (GDP per Capita)_2019  \\\n",
       "43                 6.199                          1.362   \n",
       "75                 4.107                          0.578   \n",
       "13                 6.595                          1.070   \n",
       "47                 5.743                          0.855   \n",
       "30                 6.293                          1.124   \n",
       "\n",
       "    Health (Life Expectancy)_2019  Generosity_2019  Freedom_2019  \\\n",
       "43                          0.871            0.255         0.536   \n",
       "75                          0.426            0.247         0.431   \n",
       "13                          0.861            0.074         0.433   \n",
       "47                          0.777            0.184         0.514   \n",
       "30                          0.891            0.127         0.523   \n",
       "\n",
       "    Trust (Government Corruption)_2019  Economic Freedom Rank  \\\n",
       "43                               0.110                     68   \n",
       "75                               0.087                     67   \n",
       "13                               0.073                     66   \n",
       "47                               0.080                     65   \n",
       "30                               0.150                     64   \n",
       "\n",
       "    Economic Freedom Score  \n",
       "43                    7.16  \n",
       "75                    7.19  \n",
       "13                    7.21  \n",
       "47                    7.23  \n",
       "30                    7.25  \n",
       "\n",
       "[5 rows x 38 columns]"
      ]
     },
     "execution_count": 37,
     "metadata": {},
     "output_type": "execute_result"
    }
   ],
=======
   "execution_count": null,
   "metadata": {},
   "outputs": [],
>>>>>>> Stashed changes
   "source": [
    "high.head()\n"
   ]
  },
  {
   "cell_type": "code",
   "execution_count": null,
   "metadata": {},
   "outputs": [],
   "source": [
    "print(high. columns)"
   ]
  },
  {
   "cell_type": "code",
<<<<<<< Updated upstream
   "execution_count": 53,
   "metadata": {},
   "outputs": [
    {
     "data": {
      "application/vnd.plotly.v1+json": {
       "config": {
        "plotlyServerURL": "https://plot.ly"
       },
       "data": [
        {
         "alignmentgroup": "True",
         "hovertemplate": "Contributing Factors=Economy (GDP per Capita)<br>Happiness Score=%{x}<br>Countries=%{y}<extra></extra>",
         "legendgroup": "Economy (GDP per Capita)",
         "marker": {
          "color": "rgb(166,206,227)"
         },
         "name": "Economy (GDP per Capita)",
         "offsetgroup": "Economy (GDP per Capita)",
         "orientation": "h",
         "showlegend": true,
         "textposition": "auto",
         "type": "bar",
         "x": [
          0.06831,
          0.7471899999999999,
          0.28123000000000004,
          0.39499,
          0.32846,
          0.22415,
          0.10705999999999999,
          0.47155,
          0.27954,
          0.57939,
          1.45181,
          1.4444299999999999,
          1.36066,
          1.46468,
          1.44015,
          1.40598,
          1.57744,
          1.42666,
          1.5273299999999999,
          1.4417799999999998
         ],
         "xaxis": "x",
         "y": [
          "Burundi",
          "Syria",
          "Togo",
          "Benin",
          "Rwanda",
          "Guinea",
          "Liberia",
          "Tanzania",
          "Madagascar",
          "Yemen",
          "Sweden",
          "Australia",
          "New Zealand",
          "Netherlands",
          "Canada",
          "Finland",
          "Norway",
          "Iceland",
          "Switzerland",
          "Denmark"
         ],
         "yaxis": "y"
        },
        {
         "alignmentgroup": "True",
         "hovertemplate": "Contributing Factors=Health (Life Expectancy)<br>Happiness Score=%{x}<br>Countries=%{y}<extra></extra>",
         "legendgroup": "Health (Life Expectancy)",
         "marker": {
          "color": "rgb(31,120,180)"
         },
         "name": "Health (Life Expectancy)",
         "offsetgroup": "Health (Life Expectancy)",
         "orientation": "h",
         "showlegend": true,
         "textposition": "auto",
         "type": "bar",
         "x": [
          0.15747,
          0.6299399999999999,
          0.24811,
          0.21028000000000002,
          0.31865,
          0.18829,
          0.23165,
          0.35700000000000004,
          0.37109000000000003,
          0.31048000000000003,
          0.83121,
          0.8512,
          0.83096,
          0.8123100000000001,
          0.8276,
          0.81091,
          0.79579,
          0.8673299999999999,
          0.86303,
          0.79504
         ],
         "xaxis": "x",
         "y": [
          "Burundi",
          "Syria",
          "Togo",
          "Benin",
          "Rwanda",
          "Guinea",
          "Liberia",
          "Tanzania",
          "Madagascar",
          "Yemen",
          "Sweden",
          "Australia",
          "New Zealand",
          "Netherlands",
          "Canada",
          "Finland",
          "Norway",
          "Iceland",
          "Switzerland",
          "Denmark"
         ],
         "yaxis": "y"
        },
        {
         "alignmentgroup": "True",
         "hovertemplate": "Contributing Factors=Generosity<br>Happiness Score=%{x}<br>Countries=%{y}<extra></extra>",
         "legendgroup": "Generosity",
         "marker": {
          "color": "rgb(178,223,138)"
         },
         "name": "Generosity",
         "offsetgroup": "Generosity",
         "orientation": "h",
         "showlegend": true,
         "textposition": "auto",
         "type": "bar",
         "x": [
          0.2029,
          0.48396999999999996,
          0.17517,
          0.2018,
          0.23551999999999998,
          0.29914,
          0.24063,
          0.31472,
          0.2204,
          0.09821,
          0.38254,
          0.47407,
          0.49401000000000006,
          0.47416,
          0.44833999999999996,
          0.25492,
          0.37895,
          0.47678000000000004,
          0.28083,
          0.36171
         ],
         "xaxis": "x",
         "y": [
          "Burundi",
          "Syria",
          "Togo",
          "Benin",
          "Rwanda",
          "Guinea",
          "Liberia",
          "Tanzania",
          "Madagascar",
          "Yemen",
          "Sweden",
          "Australia",
          "New Zealand",
          "Netherlands",
          "Canada",
          "Finland",
          "Norway",
          "Iceland",
          "Switzerland",
          "Denmark"
         ],
         "yaxis": "y"
        },
        {
         "alignmentgroup": "True",
         "hovertemplate": "Contributing Factors=Freedom<br>Happiness Score=%{x}<br>Countries=%{y}<extra></extra>",
         "legendgroup": "Freedom",
         "marker": {
          "color": "rgb(51,160,44)"
         },
         "name": "Freedom",
         "offsetgroup": "Freedom",
         "orientation": "h",
         "showlegend": true,
         "textposition": "auto",
         "type": "bar",
         "x": [
          0.0432,
          0.06912,
          0.34678000000000003,
          0.39747,
          0.5432,
          0.30953,
          0.25748000000000004,
          0.3176,
          0.13684000000000002,
          0.2287,
          0.58218,
          0.5683699999999999,
          0.5814699999999999,
          0.55211,
          0.5737,
          0.57104,
          0.59609,
          0.56624,
          0.58557,
          0.5794100000000001
         ],
         "xaxis": "x",
         "y": [
          "Burundi",
          "Syria",
          "Togo",
          "Benin",
          "Rwanda",
          "Guinea",
          "Liberia",
          "Tanzania",
          "Madagascar",
          "Yemen",
          "Sweden",
          "Australia",
          "New Zealand",
          "Netherlands",
          "Canada",
          "Finland",
          "Norway",
          "Iceland",
          "Switzerland",
          "Denmark"
         ],
         "yaxis": "y"
        },
        {
         "alignmentgroup": "True",
         "hovertemplate": "Contributing Factors=Trust (Government Corruption)<br>Happiness Score=%{x}<br>Countries=%{y}<extra></extra>",
         "legendgroup": "Trust (Government Corruption)",
         "marker": {
          "color": "rgb(251,154,153)"
         },
         "name": "Trust (Government Corruption)",
         "offsetgroup": "Trust (Government Corruption)",
         "orientation": "h",
         "showlegend": true,
         "textposition": "auto",
         "type": "bar",
         "x": [
          0.09419,
          0.17232999999999998,
          0.11587,
          0.06681000000000001,
          0.50521,
          0.1192,
          0.04852,
          0.05099,
          0.07506,
          0.05892000000000001,
          0.40867,
          0.32331,
          0.41903999999999997,
          0.29927,
          0.31329,
          0.41003999999999996,
          0.35775999999999997,
          0.14975,
          0.41203,
          0.44453000000000004
         ],
         "xaxis": "x",
         "y": [
          "Burundi",
          "Syria",
          "Togo",
          "Benin",
          "Rwanda",
          "Guinea",
          "Liberia",
          "Tanzania",
          "Madagascar",
          "Yemen",
          "Sweden",
          "Australia",
          "New Zealand",
          "Netherlands",
          "Canada",
          "Finland",
          "Norway",
          "Iceland",
          "Switzerland",
          "Denmark"
         ],
         "yaxis": "y"
        }
       ],
       "layout": {
        "barmode": "stack",
        "legend": {
         "title": {
          "text": "Contributing Factors"
         },
         "tracegroupgap": 0
        },
        "template": {
         "data": {
          "bar": [
           {
            "error_x": {
             "color": "#2a3f5f"
            },
            "error_y": {
             "color": "#2a3f5f"
            },
            "marker": {
             "line": {
              "color": "#E5ECF6",
              "width": 0.5
             }
            },
            "type": "bar"
           }
          ],
          "barpolar": [
           {
            "marker": {
             "line": {
              "color": "#E5ECF6",
              "width": 0.5
             }
            },
            "type": "barpolar"
           }
          ],
          "carpet": [
           {
            "aaxis": {
             "endlinecolor": "#2a3f5f",
             "gridcolor": "white",
             "linecolor": "white",
             "minorgridcolor": "white",
             "startlinecolor": "#2a3f5f"
            },
            "baxis": {
             "endlinecolor": "#2a3f5f",
             "gridcolor": "white",
             "linecolor": "white",
             "minorgridcolor": "white",
             "startlinecolor": "#2a3f5f"
            },
            "type": "carpet"
           }
          ],
          "choropleth": [
           {
            "colorbar": {
             "outlinewidth": 0,
             "ticks": ""
            },
            "type": "choropleth"
           }
          ],
          "contour": [
           {
            "colorbar": {
             "outlinewidth": 0,
             "ticks": ""
            },
            "colorscale": [
             [
              0,
              "#0d0887"
             ],
             [
              0.1111111111111111,
              "#46039f"
             ],
             [
              0.2222222222222222,
              "#7201a8"
             ],
             [
              0.3333333333333333,
              "#9c179e"
             ],
             [
              0.4444444444444444,
              "#bd3786"
             ],
             [
              0.5555555555555556,
              "#d8576b"
             ],
             [
              0.6666666666666666,
              "#ed7953"
             ],
             [
              0.7777777777777778,
              "#fb9f3a"
             ],
             [
              0.8888888888888888,
              "#fdca26"
             ],
             [
              1,
              "#f0f921"
             ]
            ],
            "type": "contour"
           }
          ],
          "contourcarpet": [
           {
            "colorbar": {
             "outlinewidth": 0,
             "ticks": ""
            },
            "type": "contourcarpet"
           }
          ],
          "heatmap": [
           {
            "colorbar": {
             "outlinewidth": 0,
             "ticks": ""
            },
            "colorscale": [
             [
              0,
              "#0d0887"
             ],
             [
              0.1111111111111111,
              "#46039f"
             ],
             [
              0.2222222222222222,
              "#7201a8"
             ],
             [
              0.3333333333333333,
              "#9c179e"
             ],
             [
              0.4444444444444444,
              "#bd3786"
             ],
             [
              0.5555555555555556,
              "#d8576b"
             ],
             [
              0.6666666666666666,
              "#ed7953"
             ],
             [
              0.7777777777777778,
              "#fb9f3a"
             ],
             [
              0.8888888888888888,
              "#fdca26"
             ],
             [
              1,
              "#f0f921"
             ]
            ],
            "type": "heatmap"
           }
          ],
          "heatmapgl": [
           {
            "colorbar": {
             "outlinewidth": 0,
             "ticks": ""
            },
            "colorscale": [
             [
              0,
              "#0d0887"
             ],
             [
              0.1111111111111111,
              "#46039f"
             ],
             [
              0.2222222222222222,
              "#7201a8"
             ],
             [
              0.3333333333333333,
              "#9c179e"
             ],
             [
              0.4444444444444444,
              "#bd3786"
             ],
             [
              0.5555555555555556,
              "#d8576b"
             ],
             [
              0.6666666666666666,
              "#ed7953"
             ],
             [
              0.7777777777777778,
              "#fb9f3a"
             ],
             [
              0.8888888888888888,
              "#fdca26"
             ],
             [
              1,
              "#f0f921"
             ]
            ],
            "type": "heatmapgl"
           }
          ],
          "histogram": [
           {
            "marker": {
             "colorbar": {
              "outlinewidth": 0,
              "ticks": ""
             }
            },
            "type": "histogram"
           }
          ],
          "histogram2d": [
           {
            "colorbar": {
             "outlinewidth": 0,
             "ticks": ""
            },
            "colorscale": [
             [
              0,
              "#0d0887"
             ],
             [
              0.1111111111111111,
              "#46039f"
             ],
             [
              0.2222222222222222,
              "#7201a8"
             ],
             [
              0.3333333333333333,
              "#9c179e"
             ],
             [
              0.4444444444444444,
              "#bd3786"
             ],
             [
              0.5555555555555556,
              "#d8576b"
             ],
             [
              0.6666666666666666,
              "#ed7953"
             ],
             [
              0.7777777777777778,
              "#fb9f3a"
             ],
             [
              0.8888888888888888,
              "#fdca26"
             ],
             [
              1,
              "#f0f921"
             ]
            ],
            "type": "histogram2d"
           }
          ],
          "histogram2dcontour": [
           {
            "colorbar": {
             "outlinewidth": 0,
             "ticks": ""
            },
            "colorscale": [
             [
              0,
              "#0d0887"
             ],
             [
              0.1111111111111111,
              "#46039f"
             ],
             [
              0.2222222222222222,
              "#7201a8"
             ],
             [
              0.3333333333333333,
              "#9c179e"
             ],
             [
              0.4444444444444444,
              "#bd3786"
             ],
             [
              0.5555555555555556,
              "#d8576b"
             ],
             [
              0.6666666666666666,
              "#ed7953"
             ],
             [
              0.7777777777777778,
              "#fb9f3a"
             ],
             [
              0.8888888888888888,
              "#fdca26"
             ],
             [
              1,
              "#f0f921"
             ]
            ],
            "type": "histogram2dcontour"
           }
          ],
          "mesh3d": [
           {
            "colorbar": {
             "outlinewidth": 0,
             "ticks": ""
            },
            "type": "mesh3d"
           }
          ],
          "parcoords": [
           {
            "line": {
             "colorbar": {
              "outlinewidth": 0,
              "ticks": ""
             }
            },
            "type": "parcoords"
           }
          ],
          "pie": [
           {
            "automargin": true,
            "type": "pie"
           }
          ],
          "scatter": [
           {
            "marker": {
             "colorbar": {
              "outlinewidth": 0,
              "ticks": ""
             }
            },
            "type": "scatter"
           }
          ],
          "scatter3d": [
           {
            "line": {
             "colorbar": {
              "outlinewidth": 0,
              "ticks": ""
             }
            },
            "marker": {
             "colorbar": {
              "outlinewidth": 0,
              "ticks": ""
             }
            },
            "type": "scatter3d"
           }
          ],
          "scattercarpet": [
           {
            "marker": {
             "colorbar": {
              "outlinewidth": 0,
              "ticks": ""
             }
            },
            "type": "scattercarpet"
           }
          ],
          "scattergeo": [
           {
            "marker": {
             "colorbar": {
              "outlinewidth": 0,
              "ticks": ""
             }
            },
            "type": "scattergeo"
           }
          ],
          "scattergl": [
           {
            "marker": {
             "colorbar": {
              "outlinewidth": 0,
              "ticks": ""
             }
            },
            "type": "scattergl"
           }
          ],
          "scattermapbox": [
           {
            "marker": {
             "colorbar": {
              "outlinewidth": 0,
              "ticks": ""
             }
            },
            "type": "scattermapbox"
           }
          ],
          "scatterpolar": [
           {
            "marker": {
             "colorbar": {
              "outlinewidth": 0,
              "ticks": ""
             }
            },
            "type": "scatterpolar"
           }
          ],
          "scatterpolargl": [
           {
            "marker": {
             "colorbar": {
              "outlinewidth": 0,
              "ticks": ""
             }
            },
            "type": "scatterpolargl"
           }
          ],
          "scatterternary": [
           {
            "marker": {
             "colorbar": {
              "outlinewidth": 0,
              "ticks": ""
             }
            },
            "type": "scatterternary"
           }
          ],
          "surface": [
           {
            "colorbar": {
             "outlinewidth": 0,
             "ticks": ""
            },
            "colorscale": [
             [
              0,
              "#0d0887"
             ],
             [
              0.1111111111111111,
              "#46039f"
             ],
             [
              0.2222222222222222,
              "#7201a8"
             ],
             [
              0.3333333333333333,
              "#9c179e"
             ],
             [
              0.4444444444444444,
              "#bd3786"
             ],
             [
              0.5555555555555556,
              "#d8576b"
             ],
             [
              0.6666666666666666,
              "#ed7953"
             ],
             [
              0.7777777777777778,
              "#fb9f3a"
             ],
             [
              0.8888888888888888,
              "#fdca26"
             ],
             [
              1,
              "#f0f921"
             ]
            ],
            "type": "surface"
           }
          ],
          "table": [
           {
            "cells": {
             "fill": {
              "color": "#EBF0F8"
             },
             "line": {
              "color": "white"
             }
            },
            "header": {
             "fill": {
              "color": "#C8D4E3"
             },
             "line": {
              "color": "white"
             }
            },
            "type": "table"
           }
          ]
         },
         "layout": {
          "annotationdefaults": {
           "arrowcolor": "#2a3f5f",
           "arrowhead": 0,
           "arrowwidth": 1
          },
          "autotypenumbers": "strict",
          "coloraxis": {
           "colorbar": {
            "outlinewidth": 0,
            "ticks": ""
           }
          },
          "colorscale": {
           "diverging": [
            [
             0,
             "#8e0152"
            ],
            [
             0.1,
             "#c51b7d"
            ],
            [
             0.2,
             "#de77ae"
            ],
            [
             0.3,
             "#f1b6da"
            ],
            [
             0.4,
             "#fde0ef"
            ],
            [
             0.5,
             "#f7f7f7"
            ],
            [
             0.6,
             "#e6f5d0"
            ],
            [
             0.7,
             "#b8e186"
            ],
            [
             0.8,
             "#7fbc41"
            ],
            [
             0.9,
             "#4d9221"
            ],
            [
             1,
             "#276419"
            ]
           ],
           "sequential": [
            [
             0,
             "#0d0887"
            ],
            [
             0.1111111111111111,
             "#46039f"
            ],
            [
             0.2222222222222222,
             "#7201a8"
            ],
            [
             0.3333333333333333,
             "#9c179e"
            ],
            [
             0.4444444444444444,
             "#bd3786"
            ],
            [
             0.5555555555555556,
             "#d8576b"
            ],
            [
             0.6666666666666666,
             "#ed7953"
            ],
            [
             0.7777777777777778,
             "#fb9f3a"
            ],
            [
             0.8888888888888888,
             "#fdca26"
            ],
            [
             1,
             "#f0f921"
            ]
           ],
           "sequentialminus": [
            [
             0,
             "#0d0887"
            ],
            [
             0.1111111111111111,
             "#46039f"
            ],
            [
             0.2222222222222222,
             "#7201a8"
            ],
            [
             0.3333333333333333,
             "#9c179e"
            ],
            [
             0.4444444444444444,
             "#bd3786"
            ],
            [
             0.5555555555555556,
             "#d8576b"
            ],
            [
             0.6666666666666666,
             "#ed7953"
            ],
            [
             0.7777777777777778,
             "#fb9f3a"
            ],
            [
             0.8888888888888888,
             "#fdca26"
            ],
            [
             1,
             "#f0f921"
            ]
           ]
          },
          "colorway": [
           "#636efa",
           "#EF553B",
           "#00cc96",
           "#ab63fa",
           "#FFA15A",
           "#19d3f3",
           "#FF6692",
           "#B6E880",
           "#FF97FF",
           "#FECB52"
          ],
          "font": {
           "color": "#2a3f5f"
          },
          "geo": {
           "bgcolor": "white",
           "lakecolor": "white",
           "landcolor": "#E5ECF6",
           "showlakes": true,
           "showland": true,
           "subunitcolor": "white"
          },
          "hoverlabel": {
           "align": "left"
          },
          "hovermode": "closest",
          "mapbox": {
           "style": "light"
          },
          "paper_bgcolor": "white",
          "plot_bgcolor": "#E5ECF6",
          "polar": {
           "angularaxis": {
            "gridcolor": "white",
            "linecolor": "white",
            "ticks": ""
           },
           "bgcolor": "#E5ECF6",
           "radialaxis": {
            "gridcolor": "white",
            "linecolor": "white",
            "ticks": ""
           }
          },
          "scene": {
           "xaxis": {
            "backgroundcolor": "#E5ECF6",
            "gridcolor": "white",
            "gridwidth": 2,
            "linecolor": "white",
            "showbackground": true,
            "ticks": "",
            "zerolinecolor": "white"
           },
           "yaxis": {
            "backgroundcolor": "#E5ECF6",
            "gridcolor": "white",
            "gridwidth": 2,
            "linecolor": "white",
            "showbackground": true,
            "ticks": "",
            "zerolinecolor": "white"
           },
           "zaxis": {
            "backgroundcolor": "#E5ECF6",
            "gridcolor": "white",
            "gridwidth": 2,
            "linecolor": "white",
            "showbackground": true,
            "ticks": "",
            "zerolinecolor": "white"
           }
          },
          "shapedefaults": {
           "line": {
            "color": "#2a3f5f"
           }
          },
          "ternary": {
           "aaxis": {
            "gridcolor": "white",
            "linecolor": "white",
            "ticks": ""
           },
           "baxis": {
            "gridcolor": "white",
            "linecolor": "white",
            "ticks": ""
           },
           "bgcolor": "#E5ECF6",
           "caxis": {
            "gridcolor": "white",
            "linecolor": "white",
            "ticks": ""
           }
          },
          "title": {
           "x": 0.05
          },
          "xaxis": {
           "automargin": true,
           "gridcolor": "white",
           "linecolor": "white",
           "ticks": "",
           "title": {
            "standoff": 15
           },
           "zerolinecolor": "white",
           "zerolinewidth": 2
          },
          "yaxis": {
           "automargin": true,
           "gridcolor": "white",
           "linecolor": "white",
           "ticks": "",
           "title": {
            "standoff": 15
           },
           "zerolinecolor": "white",
           "zerolinewidth": 2
          }
         }
        },
        "title": {
         "text": "2016 Top/Bottom Countries"
        },
        "xaxis": {
         "anchor": "y",
         "domain": [
          0,
          1
         ],
         "title": {
          "text": "Happiness Score"
         }
        },
        "yaxis": {
         "anchor": "x",
         "domain": [
          0,
          1
         ],
         "title": {
          "text": "Countries"
         }
        }
       }
      },
      "text/html": [
       "<div>                            <div id=\"3b62df7a-af9a-422b-898d-9ebadc2e1e63\" class=\"plotly-graph-div\" style=\"height:525px; width:100%;\"></div>            <script type=\"text/javascript\">                require([\"plotly\"], function(Plotly) {                    window.PLOTLYENV=window.PLOTLYENV || {};                                    if (document.getElementById(\"3b62df7a-af9a-422b-898d-9ebadc2e1e63\")) {                    Plotly.newPlot(                        \"3b62df7a-af9a-422b-898d-9ebadc2e1e63\",                        [{\"alignmentgroup\": \"True\", \"hovertemplate\": \"Contributing Factors=Economy (GDP per Capita)<br>Happiness Score=%{x}<br>Countries=%{y}<extra></extra>\", \"legendgroup\": \"Economy (GDP per Capita)\", \"marker\": {\"color\": \"rgb(166,206,227)\"}, \"name\": \"Economy (GDP per Capita)\", \"offsetgroup\": \"Economy (GDP per Capita)\", \"orientation\": \"h\", \"showlegend\": true, \"textposition\": \"auto\", \"type\": \"bar\", \"x\": [0.06831, 0.7471899999999999, 0.28123000000000004, 0.39499, 0.32846, 0.22415, 0.10705999999999999, 0.47155, 0.27954, 0.57939, 1.45181, 1.4444299999999999, 1.36066, 1.46468, 1.44015, 1.40598, 1.57744, 1.42666, 1.5273299999999999, 1.4417799999999998], \"xaxis\": \"x\", \"y\": [\"Burundi\", \"Syria\", \"Togo\", \"Benin\", \"Rwanda\", \"Guinea\", \"Liberia\", \"Tanzania\", \"Madagascar\", \"Yemen\", \"Sweden\", \"Australia\", \"New Zealand\", \"Netherlands\", \"Canada\", \"Finland\", \"Norway\", \"Iceland\", \"Switzerland\", \"Denmark\"], \"yaxis\": \"y\"}, {\"alignmentgroup\": \"True\", \"hovertemplate\": \"Contributing Factors=Health (Life Expectancy)<br>Happiness Score=%{x}<br>Countries=%{y}<extra></extra>\", \"legendgroup\": \"Health (Life Expectancy)\", \"marker\": {\"color\": \"rgb(31,120,180)\"}, \"name\": \"Health (Life Expectancy)\", \"offsetgroup\": \"Health (Life Expectancy)\", \"orientation\": \"h\", \"showlegend\": true, \"textposition\": \"auto\", \"type\": \"bar\", \"x\": [0.15747, 0.6299399999999999, 0.24811, 0.21028000000000002, 0.31865, 0.18829, 0.23165, 0.35700000000000004, 0.37109000000000003, 0.31048000000000003, 0.83121, 0.8512, 0.83096, 0.8123100000000001, 0.8276, 0.81091, 0.79579, 0.8673299999999999, 0.86303, 0.79504], \"xaxis\": \"x\", \"y\": [\"Burundi\", \"Syria\", \"Togo\", \"Benin\", \"Rwanda\", \"Guinea\", \"Liberia\", \"Tanzania\", \"Madagascar\", \"Yemen\", \"Sweden\", \"Australia\", \"New Zealand\", \"Netherlands\", \"Canada\", \"Finland\", \"Norway\", \"Iceland\", \"Switzerland\", \"Denmark\"], \"yaxis\": \"y\"}, {\"alignmentgroup\": \"True\", \"hovertemplate\": \"Contributing Factors=Generosity<br>Happiness Score=%{x}<br>Countries=%{y}<extra></extra>\", \"legendgroup\": \"Generosity\", \"marker\": {\"color\": \"rgb(178,223,138)\"}, \"name\": \"Generosity\", \"offsetgroup\": \"Generosity\", \"orientation\": \"h\", \"showlegend\": true, \"textposition\": \"auto\", \"type\": \"bar\", \"x\": [0.2029, 0.48396999999999996, 0.17517, 0.2018, 0.23551999999999998, 0.29914, 0.24063, 0.31472, 0.2204, 0.09821, 0.38254, 0.47407, 0.49401000000000006, 0.47416, 0.44833999999999996, 0.25492, 0.37895, 0.47678000000000004, 0.28083, 0.36171], \"xaxis\": \"x\", \"y\": [\"Burundi\", \"Syria\", \"Togo\", \"Benin\", \"Rwanda\", \"Guinea\", \"Liberia\", \"Tanzania\", \"Madagascar\", \"Yemen\", \"Sweden\", \"Australia\", \"New Zealand\", \"Netherlands\", \"Canada\", \"Finland\", \"Norway\", \"Iceland\", \"Switzerland\", \"Denmark\"], \"yaxis\": \"y\"}, {\"alignmentgroup\": \"True\", \"hovertemplate\": \"Contributing Factors=Freedom<br>Happiness Score=%{x}<br>Countries=%{y}<extra></extra>\", \"legendgroup\": \"Freedom\", \"marker\": {\"color\": \"rgb(51,160,44)\"}, \"name\": \"Freedom\", \"offsetgroup\": \"Freedom\", \"orientation\": \"h\", \"showlegend\": true, \"textposition\": \"auto\", \"type\": \"bar\", \"x\": [0.0432, 0.06912, 0.34678000000000003, 0.39747, 0.5432, 0.30953, 0.25748000000000004, 0.3176, 0.13684000000000002, 0.2287, 0.58218, 0.5683699999999999, 0.5814699999999999, 0.55211, 0.5737, 0.57104, 0.59609, 0.56624, 0.58557, 0.5794100000000001], \"xaxis\": \"x\", \"y\": [\"Burundi\", \"Syria\", \"Togo\", \"Benin\", \"Rwanda\", \"Guinea\", \"Liberia\", \"Tanzania\", \"Madagascar\", \"Yemen\", \"Sweden\", \"Australia\", \"New Zealand\", \"Netherlands\", \"Canada\", \"Finland\", \"Norway\", \"Iceland\", \"Switzerland\", \"Denmark\"], \"yaxis\": \"y\"}, {\"alignmentgroup\": \"True\", \"hovertemplate\": \"Contributing Factors=Trust (Government Corruption)<br>Happiness Score=%{x}<br>Countries=%{y}<extra></extra>\", \"legendgroup\": \"Trust (Government Corruption)\", \"marker\": {\"color\": \"rgb(251,154,153)\"}, \"name\": \"Trust (Government Corruption)\", \"offsetgroup\": \"Trust (Government Corruption)\", \"orientation\": \"h\", \"showlegend\": true, \"textposition\": \"auto\", \"type\": \"bar\", \"x\": [0.09419, 0.17232999999999998, 0.11587, 0.06681000000000001, 0.50521, 0.1192, 0.04852, 0.05099, 0.07506, 0.05892000000000001, 0.40867, 0.32331, 0.41903999999999997, 0.29927, 0.31329, 0.41003999999999996, 0.35775999999999997, 0.14975, 0.41203, 0.44453000000000004], \"xaxis\": \"x\", \"y\": [\"Burundi\", \"Syria\", \"Togo\", \"Benin\", \"Rwanda\", \"Guinea\", \"Liberia\", \"Tanzania\", \"Madagascar\", \"Yemen\", \"Sweden\", \"Australia\", \"New Zealand\", \"Netherlands\", \"Canada\", \"Finland\", \"Norway\", \"Iceland\", \"Switzerland\", \"Denmark\"], \"yaxis\": \"y\"}],                        {\"barmode\": \"stack\", \"legend\": {\"title\": {\"text\": \"Contributing Factors\"}, \"tracegroupgap\": 0}, \"template\": {\"data\": {\"bar\": [{\"error_x\": {\"color\": \"#2a3f5f\"}, \"error_y\": {\"color\": \"#2a3f5f\"}, \"marker\": {\"line\": {\"color\": \"#E5ECF6\", \"width\": 0.5}}, \"type\": \"bar\"}], \"barpolar\": [{\"marker\": {\"line\": {\"color\": \"#E5ECF6\", \"width\": 0.5}}, \"type\": \"barpolar\"}], \"carpet\": [{\"aaxis\": {\"endlinecolor\": \"#2a3f5f\", \"gridcolor\": \"white\", \"linecolor\": \"white\", \"minorgridcolor\": \"white\", \"startlinecolor\": \"#2a3f5f\"}, \"baxis\": {\"endlinecolor\": \"#2a3f5f\", \"gridcolor\": \"white\", \"linecolor\": \"white\", \"minorgridcolor\": \"white\", \"startlinecolor\": \"#2a3f5f\"}, \"type\": \"carpet\"}], \"choropleth\": [{\"colorbar\": {\"outlinewidth\": 0, \"ticks\": \"\"}, \"type\": \"choropleth\"}], \"contour\": [{\"colorbar\": {\"outlinewidth\": 0, \"ticks\": \"\"}, \"colorscale\": [[0.0, \"#0d0887\"], [0.1111111111111111, \"#46039f\"], [0.2222222222222222, \"#7201a8\"], [0.3333333333333333, \"#9c179e\"], [0.4444444444444444, \"#bd3786\"], [0.5555555555555556, \"#d8576b\"], [0.6666666666666666, \"#ed7953\"], [0.7777777777777778, \"#fb9f3a\"], [0.8888888888888888, \"#fdca26\"], [1.0, \"#f0f921\"]], \"type\": \"contour\"}], \"contourcarpet\": [{\"colorbar\": {\"outlinewidth\": 0, \"ticks\": \"\"}, \"type\": \"contourcarpet\"}], \"heatmap\": [{\"colorbar\": {\"outlinewidth\": 0, \"ticks\": \"\"}, \"colorscale\": [[0.0, \"#0d0887\"], [0.1111111111111111, \"#46039f\"], [0.2222222222222222, \"#7201a8\"], [0.3333333333333333, \"#9c179e\"], [0.4444444444444444, \"#bd3786\"], [0.5555555555555556, \"#d8576b\"], [0.6666666666666666, \"#ed7953\"], [0.7777777777777778, \"#fb9f3a\"], [0.8888888888888888, \"#fdca26\"], [1.0, \"#f0f921\"]], \"type\": \"heatmap\"}], \"heatmapgl\": [{\"colorbar\": {\"outlinewidth\": 0, \"ticks\": \"\"}, \"colorscale\": [[0.0, \"#0d0887\"], [0.1111111111111111, \"#46039f\"], [0.2222222222222222, \"#7201a8\"], [0.3333333333333333, \"#9c179e\"], [0.4444444444444444, \"#bd3786\"], [0.5555555555555556, \"#d8576b\"], [0.6666666666666666, \"#ed7953\"], [0.7777777777777778, \"#fb9f3a\"], [0.8888888888888888, \"#fdca26\"], [1.0, \"#f0f921\"]], \"type\": \"heatmapgl\"}], \"histogram\": [{\"marker\": {\"colorbar\": {\"outlinewidth\": 0, \"ticks\": \"\"}}, \"type\": \"histogram\"}], \"histogram2d\": [{\"colorbar\": {\"outlinewidth\": 0, \"ticks\": \"\"}, \"colorscale\": [[0.0, \"#0d0887\"], [0.1111111111111111, \"#46039f\"], [0.2222222222222222, \"#7201a8\"], [0.3333333333333333, \"#9c179e\"], [0.4444444444444444, \"#bd3786\"], [0.5555555555555556, \"#d8576b\"], [0.6666666666666666, \"#ed7953\"], [0.7777777777777778, \"#fb9f3a\"], [0.8888888888888888, \"#fdca26\"], [1.0, \"#f0f921\"]], \"type\": \"histogram2d\"}], \"histogram2dcontour\": [{\"colorbar\": {\"outlinewidth\": 0, \"ticks\": \"\"}, \"colorscale\": [[0.0, \"#0d0887\"], [0.1111111111111111, \"#46039f\"], [0.2222222222222222, \"#7201a8\"], [0.3333333333333333, \"#9c179e\"], [0.4444444444444444, \"#bd3786\"], [0.5555555555555556, \"#d8576b\"], [0.6666666666666666, \"#ed7953\"], [0.7777777777777778, \"#fb9f3a\"], [0.8888888888888888, \"#fdca26\"], [1.0, \"#f0f921\"]], \"type\": \"histogram2dcontour\"}], \"mesh3d\": [{\"colorbar\": {\"outlinewidth\": 0, \"ticks\": \"\"}, \"type\": \"mesh3d\"}], \"parcoords\": [{\"line\": {\"colorbar\": {\"outlinewidth\": 0, \"ticks\": \"\"}}, \"type\": \"parcoords\"}], \"pie\": [{\"automargin\": true, \"type\": \"pie\"}], \"scatter\": [{\"marker\": {\"colorbar\": {\"outlinewidth\": 0, \"ticks\": \"\"}}, \"type\": \"scatter\"}], \"scatter3d\": [{\"line\": {\"colorbar\": {\"outlinewidth\": 0, \"ticks\": \"\"}}, \"marker\": {\"colorbar\": {\"outlinewidth\": 0, \"ticks\": \"\"}}, \"type\": \"scatter3d\"}], \"scattercarpet\": [{\"marker\": {\"colorbar\": {\"outlinewidth\": 0, \"ticks\": \"\"}}, \"type\": \"scattercarpet\"}], \"scattergeo\": [{\"marker\": {\"colorbar\": {\"outlinewidth\": 0, \"ticks\": \"\"}}, \"type\": \"scattergeo\"}], \"scattergl\": [{\"marker\": {\"colorbar\": {\"outlinewidth\": 0, \"ticks\": \"\"}}, \"type\": \"scattergl\"}], \"scattermapbox\": [{\"marker\": {\"colorbar\": {\"outlinewidth\": 0, \"ticks\": \"\"}}, \"type\": \"scattermapbox\"}], \"scatterpolar\": [{\"marker\": {\"colorbar\": {\"outlinewidth\": 0, \"ticks\": \"\"}}, \"type\": \"scatterpolar\"}], \"scatterpolargl\": [{\"marker\": {\"colorbar\": {\"outlinewidth\": 0, \"ticks\": \"\"}}, \"type\": \"scatterpolargl\"}], \"scatterternary\": [{\"marker\": {\"colorbar\": {\"outlinewidth\": 0, \"ticks\": \"\"}}, \"type\": \"scatterternary\"}], \"surface\": [{\"colorbar\": {\"outlinewidth\": 0, \"ticks\": \"\"}, \"colorscale\": [[0.0, \"#0d0887\"], [0.1111111111111111, \"#46039f\"], [0.2222222222222222, \"#7201a8\"], [0.3333333333333333, \"#9c179e\"], [0.4444444444444444, \"#bd3786\"], [0.5555555555555556, \"#d8576b\"], [0.6666666666666666, \"#ed7953\"], [0.7777777777777778, \"#fb9f3a\"], [0.8888888888888888, \"#fdca26\"], [1.0, \"#f0f921\"]], \"type\": \"surface\"}], \"table\": [{\"cells\": {\"fill\": {\"color\": \"#EBF0F8\"}, \"line\": {\"color\": \"white\"}}, \"header\": {\"fill\": {\"color\": \"#C8D4E3\"}, \"line\": {\"color\": \"white\"}}, \"type\": \"table\"}]}, \"layout\": {\"annotationdefaults\": {\"arrowcolor\": \"#2a3f5f\", \"arrowhead\": 0, \"arrowwidth\": 1}, \"autotypenumbers\": \"strict\", \"coloraxis\": {\"colorbar\": {\"outlinewidth\": 0, \"ticks\": \"\"}}, \"colorscale\": {\"diverging\": [[0, \"#8e0152\"], [0.1, \"#c51b7d\"], [0.2, \"#de77ae\"], [0.3, \"#f1b6da\"], [0.4, \"#fde0ef\"], [0.5, \"#f7f7f7\"], [0.6, \"#e6f5d0\"], [0.7, \"#b8e186\"], [0.8, \"#7fbc41\"], [0.9, \"#4d9221\"], [1, \"#276419\"]], \"sequential\": [[0.0, \"#0d0887\"], [0.1111111111111111, \"#46039f\"], [0.2222222222222222, \"#7201a8\"], [0.3333333333333333, \"#9c179e\"], [0.4444444444444444, \"#bd3786\"], [0.5555555555555556, \"#d8576b\"], [0.6666666666666666, \"#ed7953\"], [0.7777777777777778, \"#fb9f3a\"], [0.8888888888888888, \"#fdca26\"], [1.0, \"#f0f921\"]], \"sequentialminus\": [[0.0, \"#0d0887\"], [0.1111111111111111, \"#46039f\"], [0.2222222222222222, \"#7201a8\"], [0.3333333333333333, \"#9c179e\"], [0.4444444444444444, \"#bd3786\"], [0.5555555555555556, \"#d8576b\"], [0.6666666666666666, \"#ed7953\"], [0.7777777777777778, \"#fb9f3a\"], [0.8888888888888888, \"#fdca26\"], [1.0, \"#f0f921\"]]}, \"colorway\": [\"#636efa\", \"#EF553B\", \"#00cc96\", \"#ab63fa\", \"#FFA15A\", \"#19d3f3\", \"#FF6692\", \"#B6E880\", \"#FF97FF\", \"#FECB52\"], \"font\": {\"color\": \"#2a3f5f\"}, \"geo\": {\"bgcolor\": \"white\", \"lakecolor\": \"white\", \"landcolor\": \"#E5ECF6\", \"showlakes\": true, \"showland\": true, \"subunitcolor\": \"white\"}, \"hoverlabel\": {\"align\": \"left\"}, \"hovermode\": \"closest\", \"mapbox\": {\"style\": \"light\"}, \"paper_bgcolor\": \"white\", \"plot_bgcolor\": \"#E5ECF6\", \"polar\": {\"angularaxis\": {\"gridcolor\": \"white\", \"linecolor\": \"white\", \"ticks\": \"\"}, \"bgcolor\": \"#E5ECF6\", \"radialaxis\": {\"gridcolor\": \"white\", \"linecolor\": \"white\", \"ticks\": \"\"}}, \"scene\": {\"xaxis\": {\"backgroundcolor\": \"#E5ECF6\", \"gridcolor\": \"white\", \"gridwidth\": 2, \"linecolor\": \"white\", \"showbackground\": true, \"ticks\": \"\", \"zerolinecolor\": \"white\"}, \"yaxis\": {\"backgroundcolor\": \"#E5ECF6\", \"gridcolor\": \"white\", \"gridwidth\": 2, \"linecolor\": \"white\", \"showbackground\": true, \"ticks\": \"\", \"zerolinecolor\": \"white\"}, \"zaxis\": {\"backgroundcolor\": \"#E5ECF6\", \"gridcolor\": \"white\", \"gridwidth\": 2, \"linecolor\": \"white\", \"showbackground\": true, \"ticks\": \"\", \"zerolinecolor\": \"white\"}}, \"shapedefaults\": {\"line\": {\"color\": \"#2a3f5f\"}}, \"ternary\": {\"aaxis\": {\"gridcolor\": \"white\", \"linecolor\": \"white\", \"ticks\": \"\"}, \"baxis\": {\"gridcolor\": \"white\", \"linecolor\": \"white\", \"ticks\": \"\"}, \"bgcolor\": \"#E5ECF6\", \"caxis\": {\"gridcolor\": \"white\", \"linecolor\": \"white\", \"ticks\": \"\"}}, \"title\": {\"x\": 0.05}, \"xaxis\": {\"automargin\": true, \"gridcolor\": \"white\", \"linecolor\": \"white\", \"ticks\": \"\", \"title\": {\"standoff\": 15}, \"zerolinecolor\": \"white\", \"zerolinewidth\": 2}, \"yaxis\": {\"automargin\": true, \"gridcolor\": \"white\", \"linecolor\": \"white\", \"ticks\": \"\", \"title\": {\"standoff\": 15}, \"zerolinecolor\": \"white\", \"zerolinewidth\": 2}}}, \"title\": {\"text\": \"2016 Top/Bottom Countries\"}, \"xaxis\": {\"anchor\": \"y\", \"domain\": [0.0, 1.0], \"title\": {\"text\": \"Happiness Score\"}}, \"yaxis\": {\"anchor\": \"x\", \"domain\": [0.0, 1.0], \"title\": {\"text\": \"Countries\"}}},                        {\"responsive\": true}                    ).then(function(){\n",
       "                            \n",
       "var gd = document.getElementById('3b62df7a-af9a-422b-898d-9ebadc2e1e63');\n",
       "var x = new MutationObserver(function (mutations, observer) {{\n",
       "        var display = window.getComputedStyle(gd).display;\n",
       "        if (!display || display === 'none') {{\n",
       "            console.log([gd, 'removed!']);\n",
       "            Plotly.purge(gd);\n",
       "            observer.disconnect();\n",
       "        }}\n",
       "}});\n",
       "\n",

       "// Listen for the removal of the full notebook cells\n",
       "var notebookContainer = gd.closest('#notebook-container');\n",
       "if (notebookContainer) {{\n",
       "    x.observe(notebookContainer, {childList: true});\n",
       "}}\n",
       "\n",
       "// Listen for the clearing of the current output cell\n",
       "var outputEl = gd.closest('.output');\n",
       "if (outputEl) {{\n",
       "    x.observe(outputEl, {childList: true});\n",
       "}}\n",
       "\n",
       "                        })                };                });            </script>        </div>"

       "    .dataframe thead th {\n",
       "        text-align: right;\n",
       "    }\n",
       "</style>\n",
       "<table border=\"1\" class=\"dataframe\">\n",
       "  <thead>\n",
       "    <tr style=\"text-align: right;\">\n",
       "      <th></th>\n",
       "      <th>Country</th>\n",
       "      <th>Happiness Rank_2015</th>\n",
       "      <th>Happiness Score_2015</th>\n",
       "      <th>Economy (GDP per Capita)_2015</th>\n",
       "      <th>Health (Life Expectancy)_2015</th>\n",
       "      <th>Generosity_2015</th>\n",
       "      <th>Freedom_2015</th>\n",
       "      <th>Trust (Government Corruption)_2015</th>\n",
       "      <th>Happiness Rank_2016</th>\n",
       "      <th>Happiness Score_2016</th>\n",
       "      <th>...</th>\n",
       "      <th>Happiness Rank_2019</th>\n",
       "      <th>Happiness Score_2019</th>\n",
       "      <th>Economy (GDP per Capita)_2019</th>\n",
       "      <th>Health (Life Expectancy)_2019</th>\n",
       "      <th>Generosity_2019</th>\n",
       "      <th>Freedom_2019</th>\n",
       "      <th>Trust (Government Corruption)_2019</th>\n",
       "      <th>Economic Freedom Rank</th>\n",
       "      <th>Economic Freedom Score</th>\n",
       "      <th>QuantileRank</th>\n",
       "    </tr>\n",
       "  </thead>\n",
       "  <tbody>\n",
       "    <tr>\n",
       "      <th>43</th>\n",
       "      <td>Bahrain</td>\n",
       "      <td>49</td>\n",
       "      <td>5.960</td>\n",
       "      <td>1.32376</td>\n",
       "      <td>0.74716</td>\n",
       "      <td>0.17362</td>\n",
       "      <td>0.45492</td>\n",
       "      <td>0.30600</td>\n",
       "      <td>42</td>\n",
       "      <td>6.218</td>\n",
       "      <td>...</td>\n",
       "      <td>37</td>\n",
       "      <td>6.199</td>\n",
       "      <td>1.362</td>\n",
       "      <td>0.871</td>\n",
       "      <td>0.255</td>\n",
       "      <td>0.536</td>\n",
       "      <td>0.110</td>\n",
       "      <td>68</td>\n",
       "      <td>7.16</td>\n",
       "      <td>NaN</td>\n",
       "    </tr>\n",
       "    <tr>\n",
       "      <th>75</th>\n",
       "      <td>Zambia</td>\n",
       "      <td>85</td>\n",
       "      <td>5.129</td>\n",
       "      <td>0.47038</td>\n",
       "      <td>0.29924</td>\n",
       "      <td>0.19591</td>\n",
       "      <td>0.48827</td>\n",
       "      <td>0.12468</td>\n",
       "      <td>106</td>\n",
       "      <td>4.795</td>\n",
       "      <td>...</td>\n",
       "      <td>138</td>\n",
       "      <td>4.107</td>\n",
       "      <td>0.578</td>\n",
       "      <td>0.426</td>\n",
       "      <td>0.247</td>\n",
       "      <td>0.431</td>\n",
       "      <td>0.087</td>\n",
       "      <td>67</td>\n",
       "      <td>7.19</td>\n",
       "      <td>NaN</td>\n",
       "    </tr>\n",
       "    <tr>\n",
       "      <th>13</th>\n",
       "      <td>Mexico</td>\n",
       "      <td>14</td>\n",
       "      <td>7.187</td>\n",
       "      <td>1.02054</td>\n",
       "      <td>0.81444</td>\n",
       "      <td>0.14074</td>\n",
       "      <td>0.48181</td>\n",
       "      <td>0.21312</td>\n",
       "      <td>21</td>\n",
       "      <td>6.778</td>\n",
       "      <td>...</td>\n",
       "      <td>23</td>\n",
       "      <td>6.595</td>\n",
       "      <td>1.070</td>\n",
       "      <td>0.861</td>\n",
       "      <td>0.074</td>\n",
       "      <td>0.433</td>\n",
       "      <td>0.073</td>\n",
       "      <td>66</td>\n",
       "      <td>7.21</td>\n",
       "      <td>NaN</td>\n",
       "    </tr>\n",
       "    <tr>\n",
       "      <th>47</th>\n",
       "      <td>Paraguay</td>\n",
       "      <td>53</td>\n",
       "      <td>5.878</td>\n",
       "      <td>0.75985</td>\n",
       "      <td>0.66098</td>\n",
       "      <td>0.34240</td>\n",
       "      <td>0.53899</td>\n",
       "      <td>0.08242</td>\n",
       "      <td>70</td>\n",
       "      <td>5.538</td>\n",
       "      <td>...</td>\n",
       "      <td>63</td>\n",
       "      <td>5.743</td>\n",
       "      <td>0.855</td>\n",
       "      <td>0.777</td>\n",
       "      <td>0.184</td>\n",
       "      <td>0.514</td>\n",
       "      <td>0.080</td>\n",
       "      <td>65</td>\n",
       "      <td>7.23</td>\n",
       "      <td>NaN</td>\n",
       "    </tr>\n",
       "    <tr>\n",
       "      <th>30</th>\n",
       "      <td>Uruguay</td>\n",
       "      <td>32</td>\n",
       "      <td>6.485</td>\n",
       "      <td>1.06166</td>\n",
       "      <td>0.81160</td>\n",
       "      <td>0.23240</td>\n",
       "      <td>0.60362</td>\n",
       "      <td>0.24558</td>\n",
       "      <td>29</td>\n",
       "      <td>6.545</td>\n",
       "      <td>...</td>\n",
       "      <td>33</td>\n",
       "      <td>6.293</td>\n",
       "      <td>1.124</td>\n",
       "      <td>0.891</td>\n",
       "      <td>0.127</td>\n",
       "      <td>0.523</td>\n",
       "      <td>0.150</td>\n",
       "      <td>64</td>\n",
       "      <td>7.25</td>\n",
       "      <td>NaN</td>\n",
       "    </tr>\n",
       "  </tbody>\n",
       "</table>\n",
       "<p>5 rows × 39 columns</p>\n",
       "</div>"
      ],
      "text/plain": [
       "     Country  Happiness Rank_2015  Happiness Score_2015  \\\n",
       "43   Bahrain                   49                 5.960   \n",
       "75    Zambia                   85                 5.129   \n",
       "13    Mexico                   14                 7.187   \n",
       "47  Paraguay                   53                 5.878   \n",
       "30   Uruguay                   32                 6.485   \n",
       "\n",
       "    Economy (GDP per Capita)_2015  Health (Life Expectancy)_2015  \\\n",
       "43                        1.32376                        0.74716   \n",
       "75                        0.47038                        0.29924   \n",
       "13                        1.02054                        0.81444   \n",
       "47                        0.75985                        0.66098   \n",
       "30                        1.06166                        0.81160   \n",
       "\n",
       "    Generosity_2015  Freedom_2015  Trust (Government Corruption)_2015  \\\n",
       "43          0.17362       0.45492                             0.30600   \n",
       "75          0.19591       0.48827                             0.12468   \n",
       "13          0.14074       0.48181                             0.21312   \n",
       "47          0.34240       0.53899                             0.08242   \n",
       "30          0.23240       0.60362                             0.24558   \n",
       "\n",
       "    Happiness Rank_2016  Happiness Score_2016  ...  Happiness Rank_2019  \\\n",
       "43                   42                 6.218  ...                   37   \n",
       "75                  106                 4.795  ...                  138   \n",
       "13                   21                 6.778  ...                   23   \n",
       "47                   70                 5.538  ...                   63   \n",
       "30                   29                 6.545  ...                   33   \n",
       "\n",
       "    Happiness Score_2019  Economy (GDP per Capita)_2019  \\\n",
       "43                 6.199                          1.362   \n",
       "75                 4.107                          0.578   \n",
       "13                 6.595                          1.070   \n",
       "47                 5.743                          0.855   \n",
       "30                 6.293                          1.124   \n",
       "\n",
       "    Health (Life Expectancy)_2019  Generosity_2019  Freedom_2019  \\\n",
       "43                          0.871            0.255         0.536   \n",
       "75                          0.426            0.247         0.431   \n",
       "13                          0.861            0.074         0.433   \n",
       "47                          0.777            0.184         0.514   \n",
       "30                          0.891            0.127         0.523   \n",
       "\n",
       "    Trust (Government Corruption)_2019  Economic Freedom Rank  \\\n",
       "43                               0.110                     68   \n",
       "75                               0.087                     67   \n",
       "13                               0.073                     66   \n",
       "47                               0.080                     65   \n",
       "30                               0.150                     64   \n",
       "\n",
       "    Economic Freedom Score  QuantileRank  \n",
       "43                    7.16           NaN  \n",
       "75                    7.19           NaN  \n",
       "13                    7.21           NaN  \n",
       "47                    7.23           NaN  \n",
       "30                    7.25           NaN  \n",
       "\n",
       "[5 rows x 39 columns]"
      ]
     },
     "execution_count": 53,
     "metadata": {},
     "output_type": "execute_result"
    }
   ],
=======
   "execution_count": null,
   "metadata": {},
   "outputs": [],
>>>>>>> Stashed changes
   "source": [
    "high_df = pd.DataFrame(high, columns = ['Country', 'Happiness Rank_2015', 'Happiness Score_2015',\n",
    "       'Economy (GDP per Capita)_2015', 'Health (Life Expectancy)_2015',\n",
    "       'Generosity_2015', 'Freedom_2015', 'Trust (Government Corruption)_2015',\n",
    "       'Happiness Rank_2016', 'Happiness Score_2016',\n",
    "       'Economy (GDP per Capita)_2016', 'Health (Life Expectancy)_2016',\n",
    "       'Generosity_2016', 'Freedom_2016', 'Trust (Government Corruption)_2016',\n",
    "       'Happiness Rank_2017', 'Happiness Score_2017',\n",
    "       'Economy (GDP per Capita)_2017', 'Health (Life Expectancy)_2017',\n",
    "       'Generosity_2017', 'Freedom_2017', 'Trust (Government Corruption)_2017',\n",
    "       'Happiness Rank_2018', 'Happiness Score_2018',\n",
    "       'Economy (GDP per Capita)_2018', 'Health (Life Expectancy)_2018',\n",
    "       'Generosity_2018', 'Freedom_2018', 'Trust (Government Corruption)_2018',\n",
    "       'Happiness Rank_2019', 'Happiness Score_2019',\n",
    "       'Economy (GDP per Capita)_2019', 'Health (Life Expectancy)_2019',\n",
    "       'Generosity_2019', 'Freedom_2019', 'Trust (Government Corruption)_2019',\n",
    "       'Economic Freedom Rank', 'Economic Freedom Score', 'QuantileRank'])\n",
    "high_df.head()\n"
   ]
  },
  {
   "cell_type": "code",
   "execution_count": null,
   "metadata": {},
   "outputs": [],
   "source": [
    "columns_needed = ['Happiness Score',\n",
    "       'Economy', 'Health',\n",
    "       'Generosity', 'Freedom', 'Trust']\n",
    "for col in columns_needed:\n",
    "    high_df[col+\"_avg\"]= high_df.loc[:,high_df.columns.str.contains(col)].mean(axis=1)"
   ]
  },
  {
   "cell_type": "code",
   "execution_count": null,
   "metadata": {},
   "outputs": [],
   "source": [
    "high_df"
   ]
  },
  {
   "cell_type": "code",
   "execution_count": null,
   "metadata": {},
   "outputs": [],
   "source": [
    "high_df.loc[:,high_df.columns.str.contains(r\"Economy \\(GDP per Capita\\)\")]"
   ]
  },
  {
   "cell_type": "code",
   "execution_count": null,
   "metadata": {},
   "outputs": [],
   "source": [
    "high_df_melt=pd.melt(high_df,value_vars=high_df.columns[high_df.columns.str.contains(\"avg\")],var_name=\"catogories\",value_name=\"score\")"
   ]
  },
  {
   "cell_type": "code",
<<<<<<< Updated upstream
   "execution_count": 73,
   "metadata": {},
   "outputs": [
    {
     "data": {
      "text/plain": [
       "([<matplotlib.axis.XTick at 0x7fe47a48fd30>,\n",
       "  <matplotlib.axis.XTick at 0x7fe47a48fb50>,\n",
       "  <matplotlib.axis.XTick at 0x7fe47a515bb0>,\n",
       "  <matplotlib.axis.XTick at 0x7fe47a71c280>,\n",
       "  <matplotlib.axis.XTick at 0x7fe47aa54970>,\n",
       "  <matplotlib.axis.XTick at 0x7fe47aa54670>,\n",
       "  <matplotlib.axis.XTick at 0x7fe47a70fc40>,\n",
       "  <matplotlib.axis.XTick at 0x7fe47a70f940>,\n",
       "  <matplotlib.axis.XTick at 0x7fe47a4d75e0>],\n",
       " [Text(0, 0, '0'),\n",
       "  Text(1, 0, '2'),\n",
       "  Text(2, 0, '4'),\n",
       "  Text(3, 0, '6'),\n",
       "  Text(4, 0, '8'),\n",
       "  Text(5, 0, '10'),\n",
       "  Text(6, 0, '12'),\n",
       "  Text(7, 0, '14'),\n",
       "  Text(8, 0, '16')])"
      ]
     },
     "execution_count": 73,
     "metadata": {},
     "output_type": "display_data"
    },
    {
     "data": {
      "application/vnd.plotly.v1+json": {
       "config": {
        "plotlyServerURL": "https://plot.ly"
       },
       "data": [
        {
         "alignmentgroup": "True",
         "hovertemplate": "Contributing Factors=Economy (GDP per Capita)<br>Happiness Score=%{x}<br>Countries=%{y}<extra></extra>",
         "legendgroup": "Economy (GDP per Capita)",
         "marker": {
          "color": "rgb(166,206,227)"
         },
         "name": "Economy (GDP per Capita)",
         "offsetgroup": "Economy (GDP per Capita)",
         "orientation": "h",
         "showlegend": true,
         "textposition": "auto",
         "type": "bar",
         "x": [
          0.09162256866693501,
          0.511135876178741,
          0.777153134346008,
          0.368745893239975,
          0.30544471740722695,
          0.24454993009567302,
          0.11904179304838199,
          0.5916834473609921,
          0.368610262870789,
          0.305808693170547,
          1.4844149351120002,
          1.49438726902008,
          1.40570604801178,
          1.47920441627502,
          1.50394463539124,
          1.44357192516327,
          1.5649795532226598,
          1.480633020401,
          1.48238301277161,
          1.6164631843566901
         ],
         "xaxis": "x",
         "y": [
          "Burundi",
          "Tanzania",
          "Syria",
          "Rwanda",
          "Togo",
          "Guinea",
          "Liberia",
          "Yemen",
          "Haiti",
          "Madagascar",
          "Australia",
          "Sweden",
          "New Zealand",
          "Canada",
          "Netherlands",
          "Finland",
          "Switzerland",
          "Iceland",
          "Denmark",
          "Norway"
         ],
         "yaxis": "y"
        },
        {
         "alignmentgroup": "True",
         "hovertemplate": "Contributing Factors=Health (Life Expectancy)<br>Happiness Score=%{x}<br>Countries=%{y}<extra></extra>",
         "legendgroup": "Health (Life Expectancy)",
         "marker": {
          "color": "rgb(31,120,180)"
         },
         "name": "Health (Life Expectancy)",
         "offsetgroup": "Health (Life Expectancy)",
         "orientation": "h",
         "showlegend": true,
         "textposition": "auto",
         "type": "bar",
         "x": [
          0.151610791683197,
          0.364509284496307,
          0.5005333423614501,
          0.326424807310104,
          0.247105568647385,
          0.194129139184952,
          0.229918196797371,
          0.310080915689468,
          0.277321130037308,
          0.375223308801651,
          0.84388679265976,
          0.830875158309937,
          0.816759705543518,
          0.83455765247345,
          0.8106961250305179,
          0.80915766954422,
          0.858131289482117,
          0.8335521221160892,
          0.7925655245780941,
          0.796666502952576
         ],
         "xaxis": "x",
         "y": [
          "Burundi",
          "Tanzania",
          "Syria",
          "Rwanda",
          "Togo",
          "Guinea",
          "Liberia",
          "Yemen",
          "Haiti",
          "Madagascar",
          "Australia",
          "Sweden",
          "New Zealand",
          "Canada",
          "Netherlands",
          "Finland",
          "Switzerland",
          "Iceland",
          "Denmark",
          "Norway"
         ],
         "yaxis": "y"
        },
        {
         "alignmentgroup": "True",
         "hovertemplate": "Contributing Factors=Generosity<br>Happiness Score=%{x}<br>Countries=%{y}<extra></extra>",
         "legendgroup": "Generosity",
         "marker": {
          "color": "rgb(178,223,138)"
         },
         "name": "Generosity",
         "offsetgroup": "Generosity",
         "orientation": "h",
         "showlegend": true,
         "textposition": "auto",
         "type": "bar",
         "x": [
          0.20443518459796897,
          0.354256361722946,
          0.49366372823715204,
          0.25275602936744695,
          0.19689615070819896,
          0.264815092086792,
          0.26654988527298,
          0.104125209152699,
          0.48920378088951094,
          0.208732530474663,
          0.47769924998283403,
          0.38539925217628496,
          0.500005125999451,
          0.435539722442627,
          0.47048982977867104,
          0.24548277258873,
          0.29054927825927696,
          0.47554022073745705,
          0.3552804887294771,
          0.36201223731041
         ],
         "xaxis": "x",
         "y": [
          "Burundi",
          "Tanzania",
          "Syria",
          "Rwanda",
          "Togo",
          "Guinea",
          "Liberia",
          "Yemen",
          "Haiti",
          "Madagascar",
          "Australia",
          "Sweden",
          "New Zealand",
          "Canada",
          "Netherlands",
          "Finland",
          "Switzerland",
          "Iceland",
          "Denmark",
          "Norway"
         ],
         "yaxis": "y"
        },
        {
         "alignmentgroup": "True",
         "hovertemplate": "Contributing Factors=Freedom<br>Happiness Score=%{x}<br>Countries=%{y}<extra></extra>",
         "legendgroup": "Freedom",
         "marker": {
          "color": "rgb(51,160,44)"
         },
         "name": "Freedom",
         "offsetgroup": "Freedom",
         "orientation": "h",
         "showlegend": true,
         "textposition": "auto",
         "type": "bar",
         "x": [
          0.0599007532000542,
          0.390017777681351,
          0.0815394446253777,
          0.5818438529968261,
          0.38042613863945,
          0.348587512969971,
          0.33288118243217496,
          0.24946372210979503,
          0.0303698573261499,
          0.18919676542282102,
          0.601607382297516,
          0.612924098968506,
          0.6140621304512021,
          0.611100912094116,
          0.5853844881057739,
          0.6179508566856379,
          0.620070576667786,
          0.6271626353263849,
          0.626006722450256,
          0.635422587394714
         ],
         "xaxis": "x",
         "y": [
          "Burundi",
          "Tanzania",
          "Syria",
          "Rwanda",
          "Togo",
          "Guinea",
          "Liberia",
          "Yemen",
          "Haiti",
          "Madagascar",
          "Australia",
          "Sweden",
          "New Zealand",
          "Canada",
          "Netherlands",
          "Finland",
          "Switzerland",
          "Iceland",
          "Denmark",
          "Norway"
         ],
         "yaxis": "y"
        },
        {
         "alignmentgroup": "True",
         "hovertemplate": "Contributing Factors=Trust (Government Corruption)<br>Happiness Score=%{x}<br>Countries=%{y}<extra></extra>",
         "legendgroup": "Trust (Government Corruption)",
         "marker": {
          "color": "rgb(251,154,153)"
         },
         "name": "Trust (Government Corruption)",
         "offsetgroup": "Trust (Government Corruption)",
         "orientation": "h",
         "showlegend": true,
         "textposition": "auto",
         "type": "bar",
         "x": [
          0.0841479450464249,
          0.0660351067781448,
          0.15134713053703303,
          0.455220013856888,
          0.0956650152802467,
          0.110937617719173,
          0.0389482490718365,
          0.0567674227058887,
          0.0998721495270729,
          0.0672319754958153,
          0.301183730363846,
          0.384398728609085,
          0.38281670212745705,
          0.287371516227722,
          0.282661825418472,
          0.38261154294014,
          0.36700728535652205,
          0.15352655947208402,
          0.40077006816863997,
          0.31596383452415505
         ],
         "xaxis": "x",
         "y": [
          "Burundi",
          "Tanzania",
          "Syria",
          "Rwanda",
          "Togo",
          "Guinea",
          "Liberia",
          "Yemen",
          "Haiti",
          "Madagascar",
          "Australia",
          "Sweden",
          "New Zealand",
          "Canada",
          "Netherlands",
          "Finland",
          "Switzerland",
          "Iceland",
          "Denmark",
          "Norway"
         ],
         "yaxis": "y"
        }
       ],
       "layout": {
        "barmode": "stack",
        "legend": {
         "title": {
          "text": "Contributing Factors"
         },
         "tracegroupgap": 0
        },
        "template": {
         "data": {
          "bar": [
           {
            "error_x": {
             "color": "#2a3f5f"
            },
            "error_y": {
             "color": "#2a3f5f"
            },
            "marker": {
             "line": {
              "color": "#E5ECF6",
              "width": 0.5
             }
            },
            "type": "bar"
           }
          ],
          "barpolar": [
           {
            "marker": {
             "line": {
              "color": "#E5ECF6",
              "width": 0.5
             }
            },
            "type": "barpolar"
           }
          ],
          "carpet": [
           {
            "aaxis": {
             "endlinecolor": "#2a3f5f",
             "gridcolor": "white",
             "linecolor": "white",
             "minorgridcolor": "white",
             "startlinecolor": "#2a3f5f"
            },
            "baxis": {
             "endlinecolor": "#2a3f5f",
             "gridcolor": "white",
             "linecolor": "white",
             "minorgridcolor": "white",
             "startlinecolor": "#2a3f5f"
            },
            "type": "carpet"
           }
          ],
          "choropleth": [
           {
            "colorbar": {
             "outlinewidth": 0,
             "ticks": ""
            },
            "type": "choropleth"
           }
          ],
          "contour": [
           {
            "colorbar": {
             "outlinewidth": 0,
             "ticks": ""
            },
            "colorscale": [
             [
              0,
              "#0d0887"
             ],
             [
              0.1111111111111111,
              "#46039f"
             ],
             [
              0.2222222222222222,
              "#7201a8"
             ],
             [
              0.3333333333333333,
              "#9c179e"
             ],
             [
              0.4444444444444444,
              "#bd3786"
             ],
             [
              0.5555555555555556,
              "#d8576b"
             ],
             [
              0.6666666666666666,
              "#ed7953"
             ],
             [
              0.7777777777777778,
              "#fb9f3a"
             ],
             [
              0.8888888888888888,
              "#fdca26"
             ],
             [
              1,
              "#f0f921"
             ]
            ],
            "type": "contour"
           }
          ],
          "contourcarpet": [
           {
            "colorbar": {
             "outlinewidth": 0,
             "ticks": ""
            },
            "type": "contourcarpet"
           }
          ],
          "heatmap": [
           {
            "colorbar": {
             "outlinewidth": 0,
             "ticks": ""
            },
            "colorscale": [
             [
              0,
              "#0d0887"
             ],
             [
              0.1111111111111111,
              "#46039f"
             ],
             [
              0.2222222222222222,
              "#7201a8"
             ],
             [
              0.3333333333333333,
              "#9c179e"
             ],
             [
              0.4444444444444444,
              "#bd3786"
             ],
             [
              0.5555555555555556,
              "#d8576b"
             ],
             [
              0.6666666666666666,
              "#ed7953"
             ],
             [
              0.7777777777777778,
              "#fb9f3a"
             ],
             [
              0.8888888888888888,
              "#fdca26"
             ],
             [
              1,
              "#f0f921"
             ]
            ],
            "type": "heatmap"
           }
          ],
          "heatmapgl": [
           {
            "colorbar": {
             "outlinewidth": 0,
             "ticks": ""
            },
            "colorscale": [
             [
              0,
              "#0d0887"
             ],
             [
              0.1111111111111111,
              "#46039f"
             ],
             [
              0.2222222222222222,
              "#7201a8"
             ],
             [
              0.3333333333333333,
              "#9c179e"
             ],
             [
              0.4444444444444444,
              "#bd3786"
             ],
             [
              0.5555555555555556,
              "#d8576b"
             ],
             [
              0.6666666666666666,
              "#ed7953"
             ],
             [
              0.7777777777777778,
              "#fb9f3a"
             ],
             [
              0.8888888888888888,
              "#fdca26"
             ],
             [
              1,
              "#f0f921"
             ]
            ],
            "type": "heatmapgl"
           }
          ],
          "histogram": [
           {
            "marker": {
             "colorbar": {
              "outlinewidth": 0,
              "ticks": ""
             }
            },
            "type": "histogram"
           }
          ],
          "histogram2d": [
           {
            "colorbar": {
             "outlinewidth": 0,
             "ticks": ""
            },
            "colorscale": [
             [
              0,
              "#0d0887"
             ],
             [
              0.1111111111111111,
              "#46039f"
             ],
             [
              0.2222222222222222,
              "#7201a8"
             ],
             [
              0.3333333333333333,
              "#9c179e"
             ],
             [
              0.4444444444444444,
              "#bd3786"
             ],
             [
              0.5555555555555556,
              "#d8576b"
             ],
             [
              0.6666666666666666,
              "#ed7953"
             ],
             [
              0.7777777777777778,
              "#fb9f3a"
             ],
             [
              0.8888888888888888,
              "#fdca26"
             ],
             [
              1,
              "#f0f921"
             ]
            ],
            "type": "histogram2d"
           }
          ],
          "histogram2dcontour": [
           {
            "colorbar": {
             "outlinewidth": 0,
             "ticks": ""
            },
            "colorscale": [
             [
              0,
              "#0d0887"
             ],
             [
              0.1111111111111111,
              "#46039f"
             ],
             [
              0.2222222222222222,
              "#7201a8"
             ],
             [
              0.3333333333333333,
              "#9c179e"
             ],
             [
              0.4444444444444444,
              "#bd3786"
             ],
             [
              0.5555555555555556,
              "#d8576b"
             ],
             [
              0.6666666666666666,
              "#ed7953"
             ],
             [
              0.7777777777777778,
              "#fb9f3a"
             ],
             [
              0.8888888888888888,
              "#fdca26"
             ],
             [
              1,
              "#f0f921"
             ]
            ],
            "type": "histogram2dcontour"
           }
          ],
          "mesh3d": [
           {
            "colorbar": {
             "outlinewidth": 0,
             "ticks": ""
            },
            "type": "mesh3d"
           }
          ],
          "parcoords": [
           {
            "line": {
             "colorbar": {
              "outlinewidth": 0,
              "ticks": ""
             }
            },
            "type": "parcoords"
           }
          ],
          "pie": [
           {
            "automargin": true,
            "type": "pie"
           }
          ],
          "scatter": [
           {
            "marker": {
             "colorbar": {
              "outlinewidth": 0,
              "ticks": ""
             }
            },
            "type": "scatter"
           }
          ],
          "scatter3d": [
           {
            "line": {
             "colorbar": {
              "outlinewidth": 0,
              "ticks": ""
             }
            },
            "marker": {
             "colorbar": {
              "outlinewidth": 0,
              "ticks": ""
             }
            },
            "type": "scatter3d"
           }
          ],
          "scattercarpet": [
           {
            "marker": {
             "colorbar": {
              "outlinewidth": 0,
              "ticks": ""
             }
            },
            "type": "scattercarpet"
           }
          ],
          "scattergeo": [
           {
            "marker": {
             "colorbar": {
              "outlinewidth": 0,
              "ticks": ""
             }
            },
            "type": "scattergeo"
           }
          ],
          "scattergl": [
           {
            "marker": {
             "colorbar": {
              "outlinewidth": 0,
              "ticks": ""
             }
            },
            "type": "scattergl"
           }
          ],
          "scattermapbox": [
           {
            "marker": {
             "colorbar": {
              "outlinewidth": 0,
              "ticks": ""
             }
            },
            "type": "scattermapbox"
           }
          ],
          "scatterpolar": [
           {
            "marker": {
             "colorbar": {
              "outlinewidth": 0,
              "ticks": ""
             }
            },
            "type": "scatterpolar"
           }
          ],
          "scatterpolargl": [
           {
            "marker": {
             "colorbar": {
              "outlinewidth": 0,
              "ticks": ""
             }
            },
            "type": "scatterpolargl"
           }
          ],
          "scatterternary": [
           {
            "marker": {
             "colorbar": {
              "outlinewidth": 0,
              "ticks": ""
             }
            },
            "type": "scatterternary"
           }
          ],
          "surface": [
           {
            "colorbar": {
             "outlinewidth": 0,
             "ticks": ""
            },
            "colorscale": [
             [
              0,
              "#0d0887"
             ],
             [
              0.1111111111111111,
              "#46039f"
             ],
             [
              0.2222222222222222,
              "#7201a8"
             ],
             [
              0.3333333333333333,
              "#9c179e"
             ],
             [
              0.4444444444444444,
              "#bd3786"
             ],
             [
              0.5555555555555556,
              "#d8576b"
             ],
             [
              0.6666666666666666,
              "#ed7953"
             ],
             [
              0.7777777777777778,
              "#fb9f3a"
             ],
             [
              0.8888888888888888,
              "#fdca26"
             ],
             [
              1,
              "#f0f921"
             ]
            ],
            "type": "surface"
           }
          ],
          "table": [
           {
            "cells": {
             "fill": {
              "color": "#EBF0F8"
             },
             "line": {
              "color": "white"
             }
            },
            "header": {
             "fill": {
              "color": "#C8D4E3"
             },
             "line": {
              "color": "white"
             }
            },
            "type": "table"
           }
          ]
         },
         "layout": {
          "annotationdefaults": {
           "arrowcolor": "#2a3f5f",
           "arrowhead": 0,
           "arrowwidth": 1
          },
          "autotypenumbers": "strict",
          "coloraxis": {
           "colorbar": {
            "outlinewidth": 0,
            "ticks": ""
           }
          },
          "colorscale": {
           "diverging": [
            [
             0,
             "#8e0152"
            ],
            [
             0.1,
             "#c51b7d"
            ],
            [
             0.2,
             "#de77ae"
            ],
            [
             0.3,
             "#f1b6da"
            ],
            [
             0.4,
             "#fde0ef"
            ],
            [
             0.5,
             "#f7f7f7"
            ],
            [
             0.6,
             "#e6f5d0"
            ],
            [
             0.7,
             "#b8e186"
            ],
            [
             0.8,
             "#7fbc41"
            ],
            [
             0.9,
             "#4d9221"
            ],
            [
             1,
             "#276419"
            ]
           ],
           "sequential": [
            [
             0,
             "#0d0887"
            ],
            [
             0.1111111111111111,
             "#46039f"
            ],
            [
             0.2222222222222222,
             "#7201a8"
            ],
            [
             0.3333333333333333,
             "#9c179e"
            ],
            [
             0.4444444444444444,
             "#bd3786"
            ],
            [
             0.5555555555555556,
             "#d8576b"
            ],
            [
             0.6666666666666666,
             "#ed7953"
            ],
            [
             0.7777777777777778,
             "#fb9f3a"
            ],
            [
             0.8888888888888888,
             "#fdca26"
            ],
            [
             1,
             "#f0f921"
            ]
           ],
           "sequentialminus": [
            [
             0,
             "#0d0887"
            ],
            [
             0.1111111111111111,
             "#46039f"
            ],
            [
             0.2222222222222222,
             "#7201a8"
            ],
            [
             0.3333333333333333,
             "#9c179e"
            ],
            [
             0.4444444444444444,
             "#bd3786"
            ],
            [
             0.5555555555555556,
             "#d8576b"
            ],
            [
             0.6666666666666666,
             "#ed7953"
            ],
            [
             0.7777777777777778,
             "#fb9f3a"
            ],
            [
             0.8888888888888888,
             "#fdca26"
            ],
            [
             1,
             "#f0f921"
            ]
           ]
          },
          "colorway": [
           "#636efa",
           "#EF553B",
           "#00cc96",
           "#ab63fa",
           "#FFA15A",
           "#19d3f3",
           "#FF6692",
           "#B6E880",
           "#FF97FF",
           "#FECB52"
          ],
          "font": {
           "color": "#2a3f5f"
          },
          "geo": {
           "bgcolor": "white",
           "lakecolor": "white",
           "landcolor": "#E5ECF6",
           "showlakes": true,
           "showland": true,
           "subunitcolor": "white"
          },
          "hoverlabel": {
           "align": "left"
          },
          "hovermode": "closest",
          "mapbox": {
           "style": "light"
          },
          "paper_bgcolor": "white",
          "plot_bgcolor": "#E5ECF6",
          "polar": {
           "angularaxis": {
            "gridcolor": "white",
            "linecolor": "white",
            "ticks": ""
           },
           "bgcolor": "#E5ECF6",
           "radialaxis": {
            "gridcolor": "white",
            "linecolor": "white",
            "ticks": ""
           }
          },
          "scene": {
           "xaxis": {
            "backgroundcolor": "#E5ECF6",
            "gridcolor": "white",
            "gridwidth": 2,
            "linecolor": "white",
            "showbackground": true,
            "ticks": "",
            "zerolinecolor": "white"
           },
           "yaxis": {
            "backgroundcolor": "#E5ECF6",
            "gridcolor": "white",
            "gridwidth": 2,
            "linecolor": "white",
            "showbackground": true,
            "ticks": "",
            "zerolinecolor": "white"
           },
           "zaxis": {
            "backgroundcolor": "#E5ECF6",
            "gridcolor": "white",
            "gridwidth": 2,
            "linecolor": "white",
            "showbackground": true,
            "ticks": "",
            "zerolinecolor": "white"
           }
          },
          "shapedefaults": {
           "line": {
            "color": "#2a3f5f"
           }
          },
          "ternary": {
           "aaxis": {
            "gridcolor": "white",
            "linecolor": "white",
            "ticks": ""
           },
           "baxis": {
            "gridcolor": "white",
            "linecolor": "white",
            "ticks": ""
           },
           "bgcolor": "#E5ECF6",
           "caxis": {
            "gridcolor": "white",
            "linecolor": "white",
            "ticks": ""
           }
          },
          "title": {
           "x": 0.05
          },
          "xaxis": {
           "automargin": true,
           "gridcolor": "white",
           "linecolor": "white",
           "ticks": "",
           "title": {
            "standoff": 15
           },
           "zerolinecolor": "white",
           "zerolinewidth": 2
          },
          "yaxis": {
           "automargin": true,
           "gridcolor": "white",
           "linecolor": "white",
           "ticks": "",
           "title": {
            "standoff": 15
           },
           "zerolinecolor": "white",
           "zerolinewidth": 2
          }
         }
        },
        "title": {
         "text": "2017 Top/Bottom Countries"
        },
        "xaxis": {
         "anchor": "y",
         "domain": [
          0,
          1
         ],
         "title": {
          "text": "Happiness Score"
         }
        },
        "yaxis": {
         "anchor": "x",
         "domain": [
          0,
          1
         ],
         "title": {
          "text": "Countries"
         }
        }
       }
      },
      "text/html": [
       "<div>                            <div id=\"d93cd6f9-5102-4120-ad94-24c49f23d8c4\" class=\"plotly-graph-div\" style=\"height:525px; width:100%;\"></div>            <script type=\"text/javascript\">                require([\"plotly\"], function(Plotly) {                    window.PLOTLYENV=window.PLOTLYENV || {};                                    if (document.getElementById(\"d93cd6f9-5102-4120-ad94-24c49f23d8c4\")) {                    Plotly.newPlot(                        \"d93cd6f9-5102-4120-ad94-24c49f23d8c4\",                        [{\"alignmentgroup\": \"True\", \"hovertemplate\": \"Contributing Factors=Economy (GDP per Capita)<br>Happiness Score=%{x}<br>Countries=%{y}<extra></extra>\", \"legendgroup\": \"Economy (GDP per Capita)\", \"marker\": {\"color\": \"rgb(166,206,227)\"}, \"name\": \"Economy (GDP per Capita)\", \"offsetgroup\": \"Economy (GDP per Capita)\", \"orientation\": \"h\", \"showlegend\": true, \"textposition\": \"auto\", \"type\": \"bar\", \"x\": [0.09162256866693501, 0.511135876178741, 0.777153134346008, 0.368745893239975, 0.30544471740722695, 0.24454993009567302, 0.11904179304838199, 0.5916834473609921, 0.368610262870789, 0.305808693170547, 1.4844149351120002, 1.49438726902008, 1.40570604801178, 1.47920441627502, 1.50394463539124, 1.44357192516327, 1.5649795532226598, 1.480633020401, 1.48238301277161, 1.6164631843566901], \"xaxis\": \"x\", \"y\": [\"Burundi\", \"Tanzania\", \"Syria\", \"Rwanda\", \"Togo\", \"Guinea\", \"Liberia\", \"Yemen\", \"Haiti\", \"Madagascar\", \"Australia\", \"Sweden\", \"New Zealand\", \"Canada\", \"Netherlands\", \"Finland\", \"Switzerland\", \"Iceland\", \"Denmark\", \"Norway\"], \"yaxis\": \"y\"}, {\"alignmentgroup\": \"True\", \"hovertemplate\": \"Contributing Factors=Health (Life Expectancy)<br>Happiness Score=%{x}<br>Countries=%{y}<extra></extra>\", \"legendgroup\": \"Health (Life Expectancy)\", \"marker\": {\"color\": \"rgb(31,120,180)\"}, \"name\": \"Health (Life Expectancy)\", \"offsetgroup\": \"Health (Life Expectancy)\", \"orientation\": \"h\", \"showlegend\": true, \"textposition\": \"auto\", \"type\": \"bar\", \"x\": [0.151610791683197, 0.364509284496307, 0.5005333423614501, 0.326424807310104, 0.247105568647385, 0.194129139184952, 0.229918196797371, 0.310080915689468, 0.277321130037308, 0.375223308801651, 0.84388679265976, 0.830875158309937, 0.816759705543518, 0.83455765247345, 0.8106961250305179, 0.80915766954422, 0.858131289482117, 0.8335521221160892, 0.7925655245780941, 0.796666502952576], \"xaxis\": \"x\", \"y\": [\"Burundi\", \"Tanzania\", \"Syria\", \"Rwanda\", \"Togo\", \"Guinea\", \"Liberia\", \"Yemen\", \"Haiti\", \"Madagascar\", \"Australia\", \"Sweden\", \"New Zealand\", \"Canada\", \"Netherlands\", \"Finland\", \"Switzerland\", \"Iceland\", \"Denmark\", \"Norway\"], \"yaxis\": \"y\"}, {\"alignmentgroup\": \"True\", \"hovertemplate\": \"Contributing Factors=Generosity<br>Happiness Score=%{x}<br>Countries=%{y}<extra></extra>\", \"legendgroup\": \"Generosity\", \"marker\": {\"color\": \"rgb(178,223,138)\"}, \"name\": \"Generosity\", \"offsetgroup\": \"Generosity\", \"orientation\": \"h\", \"showlegend\": true, \"textposition\": \"auto\", \"type\": \"bar\", \"x\": [0.20443518459796897, 0.354256361722946, 0.49366372823715204, 0.25275602936744695, 0.19689615070819896, 0.264815092086792, 0.26654988527298, 0.104125209152699, 0.48920378088951094, 0.208732530474663, 0.47769924998283403, 0.38539925217628496, 0.500005125999451, 0.435539722442627, 0.47048982977867104, 0.24548277258873, 0.29054927825927696, 0.47554022073745705, 0.3552804887294771, 0.36201223731041], \"xaxis\": \"x\", \"y\": [\"Burundi\", \"Tanzania\", \"Syria\", \"Rwanda\", \"Togo\", \"Guinea\", \"Liberia\", \"Yemen\", \"Haiti\", \"Madagascar\", \"Australia\", \"Sweden\", \"New Zealand\", \"Canada\", \"Netherlands\", \"Finland\", \"Switzerland\", \"Iceland\", \"Denmark\", \"Norway\"], \"yaxis\": \"y\"}, {\"alignmentgroup\": \"True\", \"hovertemplate\": \"Contributing Factors=Freedom<br>Happiness Score=%{x}<br>Countries=%{y}<extra></extra>\", \"legendgroup\": \"Freedom\", \"marker\": {\"color\": \"rgb(51,160,44)\"}, \"name\": \"Freedom\", \"offsetgroup\": \"Freedom\", \"orientation\": \"h\", \"showlegend\": true, \"textposition\": \"auto\", \"type\": \"bar\", \"x\": [0.0599007532000542, 0.390017777681351, 0.0815394446253777, 0.5818438529968261, 0.38042613863945, 0.348587512969971, 0.33288118243217496, 0.24946372210979503, 0.0303698573261499, 0.18919676542282102, 0.601607382297516, 0.612924098968506, 0.6140621304512021, 0.611100912094116, 0.5853844881057739, 0.6179508566856379, 0.620070576667786, 0.6271626353263849, 0.626006722450256, 0.635422587394714], \"xaxis\": \"x\", \"y\": [\"Burundi\", \"Tanzania\", \"Syria\", \"Rwanda\", \"Togo\", \"Guinea\", \"Liberia\", \"Yemen\", \"Haiti\", \"Madagascar\", \"Australia\", \"Sweden\", \"New Zealand\", \"Canada\", \"Netherlands\", \"Finland\", \"Switzerland\", \"Iceland\", \"Denmark\", \"Norway\"], \"yaxis\": \"y\"}, {\"alignmentgroup\": \"True\", \"hovertemplate\": \"Contributing Factors=Trust (Government Corruption)<br>Happiness Score=%{x}<br>Countries=%{y}<extra></extra>\", \"legendgroup\": \"Trust (Government Corruption)\", \"marker\": {\"color\": \"rgb(251,154,153)\"}, \"name\": \"Trust (Government Corruption)\", \"offsetgroup\": \"Trust (Government Corruption)\", \"orientation\": \"h\", \"showlegend\": true, \"textposition\": \"auto\", \"type\": \"bar\", \"x\": [0.0841479450464249, 0.0660351067781448, 0.15134713053703303, 0.455220013856888, 0.0956650152802467, 0.110937617719173, 0.0389482490718365, 0.0567674227058887, 0.0998721495270729, 0.0672319754958153, 0.301183730363846, 0.384398728609085, 0.38281670212745705, 0.287371516227722, 0.282661825418472, 0.38261154294014, 0.36700728535652205, 0.15352655947208402, 0.40077006816863997, 0.31596383452415505], \"xaxis\": \"x\", \"y\": [\"Burundi\", \"Tanzania\", \"Syria\", \"Rwanda\", \"Togo\", \"Guinea\", \"Liberia\", \"Yemen\", \"Haiti\", \"Madagascar\", \"Australia\", \"Sweden\", \"New Zealand\", \"Canada\", \"Netherlands\", \"Finland\", \"Switzerland\", \"Iceland\", \"Denmark\", \"Norway\"], \"yaxis\": \"y\"}],                        {\"barmode\": \"stack\", \"legend\": {\"title\": {\"text\": \"Contributing Factors\"}, \"tracegroupgap\": 0}, \"template\": {\"data\": {\"bar\": [{\"error_x\": {\"color\": \"#2a3f5f\"}, \"error_y\": {\"color\": \"#2a3f5f\"}, \"marker\": {\"line\": {\"color\": \"#E5ECF6\", \"width\": 0.5}}, \"type\": \"bar\"}], \"barpolar\": [{\"marker\": {\"line\": {\"color\": \"#E5ECF6\", \"width\": 0.5}}, \"type\": \"barpolar\"}], \"carpet\": [{\"aaxis\": {\"endlinecolor\": \"#2a3f5f\", \"gridcolor\": \"white\", \"linecolor\": \"white\", \"minorgridcolor\": \"white\", \"startlinecolor\": \"#2a3f5f\"}, \"baxis\": {\"endlinecolor\": \"#2a3f5f\", \"gridcolor\": \"white\", \"linecolor\": \"white\", \"minorgridcolor\": \"white\", \"startlinecolor\": \"#2a3f5f\"}, \"type\": \"carpet\"}], \"choropleth\": [{\"colorbar\": {\"outlinewidth\": 0, \"ticks\": \"\"}, \"type\": \"choropleth\"}], \"contour\": [{\"colorbar\": {\"outlinewidth\": 0, \"ticks\": \"\"}, \"colorscale\": [[0.0, \"#0d0887\"], [0.1111111111111111, \"#46039f\"], [0.2222222222222222, \"#7201a8\"], [0.3333333333333333, \"#9c179e\"], [0.4444444444444444, \"#bd3786\"], [0.5555555555555556, \"#d8576b\"], [0.6666666666666666, \"#ed7953\"], [0.7777777777777778, \"#fb9f3a\"], [0.8888888888888888, \"#fdca26\"], [1.0, \"#f0f921\"]], \"type\": \"contour\"}], \"contourcarpet\": [{\"colorbar\": {\"outlinewidth\": 0, \"ticks\": \"\"}, \"type\": \"contourcarpet\"}], \"heatmap\": [{\"colorbar\": {\"outlinewidth\": 0, \"ticks\": \"\"}, \"colorscale\": [[0.0, \"#0d0887\"], [0.1111111111111111, \"#46039f\"], [0.2222222222222222, \"#7201a8\"], [0.3333333333333333, \"#9c179e\"], [0.4444444444444444, \"#bd3786\"], [0.5555555555555556, \"#d8576b\"], [0.6666666666666666, \"#ed7953\"], [0.7777777777777778, \"#fb9f3a\"], [0.8888888888888888, \"#fdca26\"], [1.0, \"#f0f921\"]], \"type\": \"heatmap\"}], \"heatmapgl\": [{\"colorbar\": {\"outlinewidth\": 0, \"ticks\": \"\"}, \"colorscale\": [[0.0, \"#0d0887\"], [0.1111111111111111, \"#46039f\"], [0.2222222222222222, \"#7201a8\"], [0.3333333333333333, \"#9c179e\"], [0.4444444444444444, \"#bd3786\"], [0.5555555555555556, \"#d8576b\"], [0.6666666666666666, \"#ed7953\"], [0.7777777777777778, \"#fb9f3a\"], [0.8888888888888888, \"#fdca26\"], [1.0, \"#f0f921\"]], \"type\": \"heatmapgl\"}], \"histogram\": [{\"marker\": {\"colorbar\": {\"outlinewidth\": 0, \"ticks\": \"\"}}, \"type\": \"histogram\"}], \"histogram2d\": [{\"colorbar\": {\"outlinewidth\": 0, \"ticks\": \"\"}, \"colorscale\": [[0.0, \"#0d0887\"], [0.1111111111111111, \"#46039f\"], [0.2222222222222222, \"#7201a8\"], [0.3333333333333333, \"#9c179e\"], [0.4444444444444444, \"#bd3786\"], [0.5555555555555556, \"#d8576b\"], [0.6666666666666666, \"#ed7953\"], [0.7777777777777778, \"#fb9f3a\"], [0.8888888888888888, \"#fdca26\"], [1.0, \"#f0f921\"]], \"type\": \"histogram2d\"}], \"histogram2dcontour\": [{\"colorbar\": {\"outlinewidth\": 0, \"ticks\": \"\"}, \"colorscale\": [[0.0, \"#0d0887\"], [0.1111111111111111, \"#46039f\"], [0.2222222222222222, \"#7201a8\"], [0.3333333333333333, \"#9c179e\"], [0.4444444444444444, \"#bd3786\"], [0.5555555555555556, \"#d8576b\"], [0.6666666666666666, \"#ed7953\"], [0.7777777777777778, \"#fb9f3a\"], [0.8888888888888888, \"#fdca26\"], [1.0, \"#f0f921\"]], \"type\": \"histogram2dcontour\"}], \"mesh3d\": [{\"colorbar\": {\"outlinewidth\": 0, \"ticks\": \"\"}, \"type\": \"mesh3d\"}], \"parcoords\": [{\"line\": {\"colorbar\": {\"outlinewidth\": 0, \"ticks\": \"\"}}, \"type\": \"parcoords\"}], \"pie\": [{\"automargin\": true, \"type\": \"pie\"}], \"scatter\": [{\"marker\": {\"colorbar\": {\"outlinewidth\": 0, \"ticks\": \"\"}}, \"type\": \"scatter\"}], \"scatter3d\": [{\"line\": {\"colorbar\": {\"outlinewidth\": 0, \"ticks\": \"\"}}, \"marker\": {\"colorbar\": {\"outlinewidth\": 0, \"ticks\": \"\"}}, \"type\": \"scatter3d\"}], \"scattercarpet\": [{\"marker\": {\"colorbar\": {\"outlinewidth\": 0, \"ticks\": \"\"}}, \"type\": \"scattercarpet\"}], \"scattergeo\": [{\"marker\": {\"colorbar\": {\"outlinewidth\": 0, \"ticks\": \"\"}}, \"type\": \"scattergeo\"}], \"scattergl\": [{\"marker\": {\"colorbar\": {\"outlinewidth\": 0, \"ticks\": \"\"}}, \"type\": \"scattergl\"}], \"scattermapbox\": [{\"marker\": {\"colorbar\": {\"outlinewidth\": 0, \"ticks\": \"\"}}, \"type\": \"scattermapbox\"}], \"scatterpolar\": [{\"marker\": {\"colorbar\": {\"outlinewidth\": 0, \"ticks\": \"\"}}, \"type\": \"scatterpolar\"}], \"scatterpolargl\": [{\"marker\": {\"colorbar\": {\"outlinewidth\": 0, \"ticks\": \"\"}}, \"type\": \"scatterpolargl\"}], \"scatterternary\": [{\"marker\": {\"colorbar\": {\"outlinewidth\": 0, \"ticks\": \"\"}}, \"type\": \"scatterternary\"}], \"surface\": [{\"colorbar\": {\"outlinewidth\": 0, \"ticks\": \"\"}, \"colorscale\": [[0.0, \"#0d0887\"], [0.1111111111111111, \"#46039f\"], [0.2222222222222222, \"#7201a8\"], [0.3333333333333333, \"#9c179e\"], [0.4444444444444444, \"#bd3786\"], [0.5555555555555556, \"#d8576b\"], [0.6666666666666666, \"#ed7953\"], [0.7777777777777778, \"#fb9f3a\"], [0.8888888888888888, \"#fdca26\"], [1.0, \"#f0f921\"]], \"type\": \"surface\"}], \"table\": [{\"cells\": {\"fill\": {\"color\": \"#EBF0F8\"}, \"line\": {\"color\": \"white\"}}, \"header\": {\"fill\": {\"color\": \"#C8D4E3\"}, \"line\": {\"color\": \"white\"}}, \"type\": \"table\"}]}, \"layout\": {\"annotationdefaults\": {\"arrowcolor\": \"#2a3f5f\", \"arrowhead\": 0, \"arrowwidth\": 1}, \"autotypenumbers\": \"strict\", \"coloraxis\": {\"colorbar\": {\"outlinewidth\": 0, \"ticks\": \"\"}}, \"colorscale\": {\"diverging\": [[0, \"#8e0152\"], [0.1, \"#c51b7d\"], [0.2, \"#de77ae\"], [0.3, \"#f1b6da\"], [0.4, \"#fde0ef\"], [0.5, \"#f7f7f7\"], [0.6, \"#e6f5d0\"], [0.7, \"#b8e186\"], [0.8, \"#7fbc41\"], [0.9, \"#4d9221\"], [1, \"#276419\"]], \"sequential\": [[0.0, \"#0d0887\"], [0.1111111111111111, \"#46039f\"], [0.2222222222222222, \"#7201a8\"], [0.3333333333333333, \"#9c179e\"], [0.4444444444444444, \"#bd3786\"], [0.5555555555555556, \"#d8576b\"], [0.6666666666666666, \"#ed7953\"], [0.7777777777777778, \"#fb9f3a\"], [0.8888888888888888, \"#fdca26\"], [1.0, \"#f0f921\"]], \"sequentialminus\": [[0.0, \"#0d0887\"], [0.1111111111111111, \"#46039f\"], [0.2222222222222222, \"#7201a8\"], [0.3333333333333333, \"#9c179e\"], [0.4444444444444444, \"#bd3786\"], [0.5555555555555556, \"#d8576b\"], [0.6666666666666666, \"#ed7953\"], [0.7777777777777778, \"#fb9f3a\"], [0.8888888888888888, \"#fdca26\"], [1.0, \"#f0f921\"]]}, \"colorway\": [\"#636efa\", \"#EF553B\", \"#00cc96\", \"#ab63fa\", \"#FFA15A\", \"#19d3f3\", \"#FF6692\", \"#B6E880\", \"#FF97FF\", \"#FECB52\"], \"font\": {\"color\": \"#2a3f5f\"}, \"geo\": {\"bgcolor\": \"white\", \"lakecolor\": \"white\", \"landcolor\": \"#E5ECF6\", \"showlakes\": true, \"showland\": true, \"subunitcolor\": \"white\"}, \"hoverlabel\": {\"align\": \"left\"}, \"hovermode\": \"closest\", \"mapbox\": {\"style\": \"light\"}, \"paper_bgcolor\": \"white\", \"plot_bgcolor\": \"#E5ECF6\", \"polar\": {\"angularaxis\": {\"gridcolor\": \"white\", \"linecolor\": \"white\", \"ticks\": \"\"}, \"bgcolor\": \"#E5ECF6\", \"radialaxis\": {\"gridcolor\": \"white\", \"linecolor\": \"white\", \"ticks\": \"\"}}, \"scene\": {\"xaxis\": {\"backgroundcolor\": \"#E5ECF6\", \"gridcolor\": \"white\", \"gridwidth\": 2, \"linecolor\": \"white\", \"showbackground\": true, \"ticks\": \"\", \"zerolinecolor\": \"white\"}, \"yaxis\": {\"backgroundcolor\": \"#E5ECF6\", \"gridcolor\": \"white\", \"gridwidth\": 2, \"linecolor\": \"white\", \"showbackground\": true, \"ticks\": \"\", \"zerolinecolor\": \"white\"}, \"zaxis\": {\"backgroundcolor\": \"#E5ECF6\", \"gridcolor\": \"white\", \"gridwidth\": 2, \"linecolor\": \"white\", \"showbackground\": true, \"ticks\": \"\", \"zerolinecolor\": \"white\"}}, \"shapedefaults\": {\"line\": {\"color\": \"#2a3f5f\"}}, \"ternary\": {\"aaxis\": {\"gridcolor\": \"white\", \"linecolor\": \"white\", \"ticks\": \"\"}, \"baxis\": {\"gridcolor\": \"white\", \"linecolor\": \"white\", \"ticks\": \"\"}, \"bgcolor\": \"#E5ECF6\", \"caxis\": {\"gridcolor\": \"white\", \"linecolor\": \"white\", \"ticks\": \"\"}}, \"title\": {\"x\": 0.05}, \"xaxis\": {\"automargin\": true, \"gridcolor\": \"white\", \"linecolor\": \"white\", \"ticks\": \"\", \"title\": {\"standoff\": 15}, \"zerolinecolor\": \"white\", \"zerolinewidth\": 2}, \"yaxis\": {\"automargin\": true, \"gridcolor\": \"white\", \"linecolor\": \"white\", \"ticks\": \"\", \"title\": {\"standoff\": 15}, \"zerolinecolor\": \"white\", \"zerolinewidth\": 2}}}, \"title\": {\"text\": \"2017 Top/Bottom Countries\"}, \"xaxis\": {\"anchor\": \"y\", \"domain\": [0.0, 1.0], \"title\": {\"text\": \"Happiness Score\"}}, \"yaxis\": {\"anchor\": \"x\", \"domain\": [0.0, 1.0], \"title\": {\"text\": \"Countries\"}}},                        {\"responsive\": true}                    ).then(function(){\n",
       "                            \n",
       "var gd = document.getElementById('d93cd6f9-5102-4120-ad94-24c49f23d8c4');\n",
       "var x = new MutationObserver(function (mutations, observer) {{\n",
       "        var display = window.getComputedStyle(gd).display;\n",
       "        if (!display || display === 'none') {{\n",
       "            console.log([gd, 'removed!']);\n",
       "            Plotly.purge(gd);\n",
       "            observer.disconnect();\n",
       "        }}\n",
       "}});\n",
       "\n",
       "// Listen for the removal of the full notebook cells\n",
       "var notebookContainer = gd.closest('#notebook-container');\n",
       "if (notebookContainer) {{\n",
       "    x.observe(notebookContainer, {childList: true});\n",
       "}}\n",
       "\n",
       "// Listen for the clearing of the current output cell\n",
       "var outputEl = gd.closest('.output');\n",
       "if (outputEl) {{\n",
       "    x.observe(outputEl, {childList: true});\n",
       "}}\n",
       "\n",
       "                        })                };                });            </script>        </div>"
      ]
     },
     "metadata": {},
     "output_type": "display_data"
    },
    {
     "data": {
      "application/vnd.plotly.v1+json": {
       "config": {
        "plotlyServerURL": "https://plot.ly"
       },
       "data": [
        {
         "alignmentgroup": "True",
         "hovertemplate": "Contributing Factors=Economy (GDP per Capita)<br>Happiness Score=%{x}<br>Countries=%{y}<extra></extra>",
         "legendgroup": "Economy (GDP per Capita)",
         "marker": {
          "color": "rgb(166,206,227)"
         },
         "name": "Economy (GDP per Capita)",
         "offsetgroup": "Economy (GDP per Capita)",
         "orientation": "h",
         "showlegend": true,
         "textposition": "auto",
         "type": "bar",
         "x": [
          0.091,
          0.455,
          0.442,
          0.332,
          0.6890000000000001,
          0.076,
          0.315,
          0.18600000000000003,
          1.0170000000000001,
          0.35700000000000004,
          1.34,
          1.355,
          1.268,
          1.33,
          1.361,
          1.42,
          1.3430000000000002,
          1.351,
          1.456,
          1.305
         ],
         "xaxis": "x",
         "y": [
          "Burundi",
          "Tanzania",
          "Yemen",
          "Rwanda",
          "Syria",
          "Liberia",
          "Haiti",
          "Malawi",
          "Botswana",
          "Zimbabwe",
          "Australia",
          "Sweden",
          "New Zealand",
          "Canada",
          "Netherlands",
          "Switzerland",
          "Iceland",
          "Denmark",
          "Norway",
          "Finland"
         ],
         "yaxis": "y"
        },
        {
         "alignmentgroup": "True",
         "hovertemplate": "Contributing Factors=Health (Life Expectancy)<br>Happiness Score=%{x}<br>Countries=%{y}<extra></extra>",
         "legendgroup": "Health (Life Expectancy)",
         "marker": {
          "color": "rgb(31,120,180)"
         },
         "name": "Health (Life Expectancy)",
         "offsetgroup": "Health (Life Expectancy)",
         "orientation": "h",
         "showlegend": true,
         "textposition": "auto",
         "type": "bar",
         "x": [
          0.145,
          0.381,
          0.34299999999999997,
          0.4,
          0.539,
          0.267,
          0.289,
          0.306,
          0.41700000000000004,
          0.248,
          0.91,
          0.9129999999999999,
          0.8759999999999999,
          0.8959999999999999,
          0.878,
          0.927,
          0.914,
          0.868,
          0.861,
          0.8740000000000001
         ],
         "xaxis": "x",
         "y": [
          "Burundi",
          "Tanzania",
          "Yemen",
          "Rwanda",
          "Syria",
          "Liberia",
          "Haiti",
          "Malawi",
          "Botswana",
          "Zimbabwe",
          "Australia",
          "Sweden",
          "New Zealand",
          "Canada",
          "Netherlands",
          "Switzerland",
          "Iceland",
          "Denmark",
          "Norway",
          "Finland"
         ],
         "yaxis": "y"
        },
        {
         "alignmentgroup": "True",
         "hovertemplate": "Contributing Factors=Generosity<br>Happiness Score=%{x}<br>Countries=%{y}<extra></extra>",
         "legendgroup": "Generosity",
         "marker": {
          "color": "rgb(178,223,138)"
         },
         "name": "Generosity",
         "offsetgroup": "Generosity",
         "orientation": "h",
         "showlegend": true,
         "textposition": "auto",
         "type": "bar",
         "x": [
          0.149,
          0.27,
          0.083,
          0.2,
          0.376,
          0.20600000000000002,
          0.392,
          0.21,
          0.042,
          0.132,
          0.361,
          0.285,
          0.365,
          0.321,
          0.33299999999999996,
          0.256,
          0.353,
          0.284,
          0.28600000000000003,
          0.20199999999999999
         ],
         "xaxis": "x",
         "y": [
          "Burundi",
          "Tanzania",
          "Yemen",
          "Rwanda",
          "Syria",
          "Liberia",
          "Haiti",
          "Malawi",
          "Botswana",
          "Zimbabwe",
          "Australia",
          "Sweden",
          "New Zealand",
          "Canada",
          "Netherlands",
          "Switzerland",
          "Iceland",
          "Denmark",
          "Norway",
          "Finland"
         ],
         "yaxis": "y"
        },
        {
         "alignmentgroup": "True",
         "hovertemplate": "Contributing Factors=Freedom<br>Happiness Score=%{x}<br>Countries=%{y}<extra></extra>",
         "legendgroup": "Freedom",
         "marker": {
          "color": "rgb(51,160,44)"
         },
         "name": "Freedom",
         "offsetgroup": "Freedom",
         "orientation": "h",
         "showlegend": true,
         "textposition": "auto",
         "type": "bar",
         "x": [
          0.065,
          0.48100000000000004,
          0.244,
          0.636,
          0.08800000000000001,
          0.419,
          0.025,
          0.531,
          0.557,
          0.406,
          0.647,
          0.659,
          0.669,
          0.653,
          0.638,
          0.66,
          0.677,
          0.6829999999999999,
          0.6859999999999999,
          0.6809999999999999
         ],
         "xaxis": "x",
         "y": [
          "Burundi",
          "Tanzania",
          "Yemen",
          "Rwanda",
          "Syria",
          "Liberia",
          "Haiti",
          "Malawi",
          "Botswana",
          "Zimbabwe",
          "Australia",
          "Sweden",
          "New Zealand",
          "Canada",
          "Netherlands",
          "Switzerland",
          "Iceland",
          "Denmark",
          "Norway",
          "Finland"
         ],
         "yaxis": "y"
        },
        {
         "alignmentgroup": "True",
         "hovertemplate": "Contributing Factors=Trust (Government Corruption)<br>Happiness Score=%{x}<br>Countries=%{y}<extra></extra>",
         "legendgroup": "Trust (Government Corruption)",
         "marker": {
          "color": "rgb(251,154,153)"
         },
         "name": "Trust (Government Corruption)",
         "offsetgroup": "Trust (Government Corruption)",
         "orientation": "h",
         "showlegend": true,
         "textposition": "auto",
         "type": "bar",
         "x": [
          0.076,
          0.09699999999999999,
          0.064,
          0.444,
          0.14400000000000002,
          0.03,
          0.10400000000000001,
          0.08,
          0.092,
          0.099,
          0.302,
          0.38299999999999995,
          0.389,
          0.29100000000000004,
          0.295,
          0.35700000000000004,
          0.138,
          0.408,
          0.34,
          0.39299999999999996
         ],
         "xaxis": "x",
         "y": [
          "Burundi",
          "Tanzania",
          "Yemen",
          "Rwanda",
          "Syria",
          "Liberia",
          "Haiti",
          "Malawi",
          "Botswana",
          "Zimbabwe",
          "Australia",
          "Sweden",
          "New Zealand",
          "Canada",
          "Netherlands",
          "Switzerland",
          "Iceland",
          "Denmark",
          "Norway",
          "Finland"
         ],
         "yaxis": "y"
        }
       ],
       "layout": {
        "barmode": "stack",
        "legend": {
         "title": {
          "text": "Contributing Factors"
         },
         "tracegroupgap": 0
        },
        "template": {
         "data": {
          "bar": [
           {
            "error_x": {
             "color": "#2a3f5f"
            },
            "error_y": {
             "color": "#2a3f5f"
            },
            "marker": {
             "line": {
              "color": "#E5ECF6",
              "width": 0.5
             }
            },
            "type": "bar"
           }
          ],
          "barpolar": [
           {
            "marker": {
             "line": {
              "color": "#E5ECF6",
              "width": 0.5
             }
            },
            "type": "barpolar"
           }
          ],
          "carpet": [
           {
            "aaxis": {
             "endlinecolor": "#2a3f5f",
             "gridcolor": "white",
             "linecolor": "white",
             "minorgridcolor": "white",
             "startlinecolor": "#2a3f5f"
            },
            "baxis": {
             "endlinecolor": "#2a3f5f",
             "gridcolor": "white",
             "linecolor": "white",
             "minorgridcolor": "white",
             "startlinecolor": "#2a3f5f"
            },
            "type": "carpet"
           }
          ],
          "choropleth": [
           {
            "colorbar": {
             "outlinewidth": 0,
             "ticks": ""
            },
            "type": "choropleth"
           }
          ],
          "contour": [
           {
            "colorbar": {
             "outlinewidth": 0,
             "ticks": ""
            },
            "colorscale": [
             [
              0,
              "#0d0887"
             ],
             [
              0.1111111111111111,
              "#46039f"
             ],
             [
              0.2222222222222222,
              "#7201a8"
             ],
             [
              0.3333333333333333,
              "#9c179e"
             ],
             [
              0.4444444444444444,
              "#bd3786"
             ],
             [
              0.5555555555555556,
              "#d8576b"
             ],
             [
              0.6666666666666666,
              "#ed7953"
             ],
             [
              0.7777777777777778,
              "#fb9f3a"
             ],
             [
              0.8888888888888888,
              "#fdca26"
             ],
             [
              1,
              "#f0f921"
             ]
            ],
            "type": "contour"
           }
          ],
          "contourcarpet": [
           {
            "colorbar": {
             "outlinewidth": 0,
             "ticks": ""
            },
            "type": "contourcarpet"
           }
          ],
          "heatmap": [
           {
            "colorbar": {
             "outlinewidth": 0,
             "ticks": ""
            },
            "colorscale": [
             [
              0,
              "#0d0887"
             ],
             [
              0.1111111111111111,
              "#46039f"
             ],
             [
              0.2222222222222222,
              "#7201a8"
             ],
             [
              0.3333333333333333,
              "#9c179e"
             ],
             [
              0.4444444444444444,
              "#bd3786"
             ],
             [
              0.5555555555555556,
              "#d8576b"
             ],
             [
              0.6666666666666666,
              "#ed7953"
             ],
             [
              0.7777777777777778,
              "#fb9f3a"
             ],
             [
              0.8888888888888888,
              "#fdca26"
             ],
             [
              1,
              "#f0f921"
             ]
            ],
            "type": "heatmap"
           }
          ],
          "heatmapgl": [
           {
            "colorbar": {
             "outlinewidth": 0,
             "ticks": ""
            },
            "colorscale": [
             [
              0,
              "#0d0887"
             ],
             [
              0.1111111111111111,
              "#46039f"
             ],
             [
              0.2222222222222222,
              "#7201a8"
             ],
             [
              0.3333333333333333,
              "#9c179e"
             ],
             [
              0.4444444444444444,
              "#bd3786"
             ],
             [
              0.5555555555555556,
              "#d8576b"
             ],
             [
              0.6666666666666666,
              "#ed7953"
             ],
             [
              0.7777777777777778,
              "#fb9f3a"
             ],
             [
              0.8888888888888888,
              "#fdca26"
             ],
             [
              1,
              "#f0f921"
             ]
            ],
            "type": "heatmapgl"
           }
          ],
          "histogram": [
           {
            "marker": {
             "colorbar": {
              "outlinewidth": 0,
              "ticks": ""
             }
            },
            "type": "histogram"
           }
          ],
          "histogram2d": [
           {
            "colorbar": {
             "outlinewidth": 0,
             "ticks": ""
            },
            "colorscale": [
             [
              0,
              "#0d0887"
             ],
             [
              0.1111111111111111,
              "#46039f"
             ],
             [
              0.2222222222222222,
              "#7201a8"
             ],
             [
              0.3333333333333333,
              "#9c179e"
             ],
             [
              0.4444444444444444,
              "#bd3786"
             ],
             [
              0.5555555555555556,
              "#d8576b"
             ],
             [
              0.6666666666666666,
              "#ed7953"
             ],
             [
              0.7777777777777778,
              "#fb9f3a"
             ],
             [
              0.8888888888888888,
              "#fdca26"
             ],
             [
              1,
              "#f0f921"
             ]
            ],
            "type": "histogram2d"
           }
          ],
          "histogram2dcontour": [
           {
            "colorbar": {
             "outlinewidth": 0,
             "ticks": ""
            },
            "colorscale": [
             [
              0,
              "#0d0887"
             ],
             [
              0.1111111111111111,
              "#46039f"
             ],
             [
              0.2222222222222222,
              "#7201a8"
             ],
             [
              0.3333333333333333,
              "#9c179e"
             ],
             [
              0.4444444444444444,
              "#bd3786"
             ],
             [
              0.5555555555555556,
              "#d8576b"
             ],
             [
              0.6666666666666666,
              "#ed7953"
             ],
             [
              0.7777777777777778,
              "#fb9f3a"
             ],
             [
              0.8888888888888888,
              "#fdca26"
             ],
             [
              1,
              "#f0f921"
             ]
            ],
            "type": "histogram2dcontour"
           }
          ],
          "mesh3d": [
           {
            "colorbar": {
             "outlinewidth": 0,
             "ticks": ""
            },
            "type": "mesh3d"
           }
          ],
          "parcoords": [
           {
            "line": {
             "colorbar": {
              "outlinewidth": 0,
              "ticks": ""
             }
            },
            "type": "parcoords"
           }
          ],
          "pie": [
           {
            "automargin": true,
            "type": "pie"
           }
          ],
          "scatter": [
           {
            "marker": {
             "colorbar": {
              "outlinewidth": 0,
              "ticks": ""
             }
            },
            "type": "scatter"
           }
          ],
          "scatter3d": [
           {
            "line": {
             "colorbar": {
              "outlinewidth": 0,
              "ticks": ""
             }
            },
            "marker": {
             "colorbar": {
              "outlinewidth": 0,
              "ticks": ""
             }
            },
            "type": "scatter3d"
           }
          ],
          "scattercarpet": [
           {
            "marker": {
             "colorbar": {
              "outlinewidth": 0,
              "ticks": ""
             }
            },
            "type": "scattercarpet"
           }
          ],
          "scattergeo": [
           {
            "marker": {
             "colorbar": {
              "outlinewidth": 0,
              "ticks": ""
             }
            },
            "type": "scattergeo"
           }
          ],
          "scattergl": [
           {
            "marker": {
             "colorbar": {
              "outlinewidth": 0,
              "ticks": ""
             }
            },
            "type": "scattergl"
           }
          ],
          "scattermapbox": [
           {
            "marker": {
             "colorbar": {
              "outlinewidth": 0,
              "ticks": ""
             }
            },
            "type": "scattermapbox"
           }
          ],
          "scatterpolar": [
           {
            "marker": {
             "colorbar": {
              "outlinewidth": 0,
              "ticks": ""
             }
            },
            "type": "scatterpolar"
           }
          ],
          "scatterpolargl": [
           {
            "marker": {
             "colorbar": {
              "outlinewidth": 0,
              "ticks": ""
             }
            },
            "type": "scatterpolargl"
           }
          ],
          "scatterternary": [
           {
            "marker": {
             "colorbar": {
              "outlinewidth": 0,
              "ticks": ""
             }
            },
            "type": "scatterternary"
           }
          ],
          "surface": [
           {
            "colorbar": {
             "outlinewidth": 0,
             "ticks": ""
            },
            "colorscale": [
             [
              0,
              "#0d0887"
             ],
             [
              0.1111111111111111,
              "#46039f"
             ],
             [
              0.2222222222222222,
              "#7201a8"
             ],
             [
              0.3333333333333333,
              "#9c179e"
             ],
             [
              0.4444444444444444,
              "#bd3786"
             ],
             [
              0.5555555555555556,
              "#d8576b"
             ],
             [
              0.6666666666666666,
              "#ed7953"
             ],
             [
              0.7777777777777778,
              "#fb9f3a"
             ],
             [
              0.8888888888888888,
              "#fdca26"
             ],
             [
              1,
              "#f0f921"
             ]
            ],
            "type": "surface"
           }
          ],
          "table": [
           {
            "cells": {
             "fill": {
              "color": "#EBF0F8"
             },
             "line": {
              "color": "white"
             }
            },
            "header": {
             "fill": {
              "color": "#C8D4E3"
             },
             "line": {
              "color": "white"
             }
            },
            "type": "table"
           }
          ]
         },
         "layout": {
          "annotationdefaults": {
           "arrowcolor": "#2a3f5f",
           "arrowhead": 0,
           "arrowwidth": 1
          },
          "autotypenumbers": "strict",
          "coloraxis": {
           "colorbar": {
            "outlinewidth": 0,
            "ticks": ""
           }
          },
          "colorscale": {
           "diverging": [
            [
             0,
             "#8e0152"
            ],
            [
             0.1,
             "#c51b7d"
            ],
            [
             0.2,
             "#de77ae"
            ],
            [
             0.3,
             "#f1b6da"
            ],
            [
             0.4,
             "#fde0ef"
            ],
            [
             0.5,
             "#f7f7f7"
            ],
            [
             0.6,
             "#e6f5d0"
            ],
            [
             0.7,
             "#b8e186"
            ],
            [
             0.8,
             "#7fbc41"
            ],
            [
             0.9,
             "#4d9221"
            ],
            [
             1,
             "#276419"
            ]
           ],
           "sequential": [
            [
             0,
             "#0d0887"
            ],
            [
             0.1111111111111111,
             "#46039f"
            ],
            [
             0.2222222222222222,
             "#7201a8"
            ],
            [
             0.3333333333333333,
             "#9c179e"
            ],
            [
             0.4444444444444444,
             "#bd3786"
            ],
            [
             0.5555555555555556,
             "#d8576b"
            ],
            [
             0.6666666666666666,
             "#ed7953"
            ],
            [
             0.7777777777777778,
             "#fb9f3a"
            ],
            [
             0.8888888888888888,
             "#fdca26"
            ],
            [
             1,
             "#f0f921"
            ]
           ],
           "sequentialminus": [
            [
             0,
             "#0d0887"
            ],
            [
             0.1111111111111111,
             "#46039f"
            ],
            [
             0.2222222222222222,
             "#7201a8"
            ],
            [
             0.3333333333333333,
             "#9c179e"
            ],
            [
             0.4444444444444444,
             "#bd3786"
            ],
            [
             0.5555555555555556,
             "#d8576b"
            ],
            [
             0.6666666666666666,
             "#ed7953"
            ],
            [
             0.7777777777777778,
             "#fb9f3a"
            ],
            [
             0.8888888888888888,
             "#fdca26"
            ],
            [
             1,
             "#f0f921"
            ]
           ]
          },
          "colorway": [
           "#636efa",
           "#EF553B",
           "#00cc96",
           "#ab63fa",
           "#FFA15A",
           "#19d3f3",
           "#FF6692",
           "#B6E880",
           "#FF97FF",
           "#FECB52"
          ],
          "font": {
           "color": "#2a3f5f"
          },
          "geo": {
           "bgcolor": "white",
           "lakecolor": "white",
           "landcolor": "#E5ECF6",
           "showlakes": true,
           "showland": true,
           "subunitcolor": "white"
          },
          "hoverlabel": {
           "align": "left"
          },
          "hovermode": "closest",
          "mapbox": {
           "style": "light"
          },
          "paper_bgcolor": "white",
          "plot_bgcolor": "#E5ECF6",
          "polar": {
           "angularaxis": {
            "gridcolor": "white",
            "linecolor": "white",
            "ticks": ""
           },
           "bgcolor": "#E5ECF6",
           "radialaxis": {
            "gridcolor": "white",
            "linecolor": "white",
            "ticks": ""
           }
          },
          "scene": {
           "xaxis": {
            "backgroundcolor": "#E5ECF6",
            "gridcolor": "white",
            "gridwidth": 2,
            "linecolor": "white",
            "showbackground": true,
            "ticks": "",
            "zerolinecolor": "white"
           },
           "yaxis": {
            "backgroundcolor": "#E5ECF6",
            "gridcolor": "white",
            "gridwidth": 2,
            "linecolor": "white",
            "showbackground": true,
            "ticks": "",
            "zerolinecolor": "white"
           },
           "zaxis": {
            "backgroundcolor": "#E5ECF6",
            "gridcolor": "white",
            "gridwidth": 2,
            "linecolor": "white",
            "showbackground": true,
            "ticks": "",
            "zerolinecolor": "white"
           }
          },
          "shapedefaults": {
           "line": {
            "color": "#2a3f5f"
           }
          },
          "ternary": {
           "aaxis": {
            "gridcolor": "white",
            "linecolor": "white",
            "ticks": ""
           },
           "baxis": {
            "gridcolor": "white",
            "linecolor": "white",
            "ticks": ""
           },
           "bgcolor": "#E5ECF6",
           "caxis": {
            "gridcolor": "white",
            "linecolor": "white",
            "ticks": ""
           }
          },
          "title": {
           "x": 0.05
          },
          "xaxis": {
           "automargin": true,
           "gridcolor": "white",
           "linecolor": "white",
           "ticks": "",
           "title": {
            "standoff": 15
           },
           "zerolinecolor": "white",
           "zerolinewidth": 2
          },
          "yaxis": {
           "automargin": true,
           "gridcolor": "white",
           "linecolor": "white",
           "ticks": "",
           "title": {
            "standoff": 15
           },
           "zerolinecolor": "white",
           "zerolinewidth": 2
          }
         }
        },
        "title": {
         "text": "2018 Top/Bottom Countries"
        },
        "xaxis": {
         "anchor": "y",
         "domain": [
          0,
          1
         ],
         "title": {
          "text": "Happiness Score"
         }
        },
        "yaxis": {
         "anchor": "x",
         "domain": [
          0,
          1
         ],
         "title": {
          "text": "Countries"
         }
        }
       }
      },
      "text/html": [
       "<div>                            <div id=\"1d5b3627-c454-4e19-b2e0-51dfdb8c1a76\" class=\"plotly-graph-div\" style=\"height:525px; width:100%;\"></div>            <script type=\"text/javascript\">                require([\"plotly\"], function(Plotly) {                    window.PLOTLYENV=window.PLOTLYENV || {};                                    if (document.getElementById(\"1d5b3627-c454-4e19-b2e0-51dfdb8c1a76\")) {                    Plotly.newPlot(                        \"1d5b3627-c454-4e19-b2e0-51dfdb8c1a76\",                        [{\"alignmentgroup\": \"True\", \"hovertemplate\": \"Contributing Factors=Economy (GDP per Capita)<br>Happiness Score=%{x}<br>Countries=%{y}<extra></extra>\", \"legendgroup\": \"Economy (GDP per Capita)\", \"marker\": {\"color\": \"rgb(166,206,227)\"}, \"name\": \"Economy (GDP per Capita)\", \"offsetgroup\": \"Economy (GDP per Capita)\", \"orientation\": \"h\", \"showlegend\": true, \"textposition\": \"auto\", \"type\": \"bar\", \"x\": [0.091, 0.455, 0.442, 0.332, 0.6890000000000001, 0.076, 0.315, 0.18600000000000003, 1.0170000000000001, 0.35700000000000004, 1.34, 1.355, 1.268, 1.33, 1.361, 1.42, 1.3430000000000002, 1.351, 1.456, 1.305], \"xaxis\": \"x\", \"y\": [\"Burundi\", \"Tanzania\", \"Yemen\", \"Rwanda\", \"Syria\", \"Liberia\", \"Haiti\", \"Malawi\", \"Botswana\", \"Zimbabwe\", \"Australia\", \"Sweden\", \"New Zealand\", \"Canada\", \"Netherlands\", \"Switzerland\", \"Iceland\", \"Denmark\", \"Norway\", \"Finland\"], \"yaxis\": \"y\"}, {\"alignmentgroup\": \"True\", \"hovertemplate\": \"Contributing Factors=Health (Life Expectancy)<br>Happiness Score=%{x}<br>Countries=%{y}<extra></extra>\", \"legendgroup\": \"Health (Life Expectancy)\", \"marker\": {\"color\": \"rgb(31,120,180)\"}, \"name\": \"Health (Life Expectancy)\", \"offsetgroup\": \"Health (Life Expectancy)\", \"orientation\": \"h\", \"showlegend\": true, \"textposition\": \"auto\", \"type\": \"bar\", \"x\": [0.145, 0.381, 0.34299999999999997, 0.4, 0.539, 0.267, 0.289, 0.306, 0.41700000000000004, 0.248, 0.91, 0.9129999999999999, 0.8759999999999999, 0.8959999999999999, 0.878, 0.927, 0.914, 0.868, 0.861, 0.8740000000000001], \"xaxis\": \"x\", \"y\": [\"Burundi\", \"Tanzania\", \"Yemen\", \"Rwanda\", \"Syria\", \"Liberia\", \"Haiti\", \"Malawi\", \"Botswana\", \"Zimbabwe\", \"Australia\", \"Sweden\", \"New Zealand\", \"Canada\", \"Netherlands\", \"Switzerland\", \"Iceland\", \"Denmark\", \"Norway\", \"Finland\"], \"yaxis\": \"y\"}, {\"alignmentgroup\": \"True\", \"hovertemplate\": \"Contributing Factors=Generosity<br>Happiness Score=%{x}<br>Countries=%{y}<extra></extra>\", \"legendgroup\": \"Generosity\", \"marker\": {\"color\": \"rgb(178,223,138)\"}, \"name\": \"Generosity\", \"offsetgroup\": \"Generosity\", \"orientation\": \"h\", \"showlegend\": true, \"textposition\": \"auto\", \"type\": \"bar\", \"x\": [0.149, 0.27, 0.083, 0.2, 0.376, 0.20600000000000002, 0.392, 0.21, 0.042, 0.132, 0.361, 0.285, 0.365, 0.321, 0.33299999999999996, 0.256, 0.353, 0.284, 0.28600000000000003, 0.20199999999999999], \"xaxis\": \"x\", \"y\": [\"Burundi\", \"Tanzania\", \"Yemen\", \"Rwanda\", \"Syria\", \"Liberia\", \"Haiti\", \"Malawi\", \"Botswana\", \"Zimbabwe\", \"Australia\", \"Sweden\", \"New Zealand\", \"Canada\", \"Netherlands\", \"Switzerland\", \"Iceland\", \"Denmark\", \"Norway\", \"Finland\"], \"yaxis\": \"y\"}, {\"alignmentgroup\": \"True\", \"hovertemplate\": \"Contributing Factors=Freedom<br>Happiness Score=%{x}<br>Countries=%{y}<extra></extra>\", \"legendgroup\": \"Freedom\", \"marker\": {\"color\": \"rgb(51,160,44)\"}, \"name\": \"Freedom\", \"offsetgroup\": \"Freedom\", \"orientation\": \"h\", \"showlegend\": true, \"textposition\": \"auto\", \"type\": \"bar\", \"x\": [0.065, 0.48100000000000004, 0.244, 0.636, 0.08800000000000001, 0.419, 0.025, 0.531, 0.557, 0.406, 0.647, 0.659, 0.669, 0.653, 0.638, 0.66, 0.677, 0.6829999999999999, 0.6859999999999999, 0.6809999999999999], \"xaxis\": \"x\", \"y\": [\"Burundi\", \"Tanzania\", \"Yemen\", \"Rwanda\", \"Syria\", \"Liberia\", \"Haiti\", \"Malawi\", \"Botswana\", \"Zimbabwe\", \"Australia\", \"Sweden\", \"New Zealand\", \"Canada\", \"Netherlands\", \"Switzerland\", \"Iceland\", \"Denmark\", \"Norway\", \"Finland\"], \"yaxis\": \"y\"}, {\"alignmentgroup\": \"True\", \"hovertemplate\": \"Contributing Factors=Trust (Government Corruption)<br>Happiness Score=%{x}<br>Countries=%{y}<extra></extra>\", \"legendgroup\": \"Trust (Government Corruption)\", \"marker\": {\"color\": \"rgb(251,154,153)\"}, \"name\": \"Trust (Government Corruption)\", \"offsetgroup\": \"Trust (Government Corruption)\", \"orientation\": \"h\", \"showlegend\": true, \"textposition\": \"auto\", \"type\": \"bar\", \"x\": [0.076, 0.09699999999999999, 0.064, 0.444, 0.14400000000000002, 0.03, 0.10400000000000001, 0.08, 0.092, 0.099, 0.302, 0.38299999999999995, 0.389, 0.29100000000000004, 0.295, 0.35700000000000004, 0.138, 0.408, 0.34, 0.39299999999999996], \"xaxis\": \"x\", \"y\": [\"Burundi\", \"Tanzania\", \"Yemen\", \"Rwanda\", \"Syria\", \"Liberia\", \"Haiti\", \"Malawi\", \"Botswana\", \"Zimbabwe\", \"Australia\", \"Sweden\", \"New Zealand\", \"Canada\", \"Netherlands\", \"Switzerland\", \"Iceland\", \"Denmark\", \"Norway\", \"Finland\"], \"yaxis\": \"y\"}],                        {\"barmode\": \"stack\", \"legend\": {\"title\": {\"text\": \"Contributing Factors\"}, \"tracegroupgap\": 0}, \"template\": {\"data\": {\"bar\": [{\"error_x\": {\"color\": \"#2a3f5f\"}, \"error_y\": {\"color\": \"#2a3f5f\"}, \"marker\": {\"line\": {\"color\": \"#E5ECF6\", \"width\": 0.5}}, \"type\": \"bar\"}], \"barpolar\": [{\"marker\": {\"line\": {\"color\": \"#E5ECF6\", \"width\": 0.5}}, \"type\": \"barpolar\"}], \"carpet\": [{\"aaxis\": {\"endlinecolor\": \"#2a3f5f\", \"gridcolor\": \"white\", \"linecolor\": \"white\", \"minorgridcolor\": \"white\", \"startlinecolor\": \"#2a3f5f\"}, \"baxis\": {\"endlinecolor\": \"#2a3f5f\", \"gridcolor\": \"white\", \"linecolor\": \"white\", \"minorgridcolor\": \"white\", \"startlinecolor\": \"#2a3f5f\"}, \"type\": \"carpet\"}], \"choropleth\": [{\"colorbar\": {\"outlinewidth\": 0, \"ticks\": \"\"}, \"type\": \"choropleth\"}], \"contour\": [{\"colorbar\": {\"outlinewidth\": 0, \"ticks\": \"\"}, \"colorscale\": [[0.0, \"#0d0887\"], [0.1111111111111111, \"#46039f\"], [0.2222222222222222, \"#7201a8\"], [0.3333333333333333, \"#9c179e\"], [0.4444444444444444, \"#bd3786\"], [0.5555555555555556, \"#d8576b\"], [0.6666666666666666, \"#ed7953\"], [0.7777777777777778, \"#fb9f3a\"], [0.8888888888888888, \"#fdca26\"], [1.0, \"#f0f921\"]], \"type\": \"contour\"}], \"contourcarpet\": [{\"colorbar\": {\"outlinewidth\": 0, \"ticks\": \"\"}, \"type\": \"contourcarpet\"}], \"heatmap\": [{\"colorbar\": {\"outlinewidth\": 0, \"ticks\": \"\"}, \"colorscale\": [[0.0, \"#0d0887\"], [0.1111111111111111, \"#46039f\"], [0.2222222222222222, \"#7201a8\"], [0.3333333333333333, \"#9c179e\"], [0.4444444444444444, \"#bd3786\"], [0.5555555555555556, \"#d8576b\"], [0.6666666666666666, \"#ed7953\"], [0.7777777777777778, \"#fb9f3a\"], [0.8888888888888888, \"#fdca26\"], [1.0, \"#f0f921\"]], \"type\": \"heatmap\"}], \"heatmapgl\": [{\"colorbar\": {\"outlinewidth\": 0, \"ticks\": \"\"}, \"colorscale\": [[0.0, \"#0d0887\"], [0.1111111111111111, \"#46039f\"], [0.2222222222222222, \"#7201a8\"], [0.3333333333333333, \"#9c179e\"], [0.4444444444444444, \"#bd3786\"], [0.5555555555555556, \"#d8576b\"], [0.6666666666666666, \"#ed7953\"], [0.7777777777777778, \"#fb9f3a\"], [0.8888888888888888, \"#fdca26\"], [1.0, \"#f0f921\"]], \"type\": \"heatmapgl\"}], \"histogram\": [{\"marker\": {\"colorbar\": {\"outlinewidth\": 0, \"ticks\": \"\"}}, \"type\": \"histogram\"}], \"histogram2d\": [{\"colorbar\": {\"outlinewidth\": 0, \"ticks\": \"\"}, \"colorscale\": [[0.0, \"#0d0887\"], [0.1111111111111111, \"#46039f\"], [0.2222222222222222, \"#7201a8\"], [0.3333333333333333, \"#9c179e\"], [0.4444444444444444, \"#bd3786\"], [0.5555555555555556, \"#d8576b\"], [0.6666666666666666, \"#ed7953\"], [0.7777777777777778, \"#fb9f3a\"], [0.8888888888888888, \"#fdca26\"], [1.0, \"#f0f921\"]], \"type\": \"histogram2d\"}], \"histogram2dcontour\": [{\"colorbar\": {\"outlinewidth\": 0, \"ticks\": \"\"}, \"colorscale\": [[0.0, \"#0d0887\"], [0.1111111111111111, \"#46039f\"], [0.2222222222222222, \"#7201a8\"], [0.3333333333333333, \"#9c179e\"], [0.4444444444444444, \"#bd3786\"], [0.5555555555555556, \"#d8576b\"], [0.6666666666666666, \"#ed7953\"], [0.7777777777777778, \"#fb9f3a\"], [0.8888888888888888, \"#fdca26\"], [1.0, \"#f0f921\"]], \"type\": \"histogram2dcontour\"}], \"mesh3d\": [{\"colorbar\": {\"outlinewidth\": 0, \"ticks\": \"\"}, \"type\": \"mesh3d\"}], \"parcoords\": [{\"line\": {\"colorbar\": {\"outlinewidth\": 0, \"ticks\": \"\"}}, \"type\": \"parcoords\"}], \"pie\": [{\"automargin\": true, \"type\": \"pie\"}], \"scatter\": [{\"marker\": {\"colorbar\": {\"outlinewidth\": 0, \"ticks\": \"\"}}, \"type\": \"scatter\"}], \"scatter3d\": [{\"line\": {\"colorbar\": {\"outlinewidth\": 0, \"ticks\": \"\"}}, \"marker\": {\"colorbar\": {\"outlinewidth\": 0, \"ticks\": \"\"}}, \"type\": \"scatter3d\"}], \"scattercarpet\": [{\"marker\": {\"colorbar\": {\"outlinewidth\": 0, \"ticks\": \"\"}}, \"type\": \"scattercarpet\"}], \"scattergeo\": [{\"marker\": {\"colorbar\": {\"outlinewidth\": 0, \"ticks\": \"\"}}, \"type\": \"scattergeo\"}], \"scattergl\": [{\"marker\": {\"colorbar\": {\"outlinewidth\": 0, \"ticks\": \"\"}}, \"type\": \"scattergl\"}], \"scattermapbox\": [{\"marker\": {\"colorbar\": {\"outlinewidth\": 0, \"ticks\": \"\"}}, \"type\": \"scattermapbox\"}], \"scatterpolar\": [{\"marker\": {\"colorbar\": {\"outlinewidth\": 0, \"ticks\": \"\"}}, \"type\": \"scatterpolar\"}], \"scatterpolargl\": [{\"marker\": {\"colorbar\": {\"outlinewidth\": 0, \"ticks\": \"\"}}, \"type\": \"scatterpolargl\"}], \"scatterternary\": [{\"marker\": {\"colorbar\": {\"outlinewidth\": 0, \"ticks\": \"\"}}, \"type\": \"scatterternary\"}], \"surface\": [{\"colorbar\": {\"outlinewidth\": 0, \"ticks\": \"\"}, \"colorscale\": [[0.0, \"#0d0887\"], [0.1111111111111111, \"#46039f\"], [0.2222222222222222, \"#7201a8\"], [0.3333333333333333, \"#9c179e\"], [0.4444444444444444, \"#bd3786\"], [0.5555555555555556, \"#d8576b\"], [0.6666666666666666, \"#ed7953\"], [0.7777777777777778, \"#fb9f3a\"], [0.8888888888888888, \"#fdca26\"], [1.0, \"#f0f921\"]], \"type\": \"surface\"}], \"table\": [{\"cells\": {\"fill\": {\"color\": \"#EBF0F8\"}, \"line\": {\"color\": \"white\"}}, \"header\": {\"fill\": {\"color\": \"#C8D4E3\"}, \"line\": {\"color\": \"white\"}}, \"type\": \"table\"}]}, \"layout\": {\"annotationdefaults\": {\"arrowcolor\": \"#2a3f5f\", \"arrowhead\": 0, \"arrowwidth\": 1}, \"autotypenumbers\": \"strict\", \"coloraxis\": {\"colorbar\": {\"outlinewidth\": 0, \"ticks\": \"\"}}, \"colorscale\": {\"diverging\": [[0, \"#8e0152\"], [0.1, \"#c51b7d\"], [0.2, \"#de77ae\"], [0.3, \"#f1b6da\"], [0.4, \"#fde0ef\"], [0.5, \"#f7f7f7\"], [0.6, \"#e6f5d0\"], [0.7, \"#b8e186\"], [0.8, \"#7fbc41\"], [0.9, \"#4d9221\"], [1, \"#276419\"]], \"sequential\": [[0.0, \"#0d0887\"], [0.1111111111111111, \"#46039f\"], [0.2222222222222222, \"#7201a8\"], [0.3333333333333333, \"#9c179e\"], [0.4444444444444444, \"#bd3786\"], [0.5555555555555556, \"#d8576b\"], [0.6666666666666666, \"#ed7953\"], [0.7777777777777778, \"#fb9f3a\"], [0.8888888888888888, \"#fdca26\"], [1.0, \"#f0f921\"]], \"sequentialminus\": [[0.0, \"#0d0887\"], [0.1111111111111111, \"#46039f\"], [0.2222222222222222, \"#7201a8\"], [0.3333333333333333, \"#9c179e\"], [0.4444444444444444, \"#bd3786\"], [0.5555555555555556, \"#d8576b\"], [0.6666666666666666, \"#ed7953\"], [0.7777777777777778, \"#fb9f3a\"], [0.8888888888888888, \"#fdca26\"], [1.0, \"#f0f921\"]]}, \"colorway\": [\"#636efa\", \"#EF553B\", \"#00cc96\", \"#ab63fa\", \"#FFA15A\", \"#19d3f3\", \"#FF6692\", \"#B6E880\", \"#FF97FF\", \"#FECB52\"], \"font\": {\"color\": \"#2a3f5f\"}, \"geo\": {\"bgcolor\": \"white\", \"lakecolor\": \"white\", \"landcolor\": \"#E5ECF6\", \"showlakes\": true, \"showland\": true, \"subunitcolor\": \"white\"}, \"hoverlabel\": {\"align\": \"left\"}, \"hovermode\": \"closest\", \"mapbox\": {\"style\": \"light\"}, \"paper_bgcolor\": \"white\", \"plot_bgcolor\": \"#E5ECF6\", \"polar\": {\"angularaxis\": {\"gridcolor\": \"white\", \"linecolor\": \"white\", \"ticks\": \"\"}, \"bgcolor\": \"#E5ECF6\", \"radialaxis\": {\"gridcolor\": \"white\", \"linecolor\": \"white\", \"ticks\": \"\"}}, \"scene\": {\"xaxis\": {\"backgroundcolor\": \"#E5ECF6\", \"gridcolor\": \"white\", \"gridwidth\": 2, \"linecolor\": \"white\", \"showbackground\": true, \"ticks\": \"\", \"zerolinecolor\": \"white\"}, \"yaxis\": {\"backgroundcolor\": \"#E5ECF6\", \"gridcolor\": \"white\", \"gridwidth\": 2, \"linecolor\": \"white\", \"showbackground\": true, \"ticks\": \"\", \"zerolinecolor\": \"white\"}, \"zaxis\": {\"backgroundcolor\": \"#E5ECF6\", \"gridcolor\": \"white\", \"gridwidth\": 2, \"linecolor\": \"white\", \"showbackground\": true, \"ticks\": \"\", \"zerolinecolor\": \"white\"}}, \"shapedefaults\": {\"line\": {\"color\": \"#2a3f5f\"}}, \"ternary\": {\"aaxis\": {\"gridcolor\": \"white\", \"linecolor\": \"white\", \"ticks\": \"\"}, \"baxis\": {\"gridcolor\": \"white\", \"linecolor\": \"white\", \"ticks\": \"\"}, \"bgcolor\": \"#E5ECF6\", \"caxis\": {\"gridcolor\": \"white\", \"linecolor\": \"white\", \"ticks\": \"\"}}, \"title\": {\"x\": 0.05}, \"xaxis\": {\"automargin\": true, \"gridcolor\": \"white\", \"linecolor\": \"white\", \"ticks\": \"\", \"title\": {\"standoff\": 15}, \"zerolinecolor\": \"white\", \"zerolinewidth\": 2}, \"yaxis\": {\"automargin\": true, \"gridcolor\": \"white\", \"linecolor\": \"white\", \"ticks\": \"\", \"title\": {\"standoff\": 15}, \"zerolinecolor\": \"white\", \"zerolinewidth\": 2}}}, \"title\": {\"text\": \"2018 Top/Bottom Countries\"}, \"xaxis\": {\"anchor\": \"y\", \"domain\": [0.0, 1.0], \"title\": {\"text\": \"Happiness Score\"}}, \"yaxis\": {\"anchor\": \"x\", \"domain\": [0.0, 1.0], \"title\": {\"text\": \"Countries\"}}},                        {\"responsive\": true}                    ).then(function(){\n",
       "                            \n",
       "var gd = document.getElementById('1d5b3627-c454-4e19-b2e0-51dfdb8c1a76');\n",
       "var x = new MutationObserver(function (mutations, observer) {{\n",
       "        var display = window.getComputedStyle(gd).display;\n",
       "        if (!display || display === 'none') {{\n",
       "            console.log([gd, 'removed!']);\n",
       "            Plotly.purge(gd);\n",
       "            observer.disconnect();\n",
       "        }}\n",
       "}});\n",
       "\n",
       "// Listen for the removal of the full notebook cells\n",
       "var notebookContainer = gd.closest('#notebook-container');\n",
       "if (notebookContainer) {{\n",
       "    x.observe(notebookContainer, {childList: true});\n",
       "}}\n",
       "\n",
       "// Listen for the clearing of the current output cell\n",
       "var outputEl = gd.closest('.output');\n",
       "if (outputEl) {{\n",
       "    x.observe(outputEl, {childList: true});\n",
       "}}\n",
       "\n",
       "                        })                };                });            </script>        </div>"
      ]
     },
     "metadata": {},
     "output_type": "display_data"
    },
    {
     "data": {
      "application/vnd.plotly.v1+json": {
       "config": {
        "plotlyServerURL": "https://plot.ly"
       },
       "data": [
        {
         "alignmentgroup": "True",
         "hovertemplate": "Contributing Factors=Economy (GDP per Capita)<br>Happiness Score=%{x}<br>Countries=%{y}<extra></extra>",
         "legendgroup": "Economy (GDP per Capita)",
         "marker": {
          "color": "rgb(166,206,227)"
         },
         "name": "Economy (GDP per Capita)",
         "offsetgroup": "Economy (GDP per Capita)",
         "orientation": "h",
         "showlegend": true,
         "textposition": "auto",
         "type": "bar",
         "x": [
          0.47600000000000003,
          0.359,
          0.287,
          0.191,
          0.619,
          1.041,
          0.32299999999999995,
          0.366,
          0.046,
          0.27399999999999997,
          1.376,
          1.365,
          1.3030000000000002,
          1.3869999999999998,
          1.452,
          1.396,
          1.38,
          1.4880000000000002,
          1.383,
          1.34
         ],
         "xaxis": "x",
         "y": [
          "Tanzania",
          "Rwanda",
          "Yemen",
          "Malawi",
          "Syria",
          "Botswana",
          "Haiti",
          "Zimbabwe",
          "Burundi",
          "Madagascar",
          "Austria",
          "Canada",
          "New Zealand",
          "Sweden",
          "Switzerland",
          "Netherlands",
          "Iceland",
          "Norway",
          "Denmark",
          "Finland"
         ],
         "yaxis": "y"
        },
        {
         "alignmentgroup": "True",
         "hovertemplate": "Contributing Factors=Health (Life Expectancy)<br>Happiness Score=%{x}<br>Countries=%{y}<extra></extra>",
         "legendgroup": "Health (Life Expectancy)",
         "marker": {
          "color": "rgb(31,120,180)"
         },
         "name": "Health (Life Expectancy)",
         "offsetgroup": "Health (Life Expectancy)",
         "orientation": "h",
         "showlegend": true,
         "textposition": "auto",
         "type": "bar",
         "x": [
          0.499,
          0.614,
          0.46299999999999997,
          0.495,
          0.44,
          0.5379999999999999,
          0.449,
          0.433,
          0.38,
          0.555,
          1.016,
          1.0390000000000001,
          1.026,
          1.0090000000000001,
          1.052,
          0.9990000000000001,
          1.026,
          1.028,
          0.996,
          0.986
         ],
         "xaxis": "x",
         "y": [
          "Tanzania",
          "Rwanda",
          "Yemen",
          "Malawi",
          "Syria",
          "Botswana",
          "Haiti",
          "Zimbabwe",
          "Burundi",
          "Madagascar",
          "Austria",
          "Canada",
          "New Zealand",
          "Sweden",
          "Switzerland",
          "Netherlands",
          "Iceland",
          "Norway",
          "Denmark",
          "Finland"
         ],
         "yaxis": "y"
        },
        {
         "alignmentgroup": "True",
         "hovertemplate": "Contributing Factors=Generosity<br>Happiness Score=%{x}<br>Countries=%{y}<extra></extra>",
         "legendgroup": "Generosity",
         "marker": {
          "color": "rgb(178,223,138)"
         },
         "name": "Generosity",
         "offsetgroup": "Generosity",
         "orientation": "h",
         "showlegend": true,
         "textposition": "auto",
         "type": "bar",
         "x": [
          0.276,
          0.217,
          0.10800000000000001,
          0.218,
          0.331,
          0.025,
          0.419,
          0.151,
          0.17600000000000002,
          0.16899999999999998,
          0.244,
          0.285,
          0.33,
          0.267,
          0.263,
          0.322,
          0.354,
          0.271,
          0.252,
          0.153
         ],
         "xaxis": "x",
         "y": [
          "Tanzania",
          "Rwanda",
          "Yemen",
          "Malawi",
          "Syria",
          "Botswana",
          "Haiti",
          "Zimbabwe",
          "Burundi",
          "Madagascar",
          "Austria",
          "Canada",
          "New Zealand",
          "Sweden",
          "Switzerland",
          "Netherlands",
          "Iceland",
          "Norway",
          "Denmark",
          "Finland"
         ],
         "yaxis": "y"
        },
        {
         "alignmentgroup": "True",
         "hovertemplate": "Contributing Factors=Freedom<br>Happiness Score=%{x}<br>Countries=%{y}<extra></extra>",
         "legendgroup": "Freedom",
         "marker": {
          "color": "rgb(51,160,44)"
         },
         "name": "Freedom",
         "offsetgroup": "Freedom",
         "orientation": "h",
         "showlegend": true,
         "textposition": "auto",
         "type": "bar",
         "x": [
          0.41700000000000004,
          0.555,
          0.14300000000000002,
          0.44299999999999995,
          0.013000000000000001,
          0.455,
          0.026000000000000002,
          0.361,
          0.22,
          0.14800000000000002,
          0.532,
          0.584,
          0.585,
          0.574,
          0.5720000000000001,
          0.557,
          0.591,
          0.603,
          0.5920000000000001,
          0.596
         ],
         "xaxis": "x",
         "y": [
          "Tanzania",
          "Rwanda",
          "Yemen",
          "Malawi",
          "Syria",
          "Botswana",
          "Haiti",
          "Zimbabwe",
          "Burundi",
          "Madagascar",
          "Austria",
          "Canada",
          "New Zealand",
          "Sweden",
          "Switzerland",
          "Netherlands",
          "Iceland",
          "Norway",
          "Denmark",
          "Finland"
         ],
         "yaxis": "y"
        },
        {
         "alignmentgroup": "True",
         "hovertemplate": "Contributing Factors=Trust (Government Corruption)<br>Happiness Score=%{x}<br>Countries=%{y}<extra></extra>",
         "legendgroup": "Trust (Government Corruption)",
         "marker": {
          "color": "rgb(251,154,153)"
         },
         "name": "Trust (Government Corruption)",
         "offsetgroup": "Trust (Government Corruption)",
         "orientation": "h",
         "showlegend": true,
         "textposition": "auto",
         "type": "bar",
         "x": [
          0.147,
          0.41100000000000003,
          0.077,
          0.08900000000000001,
          0.141,
          0.1,
          0.11,
          0.08900000000000001,
          0.18,
          0.040999999999999995,
          0.226,
          0.308,
          0.38,
          0.373,
          0.34299999999999997,
          0.298,
          0.11800000000000001,
          0.341,
          0.41,
          0.39299999999999996
         ],
         "xaxis": "x",
         "y": [
          "Tanzania",
          "Rwanda",
          "Yemen",
          "Malawi",
          "Syria",
          "Botswana",
          "Haiti",
          "Zimbabwe",
          "Burundi",
          "Madagascar",
          "Austria",
          "Canada",
          "New Zealand",
          "Sweden",
          "Switzerland",
          "Netherlands",
          "Iceland",
          "Norway",
          "Denmark",
          "Finland"
         ],
         "yaxis": "y"
        }
       ],
       "layout": {
        "barmode": "stack",
        "legend": {
         "title": {
          "text": "Contributing Factors"
         },
         "tracegroupgap": 0
        },
        "template": {
         "data": {
          "bar": [
           {
            "error_x": {
             "color": "#2a3f5f"
            },
            "error_y": {
             "color": "#2a3f5f"
            },
            "marker": {
             "line": {
              "color": "#E5ECF6",
              "width": 0.5
             }
            },
            "type": "bar"
           }
          ],
          "barpolar": [
           {
            "marker": {
             "line": {
              "color": "#E5ECF6",
              "width": 0.5
             }
            },
            "type": "barpolar"
           }
          ],
          "carpet": [
           {
            "aaxis": {
             "endlinecolor": "#2a3f5f",
             "gridcolor": "white",
             "linecolor": "white",
             "minorgridcolor": "white",
             "startlinecolor": "#2a3f5f"
            },
            "baxis": {
             "endlinecolor": "#2a3f5f",
             "gridcolor": "white",
             "linecolor": "white",
             "minorgridcolor": "white",
             "startlinecolor": "#2a3f5f"
            },
            "type": "carpet"
           }
          ],
          "choropleth": [
           {
            "colorbar": {
             "outlinewidth": 0,
             "ticks": ""
            },
            "type": "choropleth"
           }
          ],
          "contour": [
           {
            "colorbar": {
             "outlinewidth": 0,
             "ticks": ""
            },
            "colorscale": [
             [
              0,
              "#0d0887"
             ],
             [
              0.1111111111111111,
              "#46039f"
             ],
             [
              0.2222222222222222,
              "#7201a8"
             ],
             [
              0.3333333333333333,
              "#9c179e"
             ],
             [
              0.4444444444444444,
              "#bd3786"
             ],
             [
              0.5555555555555556,
              "#d8576b"
             ],
             [
              0.6666666666666666,
              "#ed7953"
             ],
             [
              0.7777777777777778,
              "#fb9f3a"
             ],
             [
              0.8888888888888888,
              "#fdca26"
             ],
             [
              1,
              "#f0f921"
             ]
            ],
            "type": "contour"
           }
          ],
          "contourcarpet": [
           {
            "colorbar": {
             "outlinewidth": 0,
             "ticks": ""
            },
            "type": "contourcarpet"
           }
          ],
          "heatmap": [
           {
            "colorbar": {
             "outlinewidth": 0,
             "ticks": ""
            },
            "colorscale": [
             [
              0,
              "#0d0887"
             ],
             [
              0.1111111111111111,
              "#46039f"
             ],
             [
              0.2222222222222222,
              "#7201a8"
             ],
             [
              0.3333333333333333,
              "#9c179e"
             ],
             [
              0.4444444444444444,
              "#bd3786"
             ],
             [
              0.5555555555555556,
              "#d8576b"
             ],
             [
              0.6666666666666666,
              "#ed7953"
             ],
             [
              0.7777777777777778,
              "#fb9f3a"
             ],
             [
              0.8888888888888888,
              "#fdca26"
             ],
             [
              1,
              "#f0f921"
             ]
            ],
            "type": "heatmap"
           }
          ],
          "heatmapgl": [
           {
            "colorbar": {
             "outlinewidth": 0,
             "ticks": ""
            },
            "colorscale": [
             [
              0,
              "#0d0887"
             ],
             [
              0.1111111111111111,
              "#46039f"
             ],
             [
              0.2222222222222222,
              "#7201a8"
             ],
             [
              0.3333333333333333,
              "#9c179e"
             ],
             [
              0.4444444444444444,
              "#bd3786"
             ],
             [
              0.5555555555555556,
              "#d8576b"
             ],
             [
              0.6666666666666666,
              "#ed7953"
             ],
             [
              0.7777777777777778,
              "#fb9f3a"
             ],
             [
              0.8888888888888888,
              "#fdca26"
             ],
             [
              1,
              "#f0f921"
             ]
            ],
            "type": "heatmapgl"
           }
          ],
          "histogram": [
           {
            "marker": {
             "colorbar": {
              "outlinewidth": 0,
              "ticks": ""
             }
            },
            "type": "histogram"
           }
          ],
          "histogram2d": [
           {
            "colorbar": {
             "outlinewidth": 0,
             "ticks": ""
            },
            "colorscale": [
             [
              0,
              "#0d0887"
             ],
             [
              0.1111111111111111,
              "#46039f"
             ],
             [
              0.2222222222222222,
              "#7201a8"
             ],
             [
              0.3333333333333333,
              "#9c179e"
             ],
             [
              0.4444444444444444,
              "#bd3786"
             ],
             [
              0.5555555555555556,
              "#d8576b"
             ],
             [
              0.6666666666666666,
              "#ed7953"
             ],
             [
              0.7777777777777778,
              "#fb9f3a"
             ],
             [
              0.8888888888888888,
              "#fdca26"
             ],
             [
              1,
              "#f0f921"
             ]
            ],
            "type": "histogram2d"
           }
          ],
          "histogram2dcontour": [
           {
            "colorbar": {
             "outlinewidth": 0,
             "ticks": ""
            },
            "colorscale": [
             [
              0,
              "#0d0887"
             ],
             [
              0.1111111111111111,
              "#46039f"
             ],
             [
              0.2222222222222222,
              "#7201a8"
             ],
             [
              0.3333333333333333,
              "#9c179e"
             ],
             [
              0.4444444444444444,
              "#bd3786"
             ],
             [
              0.5555555555555556,
              "#d8576b"
             ],
             [
              0.6666666666666666,
              "#ed7953"
             ],
             [
              0.7777777777777778,
              "#fb9f3a"
             ],
             [
              0.8888888888888888,
              "#fdca26"
             ],
             [
              1,
              "#f0f921"
             ]
            ],
            "type": "histogram2dcontour"
           }
          ],
          "mesh3d": [
           {
            "colorbar": {
             "outlinewidth": 0,
             "ticks": ""
            },
            "type": "mesh3d"
           }
          ],
          "parcoords": [
           {
            "line": {
             "colorbar": {
              "outlinewidth": 0,
              "ticks": ""
             }
            },
            "type": "parcoords"
           }
          ],
          "pie": [
           {
            "automargin": true,
            "type": "pie"
           }
          ],
          "scatter": [
           {
            "marker": {
             "colorbar": {
              "outlinewidth": 0,
              "ticks": ""
             }
            },
            "type": "scatter"
           }
          ],
          "scatter3d": [
           {
            "line": {
             "colorbar": {
              "outlinewidth": 0,
              "ticks": ""
             }
            },
            "marker": {
             "colorbar": {
              "outlinewidth": 0,
              "ticks": ""
             }
            },
            "type": "scatter3d"
           }
          ],
          "scattercarpet": [
           {
            "marker": {
             "colorbar": {
              "outlinewidth": 0,
              "ticks": ""
             }
            },
            "type": "scattercarpet"
           }
          ],
          "scattergeo": [
           {
            "marker": {
             "colorbar": {
              "outlinewidth": 0,
              "ticks": ""
             }
            },
            "type": "scattergeo"
           }
          ],
          "scattergl": [
           {
            "marker": {
             "colorbar": {
              "outlinewidth": 0,
              "ticks": ""
             }
            },
            "type": "scattergl"
           }
          ],
          "scattermapbox": [
           {
            "marker": {
             "colorbar": {
              "outlinewidth": 0,
              "ticks": ""
             }
            },
            "type": "scattermapbox"
           }
          ],
          "scatterpolar": [
           {
            "marker": {
             "colorbar": {
              "outlinewidth": 0,
              "ticks": ""
             }
            },
            "type": "scatterpolar"
           }
          ],
          "scatterpolargl": [
           {
            "marker": {
             "colorbar": {
              "outlinewidth": 0,
              "ticks": ""
             }
            },
            "type": "scatterpolargl"
           }
          ],
          "scatterternary": [
           {
            "marker": {
             "colorbar": {
              "outlinewidth": 0,
              "ticks": ""
             }
            },
            "type": "scatterternary"
           }
          ],
          "surface": [
           {
            "colorbar": {
             "outlinewidth": 0,
             "ticks": ""
            },
            "colorscale": [
             [
              0,
              "#0d0887"
             ],
             [
              0.1111111111111111,
              "#46039f"
             ],
             [
              0.2222222222222222,
              "#7201a8"
             ],
             [
              0.3333333333333333,
              "#9c179e"
             ],
             [
              0.4444444444444444,
              "#bd3786"
             ],
             [
              0.5555555555555556,
              "#d8576b"
             ],
             [
              0.6666666666666666,
              "#ed7953"
             ],
             [
              0.7777777777777778,
              "#fb9f3a"
             ],
             [
              0.8888888888888888,
              "#fdca26"
             ],
             [
              1,
              "#f0f921"
             ]
            ],
            "type": "surface"
           }
          ],
          "table": [
           {
            "cells": {
             "fill": {
              "color": "#EBF0F8"
             },
             "line": {
              "color": "white"
             }
            },
            "header": {
             "fill": {
              "color": "#C8D4E3"
             },
             "line": {
              "color": "white"
             }
            },
            "type": "table"
           }
          ]
         },
         "layout": {
          "annotationdefaults": {
           "arrowcolor": "#2a3f5f",
           "arrowhead": 0,
           "arrowwidth": 1
          },
          "autotypenumbers": "strict",
          "coloraxis": {
           "colorbar": {
            "outlinewidth": 0,
            "ticks": ""
           }
          },
          "colorscale": {
           "diverging": [
            [
             0,
             "#8e0152"
            ],
            [
             0.1,
             "#c51b7d"
            ],
            [
             0.2,
             "#de77ae"
            ],
            [
             0.3,
             "#f1b6da"
            ],
            [
             0.4,
             "#fde0ef"
            ],
            [
             0.5,
             "#f7f7f7"
            ],
            [
             0.6,
             "#e6f5d0"
            ],
            [
             0.7,
             "#b8e186"
            ],
            [
             0.8,
             "#7fbc41"
            ],
            [
             0.9,
             "#4d9221"
            ],
            [
             1,
             "#276419"
            ]
           ],
           "sequential": [
            [
             0,
             "#0d0887"
            ],
            [
             0.1111111111111111,
             "#46039f"
            ],
            [
             0.2222222222222222,
             "#7201a8"
            ],
            [
             0.3333333333333333,
             "#9c179e"
            ],
            [
             0.4444444444444444,
             "#bd3786"
            ],
            [
             0.5555555555555556,
             "#d8576b"
            ],
            [
             0.6666666666666666,
             "#ed7953"
            ],
            [
             0.7777777777777778,
             "#fb9f3a"
            ],
            [
             0.8888888888888888,
             "#fdca26"
            ],
            [
             1,
             "#f0f921"
            ]
           ],
           "sequentialminus": [
            [
             0,
             "#0d0887"
            ],
            [
             0.1111111111111111,
             "#46039f"
            ],
            [
             0.2222222222222222,
             "#7201a8"
            ],
            [
             0.3333333333333333,
             "#9c179e"
            ],
            [
             0.4444444444444444,
             "#bd3786"
            ],
            [
             0.5555555555555556,
             "#d8576b"
            ],
            [
             0.6666666666666666,
             "#ed7953"
            ],
            [
             0.7777777777777778,
             "#fb9f3a"
            ],
            [
             0.8888888888888888,
             "#fdca26"
            ],
            [
             1,
             "#f0f921"
            ]
           ]
          },
          "colorway": [
           "#636efa",
           "#EF553B",
           "#00cc96",
           "#ab63fa",
           "#FFA15A",
           "#19d3f3",
           "#FF6692",
           "#B6E880",
           "#FF97FF",
           "#FECB52"
          ],
          "font": {
           "color": "#2a3f5f"
          },
          "geo": {
           "bgcolor": "white",
           "lakecolor": "white",
           "landcolor": "#E5ECF6",
           "showlakes": true,
           "showland": true,
           "subunitcolor": "white"
          },
          "hoverlabel": {
           "align": "left"
          },
          "hovermode": "closest",
          "mapbox": {
           "style": "light"
          },
          "paper_bgcolor": "white",
          "plot_bgcolor": "#E5ECF6",
          "polar": {
           "angularaxis": {
            "gridcolor": "white",
            "linecolor": "white",
            "ticks": ""
           },
           "bgcolor": "#E5ECF6",
           "radialaxis": {
            "gridcolor": "white",
            "linecolor": "white",
            "ticks": ""
           }
          },
          "scene": {
           "xaxis": {
            "backgroundcolor": "#E5ECF6",
            "gridcolor": "white",
            "gridwidth": 2,
            "linecolor": "white",
            "showbackground": true,
            "ticks": "",
            "zerolinecolor": "white"
           },
           "yaxis": {
            "backgroundcolor": "#E5ECF6",
            "gridcolor": "white",
            "gridwidth": 2,
            "linecolor": "white",
            "showbackground": true,
            "ticks": "",
            "zerolinecolor": "white"
           },
           "zaxis": {
            "backgroundcolor": "#E5ECF6",
            "gridcolor": "white",
            "gridwidth": 2,
            "linecolor": "white",
            "showbackground": true,
            "ticks": "",
            "zerolinecolor": "white"
           }
          },
          "shapedefaults": {
           "line": {
            "color": "#2a3f5f"
           }
          },
          "ternary": {
           "aaxis": {
            "gridcolor": "white",
            "linecolor": "white",
            "ticks": ""
           },
           "baxis": {
            "gridcolor": "white",
            "linecolor": "white",
            "ticks": ""
           },
           "bgcolor": "#E5ECF6",
           "caxis": {
            "gridcolor": "white",
            "linecolor": "white",
            "ticks": ""
           }
          },
          "title": {
           "x": 0.05
          },
          "xaxis": {
           "automargin": true,
           "gridcolor": "white",
           "linecolor": "white",
           "ticks": "",
           "title": {
            "standoff": 15
           },
           "zerolinecolor": "white",
           "zerolinewidth": 2
          },
          "yaxis": {
           "automargin": true,
           "gridcolor": "white",
           "linecolor": "white",
           "ticks": "",
           "title": {
            "standoff": 15
           },
           "zerolinecolor": "white",
           "zerolinewidth": 2
          }
         }
        },
        "title": {
         "text": "2019 Top/Bottom Countries"
        },
        "xaxis": {
         "anchor": "y",
         "domain": [
          0,
          1
         ],
         "title": {
          "text": "Happiness Score"
         }
        },
        "yaxis": {
         "anchor": "x",
         "domain": [
          0,
          1
         ],
         "title": {
          "text": "Countries"
         }
        }
       }
      },
      "text/html": [
       "<div>                            <div id=\"976d30a4-2700-4b2b-81c0-b76b847acf4c\" class=\"plotly-graph-div\" style=\"height:525px; width:100%;\"></div>            <script type=\"text/javascript\">                require([\"plotly\"], function(Plotly) {                    window.PLOTLYENV=window.PLOTLYENV || {};                                    if (document.getElementById(\"976d30a4-2700-4b2b-81c0-b76b847acf4c\")) {                    Plotly.newPlot(                        \"976d30a4-2700-4b2b-81c0-b76b847acf4c\",                        [{\"alignmentgroup\": \"True\", \"hovertemplate\": \"Contributing Factors=Economy (GDP per Capita)<br>Happiness Score=%{x}<br>Countries=%{y}<extra></extra>\", \"legendgroup\": \"Economy (GDP per Capita)\", \"marker\": {\"color\": \"rgb(166,206,227)\"}, \"name\": \"Economy (GDP per Capita)\", \"offsetgroup\": \"Economy (GDP per Capita)\", \"orientation\": \"h\", \"showlegend\": true, \"textposition\": \"auto\", \"type\": \"bar\", \"x\": [0.47600000000000003, 0.359, 0.287, 0.191, 0.619, 1.041, 0.32299999999999995, 0.366, 0.046, 0.27399999999999997, 1.376, 1.365, 1.3030000000000002, 1.3869999999999998, 1.452, 1.396, 1.38, 1.4880000000000002, 1.383, 1.34], \"xaxis\": \"x\", \"y\": [\"Tanzania\", \"Rwanda\", \"Yemen\", \"Malawi\", \"Syria\", \"Botswana\", \"Haiti\", \"Zimbabwe\", \"Burundi\", \"Madagascar\", \"Austria\", \"Canada\", \"New Zealand\", \"Sweden\", \"Switzerland\", \"Netherlands\", \"Iceland\", \"Norway\", \"Denmark\", \"Finland\"], \"yaxis\": \"y\"}, {\"alignmentgroup\": \"True\", \"hovertemplate\": \"Contributing Factors=Health (Life Expectancy)<br>Happiness Score=%{x}<br>Countries=%{y}<extra></extra>\", \"legendgroup\": \"Health (Life Expectancy)\", \"marker\": {\"color\": \"rgb(31,120,180)\"}, \"name\": \"Health (Life Expectancy)\", \"offsetgroup\": \"Health (Life Expectancy)\", \"orientation\": \"h\", \"showlegend\": true, \"textposition\": \"auto\", \"type\": \"bar\", \"x\": [0.499, 0.614, 0.46299999999999997, 0.495, 0.44, 0.5379999999999999, 0.449, 0.433, 0.38, 0.555, 1.016, 1.0390000000000001, 1.026, 1.0090000000000001, 1.052, 0.9990000000000001, 1.026, 1.028, 0.996, 0.986], \"xaxis\": \"x\", \"y\": [\"Tanzania\", \"Rwanda\", \"Yemen\", \"Malawi\", \"Syria\", \"Botswana\", \"Haiti\", \"Zimbabwe\", \"Burundi\", \"Madagascar\", \"Austria\", \"Canada\", \"New Zealand\", \"Sweden\", \"Switzerland\", \"Netherlands\", \"Iceland\", \"Norway\", \"Denmark\", \"Finland\"], \"yaxis\": \"y\"}, {\"alignmentgroup\": \"True\", \"hovertemplate\": \"Contributing Factors=Generosity<br>Happiness Score=%{x}<br>Countries=%{y}<extra></extra>\", \"legendgroup\": \"Generosity\", \"marker\": {\"color\": \"rgb(178,223,138)\"}, \"name\": \"Generosity\", \"offsetgroup\": \"Generosity\", \"orientation\": \"h\", \"showlegend\": true, \"textposition\": \"auto\", \"type\": \"bar\", \"x\": [0.276, 0.217, 0.10800000000000001, 0.218, 0.331, 0.025, 0.419, 0.151, 0.17600000000000002, 0.16899999999999998, 0.244, 0.285, 0.33, 0.267, 0.263, 0.322, 0.354, 0.271, 0.252, 0.153], \"xaxis\": \"x\", \"y\": [\"Tanzania\", \"Rwanda\", \"Yemen\", \"Malawi\", \"Syria\", \"Botswana\", \"Haiti\", \"Zimbabwe\", \"Burundi\", \"Madagascar\", \"Austria\", \"Canada\", \"New Zealand\", \"Sweden\", \"Switzerland\", \"Netherlands\", \"Iceland\", \"Norway\", \"Denmark\", \"Finland\"], \"yaxis\": \"y\"}, {\"alignmentgroup\": \"True\", \"hovertemplate\": \"Contributing Factors=Freedom<br>Happiness Score=%{x}<br>Countries=%{y}<extra></extra>\", \"legendgroup\": \"Freedom\", \"marker\": {\"color\": \"rgb(51,160,44)\"}, \"name\": \"Freedom\", \"offsetgroup\": \"Freedom\", \"orientation\": \"h\", \"showlegend\": true, \"textposition\": \"auto\", \"type\": \"bar\", \"x\": [0.41700000000000004, 0.555, 0.14300000000000002, 0.44299999999999995, 0.013000000000000001, 0.455, 0.026000000000000002, 0.361, 0.22, 0.14800000000000002, 0.532, 0.584, 0.585, 0.574, 0.5720000000000001, 0.557, 0.591, 0.603, 0.5920000000000001, 0.596], \"xaxis\": \"x\", \"y\": [\"Tanzania\", \"Rwanda\", \"Yemen\", \"Malawi\", \"Syria\", \"Botswana\", \"Haiti\", \"Zimbabwe\", \"Burundi\", \"Madagascar\", \"Austria\", \"Canada\", \"New Zealand\", \"Sweden\", \"Switzerland\", \"Netherlands\", \"Iceland\", \"Norway\", \"Denmark\", \"Finland\"], \"yaxis\": \"y\"}, {\"alignmentgroup\": \"True\", \"hovertemplate\": \"Contributing Factors=Trust (Government Corruption)<br>Happiness Score=%{x}<br>Countries=%{y}<extra></extra>\", \"legendgroup\": \"Trust (Government Corruption)\", \"marker\": {\"color\": \"rgb(251,154,153)\"}, \"name\": \"Trust (Government Corruption)\", \"offsetgroup\": \"Trust (Government Corruption)\", \"orientation\": \"h\", \"showlegend\": true, \"textposition\": \"auto\", \"type\": \"bar\", \"x\": [0.147, 0.41100000000000003, 0.077, 0.08900000000000001, 0.141, 0.1, 0.11, 0.08900000000000001, 0.18, 0.040999999999999995, 0.226, 0.308, 0.38, 0.373, 0.34299999999999997, 0.298, 0.11800000000000001, 0.341, 0.41, 0.39299999999999996], \"xaxis\": \"x\", \"y\": [\"Tanzania\", \"Rwanda\", \"Yemen\", \"Malawi\", \"Syria\", \"Botswana\", \"Haiti\", \"Zimbabwe\", \"Burundi\", \"Madagascar\", \"Austria\", \"Canada\", \"New Zealand\", \"Sweden\", \"Switzerland\", \"Netherlands\", \"Iceland\", \"Norway\", \"Denmark\", \"Finland\"], \"yaxis\": \"y\"}],                        {\"barmode\": \"stack\", \"legend\": {\"title\": {\"text\": \"Contributing Factors\"}, \"tracegroupgap\": 0}, \"template\": {\"data\": {\"bar\": [{\"error_x\": {\"color\": \"#2a3f5f\"}, \"error_y\": {\"color\": \"#2a3f5f\"}, \"marker\": {\"line\": {\"color\": \"#E5ECF6\", \"width\": 0.5}}, \"type\": \"bar\"}], \"barpolar\": [{\"marker\": {\"line\": {\"color\": \"#E5ECF6\", \"width\": 0.5}}, \"type\": \"barpolar\"}], \"carpet\": [{\"aaxis\": {\"endlinecolor\": \"#2a3f5f\", \"gridcolor\": \"white\", \"linecolor\": \"white\", \"minorgridcolor\": \"white\", \"startlinecolor\": \"#2a3f5f\"}, \"baxis\": {\"endlinecolor\": \"#2a3f5f\", \"gridcolor\": \"white\", \"linecolor\": \"white\", \"minorgridcolor\": \"white\", \"startlinecolor\": \"#2a3f5f\"}, \"type\": \"carpet\"}], \"choropleth\": [{\"colorbar\": {\"outlinewidth\": 0, \"ticks\": \"\"}, \"type\": \"choropleth\"}], \"contour\": [{\"colorbar\": {\"outlinewidth\": 0, \"ticks\": \"\"}, \"colorscale\": [[0.0, \"#0d0887\"], [0.1111111111111111, \"#46039f\"], [0.2222222222222222, \"#7201a8\"], [0.3333333333333333, \"#9c179e\"], [0.4444444444444444, \"#bd3786\"], [0.5555555555555556, \"#d8576b\"], [0.6666666666666666, \"#ed7953\"], [0.7777777777777778, \"#fb9f3a\"], [0.8888888888888888, \"#fdca26\"], [1.0, \"#f0f921\"]], \"type\": \"contour\"}], \"contourcarpet\": [{\"colorbar\": {\"outlinewidth\": 0, \"ticks\": \"\"}, \"type\": \"contourcarpet\"}], \"heatmap\": [{\"colorbar\": {\"outlinewidth\": 0, \"ticks\": \"\"}, \"colorscale\": [[0.0, \"#0d0887\"], [0.1111111111111111, \"#46039f\"], [0.2222222222222222, \"#7201a8\"], [0.3333333333333333, \"#9c179e\"], [0.4444444444444444, \"#bd3786\"], [0.5555555555555556, \"#d8576b\"], [0.6666666666666666, \"#ed7953\"], [0.7777777777777778, \"#fb9f3a\"], [0.8888888888888888, \"#fdca26\"], [1.0, \"#f0f921\"]], \"type\": \"heatmap\"}], \"heatmapgl\": [{\"colorbar\": {\"outlinewidth\": 0, \"ticks\": \"\"}, \"colorscale\": [[0.0, \"#0d0887\"], [0.1111111111111111, \"#46039f\"], [0.2222222222222222, \"#7201a8\"], [0.3333333333333333, \"#9c179e\"], [0.4444444444444444, \"#bd3786\"], [0.5555555555555556, \"#d8576b\"], [0.6666666666666666, \"#ed7953\"], [0.7777777777777778, \"#fb9f3a\"], [0.8888888888888888, \"#fdca26\"], [1.0, \"#f0f921\"]], \"type\": \"heatmapgl\"}], \"histogram\": [{\"marker\": {\"colorbar\": {\"outlinewidth\": 0, \"ticks\": \"\"}}, \"type\": \"histogram\"}], \"histogram2d\": [{\"colorbar\": {\"outlinewidth\": 0, \"ticks\": \"\"}, \"colorscale\": [[0.0, \"#0d0887\"], [0.1111111111111111, \"#46039f\"], [0.2222222222222222, \"#7201a8\"], [0.3333333333333333, \"#9c179e\"], [0.4444444444444444, \"#bd3786\"], [0.5555555555555556, \"#d8576b\"], [0.6666666666666666, \"#ed7953\"], [0.7777777777777778, \"#fb9f3a\"], [0.8888888888888888, \"#fdca26\"], [1.0, \"#f0f921\"]], \"type\": \"histogram2d\"}], \"histogram2dcontour\": [{\"colorbar\": {\"outlinewidth\": 0, \"ticks\": \"\"}, \"colorscale\": [[0.0, \"#0d0887\"], [0.1111111111111111, \"#46039f\"], [0.2222222222222222, \"#7201a8\"], [0.3333333333333333, \"#9c179e\"], [0.4444444444444444, \"#bd3786\"], [0.5555555555555556, \"#d8576b\"], [0.6666666666666666, \"#ed7953\"], [0.7777777777777778, \"#fb9f3a\"], [0.8888888888888888, \"#fdca26\"], [1.0, \"#f0f921\"]], \"type\": \"histogram2dcontour\"}], \"mesh3d\": [{\"colorbar\": {\"outlinewidth\": 0, \"ticks\": \"\"}, \"type\": \"mesh3d\"}], \"parcoords\": [{\"line\": {\"colorbar\": {\"outlinewidth\": 0, \"ticks\": \"\"}}, \"type\": \"parcoords\"}], \"pie\": [{\"automargin\": true, \"type\": \"pie\"}], \"scatter\": [{\"marker\": {\"colorbar\": {\"outlinewidth\": 0, \"ticks\": \"\"}}, \"type\": \"scatter\"}], \"scatter3d\": [{\"line\": {\"colorbar\": {\"outlinewidth\": 0, \"ticks\": \"\"}}, \"marker\": {\"colorbar\": {\"outlinewidth\": 0, \"ticks\": \"\"}}, \"type\": \"scatter3d\"}], \"scattercarpet\": [{\"marker\": {\"colorbar\": {\"outlinewidth\": 0, \"ticks\": \"\"}}, \"type\": \"scattercarpet\"}], \"scattergeo\": [{\"marker\": {\"colorbar\": {\"outlinewidth\": 0, \"ticks\": \"\"}}, \"type\": \"scattergeo\"}], \"scattergl\": [{\"marker\": {\"colorbar\": {\"outlinewidth\": 0, \"ticks\": \"\"}}, \"type\": \"scattergl\"}], \"scattermapbox\": [{\"marker\": {\"colorbar\": {\"outlinewidth\": 0, \"ticks\": \"\"}}, \"type\": \"scattermapbox\"}], \"scatterpolar\": [{\"marker\": {\"colorbar\": {\"outlinewidth\": 0, \"ticks\": \"\"}}, \"type\": \"scatterpolar\"}], \"scatterpolargl\": [{\"marker\": {\"colorbar\": {\"outlinewidth\": 0, \"ticks\": \"\"}}, \"type\": \"scatterpolargl\"}], \"scatterternary\": [{\"marker\": {\"colorbar\": {\"outlinewidth\": 0, \"ticks\": \"\"}}, \"type\": \"scatterternary\"}], \"surface\": [{\"colorbar\": {\"outlinewidth\": 0, \"ticks\": \"\"}, \"colorscale\": [[0.0, \"#0d0887\"], [0.1111111111111111, \"#46039f\"], [0.2222222222222222, \"#7201a8\"], [0.3333333333333333, \"#9c179e\"], [0.4444444444444444, \"#bd3786\"], [0.5555555555555556, \"#d8576b\"], [0.6666666666666666, \"#ed7953\"], [0.7777777777777778, \"#fb9f3a\"], [0.8888888888888888, \"#fdca26\"], [1.0, \"#f0f921\"]], \"type\": \"surface\"}], \"table\": [{\"cells\": {\"fill\": {\"color\": \"#EBF0F8\"}, \"line\": {\"color\": \"white\"}}, \"header\": {\"fill\": {\"color\": \"#C8D4E3\"}, \"line\": {\"color\": \"white\"}}, \"type\": \"table\"}]}, \"layout\": {\"annotationdefaults\": {\"arrowcolor\": \"#2a3f5f\", \"arrowhead\": 0, \"arrowwidth\": 1}, \"autotypenumbers\": \"strict\", \"coloraxis\": {\"colorbar\": {\"outlinewidth\": 0, \"ticks\": \"\"}}, \"colorscale\": {\"diverging\": [[0, \"#8e0152\"], [0.1, \"#c51b7d\"], [0.2, \"#de77ae\"], [0.3, \"#f1b6da\"], [0.4, \"#fde0ef\"], [0.5, \"#f7f7f7\"], [0.6, \"#e6f5d0\"], [0.7, \"#b8e186\"], [0.8, \"#7fbc41\"], [0.9, \"#4d9221\"], [1, \"#276419\"]], \"sequential\": [[0.0, \"#0d0887\"], [0.1111111111111111, \"#46039f\"], [0.2222222222222222, \"#7201a8\"], [0.3333333333333333, \"#9c179e\"], [0.4444444444444444, \"#bd3786\"], [0.5555555555555556, \"#d8576b\"], [0.6666666666666666, \"#ed7953\"], [0.7777777777777778, \"#fb9f3a\"], [0.8888888888888888, \"#fdca26\"], [1.0, \"#f0f921\"]], \"sequentialminus\": [[0.0, \"#0d0887\"], [0.1111111111111111, \"#46039f\"], [0.2222222222222222, \"#7201a8\"], [0.3333333333333333, \"#9c179e\"], [0.4444444444444444, \"#bd3786\"], [0.5555555555555556, \"#d8576b\"], [0.6666666666666666, \"#ed7953\"], [0.7777777777777778, \"#fb9f3a\"], [0.8888888888888888, \"#fdca26\"], [1.0, \"#f0f921\"]]}, \"colorway\": [\"#636efa\", \"#EF553B\", \"#00cc96\", \"#ab63fa\", \"#FFA15A\", \"#19d3f3\", \"#FF6692\", \"#B6E880\", \"#FF97FF\", \"#FECB52\"], \"font\": {\"color\": \"#2a3f5f\"}, \"geo\": {\"bgcolor\": \"white\", \"lakecolor\": \"white\", \"landcolor\": \"#E5ECF6\", \"showlakes\": true, \"showland\": true, \"subunitcolor\": \"white\"}, \"hoverlabel\": {\"align\": \"left\"}, \"hovermode\": \"closest\", \"mapbox\": {\"style\": \"light\"}, \"paper_bgcolor\": \"white\", \"plot_bgcolor\": \"#E5ECF6\", \"polar\": {\"angularaxis\": {\"gridcolor\": \"white\", \"linecolor\": \"white\", \"ticks\": \"\"}, \"bgcolor\": \"#E5ECF6\", \"radialaxis\": {\"gridcolor\": \"white\", \"linecolor\": \"white\", \"ticks\": \"\"}}, \"scene\": {\"xaxis\": {\"backgroundcolor\": \"#E5ECF6\", \"gridcolor\": \"white\", \"gridwidth\": 2, \"linecolor\": \"white\", \"showbackground\": true, \"ticks\": \"\", \"zerolinecolor\": \"white\"}, \"yaxis\": {\"backgroundcolor\": \"#E5ECF6\", \"gridcolor\": \"white\", \"gridwidth\": 2, \"linecolor\": \"white\", \"showbackground\": true, \"ticks\": \"\", \"zerolinecolor\": \"white\"}, \"zaxis\": {\"backgroundcolor\": \"#E5ECF6\", \"gridcolor\": \"white\", \"gridwidth\": 2, \"linecolor\": \"white\", \"showbackground\": true, \"ticks\": \"\", \"zerolinecolor\": \"white\"}}, \"shapedefaults\": {\"line\": {\"color\": \"#2a3f5f\"}}, \"ternary\": {\"aaxis\": {\"gridcolor\": \"white\", \"linecolor\": \"white\", \"ticks\": \"\"}, \"baxis\": {\"gridcolor\": \"white\", \"linecolor\": \"white\", \"ticks\": \"\"}, \"bgcolor\": \"#E5ECF6\", \"caxis\": {\"gridcolor\": \"white\", \"linecolor\": \"white\", \"ticks\": \"\"}}, \"title\": {\"x\": 0.05}, \"xaxis\": {\"automargin\": true, \"gridcolor\": \"white\", \"linecolor\": \"white\", \"ticks\": \"\", \"title\": {\"standoff\": 15}, \"zerolinecolor\": \"white\", \"zerolinewidth\": 2}, \"yaxis\": {\"automargin\": true, \"gridcolor\": \"white\", \"linecolor\": \"white\", \"ticks\": \"\", \"title\": {\"standoff\": 15}, \"zerolinecolor\": \"white\", \"zerolinewidth\": 2}}}, \"title\": {\"text\": \"2019 Top/Bottom Countries\"}, \"xaxis\": {\"anchor\": \"y\", \"domain\": [0.0, 1.0], \"title\": {\"text\": \"Happiness Score\"}}, \"yaxis\": {\"anchor\": \"x\", \"domain\": [0.0, 1.0], \"title\": {\"text\": \"Countries\"}}},                        {\"responsive\": true}                    ).then(function(){\n",
       "                            \n",
       "var gd = document.getElementById('976d30a4-2700-4b2b-81c0-b76b847acf4c');\n",
       "var x = new MutationObserver(function (mutations, observer) {{\n",
       "        var display = window.getComputedStyle(gd).display;\n",
       "        if (!display || display === 'none') {{\n",
       "            console.log([gd, 'removed!']);\n",
       "            Plotly.purge(gd);\n",
       "            observer.disconnect();\n",
       "        }}\n",
       "}});\n",
       "\n",
       "// Listen for the removal of the full notebook cells\n",
       "var notebookContainer = gd.closest('#notebook-container');\n",
       "if (notebookContainer) {{\n",
       "    x.observe(notebookContainer, {childList: true});\n",
       "}}\n",
       "\n",
       "// Listen for the clearing of the current output cell\n",
       "var outputEl = gd.closest('.output');\n",
       "if (outputEl) {{\n",
       "    x.observe(outputEl, {childList: true});\n",
       "}}\n",
       "\n",
       "                        })                };                });            </script>        </div>"
=======
     "output_type": "execute_result"
    },
    {
     "data": {
      "image/png": "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\n",
      "text/plain": [
       "<Figure size 432x288 with 1 Axes>"
      ]
     },
     "metadata": {
      "needs_background": "light"
     },
     "output_type": "display_data"
    }
   ],
=======
   "execution_count": null,
   "metadata": {},
   "outputs": [],
>>>>>>> Stashed changes
   "source": [
    "sns.barplot(x=\"score\",y=\"catogories\",data=high_df_melt, ci=None)\n",
    "plt.savefig(\"data/higher_bar_plot.png\")\n",
    "x = ['0','2','4','6','8' , '10' , '12' , '14','16']\n",
    "plt.xticks(np.arange(len(x)), x, rotation=0)"
   ]
  },
  {
   "cell_type": "code",
   "execution_count": null,
   "metadata": {},
   "outputs": [],
   "source": [
    "high_df_line=pd.DataFrame() \n",
    "for col in columns_needed:\n",
    "    try:\n",
    "        high_df_line[col]  = high_df.loc[:,(high_df.columns.str.match(col))&~(high_df.columns.str.contains(\"avg\"))].mean(axis=0).values\n",
    "    except:\n",
    "        print(col)\n",
    "high_df_line[\"year\"]=range(2015,2020)"
   ]
  },
  {
   "cell_type": "code",
   "execution_count": null,
   "metadata": {},
   "outputs": [],
   "source": [
    "high_df_line"
   ]
  },
  {
   "cell_type": "code",
   "execution_count": null,
   "metadata": {},
   "outputs": [],
   "source": [
    "high_df_line=pd.melt(high_df_line,id_vars=[\"year\"],value_vars=high_df_line.columns[high_df_line.columns!=\"year\"],var_name=\"catogories\",value_name=\"score\")\n",
    "high_df_line"
   ]
  },
  {
   "cell_type": "code",
   "execution_count": null,
   "metadata": {},
<<<<<<< Updated upstream
   "outputs": [
    {
     "data": {
      "image/png": "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\n",
      "text/plain": [
       "<Figure size 432x288 with 1 Axes>"
      ]
     },
     "metadata": {},
     "output_type": "display_data"
    }
   ],
=======
   "outputs": [],
>>>>>>> Stashed changes
   "source": [
    "# Creating empty dictionaries to contain top 10 and bottom 10 countries\n",
    "top_countries = {}\n",
    "bottom_countries = {}\n",
    "combined_countries = {}\n",
    "\n",
    "# Looping to get the dataframes for 5 years\n",
    "for year in years:\n",
    "    top_countries[year] = df[year].set_index('Country')\n",
    "    \n",
    "    # Getting the top 10 countries using loc\n",
    "    top_countries[year] = df[year].loc[:, ['Country',\n",
    "                                           'Economy (GDP per Capita)',\n",
    "                                           'Health (Life Expectancy)',\n",
    "                                           'Generosity', 'Freedom',\n",
    "                                           'Trust (Government Corruption)']].head(10)\n",
    "    \n",
    "    # Getting the bottom 10 countries using loc\n",
    "    bottom_countries[year] = df[year].loc[:, ['Country',\n",
    "                                           'Economy (GDP per Capita)',\n",
    "                                           'Health (Life Expectancy)',\n",
    "                                           'Generosity', 'Freedom',\n",
    "                                           'Trust (Government Corruption)']].tail(10)\n",
    "    \n",
    "    # Combining top and bottom countries\n",
    "    combined_countries[year] = pd.concat([bottom_countries[year][::-1],\n",
    "                                         top_countries[year][::-1]]).set_index('Country', drop=True)\n",
    "    \n",
    "    # Plot the figure\n",
    "    fig = px.bar(combined_countries[year], \n",
    "                 color_discrete_sequence = px.colors.colorbrewer.Paired, \n",
    "                 orientation = 'h', \n",
    "                 title = f'{year} Top/Bottom Countries', \n",
    "                 barmode = 'stack', \n",
    "                 labels = dict(Country=\"Countries\", \n",
    "                               value=\"Happiness Score\",\n",
    "                               variable = \"Contributing Factors\"))\n",
    "    \n",
    "    fig.show()"
   ]
  },
  {
   "cell_type": "code",
   "execution_count": null,
   "metadata": {},
   "outputs": [],
   "source": [
    "df"
   ]
  },
  {
   "cell_type": "code",
   "execution_count": null,
   "metadata": {},
   "outputs": [],
   "source": [
    "a = plt.figure(figsize =(10,6))\n",
    "heatmap_corr={}\n",
    "\n",
    "\n",
    "for year in years:\n",
    "    heatmap_corr[year] = df[year]\n",
    "    fig = plt.figure(figsize =(10,6))\n",
    "    print(f\"Correlational Heatmap - {year}\")\n",
    "    # Seaborn graph using heatmap\n",
    "    sns.heatmap(heatmap_corr[year].corr(), annot=True)\n",
    "    plt.show()"

    "sns.lineplot(data=high_df_line,x=\"year\",y=\"score\",hue=\"catogories\")\n",
    "plt.savefig(\"data/higher_line_plot.png\")"
   ]
  },
  {
   "cell_type": "code",
   "execution_count": null,
   "metadata": {},
   "outputs": [],
   "source": []
  },
  {
   "cell_type": "code",
   "execution_count": 34,
   "metadata": {},
   "outputs": [
    {
     "data": {
      "text/plain": [
       "{2015:      Happiness Rank  Happiness Score  Economy (GDP per Capita)  \\\n",
       " 0                 1            7.587                   1.39651   \n",
       " 1                 2            7.561                   1.30232   \n",
       " 2                 3            7.527                   1.32548   \n",
       " 3                 4            7.522                   1.45900   \n",
       " 4                 5            7.427                   1.32629   \n",
       " ..              ...              ...                       ...   \n",
       " 125             154            3.465                   0.22208   \n",
       " 126             155            3.340                   0.28665   \n",
       " 127             156            3.006                   0.66320   \n",
       " 128             157            2.905                   0.01530   \n",
       " 129             158            2.839                   0.20868   \n",
       " \n",
       "      Health (Life Expectancy)  Generosity  Freedom  \\\n",
       " 0                     0.94143     0.29678  0.66557   \n",
       " 1                     0.94784     0.43630  0.62877   \n",
       " 2                     0.87464     0.34139  0.64938   \n",
       " 3                     0.88521     0.34699  0.66973   \n",
       " 4                     0.90563     0.45811  0.63297   \n",
       " ..                        ...         ...      ...   \n",
       " 125                   0.42864     0.22628  0.59201   \n",
       " 126                   0.31910     0.18260  0.48450   \n",
       " 127                   0.72193     0.47179  0.15684   \n",
       " 128                   0.22396     0.19727  0.11850   \n",
       " 129                   0.28443     0.16681  0.36453   \n",
       " \n",
       "      Trust (Government Corruption)      Country  \n",
       " 0                          0.41978  Switzerland  \n",
       " 1                          0.14145      Iceland  \n",
       " 2                          0.48357      Denmark  \n",
       " 3                          0.36503       Norway  \n",
       " 4                          0.32957       Canada  \n",
       " ..                             ...          ...  \n",
       " 125                        0.55191       Rwanda  \n",
       " 126                        0.08010        Benin  \n",
       " 127                        0.18906        Syria  \n",
       " 128                        0.10062      Burundi  \n",
       " 129                        0.10731         Togo  \n",
       " \n",
       " [130 rows x 8 columns],\n",
       " 2016:      Happiness Rank  Happiness Score  Economy (GDP per Capita)  \\\n",
       " 2                 1            7.526                   1.44178   \n",
       " 0                 2            7.509                   1.52733   \n",
       " 1                 3            7.501                   1.42666   \n",
       " 3                 4            7.498                   1.57744   \n",
       " 5                 5            7.413                   1.40598   \n",
       " ..              ...              ...                       ...   \n",
       " 125             152            3.515                   0.32846   \n",
       " 126             153            3.484                   0.39499   \n",
       " 129             155            3.303                   0.28123   \n",
       " 127             156            3.069                   0.74719   \n",
       " 128             157            2.905                   0.06831   \n",
       " \n",
       "      Health (Life Expectancy)  Generosity  Freedom  \\\n",
       " 2                     0.79504     0.36171  0.57941   \n",
       " 0                     0.86303     0.28083  0.58557   \n",
       " 1                     0.86733     0.47678  0.56624   \n",
       " 3                     0.79579     0.37895  0.59609   \n",
       " 5                     0.81091     0.25492  0.57104   \n",
       " ..                        ...         ...      ...   \n",
       " 125                   0.31865     0.23552  0.54320   \n",
       " 126                   0.21028     0.20180  0.39747   \n",
       " 129                   0.24811     0.17517  0.34678   \n",
       " 127                   0.62994     0.48397  0.06912   \n",
       " 128                   0.15747     0.20290  0.04320   \n",
       " \n",
       "      Trust (Government Corruption)      Country  \n",
       " 2                          0.44453      Denmark  \n",
       " 0                          0.41203  Switzerland  \n",
       " 1                          0.14975      Iceland  \n",
       " 3                          0.35776       Norway  \n",
       " 5                          0.41004      Finland  \n",
       " ..                             ...          ...  \n",
       " 125                        0.50521       Rwanda  \n",
       " 126                        0.06681        Benin  \n",
       " 129                        0.11587         Togo  \n",
       " 127                        0.17233        Syria  \n",
       " 128                        0.09419      Burundi  \n",
       " \n",
       " [130 rows x 8 columns],\n",
       " 2017:      Happiness Rank  Happiness Score  Economy (GDP per Capita)  \\\n",
       " 3                 1            7.537                  1.616463   \n",
       " 2                 2            7.522                  1.482383   \n",
       " 1                 3            7.504                  1.480633   \n",
       " 0                 4            7.494                  1.564980   \n",
       " 5                 5            7.469                  1.443572   \n",
       " ..              ...              ...                       ...   \n",
       " 129             150            3.495                  0.305445   \n",
       " 125             151            3.471                  0.368746   \n",
       " 127             152            3.462                  0.777153   \n",
       " 120             153            3.349                  0.511136   \n",
       " 128             154            2.905                  0.091623   \n",
       " \n",
       "      Health (Life Expectancy)  Generosity   Freedom  \\\n",
       " 3                    0.796667    0.362012  0.635423   \n",
       " 2                    0.792566    0.355280  0.626007   \n",
       " 1                    0.833552    0.475540  0.627163   \n",
       " 0                    0.858131    0.290549  0.620071   \n",
       " 5                    0.809158    0.245483  0.617951   \n",
       " ..                        ...         ...       ...   \n",
       " 129                  0.247106    0.196896  0.380426   \n",
       " 125                  0.326425    0.252756  0.581844   \n",
       " 127                  0.500533    0.493664  0.081539   \n",
       " 120                  0.364509    0.354256  0.390018   \n",
       " 128                  0.151611    0.204435  0.059901   \n",
       " \n",
       "      Trust (Government Corruption)      Country  \n",
       " 3                         0.315964       Norway  \n",
       " 2                         0.400770      Denmark  \n",
       " 1                         0.153527      Iceland  \n",
       " 0                         0.367007  Switzerland  \n",
       " 5                         0.382612      Finland  \n",
       " ..                             ...          ...  \n",
       " 129                       0.095665         Togo  \n",
       " 125                       0.455220       Rwanda  \n",
       " 127                       0.151347        Syria  \n",
       " 120                       0.066035     Tanzania  \n",
       " 128                       0.084148      Burundi  \n",
       " \n",
       " [130 rows x 8 columns],\n",
       " 2018:      Happiness Rank  Happiness Score  Economy (GDP per Capita)  \\\n",
       " 5                 1            7.632                     1.305   \n",
       " 3                 2            7.594                     1.456   \n",
       " 2                 3            7.555                     1.351   \n",
       " 1                 4            7.495                     1.343   \n",
       " 0                 5            7.487                     1.420   \n",
       " ..              ...              ...                       ...   \n",
       " 127             150            3.462                     0.689   \n",
       " 125             151            3.408                     0.332   \n",
       " 114             152            3.355                     0.442   \n",
       " 120             153            3.303                     0.455   \n",
       " 128             156            2.905                     0.091   \n",
       " \n",
       "      Health (Life Expectancy)  Generosity  Freedom  \\\n",
       " 5                       0.874       0.202    0.681   \n",
       " 3                       0.861       0.286    0.686   \n",
       " 2                       0.868       0.284    0.683   \n",
       " 1                       0.914       0.353    0.677   \n",
       " 0                       0.927       0.256    0.660   \n",
       " ..                        ...         ...      ...   \n",
       " 127                     0.539       0.376    0.088   \n",
       " 125                     0.400       0.200    0.636   \n",
       " 114                     0.343       0.083    0.244   \n",
       " 120                     0.381       0.270    0.481   \n",
       " 128                     0.145       0.149    0.065   \n",
       " \n",
       "      Trust (Government Corruption)      Country  \n",
       " 5                            0.393      Finland  \n",
       " 3                            0.340       Norway  \n",
       " 2                            0.408      Denmark  \n",
       " 1                            0.138      Iceland  \n",
       " 0                            0.357  Switzerland  \n",
       " ..                             ...          ...  \n",
       " 127                          0.144        Syria  \n",
       " 125                          0.444       Rwanda  \n",
       " 114                          0.064        Yemen  \n",
       " 120                          0.097     Tanzania  \n",
       " 128                          0.076      Burundi  \n",
       " \n",
       " [130 rows x 8 columns],\n",
       " 2019:      Happiness Rank  Happiness Score  Economy (GDP per Capita)  \\\n",
       " 5                 1            7.769                     1.340   \n",
       " 2                 2            7.600                     1.383   \n",
       " 3                 3            7.554                     1.488   \n",
       " 1                 4            7.494                     1.380   \n",
       " 6                 5            7.488                     1.396   \n",
       " ..              ...              ...                       ...   \n",
       " 127             149            3.462                     0.619   \n",
       " 109             150            3.410                     0.191   \n",
       " 114             151            3.380                     0.287   \n",
       " 125             152            3.334                     0.359   \n",
       " 120             153            3.231                     0.476   \n",
       " \n",
       "      Health (Life Expectancy)  Generosity  Freedom  \\\n",
       " 5                       0.986       0.153    0.596   \n",
       " 2                       0.996       0.252    0.592   \n",
       " 3                       1.028       0.271    0.603   \n",
       " 1                       1.026       0.354    0.591   \n",
       " 6                       0.999       0.322    0.557   \n",
       " ..                        ...         ...      ...   \n",
       " 127                     0.440       0.331    0.013   \n",
       " 109                     0.495       0.218    0.443   \n",
       " 114                     0.463       0.108    0.143   \n",
       " 125                     0.614       0.217    0.555   \n",
       " 120                     0.499       0.276    0.417   \n",
       " \n",
       "      Trust (Government Corruption)      Country  \n",
       " 5                            0.393      Finland  \n",
       " 2                            0.410      Denmark  \n",
       " 3                            0.341       Norway  \n",
       " 1                            0.118      Iceland  \n",
       " 6                            0.298  Netherlands  \n",
       " ..                             ...          ...  \n",
       " 127                          0.141        Syria  \n",
       " 109                          0.089       Malawi  \n",
       " 114                          0.077        Yemen  \n",
       " 125                          0.411       Rwanda  \n",
       " 120                          0.147     Tanzania  \n",
       " \n",
       " [130 rows x 8 columns]}"
      ]
     },
     "execution_count": 34,
     "metadata": {},
     "output_type": "execute_result"
    }
   ],
   "source": [
    "df"
   ]
  },
  {
   "cell_type": "code",

   "execution_count": null,
   "metadata": {},
   "outputs": [],
   "source": []
  },
  {
   "cell_type": "code",
   "execution_count": null,
   "metadata": {},
   "outputs": [],
   "source": []
  },
  {
   "cell_type": "code",
   "execution_count": null,
   "metadata": {},
   "outputs": [],
   "source": []
  },
  {
   "cell_type": "code",
   "execution_count": null,
   "metadata": {},
   "outputs": [],
   "source": []
  },
  {
   "cell_type": "code",
   "execution_count": null,
   "metadata": {},
   "outputs": [],
   "source": []
  },
  {
   "cell_type": "code",
   "execution_count": null,
   "metadata": {},
   "outputs": [],
   "source": []
  },
  {
   "cell_type": "code",
   "execution_count": null,
   "metadata": {},
   "outputs": [],
   "source": []
  },
  {
   "cell_type": "code",
   "execution_count": null,
   "metadata": {},
   "outputs": [],
   "source": []
  },
  {
   "cell_type": "code",
   "execution_count": null,
   "metadata": {},
   "outputs": [],
   "source": []
  },
  {
   "cell_type": "code",
   "execution_count": null,
   "metadata": {},
   "outputs": [],
   "source": []
  },
  {
   "cell_type": "code",
   "execution_count": null,
   "metadata": {},
   "outputs": [],
   "source": []
  },
  {
   "cell_type": "code",
   "execution_count": null,
   "metadata": {},
   "outputs": [],
   "source": []
  },
  {
   "cell_type": "code",
   "execution_count": null,
   "metadata": {},
   "outputs": [],
   "source": []
  },
  {
   "cell_type": "code",
   "execution_count": null,
   "metadata": {},
   "outputs": [],
   "source": []
  },
  {
   "cell_type": "code",
   "execution_count": null,
   "metadata": {},
   "outputs": [],
   "source": []
  },
  {
   "cell_type": "code",
   "execution_count": null,
   "metadata": {},
   "outputs": [],
   "source": []
  },
  {
   "cell_type": "code",
   "execution_count": null,
   "metadata": {},
   "outputs": [],
   "source": []
  },
  {
   "cell_type": "code",
   "execution_count": null,
   "metadata": {},
   "outputs": [],
   "source": []
  },
  {
   "cell_type": "code",
   "execution_count": null,
   "metadata": {},
   "outputs": [],
   "source": []
  },
  {
   "cell_type": "code",
   "execution_count": null,
   "metadata": {},
   "outputs": [],
   "source": []
  },
  {
   "cell_type": "code",
   "execution_count": null,
   "metadata": {},
   "outputs": [],
   "source": []
  },
  {
   "cell_type": "code",
   "execution_count": null,
   "metadata": {},
   "outputs": [],
   "source": []
  },
  {
   "cell_type": "code",
   "execution_count": null,
   "metadata": {},
   "outputs": [],
   "source": []
  },
  {
   "cell_type": "code",
   "execution_count": null,
   "metadata": {},
   "outputs": [],
   "source": []
  },
  {
   "cell_type": "code",
   "execution_count": null,
   "metadata": {},
   "outputs": [],
   "source": []
  },
  {
   "cell_type": "code",
   "execution_count": null,
   "metadata": {},
   "outputs": [],
   "source": []
  },
  {
   "cell_type": "code",
   "execution_count": null,
   "metadata": {},
   "outputs": [],
   "source": []
  },
  {
   "cell_type": "code",
   "execution_count": null,
   "metadata": {},
   "outputs": [],
   "source": []
  },
  {
   "cell_type": "code",
   "execution_count": null,
   "metadata": {},
   "outputs": [],
   "source": []
  },
  {
   "cell_type": "code",
   "execution_count": null,
   "metadata": {},
   "outputs": [],
   "source": []
  },
  {
   "cell_type": "code",
   "execution_count": null,
   "metadata": {},
   "outputs": [],
   "source": []
  },
  {
   "cell_type": "code",
   "execution_count": null,
   "metadata": {},
   "outputs": [],
   "source": []
  },
  {
   "cell_type": "code",
   "execution_count": null,
   "metadata": {},
   "outputs": [],
   "source": []
  },
  {
   "cell_type": "code",
   "execution_count": null,
   "metadata": {},
   "outputs": [],
   "source": []
  },
  {
   "cell_type": "code",
   "execution_count": null,
   "metadata": {},
   "outputs": [],
   "source": []
  },
  {
   "cell_type": "code",
   "execution_count": null,
   "metadata": {},
   "outputs": [],
   "source": []
  },
  {
   "cell_type": "code",
   "execution_count": null,
   "metadata": {},
   "outputs": [],
   "source": []
  },
  {
   "cell_type": "code",
   "execution_count": null,
   "metadata": {},
   "outputs": [],
   "source": []
  },
  {
   "cell_type": "code",
   "execution_count": null,
   "metadata": {},
   "outputs": [],
   "source": []
  },
  {
   "cell_type": "code",
   "execution_count": null,
   "metadata": {},
   "outputs": [],
   "source": [
    "# Sorting Data based on the Economic Freedom Score - Ascending\n",
    "df_final_sorted = df_final.sort_values(by= 'Economic Freedom Score', ascending = True)"
   ]
  },
  {
   "cell_type": "code",
   "execution_count": null,
   "metadata": {},
   "outputs": [],
   "source": [
    "# Select columns using prefix\n",
    "df_2015 = df_final.filter(regex='2015$', axis=1)\n",
    "df_2016 = df_final.filter(regex='2016$', axis=1)\n",
    "df_2017 = df_final.filter(regex='2017$', axis=1)\n",
    "df_2018 = df_final.filter(regex='2018$', axis=1)\n",
    "df_2019 = df_final.filter(regex='2019$', axis=1)\n",
    "\n",
    "# Add Countries Column to the DataFrames\n",
    "df_2015['Country'] = df_final['Country']\n",
    "df_2016['Country'] = df_final['Country']\n",
    "df_2017['Country'] = df_final['Country']\n",
    "df_2018['Country'] = df_final['Country']\n",
    "df_2019['Country'] = df_final['Country']\n",
    "\n",
    "# Remove Suffixes from the column names\n",
    "df_2015.columns = df_2015.columns.str.strip('_2015')\n",
    "df_2016.columns = df_2015.columns.str.strip('_2016')\n",
    "df_2017.columns = df_2015.columns.str.strip('_2017')\n",
    "df_2018.columns = df_2015.columns.str.strip('_2018')\n",
    "df_2019.columns = df_2015.columns.str.strip('_2019')\n",
    "\n",
    "# Sorting Data based on Happiness Score\n",
    "df_2015 = df_2015.sort_values(by= 'Happiness Rank', ascending = True)\n",
    "df_2016 = df_2016.sort_values(by= 'Happiness Rank', ascending = True)\n",
    "df_2017 = df_2017.sort_values(by= 'Happiness Rank', ascending = True)\n",
    "df_2018 = df_2018.sort_values(by= 'Happiness Rank', ascending = True)\n",
    "df_2019 = df_2019.sort_values(by= 'Happiness Rank', ascending = True)"
   ]
  },
  {
   "cell_type": "code",
   "execution_count": null,
   "metadata": {},
   "outputs": [],
   "source": [
    "# Create a list of years\n",
    "years = [2015, 2016, 2017, 2018, 2019]\n",
    "\n",
    "# Create an empty dictionary to store different years of data\n",
    "df_years = {}\n",
    "\n",
    "# Add the dataframes to the dictionary\n",
    "df_years[2015],df_years[2016],df_years[2017],df_years[2018],df_years[2019] = df_2015,df_2016,df_2017,df_2018,df_2019"
   ]
  },
  {
   "cell_type": "code",
   "execution_count": null,
   "metadata": {},
   "outputs": [],
   "source": [
    "# Creating horizontal plots for top 10 and botton 10 countries\n",
    "\n",
    "# Create empty dictionaries to hold the top 10 and bottom 10 countries\n",
    "top_countries = {}\n",
    "bottom_countries = {}\n",
    "combined_countries = {}\n",
    "\n",
    "# Looping through years to add df to empty dictionaries\n",
    "for year in years:\n",
    "    top_countries[year] = df_years[year].set_index('Country')\n",
    "    \n",
    "    # Adding the top 10 countries\n",
    "    top_countries[year] = df_years[year].loc[:, ['Country',\n",
    "                                                 'Economy (GDP per Capita)',\n",
    "                                                 'Health (Life Expectancy)',\n",
    "                                                 'Generosity','Freedom',\n",
    "                                                 'Trust (Government Corruption)']].head(10)\n",
    "    \n",
    "    # Adding the bottom 10 countries\n",
    "    bottom_countries[year] = df_years[year].loc[:, ['Country',\n",
    "                                                 'Economy (GDP per Capita)',\n",
    "                                                 'Health (Life Expectancy)',\n",
    "                                                 'Generosity','Freedom',\n",
    "                                                 'Trust (Government Corruption)']].tail(10)\n",
    "    \n",
    "    # Combining the top and bottom countries\n",
    "    combined_countries[year] = pd.concat([bottom_countries[year][::-1],\n",
    "                                          top_countries[year][::-1]]).set_index('Country', drop =True)\n",
    "    \n",
    "    # Plot the figure\n",
    "    fig = px.bar(combined_countries[year],\n",
    "                 color_discrete_sequence = px.colors.colorbrewer.Paired,\n",
    "                 orientation ='h',\n",
    "                 title = f\"{year} Top and Bottom Countries' Contributing Factors\",\n",
    "                 barmode = 'stack',\n",
    "                 labels = dict(Country=\"Countries\",\n",
    "                               value = \"Happiness Score\",\n",
    "                               variable = \"Contributing Factors\"))\n",
    "    \n",
    "    # Set the background color to black\n",
    "    fig.layout.template = 'plotly_dark'\n",
    "    \n",
    "    # Save figure\n",
    "    fig.write_image(f\"Output/{year} Top and Bottom Countries' Contributing Factors.png\") \n",
    "    \n",
    "    # Display the figure\n",
    "    fig.show()"
   ]
  },
  {
   "cell_type": "code",
   "execution_count": null,
   "metadata": {},
   "outputs": [],
   "source": [
    "# Correlational Heatmaps\n",
    "\n",
    "# Creating an empty dictionary for heatmaps\n",
    "corr_heatmap = {}\n",
    "\n",
    "# Looping to map correlations for 5 years\n",
    "for year in years:\n",
    "    corr_heatmap[year] = df_years[year]\n",
    "    fig = plt.figure(figsize=(10,6))\n",
    "             \n",
    "    # Plot the heatmaps\n",
    "    sns.heatmap(corr_heatmap[year].corr(), annot = True)\n",
    "    \n",
    "    # Add title to the figure\n",
    "    plt.title(f'Correlational Heatmap for {year}')\n",
    "    \n",
    "    # Save the figure\n",
    "    plt.savefig(f'Output/Correlational Heatmap for {year}.png', bbox_inches = 'tight')\n",
    "          \n",
    "    # Display the figure\n",
    "    plt.show()"
   ]
  },
  {
   "cell_type": "code",
   "execution_count": null,
   "metadata": {},
   "outputs": [],
   "source": [
    "# Happiness Trend of Top 10 Countries from 2015 to 2019\n",
    "\n",
    "# Exporting Cleaned Data to csv\n",
    "for year in years:\n",
    "    df_years[year] = df_years[year][['Country',\n",
    "                                     'Happiness Rank',\n",
    "                                     'Happiness Score',\n",
    "                                     'Economy (GDP per Capita)',\n",
    "                                     'Health (Life Expectancy)',\n",
    "                                     'Generosity',\n",
    "                                     'Freedom',\n",
    "                                     'Trust (Government Corruption)']]\n",
    "    df_years[year].to_csv(f\"Output/{year}.csv\", index=False)"
   ]
  },
  {
   "cell_type": "code",
   "execution_count": null,
   "metadata": {},
   "outputs": [],
   "source": [
    "# Getting years\n",
    "for year in years:\n",
    "    df_years[year]['Year'] = [year for x in range(len(df_years[year].Country))]"
   ]
  },
  {
   "cell_type": "code",
   "execution_count": null,
   "metadata": {},
   "outputs": [],
   "source": [
    "# Concatenate csv files for plotly graphs\n",
    "df_years_list = [df_years[x] for x in range(2015, 2020)]\n",
    "df_concat = pd.concat(df_years_list)"
   ]
  },
  {
   "cell_type": "code",
   "execution_count": null,
   "metadata": {},
   "outputs": [],
   "source": [
    "# Export the concatenated dataframe to csv\n",
    "df_concat.sort_values('Happiness Rank', inplace=True)\n",
    "df_concat.reset_index(drop=True, inplace=True)\n",
    "df_concat.to_csv(f'Output/df_concat.csv', index=False)"
   ]
  },
  {
   "cell_type": "code",
   "execution_count": null,
   "metadata": {},
   "outputs": [],
   "source": [
    "# Create a dataframe with Top ranking 10 countries\n",
    "df_top_10 = df_concat[df_concat['Happiness Rank']<=10].sort_values(by=['Year'])\n",
    "\n",
    "# Retrieving a list of countries from the dataframe\n",
    "countries = df_concat.loc[df_concat['Happiness Rank']<=10]['Country'].unique()\n",
    "\n",
    "# Plotting the graph\n",
    "fig = go.Figure()\n",
    "\n",
    "# Using loop to plot each country based on ranking from 2015 to 2019\n",
    "for country in countries:\n",
    "    x = df_top_10.loc[df_top_10['Country']==country]['Year']\n",
    "    y = df_top_10.loc[df_top_10['Country']==country]['Happiness Rank']\n",
    "    \n",
    "    # Plotting scatter graph with lines\n",
    "    fig.add_trace(go.Scatter(x=x, y=y,\n",
    "                  mode = 'markers+lines',\n",
    "                  line= dict(width=5, dash='solid'),\n",
    "                  marker=dict(size=10, symbol = 'circle'),\n",
    "                  name = country))\n",
    "    \n",
    "# Customizing the figure\n",
    "fig.update_xaxes(nticks =5)\n",
    "fig.update_yaxes(tick0 = 1, dtick=1, autorange = \"reversed\")\n",
    "fig.update_layout(title = 'Happiness Trend of Top 10 Ranking Countries',\n",
    "                  xaxis_title = 'Year',\n",
    "                  yaxis_title='Happiness Rank')\n",
    "\n",
    "\n",
    "# Set the background color to black\n",
    "fig.layout.template = 'plotly_dark'\n",
    "\n",
    "# Displaying the figure\n",
    "fig.show()\n",
    "\n",
    "# Saving fig in the Output folder\n",
    "pio.write_image(fig, 'Output/Happiness Trend of Top 10 Ranking Countries.png')"
   ]
  },
  {
   "cell_type": "code",
   "execution_count": null,
   "metadata": {},
   "outputs": [],
   "source": []
  },
  {
   "cell_type": "code",
   "execution_count": null,
   "metadata": {},
   "outputs": [],
   "source": []
  },
  {
   "cell_type": "code",
   "execution_count": null,
   "metadata": {},
   "outputs": [],
   "source": []
  },
  {
   "cell_type": "code",
   "execution_count": null,
   "metadata": {},
   "outputs": [],
   "source": []
  },
  {
   "cell_type": "code",
   "execution_count": null,
   "metadata": {},
   "outputs": [],
   "source": []
  },
  {
   "cell_type": "code",
   "execution_count": null,
   "metadata": {},
   "outputs": [],
   "source": []
  },
  {
   "cell_type": "code",
   "execution_count": null,
   "metadata": {},
   "outputs": [],
   "source": []
  }
 ],
 "metadata": {
  "kernelspec": {
   "display_name": "Python 3",
   "language": "python",
   "name": "python3"
  },
  "language_info": {
   "codemirror_mode": {
    "name": "ipython",
    "version": 3
   },
   "file_extension": ".py",
   "mimetype": "text/x-python",
   "name": "python",
   "nbconvert_exporter": "python",
   "pygments_lexer": "ipython3",
   "version": "3.8.5"
  }
 },
 "nbformat": 4,
 "nbformat_minor": 4
}
