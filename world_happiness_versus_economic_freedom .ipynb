{
 "cells": [
  {
   "cell_type": "code",
   "execution_count": 39,
   "metadata": {},
   "outputs": [],
   "source": [
    "# Import Dependencies\n",
    "import pandas as pd\n",
    "import seaborn as sns\n",
    "import matplotlib.pyplot as plt\n",
    "import plotly.express as px"
   ]
  },
  {
   "cell_type": "code",
   "execution_count": 2,
   "metadata": {},
   "outputs": [],
   "source": [
    "world_happiness_2015 = \"./data/2015.csv\"\n",
    "world_happiness_2016 = \"./data/2016.csv\"\n",
    "world_happiness_2017 = \"./data/2017.csv\"\n",
    "world_happiness_2018 = \"./data/2018.csv\"\n",
    "world_happiness_2019 = \"./data/2019.csv\"\n",
    "economic_freedom_report = \"./data/economic_freedom_report.csv\""
   ]
  },
  {
   "cell_type": "code",
   "execution_count": 3,
   "metadata": {},
   "outputs": [],
   "source": [
    "csv_2015_df = pd.read_csv(world_happiness_2015)\n",
    "csv_2016_df = pd.read_csv(world_happiness_2016)\n",
    "csv_2017_df = pd.read_csv(world_happiness_2017)\n",
    "csv_2018_df = pd.read_csv(world_happiness_2018)\n",
    "csv_2019_df = pd.read_csv(world_happiness_2019)\n",
    "csv_economic_freedom_report = pd.read_csv(economic_freedom_report)"
   ]
  },
  {
   "cell_type": "code",
   "execution_count": 4,
   "metadata": {},
   "outputs": [],
   "source": [
    "# Merge 2015 and 2016 data\n",
    "df_2015_2016 = pd.merge(csv_2015_df, csv_2016_df, on = \"Country\")"
   ]
  },
  {
   "cell_type": "code",
   "execution_count": 5,
   "metadata": {},
   "outputs": [],
   "source": [
    "# Rename the columns\n",
    "df_2015_2016 = df_2015_2016.rename(columns={\"Happiness Rank_x\": \"Happiness Rank_2015\", \n",
    "                                           \"Happiness Score_x\":\"Happiness Score_2015\", \n",
    "                                           \"Economy (GDP per Capita)_x\":\"Economy (GDP per Capita)_2015\",\n",
    "                                           \"Family_x\":\"Family_2015\",\n",
    "                                           \"Health (Life Expectancy)_x\":\"Health (Life Expectancy)_2015\",\n",
    "                                           \"Freedom_x\":\"Freedom_2015\",\n",
    "                                           \"Trust (Government Corruption)_x\":\"Trust (Government Corruption)_2015\",\n",
    "                                            \"Generosity_x\":\"Generosity_2015\",\n",
    "                                           \"Happiness Rank_y\":\"Happiness Rank_2016\",\n",
    "                                           \"Happiness Score_y\":\"Happiness Score_2016\",\n",
    "                                           \"Economy (GDP per Capita)_y\":\"Economy (GDP per Capita)_2016\",\n",
    "                                           \"Family_y\":\"Family_2016\",\n",
    "                                           \"Health (Life Expectancy)_y\":\"Health (Life Expectancy)_2016\",\n",
    "                                           \"Freedom_y\":\"Freedom_2016\",\n",
    "                                           \"Trust (Government Corruption)_y\":\"Trust (Government Corruption)_2016\",\n",
    "                                           \"Generosity_y\":\"Generosity_2016\",\n",
    "                                           \"Dystopia Residual_y\":\"Dystopia Residual_2016\"\n",
    "                                          })"
   ]
  },
  {
   "cell_type": "code",
   "execution_count": 6,
   "metadata": {},
   "outputs": [],
   "source": [
    "# Selecting only the required columns \n",
    "df_2015_2016_new = df_2015_2016[[\n",
    "    \"Country\",\n",
    "    \"Happiness Rank_2015\",\n",
    "    \"Happiness Score_2015\",\n",
    "    \"Economy (GDP per Capita)_2015\",\n",
    "    \"Health (Life Expectancy)_2015\",\n",
    "    \"Generosity_2015\",\n",
    "    \"Freedom_2015\",\n",
    "    \"Trust (Government Corruption)_2015\",\n",
    "    \"Happiness Rank_2016\",\n",
    "    \"Happiness Score_2016\",\n",
    "    \"Economy (GDP per Capita)_2016\",\n",
    "    \"Health (Life Expectancy)_2016\",\n",
    "    \"Generosity_2016\",\n",
    "    \"Freedom_2016\",\n",
    "    \"Trust (Government Corruption)_2016\"    \n",
    "]]"
   ]
  },
  {
   "cell_type": "code",
   "execution_count": 7,
   "metadata": {},
   "outputs": [],
   "source": [
    "# Merge 2015 and 2016 data with 2017 data\n",
    "df_15_16_17 = pd.merge(df_2015_2016_new, csv_2017_df, on = \"Country\")"
   ]
  },
  {
   "cell_type": "code",
   "execution_count": 8,
   "metadata": {},
   "outputs": [],
   "source": [
    "# Rename the 2017 columns\n",
    "df_15_16_17 = df_15_16_17.rename(columns={\"Happiness.Rank\": \"Happiness Rank_2017\", \n",
    "                                           \"Happiness.Score\":\"Happiness Score_2017\", \n",
    "                                           \"Economy..GDP.per.Capita.\":\"Economy (GDP per Capita)_2017\",\n",
    "                                           \"Family\":\"Family_2017\",\n",
    "                                           \"Health..Life.Expectancy.\":\"Health (Life Expectancy)_2017\",\n",
    "                                           \"Freedom\":\"Freedom_2017\",\n",
    "                                           \"Trust..Government.Corruption.\":\"Trust (Government Corruption)_2017\",\n",
    "                                            \"Generosity\":\"Generosity_2017\",\n",
    "                                           \"Dystopia.Residual\":\"Dystopia Residual_2017\"\n",
    "                                          })"
   ]
  },
  {
   "cell_type": "code",
   "execution_count": 9,
   "metadata": {},
   "outputs": [],
   "source": [
    "# Create a new DataFrame with only required columns\n",
    "df_15_16_17_new = df_15_16_17[[\n",
    "    'Country', \n",
    "    'Happiness Rank_2015',\n",
    "    'Happiness Score_2015',\n",
    "    'Economy (GDP per Capita)_2015',\n",
    "    'Health (Life Expectancy)_2015',\n",
    "    'Generosity_2015',\n",
    "    'Freedom_2015',\n",
    "    'Trust (Government Corruption)_2015',\n",
    "    'Happiness Rank_2016',\n",
    "    'Happiness Score_2016',\n",
    "    'Economy (GDP per Capita)_2016',\n",
    "    'Health (Life Expectancy)_2016',\n",
    "    'Generosity_2016',\n",
    "    'Freedom_2016',\n",
    "    'Trust (Government Corruption)_2016',\n",
    "    'Happiness Rank_2017',\n",
    "    'Happiness Score_2017',\n",
    "    'Economy (GDP per Capita)_2017',\n",
    "    'Health (Life Expectancy)_2017',\n",
    "    'Generosity_2017',\n",
    "    'Freedom_2017',    \n",
    "    'Trust (Government Corruption)_2017',\n",
    "    ]]"
   ]
  },
  {
   "cell_type": "code",
   "execution_count": 10,
   "metadata": {},
   "outputs": [],
   "source": [
    "# Merge '15, '16, '17 data with '18 data\n",
    "df_15_16_17_18 = pd.merge(df_15_16_17_new, csv_2018_df, on = \"Country\")"
   ]
  },
  {
   "cell_type": "code",
   "execution_count": 11,
   "metadata": {},
   "outputs": [],
   "source": [
    "# Rename the 2018 columns\n",
    "df_15_16_17_18 = df_15_16_17_18.rename(columns={\"Overall rank\": \"Happiness Rank_2018\", \n",
    "                                           \"Score\":\"Happiness Score_2018\", \n",
    "                                           \"GDP per capita\":\"Economy (GDP per Capita)_2018\",\n",
    "                                           \"Family\":\"Family_2017\",\n",
    "                                           \"Healthy life expectancy\":\"Health (Life Expectancy)_2018\",\n",
    "                                           \"Freedom to make life choices\":\"Freedom_2018\",\n",
    "                                           \"Perceptions of corruption\":\"Trust (Government Corruption)_2018\",\n",
    "                                            \"Generosity\":\"Generosity_2018\"\n",
    "                                            })"
   ]
  },
  {
   "cell_type": "code",
   "execution_count": 12,
   "metadata": {},
   "outputs": [],
   "source": [
    "# Create a new DataFrame with only required columns\n",
    "df_15_16_17_18_new = df_15_16_17_18[[\n",
    "    'Country', \n",
    "    'Happiness Rank_2015',\n",
    "    'Happiness Score_2015',\n",
    "    'Economy (GDP per Capita)_2015',\n",
    "    'Health (Life Expectancy)_2015',\n",
    "    'Generosity_2015',\n",
    "    'Freedom_2015',\n",
    "    'Trust (Government Corruption)_2015',\n",
    "    'Happiness Rank_2016',\n",
    "    'Happiness Score_2016',\n",
    "    'Economy (GDP per Capita)_2016',\n",
    "    'Health (Life Expectancy)_2016',\n",
    "    'Generosity_2016',\n",
    "    'Freedom_2016',\n",
    "    'Trust (Government Corruption)_2016',\n",
    "    'Happiness Rank_2017',\n",
    "    'Happiness Score_2017',\n",
    "    'Economy (GDP per Capita)_2017',\n",
    "    'Health (Life Expectancy)_2017',\n",
    "    'Generosity_2017',\n",
    "    'Freedom_2017',    \n",
    "    'Trust (Government Corruption)_2017',\n",
    "    'Happiness Rank_2018',\n",
    "    'Happiness Score_2018',\n",
    "    'Economy (GDP per Capita)_2018',\n",
    "    'Health (Life Expectancy)_2018',\n",
    "    'Generosity_2018',\n",
    "    'Freedom_2018', \n",
    "    'Trust (Government Corruption)_2018'\n",
    "    ]]"
   ]
  },
  {
   "cell_type": "code",
   "execution_count": 13,
   "metadata": {},
   "outputs": [],
   "source": [
    "# Merge '15, '16, '17, '18 data with '19 data\n",
    "df_15_16_17_18_19 = pd.merge(df_15_16_17_18_new, csv_2019_df, on = \"Country\")"
   ]
  },
  {
   "cell_type": "code",
   "execution_count": 14,
   "metadata": {},
   "outputs": [],
   "source": [
    "# Rename the 2019 columns\n",
    "df_15_16_17_18_19 = df_15_16_17_18_19.rename(columns={\"Overall rank\": \"Happiness Rank_2019\", \n",
    "                                           \"Score\":\"Happiness Score_2019\", \n",
    "                                           \"GDP per capita\":\"Economy (GDP per Capita)_2019\",\n",
    "                                           \"Family\":\"Family_2017\",\n",
    "                                           \"Healthy life expectancy\":\"Health (Life Expectancy)_2019\",\n",
    "                                           \"Freedom to make life choices\":\"Freedom_2019\",\n",
    "                                           \"Perceptions of corruption\":\"Trust (Government Corruption)_2019\",\n",
    "                                            \"Generosity\":\"Generosity_2019\"\n",
    "                                            })"
   ]
  },
  {
   "cell_type": "code",
   "execution_count": 15,
   "metadata": {},
   "outputs": [
    {
     "data": {
      "text/plain": [
       "Index(['Country', 'Happiness Rank_2015', 'Happiness Score_2015',\n",
       "       'Economy (GDP per Capita)_2015', 'Health (Life Expectancy)_2015',\n",
       "       'Generosity_2015', 'Freedom_2015', 'Trust (Government Corruption)_2015',\n",
       "       'Happiness Rank_2016', 'Happiness Score_2016',\n",
       "       'Economy (GDP per Capita)_2016', 'Health (Life Expectancy)_2016',\n",
       "       'Generosity_2016', 'Freedom_2016', 'Trust (Government Corruption)_2016',\n",
       "       'Happiness Rank_2017', 'Happiness Score_2017',\n",
       "       'Economy (GDP per Capita)_2017', 'Health (Life Expectancy)_2017',\n",
       "       'Generosity_2017', 'Freedom_2017', 'Trust (Government Corruption)_2017',\n",
       "       'Happiness Rank_2018', 'Happiness Score_2018',\n",
       "       'Economy (GDP per Capita)_2018', 'Health (Life Expectancy)_2018',\n",
       "       'Generosity_2018', 'Freedom_2018', 'Trust (Government Corruption)_2018',\n",
       "       'Happiness Rank_2019', 'Happiness Score_2019',\n",
       "       'Economy (GDP per Capita)_2019', 'Health (Life Expectancy)_2019',\n",
       "       'Generosity_2019', 'Freedom_2019',\n",
       "       'Trust (Government Corruption)_2019'],\n",
       "      dtype='object')"
      ]
     },
     "execution_count": 15,
     "metadata": {},
     "output_type": "execute_result"
    }
   ],
   "source": [
    "# Create a new DataFrame with only required columns\n",
    "df_15_16_17_18_19_new = df_15_16_17_18_19[[\n",
    "    'Country', \n",
    "    'Happiness Rank_2015',\n",
    "    'Happiness Score_2015',\n",
    "    'Economy (GDP per Capita)_2015',\n",
    "    'Health (Life Expectancy)_2015',\n",
    "    'Generosity_2015',\n",
    "    'Freedom_2015',\n",
    "    'Trust (Government Corruption)_2015',\n",
    "    'Happiness Rank_2016',\n",
    "    'Happiness Score_2016',\n",
    "    'Economy (GDP per Capita)_2016',\n",
    "    'Health (Life Expectancy)_2016',\n",
    "    'Generosity_2016',\n",
    "    'Freedom_2016',\n",
    "    'Trust (Government Corruption)_2016',\n",
    "    'Happiness Rank_2017',\n",
    "    'Happiness Score_2017',\n",
    "    'Economy (GDP per Capita)_2017',\n",
    "    'Health (Life Expectancy)_2017',\n",
    "    'Generosity_2017',\n",
    "    'Freedom_2017',    \n",
    "    'Trust (Government Corruption)_2017',\n",
    "    'Happiness Rank_2018',\n",
    "    'Happiness Score_2018',\n",
    "    'Economy (GDP per Capita)_2018',\n",
    "    'Health (Life Expectancy)_2018',\n",
    "    'Generosity_2018',\n",
    "    'Freedom_2018', \n",
    "    'Trust (Government Corruption)_2018',\n",
    "    'Happiness Rank_2019',\n",
    "    'Happiness Score_2019',\n",
    "    'Economy (GDP per Capita)_2019',\n",
    "    'Health (Life Expectancy)_2019',\n",
    "    'Generosity_2019',\n",
    "    'Freedom_2019',\n",
    "    'Trust (Government Corruption)_2019'       \n",
    "    ]]\n",
    "df_15_16_17_18_19_new.columns"
   ]
  },
  {
   "cell_type": "code",
   "execution_count": 16,
   "metadata": {},
   "outputs": [
    {
     "data": {
      "text/plain": [
       "Index(['Country', 'Happiness Rank_2015', 'Happiness Score_2015',\n",
       "       'Economy (GDP per Capita)_2015', 'Health (Life Expectancy)_2015',\n",
       "       'Generosity_2015', 'Freedom_2015', 'Trust (Government Corruption)_2015',\n",
       "       'Happiness Rank_2016', 'Happiness Score_2016',\n",
       "       'Economy (GDP per Capita)_2016', 'Health (Life Expectancy)_2016',\n",
       "       'Generosity_2016', 'Freedom_2016', 'Trust (Government Corruption)_2016',\n",
       "       'Happiness Rank_2017', 'Happiness Score_2017',\n",
       "       'Economy (GDP per Capita)_2017', 'Health (Life Expectancy)_2017',\n",
       "       'Generosity_2017', 'Freedom_2017', 'Trust (Government Corruption)_2017',\n",
       "       'Happiness Rank_2018', 'Happiness Score_2018',\n",
       "       'Economy (GDP per Capita)_2018', 'Health (Life Expectancy)_2018',\n",
       "       'Generosity_2018', 'Freedom_2018', 'Trust (Government Corruption)_2018',\n",
       "       'Happiness Rank_2019', 'Happiness Score_2019',\n",
       "       'Economy (GDP per Capita)_2019', 'Health (Life Expectancy)_2019',\n",
       "       'Generosity_2019', 'Freedom_2019', 'Trust (Government Corruption)_2019',\n",
       "       'rank', 'score', 'pop2021'],\n",
       "      dtype='object')"
      ]
     },
     "execution_count": 16,
     "metadata": {},
     "output_type": "execute_result"
    }
   ],
   "source": [
    "# Merge '15, '16, '17, '18, '19 data with world economic freedom data\n",
    "df_15_19_econ = pd.merge(df_15_16_17_18_19_new, csv_economic_freedom_report, on = \"Country\")\n",
    "df_15_19_econ.columns"
   ]
  },
  {
   "cell_type": "code",
   "execution_count": 17,
   "metadata": {},
   "outputs": [],
   "source": [
    "# Rename column from world economic freedom data\n",
    "df_15_19_econ = df_15_19_econ.rename(columns = {'rank': 'Economic Freedom Rank',\n",
    "                                                'score': 'Economic Freedom Score'\n",
    "                                               })"
   ]
  },
  {
   "cell_type": "code",
   "execution_count": 18,
   "metadata": {},
   "outputs": [
    {
     "data": {
      "text/html": [
       "<div>\n",
       "<style scoped>\n",
       "    .dataframe tbody tr th:only-of-type {\n",
       "        vertical-align: middle;\n",
       "    }\n",
       "\n",
       "    .dataframe tbody tr th {\n",
       "        vertical-align: top;\n",
       "    }\n",
       "\n",
       "    .dataframe thead th {\n",
       "        text-align: right;\n",
       "    }\n",
       "</style>\n",
       "<table border=\"1\" class=\"dataframe\">\n",
       "  <thead>\n",
       "    <tr style=\"text-align: right;\">\n",
       "      <th></th>\n",
       "      <th>Country</th>\n",
       "      <th>Happiness Rank_2015</th>\n",
       "      <th>Happiness Score_2015</th>\n",
       "      <th>Economy (GDP per Capita)_2015</th>\n",
       "      <th>Health (Life Expectancy)_2015</th>\n",
       "      <th>Generosity_2015</th>\n",
       "      <th>Freedom_2015</th>\n",
       "      <th>Trust (Government Corruption)_2015</th>\n",
       "      <th>Happiness Rank_2016</th>\n",
       "      <th>Happiness Score_2016</th>\n",
       "      <th>...</th>\n",
       "      <th>Trust (Government Corruption)_2018</th>\n",
       "      <th>Happiness Rank_2019</th>\n",
       "      <th>Happiness Score_2019</th>\n",
       "      <th>Economy (GDP per Capita)_2019</th>\n",
       "      <th>Health (Life Expectancy)_2019</th>\n",
       "      <th>Generosity_2019</th>\n",
       "      <th>Freedom_2019</th>\n",
       "      <th>Trust (Government Corruption)_2019</th>\n",
       "      <th>Economic Freedom Rank</th>\n",
       "      <th>Economic Freedom Score</th>\n",
       "    </tr>\n",
       "  </thead>\n",
       "  <tbody>\n",
       "    <tr>\n",
       "      <th>0</th>\n",
       "      <td>Switzerland</td>\n",
       "      <td>1</td>\n",
       "      <td>7.587</td>\n",
       "      <td>1.39651</td>\n",
       "      <td>0.94143</td>\n",
       "      <td>0.29678</td>\n",
       "      <td>0.66557</td>\n",
       "      <td>0.41978</td>\n",
       "      <td>2</td>\n",
       "      <td>7.509</td>\n",
       "      <td>...</td>\n",
       "      <td>0.357</td>\n",
       "      <td>6</td>\n",
       "      <td>7.480</td>\n",
       "      <td>1.452</td>\n",
       "      <td>1.052</td>\n",
       "      <td>0.263</td>\n",
       "      <td>0.572</td>\n",
       "      <td>0.343</td>\n",
       "      <td>4</td>\n",
       "      <td>8.43</td>\n",
       "    </tr>\n",
       "    <tr>\n",
       "      <th>1</th>\n",
       "      <td>Iceland</td>\n",
       "      <td>2</td>\n",
       "      <td>7.561</td>\n",
       "      <td>1.30232</td>\n",
       "      <td>0.94784</td>\n",
       "      <td>0.43630</td>\n",
       "      <td>0.62877</td>\n",
       "      <td>0.14145</td>\n",
       "      <td>3</td>\n",
       "      <td>7.501</td>\n",
       "      <td>...</td>\n",
       "      <td>0.138</td>\n",
       "      <td>4</td>\n",
       "      <td>7.494</td>\n",
       "      <td>1.380</td>\n",
       "      <td>1.026</td>\n",
       "      <td>0.354</td>\n",
       "      <td>0.591</td>\n",
       "      <td>0.118</td>\n",
       "      <td>34</td>\n",
       "      <td>7.71</td>\n",
       "    </tr>\n",
       "    <tr>\n",
       "      <th>2</th>\n",
       "      <td>Denmark</td>\n",
       "      <td>3</td>\n",
       "      <td>7.527</td>\n",
       "      <td>1.32548</td>\n",
       "      <td>0.87464</td>\n",
       "      <td>0.34139</td>\n",
       "      <td>0.64938</td>\n",
       "      <td>0.48357</td>\n",
       "      <td>1</td>\n",
       "      <td>7.526</td>\n",
       "      <td>...</td>\n",
       "      <td>0.408</td>\n",
       "      <td>2</td>\n",
       "      <td>7.600</td>\n",
       "      <td>1.383</td>\n",
       "      <td>0.996</td>\n",
       "      <td>0.252</td>\n",
       "      <td>0.592</td>\n",
       "      <td>0.410</td>\n",
       "      <td>11</td>\n",
       "      <td>8.10</td>\n",
       "    </tr>\n",
       "    <tr>\n",
       "      <th>3</th>\n",
       "      <td>Norway</td>\n",
       "      <td>4</td>\n",
       "      <td>7.522</td>\n",
       "      <td>1.45900</td>\n",
       "      <td>0.88521</td>\n",
       "      <td>0.34699</td>\n",
       "      <td>0.66973</td>\n",
       "      <td>0.36503</td>\n",
       "      <td>4</td>\n",
       "      <td>7.498</td>\n",
       "      <td>...</td>\n",
       "      <td>0.340</td>\n",
       "      <td>3</td>\n",
       "      <td>7.554</td>\n",
       "      <td>1.488</td>\n",
       "      <td>1.028</td>\n",
       "      <td>0.271</td>\n",
       "      <td>0.603</td>\n",
       "      <td>0.341</td>\n",
       "      <td>43</td>\n",
       "      <td>7.60</td>\n",
       "    </tr>\n",
       "    <tr>\n",
       "      <th>4</th>\n",
       "      <td>Canada</td>\n",
       "      <td>5</td>\n",
       "      <td>7.427</td>\n",
       "      <td>1.32629</td>\n",
       "      <td>0.90563</td>\n",
       "      <td>0.45811</td>\n",
       "      <td>0.63297</td>\n",
       "      <td>0.32957</td>\n",
       "      <td>6</td>\n",
       "      <td>7.404</td>\n",
       "      <td>...</td>\n",
       "      <td>0.291</td>\n",
       "      <td>9</td>\n",
       "      <td>7.278</td>\n",
       "      <td>1.365</td>\n",
       "      <td>1.039</td>\n",
       "      <td>0.285</td>\n",
       "      <td>0.584</td>\n",
       "      <td>0.308</td>\n",
       "      <td>9</td>\n",
       "      <td>8.17</td>\n",
       "    </tr>\n",
       "    <tr>\n",
       "      <th>...</th>\n",
       "      <td>...</td>\n",
       "      <td>...</td>\n",
       "      <td>...</td>\n",
       "      <td>...</td>\n",
       "      <td>...</td>\n",
       "      <td>...</td>\n",
       "      <td>...</td>\n",
       "      <td>...</td>\n",
       "      <td>...</td>\n",
       "      <td>...</td>\n",
       "      <td>...</td>\n",
       "      <td>...</td>\n",
       "      <td>...</td>\n",
       "      <td>...</td>\n",
       "      <td>...</td>\n",
       "      <td>...</td>\n",
       "      <td>...</td>\n",
       "      <td>...</td>\n",
       "      <td>...</td>\n",
       "      <td>...</td>\n",
       "      <td>...</td>\n",
       "    </tr>\n",
       "    <tr>\n",
       "      <th>125</th>\n",
       "      <td>Rwanda</td>\n",
       "      <td>154</td>\n",
       "      <td>3.465</td>\n",
       "      <td>0.22208</td>\n",
       "      <td>0.42864</td>\n",
       "      <td>0.22628</td>\n",
       "      <td>0.59201</td>\n",
       "      <td>0.55191</td>\n",
       "      <td>152</td>\n",
       "      <td>3.515</td>\n",
       "      <td>...</td>\n",
       "      <td>0.444</td>\n",
       "      <td>152</td>\n",
       "      <td>3.334</td>\n",
       "      <td>0.359</td>\n",
       "      <td>0.614</td>\n",
       "      <td>0.217</td>\n",
       "      <td>0.555</td>\n",
       "      <td>0.411</td>\n",
       "      <td>58</td>\n",
       "      <td>7.39</td>\n",
       "    </tr>\n",
       "    <tr>\n",
       "      <th>126</th>\n",
       "      <td>Benin</td>\n",
       "      <td>155</td>\n",
       "      <td>3.340</td>\n",
       "      <td>0.28665</td>\n",
       "      <td>0.31910</td>\n",
       "      <td>0.18260</td>\n",
       "      <td>0.48450</td>\n",
       "      <td>0.08010</td>\n",
       "      <td>153</td>\n",
       "      <td>3.484</td>\n",
       "      <td>...</td>\n",
       "      <td>0.067</td>\n",
       "      <td>102</td>\n",
       "      <td>4.883</td>\n",
       "      <td>0.393</td>\n",
       "      <td>0.397</td>\n",
       "      <td>0.175</td>\n",
       "      <td>0.349</td>\n",
       "      <td>0.082</td>\n",
       "      <td>122</td>\n",
       "      <td>6.20</td>\n",
       "    </tr>\n",
       "    <tr>\n",
       "      <th>127</th>\n",
       "      <td>Syria</td>\n",
       "      <td>156</td>\n",
       "      <td>3.006</td>\n",
       "      <td>0.66320</td>\n",
       "      <td>0.72193</td>\n",
       "      <td>0.47179</td>\n",
       "      <td>0.15684</td>\n",
       "      <td>0.18906</td>\n",
       "      <td>156</td>\n",
       "      <td>3.069</td>\n",
       "      <td>...</td>\n",
       "      <td>0.144</td>\n",
       "      <td>149</td>\n",
       "      <td>3.462</td>\n",
       "      <td>0.619</td>\n",
       "      <td>0.440</td>\n",
       "      <td>0.331</td>\n",
       "      <td>0.013</td>\n",
       "      <td>0.141</td>\n",
       "      <td>143</td>\n",
       "      <td>5.45</td>\n",
       "    </tr>\n",
       "    <tr>\n",
       "      <th>128</th>\n",
       "      <td>Burundi</td>\n",
       "      <td>157</td>\n",
       "      <td>2.905</td>\n",
       "      <td>0.01530</td>\n",
       "      <td>0.22396</td>\n",
       "      <td>0.19727</td>\n",
       "      <td>0.11850</td>\n",
       "      <td>0.10062</td>\n",
       "      <td>157</td>\n",
       "      <td>2.905</td>\n",
       "      <td>...</td>\n",
       "      <td>0.076</td>\n",
       "      <td>145</td>\n",
       "      <td>3.775</td>\n",
       "      <td>0.046</td>\n",
       "      <td>0.380</td>\n",
       "      <td>0.176</td>\n",
       "      <td>0.220</td>\n",
       "      <td>0.180</td>\n",
       "      <td>128</td>\n",
       "      <td>5.94</td>\n",
       "    </tr>\n",
       "    <tr>\n",
       "      <th>129</th>\n",
       "      <td>Togo</td>\n",
       "      <td>158</td>\n",
       "      <td>2.839</td>\n",
       "      <td>0.20868</td>\n",
       "      <td>0.28443</td>\n",
       "      <td>0.16681</td>\n",
       "      <td>0.36453</td>\n",
       "      <td>0.10731</td>\n",
       "      <td>155</td>\n",
       "      <td>3.303</td>\n",
       "      <td>...</td>\n",
       "      <td>0.101</td>\n",
       "      <td>139</td>\n",
       "      <td>4.085</td>\n",
       "      <td>0.275</td>\n",
       "      <td>0.410</td>\n",
       "      <td>0.177</td>\n",
       "      <td>0.293</td>\n",
       "      <td>0.085</td>\n",
       "      <td>116</td>\n",
       "      <td>6.25</td>\n",
       "    </tr>\n",
       "  </tbody>\n",
       "</table>\n",
       "<p>130 rows × 38 columns</p>\n",
       "</div>"
      ],
      "text/plain": [
       "         Country  Happiness Rank_2015  Happiness Score_2015  \\\n",
       "0    Switzerland                    1                 7.587   \n",
       "1        Iceland                    2                 7.561   \n",
       "2        Denmark                    3                 7.527   \n",
       "3         Norway                    4                 7.522   \n",
       "4         Canada                    5                 7.427   \n",
       "..           ...                  ...                   ...   \n",
       "125       Rwanda                  154                 3.465   \n",
       "126        Benin                  155                 3.340   \n",
       "127        Syria                  156                 3.006   \n",
       "128      Burundi                  157                 2.905   \n",
       "129         Togo                  158                 2.839   \n",
       "\n",
       "     Economy (GDP per Capita)_2015  Health (Life Expectancy)_2015  \\\n",
       "0                          1.39651                        0.94143   \n",
       "1                          1.30232                        0.94784   \n",
       "2                          1.32548                        0.87464   \n",
       "3                          1.45900                        0.88521   \n",
       "4                          1.32629                        0.90563   \n",
       "..                             ...                            ...   \n",
       "125                        0.22208                        0.42864   \n",
       "126                        0.28665                        0.31910   \n",
       "127                        0.66320                        0.72193   \n",
       "128                        0.01530                        0.22396   \n",
       "129                        0.20868                        0.28443   \n",
       "\n",
       "     Generosity_2015  Freedom_2015  Trust (Government Corruption)_2015  \\\n",
       "0            0.29678       0.66557                             0.41978   \n",
       "1            0.43630       0.62877                             0.14145   \n",
       "2            0.34139       0.64938                             0.48357   \n",
       "3            0.34699       0.66973                             0.36503   \n",
       "4            0.45811       0.63297                             0.32957   \n",
       "..               ...           ...                                 ...   \n",
       "125          0.22628       0.59201                             0.55191   \n",
       "126          0.18260       0.48450                             0.08010   \n",
       "127          0.47179       0.15684                             0.18906   \n",
       "128          0.19727       0.11850                             0.10062   \n",
       "129          0.16681       0.36453                             0.10731   \n",
       "\n",
       "     Happiness Rank_2016  Happiness Score_2016  ...  \\\n",
       "0                      2                 7.509  ...   \n",
       "1                      3                 7.501  ...   \n",
       "2                      1                 7.526  ...   \n",
       "3                      4                 7.498  ...   \n",
       "4                      6                 7.404  ...   \n",
       "..                   ...                   ...  ...   \n",
       "125                  152                 3.515  ...   \n",
       "126                  153                 3.484  ...   \n",
       "127                  156                 3.069  ...   \n",
       "128                  157                 2.905  ...   \n",
       "129                  155                 3.303  ...   \n",
       "\n",
       "     Trust (Government Corruption)_2018  Happiness Rank_2019  \\\n",
       "0                                 0.357                    6   \n",
       "1                                 0.138                    4   \n",
       "2                                 0.408                    2   \n",
       "3                                 0.340                    3   \n",
       "4                                 0.291                    9   \n",
       "..                                  ...                  ...   \n",
       "125                               0.444                  152   \n",
       "126                               0.067                  102   \n",
       "127                               0.144                  149   \n",
       "128                               0.076                  145   \n",
       "129                               0.101                  139   \n",
       "\n",
       "     Happiness Score_2019  Economy (GDP per Capita)_2019  \\\n",
       "0                   7.480                          1.452   \n",
       "1                   7.494                          1.380   \n",
       "2                   7.600                          1.383   \n",
       "3                   7.554                          1.488   \n",
       "4                   7.278                          1.365   \n",
       "..                    ...                            ...   \n",
       "125                 3.334                          0.359   \n",
       "126                 4.883                          0.393   \n",
       "127                 3.462                          0.619   \n",
       "128                 3.775                          0.046   \n",
       "129                 4.085                          0.275   \n",
       "\n",
       "     Health (Life Expectancy)_2019  Generosity_2019  Freedom_2019  \\\n",
       "0                            1.052            0.263         0.572   \n",
       "1                            1.026            0.354         0.591   \n",
       "2                            0.996            0.252         0.592   \n",
       "3                            1.028            0.271         0.603   \n",
       "4                            1.039            0.285         0.584   \n",
       "..                             ...              ...           ...   \n",
       "125                          0.614            0.217         0.555   \n",
       "126                          0.397            0.175         0.349   \n",
       "127                          0.440            0.331         0.013   \n",
       "128                          0.380            0.176         0.220   \n",
       "129                          0.410            0.177         0.293   \n",
       "\n",
       "     Trust (Government Corruption)_2019  Economic Freedom Rank  \\\n",
       "0                                 0.343                      4   \n",
       "1                                 0.118                     34   \n",
       "2                                 0.410                     11   \n",
       "3                                 0.341                     43   \n",
       "4                                 0.308                      9   \n",
       "..                                  ...                    ...   \n",
       "125                               0.411                     58   \n",
       "126                               0.082                    122   \n",
       "127                               0.141                    143   \n",
       "128                               0.180                    128   \n",
       "129                               0.085                    116   \n",
       "\n",
       "     Economic Freedom Score  \n",
       "0                      8.43  \n",
       "1                      7.71  \n",
       "2                      8.10  \n",
       "3                      7.60  \n",
       "4                      8.17  \n",
       "..                      ...  \n",
       "125                    7.39  \n",
       "126                    6.20  \n",
       "127                    5.45  \n",
       "128                    5.94  \n",
       "129                    6.25  \n",
       "\n",
       "[130 rows x 38 columns]"
      ]
     },
     "execution_count": 18,
     "metadata": {},
     "output_type": "execute_result"
    }
   ],
   "source": [
    "# # Create a new DataFrame with only required columns \n",
    "df_final = df_15_19_econ[[\n",
    "    'Country', 'Happiness Rank_2015', 'Happiness Score_2015',\n",
    "       'Economy (GDP per Capita)_2015', 'Health (Life Expectancy)_2015',\n",
    "       'Generosity_2015', 'Freedom_2015', 'Trust (Government Corruption)_2015',\n",
    "       'Happiness Rank_2016', 'Happiness Score_2016',\n",
    "       'Economy (GDP per Capita)_2016', 'Health (Life Expectancy)_2016',\n",
    "       'Generosity_2016', 'Freedom_2016', 'Trust (Government Corruption)_2016',\n",
    "       'Happiness Rank_2017', 'Happiness Score_2017',\n",
    "       'Economy (GDP per Capita)_2017', 'Health (Life Expectancy)_2017',\n",
    "       'Generosity_2017', 'Freedom_2017', 'Trust (Government Corruption)_2017',\n",
    "       'Happiness Rank_2018', 'Happiness Score_2018',\n",
    "       'Economy (GDP per Capita)_2018', 'Health (Life Expectancy)_2018',\n",
    "       'Generosity_2018', 'Freedom_2018', 'Trust (Government Corruption)_2018',\n",
    "       'Happiness Rank_2019', 'Happiness Score_2019',\n",
    "       'Economy (GDP per Capita)_2019', 'Health (Life Expectancy)_2019',\n",
    "       'Generosity_2019', 'Freedom_2019', 'Trust (Government Corruption)_2019',\n",
    "       'Economic Freedom Rank', 'Economic Freedom Score'\n",
    "]]\n",
    "df_final"
   ]
  },
  {
   "cell_type": "code",
   "execution_count": 19,
   "metadata": {},
   "outputs": [
    {
     "data": {
      "text/plain": [
       "Country                               130\n",
       "Happiness Rank_2015                   130\n",
       "Happiness Score_2015                  130\n",
       "Economy (GDP per Capita)_2015         130\n",
       "Health (Life Expectancy)_2015         130\n",
       "Generosity_2015                       130\n",
       "Freedom_2015                          130\n",
       "Trust (Government Corruption)_2015    130\n",
       "Happiness Rank_2016                   130\n",
       "Happiness Score_2016                  130\n",
       "Economy (GDP per Capita)_2016         130\n",
       "Health (Life Expectancy)_2016         130\n",
       "Generosity_2016                       130\n",
       "Freedom_2016                          130\n",
       "Trust (Government Corruption)_2016    130\n",
       "Happiness Rank_2017                   130\n",
       "Happiness Score_2017                  130\n",
       "Economy (GDP per Capita)_2017         130\n",
       "Health (Life Expectancy)_2017         130\n",
       "Generosity_2017                       130\n",
       "Freedom_2017                          130\n",
       "Trust (Government Corruption)_2017    130\n",
       "Happiness Rank_2018                   130\n",
       "Happiness Score_2018                  130\n",
       "Economy (GDP per Capita)_2018         130\n",
       "Health (Life Expectancy)_2018         130\n",
       "Generosity_2018                       130\n",
       "Freedom_2018                          130\n",
       "Trust (Government Corruption)_2018    129\n",
       "Happiness Rank_2019                   130\n",
       "Happiness Score_2019                  130\n",
       "Economy (GDP per Capita)_2019         130\n",
       "Health (Life Expectancy)_2019         130\n",
       "Generosity_2019                       130\n",
       "Freedom_2019                          130\n",
       "Trust (Government Corruption)_2019    130\n",
       "Economic Freedom Rank                 130\n",
       "Economic Freedom Score                130\n",
       "dtype: int64"
      ]
     },
     "execution_count": 19,
     "metadata": {},
     "output_type": "execute_result"
    }
   ],
   "source": [
    "df_final.count()"
   ]
  },
  {
   "cell_type": "code",
   "execution_count": 20,
   "metadata": {},
   "outputs": [
    {
     "data": {
      "text/plain": [
       "0.08199999999999999"
      ]
     },
     "execution_count": 20,
     "metadata": {},
     "output_type": "execute_result"
    }
   ],
   "source": [
    "# Get the median Trust value for 2018\n",
    "Trust_2018 = df_final[\"Trust (Government Corruption)_2018\"].median()\n",
    "Trust_2018"
   ]
  },
  {
   "cell_type": "code",
   "execution_count": 21,
   "metadata": {},
   "outputs": [
    {
     "data": {
      "text/html": [
       "<div>\n",
       "<style scoped>\n",
       "    .dataframe tbody tr th:only-of-type {\n",
       "        vertical-align: middle;\n",
       "    }\n",
       "\n",
       "    .dataframe tbody tr th {\n",
       "        vertical-align: top;\n",
       "    }\n",
       "\n",
       "    .dataframe thead th {\n",
       "        text-align: right;\n",
       "    }\n",
       "</style>\n",
       "<table border=\"1\" class=\"dataframe\">\n",
       "  <thead>\n",
       "    <tr style=\"text-align: right;\">\n",
       "      <th></th>\n",
       "      <th>Country</th>\n",
       "      <th>Happiness Rank_2015</th>\n",
       "      <th>Happiness Score_2015</th>\n",
       "      <th>Economy (GDP per Capita)_2015</th>\n",
       "      <th>Health (Life Expectancy)_2015</th>\n",
       "      <th>Generosity_2015</th>\n",
       "      <th>Freedom_2015</th>\n",
       "      <th>Trust (Government Corruption)_2015</th>\n",
       "      <th>Happiness Rank_2016</th>\n",
       "      <th>Happiness Score_2016</th>\n",
       "      <th>...</th>\n",
       "      <th>Trust (Government Corruption)_2018</th>\n",
       "      <th>Happiness Rank_2019</th>\n",
       "      <th>Happiness Score_2019</th>\n",
       "      <th>Economy (GDP per Capita)_2019</th>\n",
       "      <th>Health (Life Expectancy)_2019</th>\n",
       "      <th>Generosity_2019</th>\n",
       "      <th>Freedom_2019</th>\n",
       "      <th>Trust (Government Corruption)_2019</th>\n",
       "      <th>Economic Freedom Rank</th>\n",
       "      <th>Economic Freedom Score</th>\n",
       "    </tr>\n",
       "  </thead>\n",
       "  <tbody>\n",
       "    <tr>\n",
       "      <th>19</th>\n",
       "      <td>United Arab Emirates</td>\n",
       "      <td>20</td>\n",
       "      <td>6.901</td>\n",
       "      <td>1.42727</td>\n",
       "      <td>0.80925</td>\n",
       "      <td>0.26428</td>\n",
       "      <td>0.64157</td>\n",
       "      <td>0.38583</td>\n",
       "      <td>28</td>\n",
       "      <td>6.573</td>\n",
       "      <td>...</td>\n",
       "      <td>NaN</td>\n",
       "      <td>21</td>\n",
       "      <td>6.825</td>\n",
       "      <td>1.503</td>\n",
       "      <td>0.825</td>\n",
       "      <td>0.262</td>\n",
       "      <td>0.598</td>\n",
       "      <td>0.182</td>\n",
       "      <td>71</td>\n",
       "      <td>7.05</td>\n",
       "    </tr>\n",
       "  </tbody>\n",
       "</table>\n",
       "<p>1 rows × 38 columns</p>\n",
       "</div>"
      ],
      "text/plain": [
       "                 Country  Happiness Rank_2015  Happiness Score_2015  \\\n",
       "19  United Arab Emirates                   20                 6.901   \n",
       "\n",
       "    Economy (GDP per Capita)_2015  Health (Life Expectancy)_2015  \\\n",
       "19                        1.42727                        0.80925   \n",
       "\n",
       "    Generosity_2015  Freedom_2015  Trust (Government Corruption)_2015  \\\n",
       "19          0.26428       0.64157                             0.38583   \n",
       "\n",
       "    Happiness Rank_2016  Happiness Score_2016  ...  \\\n",
       "19                   28                 6.573  ...   \n",
       "\n",
       "    Trust (Government Corruption)_2018  Happiness Rank_2019  \\\n",
       "19                                 NaN                   21   \n",
       "\n",
       "    Happiness Score_2019  Economy (GDP per Capita)_2019  \\\n",
       "19                 6.825                          1.503   \n",
       "\n",
       "    Health (Life Expectancy)_2019  Generosity_2019  Freedom_2019  \\\n",
       "19                          0.825            0.262         0.598   \n",
       "\n",
       "    Trust (Government Corruption)_2019  Economic Freedom Rank  \\\n",
       "19                               0.182                     71   \n",
       "\n",
       "    Economic Freedom Score  \n",
       "19                    7.05  \n",
       "\n",
       "[1 rows x 38 columns]"
      ]
     },
     "execution_count": 21,
     "metadata": {},
     "output_type": "execute_result"
    }
   ],
   "source": [
    "# Find the row with the missing value\n",
    "df_final[df_final[\"Trust (Government Corruption)_2018\"].isna() == True]"
   ]
  },
  {
   "cell_type": "code",
   "execution_count": 22,
   "metadata": {},
   "outputs": [
    {
     "name": "stderr",
     "output_type": "stream",
     "text": [
      "<ipython-input-22-62fbfd2adcbf>:2: SettingWithCopyWarning: \n",
      "A value is trying to be set on a copy of a slice from a DataFrame.\n",
      "Try using .loc[row_indexer,col_indexer] = value instead\n",
      "\n",
      "See the caveats in the documentation: https://pandas.pydata.org/pandas-docs/stable/user_guide/indexing.html#returning-a-view-versus-a-copy\n",
      "  df_final['Trust (Government Corruption)_2018'] = df_final['Trust (Government Corruption)_2018'].fillna((df_final['Trust (Government Corruption)_2018'].median()))\n"
     ]
    }
   ],
   "source": [
    "# Assigning value to the missing cell\n",
    "df_final['Trust (Government Corruption)_2018'] = df_final['Trust (Government Corruption)_2018'].fillna((df_final['Trust (Government Corruption)_2018'].median()))"
   ]
  },
  {
   "cell_type": "code",
   "execution_count": 23,
   "metadata": {},
   "outputs": [
    {
     "data": {
      "text/plain": [
       "False    130\n",
       "Name: Trust (Government Corruption)_2018, dtype: int64"
      ]
     },
     "execution_count": 23,
     "metadata": {},
     "output_type": "execute_result"
    }
   ],
   "source": [
    "# Checking if the missing value has been replaced by the median value\n",
    "df_final[\"Trust (Government Corruption)_2018\"].isna().value_counts()"
   ]
  },
  {
   "cell_type": "code",
   "execution_count": 24,
   "metadata": {},
   "outputs": [
    {
     "data": {
      "text/html": [
       "<div>\n",
       "<style scoped>\n",
       "    .dataframe tbody tr th:only-of-type {\n",
       "        vertical-align: middle;\n",
       "    }\n",
       "\n",
       "    .dataframe tbody tr th {\n",
       "        vertical-align: top;\n",
       "    }\n",
       "\n",
       "    .dataframe thead th {\n",
       "        text-align: right;\n",
       "    }\n",
       "</style>\n",
       "<table border=\"1\" class=\"dataframe\">\n",
       "  <thead>\n",
       "    <tr style=\"text-align: right;\">\n",
       "      <th></th>\n",
       "      <th>Country</th>\n",
       "      <th>Happiness Rank_2015</th>\n",
       "      <th>Happiness Score_2015</th>\n",
       "      <th>Economy (GDP per Capita)_2015</th>\n",
       "      <th>Health (Life Expectancy)_2015</th>\n",
       "      <th>Generosity_2015</th>\n",
       "      <th>Freedom_2015</th>\n",
       "      <th>Trust (Government Corruption)_2015</th>\n",
       "      <th>Happiness Rank_2016</th>\n",
       "      <th>Happiness Score_2016</th>\n",
       "      <th>...</th>\n",
       "      <th>Trust (Government Corruption)_2018</th>\n",
       "      <th>Happiness Rank_2019</th>\n",
       "      <th>Happiness Score_2019</th>\n",
       "      <th>Economy (GDP per Capita)_2019</th>\n",
       "      <th>Health (Life Expectancy)_2019</th>\n",
       "      <th>Generosity_2019</th>\n",
       "      <th>Freedom_2019</th>\n",
       "      <th>Trust (Government Corruption)_2019</th>\n",
       "      <th>Economic Freedom Rank</th>\n",
       "      <th>Economic Freedom Score</th>\n",
       "    </tr>\n",
       "  </thead>\n",
       "  <tbody>\n",
       "    <tr>\n",
       "      <th>21</th>\n",
       "      <td>Venezuela</td>\n",
       "      <td>23</td>\n",
       "      <td>6.810</td>\n",
       "      <td>1.04424</td>\n",
       "      <td>0.72052</td>\n",
       "      <td>0.05841</td>\n",
       "      <td>0.42908</td>\n",
       "      <td>0.11069</td>\n",
       "      <td>44</td>\n",
       "      <td>6.084</td>\n",
       "      <td>...</td>\n",
       "      <td>0.052</td>\n",
       "      <td>108</td>\n",
       "      <td>4.707</td>\n",
       "      <td>0.960</td>\n",
       "      <td>0.805</td>\n",
       "      <td>0.064</td>\n",
       "      <td>0.154</td>\n",
       "      <td>0.047</td>\n",
       "      <td>152</td>\n",
       "      <td>3.34</td>\n",
       "    </tr>\n",
       "    <tr>\n",
       "      <th>57</th>\n",
       "      <td>Libya</td>\n",
       "      <td>63</td>\n",
       "      <td>5.754</td>\n",
       "      <td>1.13145</td>\n",
       "      <td>0.70380</td>\n",
       "      <td>0.18295</td>\n",
       "      <td>0.41668</td>\n",
       "      <td>0.11023</td>\n",
       "      <td>67</td>\n",
       "      <td>5.615</td>\n",
       "      <td>...</td>\n",
       "      <td>0.148</td>\n",
       "      <td>72</td>\n",
       "      <td>5.525</td>\n",
       "      <td>1.044</td>\n",
       "      <td>0.673</td>\n",
       "      <td>0.133</td>\n",
       "      <td>0.416</td>\n",
       "      <td>0.152</td>\n",
       "      <td>150</td>\n",
       "      <td>4.72</td>\n",
       "    </tr>\n",
       "    <tr>\n",
       "      <th>91</th>\n",
       "      <td>Iran</td>\n",
       "      <td>110</td>\n",
       "      <td>4.686</td>\n",
       "      <td>1.00880</td>\n",
       "      <td>0.69805</td>\n",
       "      <td>0.38086</td>\n",
       "      <td>0.30033</td>\n",
       "      <td>0.05863</td>\n",
       "      <td>105</td>\n",
       "      <td>4.813</td>\n",
       "      <td>...</td>\n",
       "      <td>0.129</td>\n",
       "      <td>117</td>\n",
       "      <td>4.548</td>\n",
       "      <td>1.100</td>\n",
       "      <td>0.785</td>\n",
       "      <td>0.270</td>\n",
       "      <td>0.305</td>\n",
       "      <td>0.125</td>\n",
       "      <td>148</td>\n",
       "      <td>4.80</td>\n",
       "    </tr>\n",
       "    <tr>\n",
       "      <th>61</th>\n",
       "      <td>Algeria</td>\n",
       "      <td>68</td>\n",
       "      <td>5.605</td>\n",
       "      <td>0.93929</td>\n",
       "      <td>0.61766</td>\n",
       "      <td>0.07822</td>\n",
       "      <td>0.28579</td>\n",
       "      <td>0.17383</td>\n",
       "      <td>38</td>\n",
       "      <td>6.355</td>\n",
       "      <td>...</td>\n",
       "      <td>0.135</td>\n",
       "      <td>88</td>\n",
       "      <td>5.211</td>\n",
       "      <td>1.002</td>\n",
       "      <td>0.785</td>\n",
       "      <td>0.073</td>\n",
       "      <td>0.086</td>\n",
       "      <td>0.114</td>\n",
       "      <td>147</td>\n",
       "      <td>4.97</td>\n",
       "    </tr>\n",
       "    <tr>\n",
       "      <th>96</th>\n",
       "      <td>Zimbabwe</td>\n",
       "      <td>115</td>\n",
       "      <td>4.610</td>\n",
       "      <td>0.27100</td>\n",
       "      <td>0.33475</td>\n",
       "      <td>0.18987</td>\n",
       "      <td>0.25861</td>\n",
       "      <td>0.08079</td>\n",
       "      <td>131</td>\n",
       "      <td>4.193</td>\n",
       "      <td>...</td>\n",
       "      <td>0.099</td>\n",
       "      <td>146</td>\n",
       "      <td>3.663</td>\n",
       "      <td>0.366</td>\n",
       "      <td>0.433</td>\n",
       "      <td>0.151</td>\n",
       "      <td>0.361</td>\n",
       "      <td>0.089</td>\n",
       "      <td>146</td>\n",
       "      <td>5.12</td>\n",
       "    </tr>\n",
       "    <tr>\n",
       "      <th>...</th>\n",
       "      <td>...</td>\n",
       "      <td>...</td>\n",
       "      <td>...</td>\n",
       "      <td>...</td>\n",
       "      <td>...</td>\n",
       "      <td>...</td>\n",
       "      <td>...</td>\n",
       "      <td>...</td>\n",
       "      <td>...</td>\n",
       "      <td>...</td>\n",
       "      <td>...</td>\n",
       "      <td>...</td>\n",
       "      <td>...</td>\n",
       "      <td>...</td>\n",
       "      <td>...</td>\n",
       "      <td>...</td>\n",
       "      <td>...</td>\n",
       "      <td>...</td>\n",
       "      <td>...</td>\n",
       "      <td>...</td>\n",
       "      <td>...</td>\n",
       "    </tr>\n",
       "    <tr>\n",
       "      <th>14</th>\n",
       "      <td>United States</td>\n",
       "      <td>15</td>\n",
       "      <td>7.119</td>\n",
       "      <td>1.39451</td>\n",
       "      <td>0.86179</td>\n",
       "      <td>0.40105</td>\n",
       "      <td>0.54604</td>\n",
       "      <td>0.15890</td>\n",
       "      <td>13</td>\n",
       "      <td>7.104</td>\n",
       "      <td>...</td>\n",
       "      <td>0.133</td>\n",
       "      <td>19</td>\n",
       "      <td>6.892</td>\n",
       "      <td>1.433</td>\n",
       "      <td>0.874</td>\n",
       "      <td>0.280</td>\n",
       "      <td>0.454</td>\n",
       "      <td>0.128</td>\n",
       "      <td>6</td>\n",
       "      <td>8.22</td>\n",
       "    </tr>\n",
       "    <tr>\n",
       "      <th>9</th>\n",
       "      <td>Australia</td>\n",
       "      <td>10</td>\n",
       "      <td>7.284</td>\n",
       "      <td>1.33358</td>\n",
       "      <td>0.93156</td>\n",
       "      <td>0.43562</td>\n",
       "      <td>0.65124</td>\n",
       "      <td>0.35637</td>\n",
       "      <td>9</td>\n",
       "      <td>7.313</td>\n",
       "      <td>...</td>\n",
       "      <td>0.302</td>\n",
       "      <td>11</td>\n",
       "      <td>7.228</td>\n",
       "      <td>1.372</td>\n",
       "      <td>1.036</td>\n",
       "      <td>0.332</td>\n",
       "      <td>0.557</td>\n",
       "      <td>0.290</td>\n",
       "      <td>5</td>\n",
       "      <td>8.23</td>\n",
       "    </tr>\n",
       "    <tr>\n",
       "      <th>0</th>\n",
       "      <td>Switzerland</td>\n",
       "      <td>1</td>\n",
       "      <td>7.587</td>\n",
       "      <td>1.39651</td>\n",
       "      <td>0.94143</td>\n",
       "      <td>0.29678</td>\n",
       "      <td>0.66557</td>\n",
       "      <td>0.41978</td>\n",
       "      <td>2</td>\n",
       "      <td>7.509</td>\n",
       "      <td>...</td>\n",
       "      <td>0.357</td>\n",
       "      <td>6</td>\n",
       "      <td>7.480</td>\n",
       "      <td>1.452</td>\n",
       "      <td>1.052</td>\n",
       "      <td>0.263</td>\n",
       "      <td>0.572</td>\n",
       "      <td>0.343</td>\n",
       "      <td>4</td>\n",
       "      <td>8.43</td>\n",
       "    </tr>\n",
       "    <tr>\n",
       "      <th>8</th>\n",
       "      <td>New Zealand</td>\n",
       "      <td>9</td>\n",
       "      <td>7.286</td>\n",
       "      <td>1.25018</td>\n",
       "      <td>0.90837</td>\n",
       "      <td>0.47501</td>\n",
       "      <td>0.63938</td>\n",
       "      <td>0.42922</td>\n",
       "      <td>8</td>\n",
       "      <td>7.334</td>\n",
       "      <td>...</td>\n",
       "      <td>0.389</td>\n",
       "      <td>8</td>\n",
       "      <td>7.307</td>\n",
       "      <td>1.303</td>\n",
       "      <td>1.026</td>\n",
       "      <td>0.330</td>\n",
       "      <td>0.585</td>\n",
       "      <td>0.380</td>\n",
       "      <td>3</td>\n",
       "      <td>8.53</td>\n",
       "    </tr>\n",
       "    <tr>\n",
       "      <th>22</th>\n",
       "      <td>Singapore</td>\n",
       "      <td>24</td>\n",
       "      <td>6.798</td>\n",
       "      <td>1.52186</td>\n",
       "      <td>1.02525</td>\n",
       "      <td>0.31105</td>\n",
       "      <td>0.54252</td>\n",
       "      <td>0.49210</td>\n",
       "      <td>22</td>\n",
       "      <td>6.739</td>\n",
       "      <td>...</td>\n",
       "      <td>0.457</td>\n",
       "      <td>34</td>\n",
       "      <td>6.262</td>\n",
       "      <td>1.572</td>\n",
       "      <td>1.141</td>\n",
       "      <td>0.271</td>\n",
       "      <td>0.556</td>\n",
       "      <td>0.453</td>\n",
       "      <td>2</td>\n",
       "      <td>8.65</td>\n",
       "    </tr>\n",
       "  </tbody>\n",
       "</table>\n",
       "<p>130 rows × 38 columns</p>\n",
       "</div>"
      ],
      "text/plain": [
       "          Country  Happiness Rank_2015  Happiness Score_2015  \\\n",
       "21      Venezuela                   23                 6.810   \n",
       "57          Libya                   63                 5.754   \n",
       "91           Iran                  110                 4.686   \n",
       "61        Algeria                   68                 5.605   \n",
       "96       Zimbabwe                  115                 4.610   \n",
       "..            ...                  ...                   ...   \n",
       "14  United States                   15                 7.119   \n",
       "9       Australia                   10                 7.284   \n",
       "0     Switzerland                    1                 7.587   \n",
       "8     New Zealand                    9                 7.286   \n",
       "22      Singapore                   24                 6.798   \n",
       "\n",
       "    Economy (GDP per Capita)_2015  Health (Life Expectancy)_2015  \\\n",
       "21                        1.04424                        0.72052   \n",
       "57                        1.13145                        0.70380   \n",
       "91                        1.00880                        0.69805   \n",
       "61                        0.93929                        0.61766   \n",
       "96                        0.27100                        0.33475   \n",
       "..                            ...                            ...   \n",
       "14                        1.39451                        0.86179   \n",
       "9                         1.33358                        0.93156   \n",
       "0                         1.39651                        0.94143   \n",
       "8                         1.25018                        0.90837   \n",
       "22                        1.52186                        1.02525   \n",
       "\n",
       "    Generosity_2015  Freedom_2015  Trust (Government Corruption)_2015  \\\n",
       "21          0.05841       0.42908                             0.11069   \n",
       "57          0.18295       0.41668                             0.11023   \n",
       "91          0.38086       0.30033                             0.05863   \n",
       "61          0.07822       0.28579                             0.17383   \n",
       "96          0.18987       0.25861                             0.08079   \n",
       "..              ...           ...                                 ...   \n",
       "14          0.40105       0.54604                             0.15890   \n",
       "9           0.43562       0.65124                             0.35637   \n",
       "0           0.29678       0.66557                             0.41978   \n",
       "8           0.47501       0.63938                             0.42922   \n",
       "22          0.31105       0.54252                             0.49210   \n",
       "\n",
       "    Happiness Rank_2016  Happiness Score_2016  ...  \\\n",
       "21                   44                 6.084  ...   \n",
       "57                   67                 5.615  ...   \n",
       "91                  105                 4.813  ...   \n",
       "61                   38                 6.355  ...   \n",
       "96                  131                 4.193  ...   \n",
       "..                  ...                   ...  ...   \n",
       "14                   13                 7.104  ...   \n",
       "9                     9                 7.313  ...   \n",
       "0                     2                 7.509  ...   \n",
       "8                     8                 7.334  ...   \n",
       "22                   22                 6.739  ...   \n",
       "\n",
       "    Trust (Government Corruption)_2018  Happiness Rank_2019  \\\n",
       "21                               0.052                  108   \n",
       "57                               0.148                   72   \n",
       "91                               0.129                  117   \n",
       "61                               0.135                   88   \n",
       "96                               0.099                  146   \n",
       "..                                 ...                  ...   \n",
       "14                               0.133                   19   \n",
       "9                                0.302                   11   \n",
       "0                                0.357                    6   \n",
       "8                                0.389                    8   \n",
       "22                               0.457                   34   \n",
       "\n",
       "    Happiness Score_2019  Economy (GDP per Capita)_2019  \\\n",
       "21                 4.707                          0.960   \n",
       "57                 5.525                          1.044   \n",
       "91                 4.548                          1.100   \n",
       "61                 5.211                          1.002   \n",
       "96                 3.663                          0.366   \n",
       "..                   ...                            ...   \n",
       "14                 6.892                          1.433   \n",
       "9                  7.228                          1.372   \n",
       "0                  7.480                          1.452   \n",
       "8                  7.307                          1.303   \n",
       "22                 6.262                          1.572   \n",
       "\n",
       "    Health (Life Expectancy)_2019  Generosity_2019  Freedom_2019  \\\n",
       "21                          0.805            0.064         0.154   \n",
       "57                          0.673            0.133         0.416   \n",
       "91                          0.785            0.270         0.305   \n",
       "61                          0.785            0.073         0.086   \n",
       "96                          0.433            0.151         0.361   \n",
       "..                            ...              ...           ...   \n",
       "14                          0.874            0.280         0.454   \n",
       "9                           1.036            0.332         0.557   \n",
       "0                           1.052            0.263         0.572   \n",
       "8                           1.026            0.330         0.585   \n",
       "22                          1.141            0.271         0.556   \n",
       "\n",
       "    Trust (Government Corruption)_2019  Economic Freedom Rank  \\\n",
       "21                               0.047                    152   \n",
       "57                               0.152                    150   \n",
       "91                               0.125                    148   \n",
       "61                               0.114                    147   \n",
       "96                               0.089                    146   \n",
       "..                                 ...                    ...   \n",
       "14                               0.128                      6   \n",
       "9                                0.290                      5   \n",
       "0                                0.343                      4   \n",
       "8                                0.380                      3   \n",
       "22                               0.453                      2   \n",
       "\n",
       "    Economic Freedom Score  \n",
       "21                    3.34  \n",
       "57                    4.72  \n",
       "91                    4.80  \n",
       "61                    4.97  \n",
       "96                    5.12  \n",
       "..                     ...  \n",
       "14                    8.22  \n",
       "9                     8.23  \n",
       "0                     8.43  \n",
       "8                     8.53  \n",
       "22                    8.65  \n",
       "\n",
       "[130 rows x 38 columns]"
      ]
     },
     "execution_count": 24,
     "metadata": {},
     "output_type": "execute_result"
    }
   ],
   "source": [
    "# Sorting Data based on the Economic Freedom Score - Ascending\n",
    "df_final_sorted = df_final.sort_values(by= 'Economic Freedom Score', ascending = True)\n",
    "df_final_sorted"
   ]
  },
  {
   "cell_type": "code",
   "execution_count": null,
   "metadata": {},
   "outputs": [],
   "source": [
    "#Creating a csv file\n",
    "\n",
    "df_final.to_csv(\"data/mergeddf.csv\", index=False, header=True)"
   ]
  },
  {
   "cell_type": "code",
   "execution_count": 25,
   "metadata": {},
   "outputs": [
    {
     "name": "stdout",
     "output_type": "stream",
     "text": [
      "Shapeof newdataframes - (65, 38), (64, 38)\n"
     ]
    }
   ],
   "source": [
    "#Spliiting DataFrame in half\n",
    "#df_split = df_final(frac=0.5)\n",
    "#df_split.reset_index()\n",
    "\n",
    "low = df_final_sorted.iloc[:65,:]\n",
    "high = df_final_sorted.iloc[66:,:]\n",
    "\n",
    "print(\"Shapeof newdataframes - {}, {}\".format(low.shape, high.shape))"
   ]
  },
  {
   "cell_type": "code",
   "execution_count": 33,
   "metadata": {},
   "outputs": [
    {
     "name": "stderr",
     "output_type": "stream",
     "text": [
      "<ipython-input-33-5f6c2b8726d7>:9: SettingWithCopyWarning: \n",
      "A value is trying to be set on a copy of a slice from a DataFrame.\n",
      "Try using .loc[row_indexer,col_indexer] = value instead\n",
      "\n",
      "See the caveats in the documentation: https://pandas.pydata.org/pandas-docs/stable/user_guide/indexing.html#returning-a-view-versus-a-copy\n",
      "  df_2015['Country'] = df_final['Country']\n",
      "<ipython-input-33-5f6c2b8726d7>:10: SettingWithCopyWarning: \n",
      "A value is trying to be set on a copy of a slice from a DataFrame.\n",
      "Try using .loc[row_indexer,col_indexer] = value instead\n",
      "\n",
      "See the caveats in the documentation: https://pandas.pydata.org/pandas-docs/stable/user_guide/indexing.html#returning-a-view-versus-a-copy\n",
      "  df_2016['Country'] = df_final['Country']\n",
      "<ipython-input-33-5f6c2b8726d7>:11: SettingWithCopyWarning: \n",
      "A value is trying to be set on a copy of a slice from a DataFrame.\n",
      "Try using .loc[row_indexer,col_indexer] = value instead\n",
      "\n",
      "See the caveats in the documentation: https://pandas.pydata.org/pandas-docs/stable/user_guide/indexing.html#returning-a-view-versus-a-copy\n",
      "  df_2017['Country'] = df_final['Country']\n",
      "<ipython-input-33-5f6c2b8726d7>:12: SettingWithCopyWarning: \n",
      "A value is trying to be set on a copy of a slice from a DataFrame.\n",
      "Try using .loc[row_indexer,col_indexer] = value instead\n",
      "\n",
      "See the caveats in the documentation: https://pandas.pydata.org/pandas-docs/stable/user_guide/indexing.html#returning-a-view-versus-a-copy\n",
      "  df_2018['Country'] = df_final['Country']\n",
      "<ipython-input-33-5f6c2b8726d7>:13: SettingWithCopyWarning: \n",
      "A value is trying to be set on a copy of a slice from a DataFrame.\n",
      "Try using .loc[row_indexer,col_indexer] = value instead\n",
      "\n",
      "See the caveats in the documentation: https://pandas.pydata.org/pandas-docs/stable/user_guide/indexing.html#returning-a-view-versus-a-copy\n",
      "  df_2019['Country'] = df_final['Country']\n"
     ]
    }
   ],
   "source": [
    "# Adding Countries column top each year's df\n",
    "df_2015 = df_final.filter(regex = '2015$', axis=1)\n",
    "df_2016 = df_final.filter(regex = '2016$', axis=1)\n",
    "df_2017 = df_final.filter(regex = '2017$', axis=1)\n",
    "df_2018 = df_final.filter(regex = '2018$', axis=1)\n",
    "df_2019 = df_final.filter(regex = '2019$', axis=1)\n",
    "\n",
    "# Adding Country column to the dataframes\n",
    "df_2015['Country'] = df_final['Country']\n",
    "df_2016['Country'] = df_final['Country']\n",
    "df_2017['Country'] = df_final['Country']\n",
    "df_2018['Country'] = df_final['Country']\n",
    "df_2019['Country'] = df_final['Country']\n",
    "\n",
    "# Removing the suffixes\n",
    "df_2015.columns = df_2015.columns.str.strip('_2015')\n",
    "df_2016.columns = df_2015.columns.str.strip('_2015')\n",
    "df_2017.columns = df_2015.columns.str.strip('_2015')\n",
    "df_2018.columns = df_2015.columns.str.strip('_2015')\n",
    "df_2019.columns = df_2015.columns.str.strip('_2015')\n",
    "\n",
    "# Sorting based on Happiness Rank\n",
    "df_2015 = df_2015.sort_values(by= 'Happiness Rank', ascending = True)\n",
    "df_2016 = df_2016.sort_values(by= 'Happiness Rank', ascending = True)\n",
    "df_2017 = df_2017.sort_values(by= 'Happiness Rank', ascending = True)\n",
    "df_2018 = df_2018.sort_values(by= 'Happiness Rank', ascending = True)\n",
    "df_2019 = df_2019.sort_values(by= 'Happiness Rank', ascending = True)\n",
    "\n",
    "# Creating an empty dictionary with years of data\n",
    "df = {}\n",
    "\n",
    "# Creating a list of years\n",
    "years = [2015, 2016, 2017, 2018, 2019]\n",
    "\n",
    "# Storing the values in the dictionary\n",
    "df[2015],df[2016],df[2017],df[2018],df[2019] = df_2015,df_2016,df_2017,df_2018,df_2019"
   ]
  },
  {
   "cell_type": "code",
   "execution_count": 44,
   "metadata": {},
   "outputs": [
    {
     "data": {
      "application/vnd.plotly.v1+json": {
       "config": {
        "plotlyServerURL": "https://plot.ly"
       },
       "data": [
        {
         "alignmentgroup": "True",
         "hovertemplate": "Contributing Factors=Economy (GDP per Capita)<br>Happiness Score=%{x}<br>Countries=%{y}<extra></extra>",
         "legendgroup": "Economy (GDP per Capita)",
         "marker": {
          "color": "rgb(166,206,227)"
         },
         "name": "Economy (GDP per Capita)",
         "offsetgroup": "Economy (GDP per Capita)",
         "orientation": "h",
         "showlegend": true,
         "textposition": "auto",
         "type": "bar",
         "x": [
          0.20868,
          0.0153,
          0.6632,
          0.28665,
          0.22208000000000003,
          0.25811999999999996,
          0.17417,
          0.34193,
          0.20824,
          0.2852,
          1.33358,
          1.2501799999999998,
          1.33171,
          1.32944,
          1.29025,
          1.32629,
          1.459,
          1.32548,
          1.3023200000000001,
          1.3965100000000001
         ],
         "xaxis": "x",
         "y": [
          "Togo",
          "Burundi",
          "Syria",
          "Benin",
          "Rwanda",
          "Burkina Faso",
          "Guinea",
          "Chad",
          "Madagascar",
          "Tanzania",
          "Australia",
          "New Zealand",
          "Sweden",
          "Netherlands",
          "Finland",
          "Canada",
          "Norway",
          "Denmark",
          "Iceland",
          "Switzerland"
         ],
         "yaxis": "y"
        },
        {
         "alignmentgroup": "True",
         "hovertemplate": "Contributing Factors=Health (Life Expectancy)<br>Happiness Score=%{x}<br>Countries=%{y}<extra></extra>",
         "legendgroup": "Health (Life Expectancy)",
         "marker": {
          "color": "rgb(31,120,180)"
         },
         "name": "Health (Life Expectancy)",
         "offsetgroup": "Health (Life Expectancy)",
         "orientation": "h",
         "showlegend": true,
         "textposition": "auto",
         "type": "bar",
         "x": [
          0.28443,
          0.22396,
          0.7219300000000001,
          0.3191,
          0.42863999999999997,
          0.27125,
          0.24009,
          0.1501,
          0.46721,
          0.38215,
          0.93156,
          0.9083700000000001,
          0.9108700000000001,
          0.89284,
          0.8891100000000001,
          0.9056299999999999,
          0.88521,
          0.87464,
          0.94784,
          0.9414299999999999
         ],
         "xaxis": "x",
         "y": [
          "Togo",
          "Burundi",
          "Syria",
          "Benin",
          "Rwanda",
          "Burkina Faso",
          "Guinea",
          "Chad",
          "Madagascar",
          "Tanzania",
          "Australia",
          "New Zealand",
          "Sweden",
          "Netherlands",
          "Finland",
          "Canada",
          "Norway",
          "Denmark",
          "Iceland",
          "Switzerland"
         ],
         "yaxis": "y"
        },
        {
         "alignmentgroup": "True",
         "hovertemplate": "Contributing Factors=Generosity<br>Happiness Score=%{x}<br>Countries=%{y}<extra></extra>",
         "legendgroup": "Generosity",
         "marker": {
          "color": "rgb(178,223,138)"
         },
         "name": "Generosity",
         "offsetgroup": "Generosity",
         "orientation": "h",
         "showlegend": true,
         "textposition": "auto",
         "type": "bar",
         "x": [
          0.16680999999999999,
          0.19727,
          0.47179,
          0.1826,
          0.22628,
          0.21746999999999997,
          0.28657,
          0.18386,
          0.21333000000000002,
          0.34376999999999996,
          0.43562,
          0.47501000000000004,
          0.36262,
          0.4761,
          0.23351,
          0.45811,
          0.34699,
          0.34139,
          0.4363,
          0.29678000000000004
         ],
         "xaxis": "x",
         "y": [
          "Togo",
          "Burundi",
          "Syria",
          "Benin",
          "Rwanda",
          "Burkina Faso",
          "Guinea",
          "Chad",
          "Madagascar",
          "Tanzania",
          "Australia",
          "New Zealand",
          "Sweden",
          "Netherlands",
          "Finland",
          "Canada",
          "Norway",
          "Denmark",
          "Iceland",
          "Switzerland"
         ],
         "yaxis": "y"
        },
        {
         "alignmentgroup": "True",
         "hovertemplate": "Contributing Factors=Freedom<br>Happiness Score=%{x}<br>Countries=%{y}<extra></extra>",
         "legendgroup": "Freedom",
         "marker": {
          "color": "rgb(51,160,44)"
         },
         "name": "Freedom",
         "offsetgroup": "Freedom",
         "orientation": "h",
         "showlegend": true,
         "textposition": "auto",
         "type": "bar",
         "x": [
          0.36453,
          0.1185,
          0.15684,
          0.4845,
          0.59201,
          0.39493,
          0.37725,
          0.23501,
          0.19184,
          0.32878,
          0.6512399999999999,
          0.6393800000000001,
          0.6598,
          0.6157600000000001,
          0.64169,
          0.63297,
          0.66973,
          0.6493800000000001,
          0.6287699999999999,
          0.66557
         ],
         "xaxis": "x",
         "y": [
          "Togo",
          "Burundi",
          "Syria",
          "Benin",
          "Rwanda",
          "Burkina Faso",
          "Guinea",
          "Chad",
          "Madagascar",
          "Tanzania",
          "Australia",
          "New Zealand",
          "Sweden",
          "Netherlands",
          "Finland",
          "Canada",
          "Norway",
          "Denmark",
          "Iceland",
          "Switzerland"
         ],
         "yaxis": "y"
        },
        {
         "alignmentgroup": "True",
         "hovertemplate": "Contributing Factors=Trust (Government Corruption)<br>Happiness Score=%{x}<br>Countries=%{y}<extra></extra>",
         "legendgroup": "Trust (Government Corruption)",
         "marker": {
          "color": "rgb(251,154,153)"
         },
         "name": "Trust (Government Corruption)",
         "offsetgroup": "Trust (Government Corruption)",
         "orientation": "h",
         "showlegend": true,
         "textposition": "auto",
         "type": "bar",
         "x": [
          0.10730999999999999,
          0.10062,
          0.18905999999999998,
          0.0801,
          0.55191,
          0.12832000000000002,
          0.12139000000000001,
          0.05269,
          0.08123999999999999,
          0.05747000000000001,
          0.35636999999999996,
          0.42922,
          0.43843999999999994,
          0.31814000000000003,
          0.41372,
          0.32957,
          0.36503,
          0.48357,
          0.14145,
          0.41978000000000004
         ],
         "xaxis": "x",
         "y": [
          "Togo",
          "Burundi",
          "Syria",
          "Benin",
          "Rwanda",
          "Burkina Faso",
          "Guinea",
          "Chad",
          "Madagascar",
          "Tanzania",
          "Australia",
          "New Zealand",
          "Sweden",
          "Netherlands",
          "Finland",
          "Canada",
          "Norway",
          "Denmark",
          "Iceland",
          "Switzerland"
         ],
         "yaxis": "y"
        }
       ],
       "layout": {
        "barmode": "stack",
        "legend": {
         "title": {
          "text": "Contributing Factors"
         },
         "tracegroupgap": 0
        },
        "template": {
         "data": {
          "bar": [
           {
            "error_x": {
             "color": "#2a3f5f"
            },
            "error_y": {
             "color": "#2a3f5f"
            },
            "marker": {
             "line": {
              "color": "#E5ECF6",
              "width": 0.5
             }
            },
            "type": "bar"
           }
          ],
          "barpolar": [
           {
            "marker": {
             "line": {
              "color": "#E5ECF6",
              "width": 0.5
             }
            },
            "type": "barpolar"
           }
          ],
          "carpet": [
           {
            "aaxis": {
             "endlinecolor": "#2a3f5f",
             "gridcolor": "white",
             "linecolor": "white",
             "minorgridcolor": "white",
             "startlinecolor": "#2a3f5f"
            },
            "baxis": {
             "endlinecolor": "#2a3f5f",
             "gridcolor": "white",
             "linecolor": "white",
             "minorgridcolor": "white",
             "startlinecolor": "#2a3f5f"
            },
            "type": "carpet"
           }
          ],
          "choropleth": [
           {
            "colorbar": {
             "outlinewidth": 0,
             "ticks": ""
            },
            "type": "choropleth"
           }
          ],
          "contour": [
           {
            "colorbar": {
             "outlinewidth": 0,
             "ticks": ""
            },
            "colorscale": [
             [
              0,
              "#0d0887"
             ],
             [
              0.1111111111111111,
              "#46039f"
             ],
             [
              0.2222222222222222,
              "#7201a8"
             ],
             [
              0.3333333333333333,
              "#9c179e"
             ],
             [
              0.4444444444444444,
              "#bd3786"
             ],
             [
              0.5555555555555556,
              "#d8576b"
             ],
             [
              0.6666666666666666,
              "#ed7953"
             ],
             [
              0.7777777777777778,
              "#fb9f3a"
             ],
             [
              0.8888888888888888,
              "#fdca26"
             ],
             [
              1,
              "#f0f921"
             ]
            ],
            "type": "contour"
           }
          ],
          "contourcarpet": [
           {
            "colorbar": {
             "outlinewidth": 0,
             "ticks": ""
            },
            "type": "contourcarpet"
           }
          ],
          "heatmap": [
           {
            "colorbar": {
             "outlinewidth": 0,
             "ticks": ""
            },
            "colorscale": [
             [
              0,
              "#0d0887"
             ],
             [
              0.1111111111111111,
              "#46039f"
             ],
             [
              0.2222222222222222,
              "#7201a8"
             ],
             [
              0.3333333333333333,
              "#9c179e"
             ],
             [
              0.4444444444444444,
              "#bd3786"
             ],
             [
              0.5555555555555556,
              "#d8576b"
             ],
             [
              0.6666666666666666,
              "#ed7953"
             ],
             [
              0.7777777777777778,
              "#fb9f3a"
             ],
             [
              0.8888888888888888,
              "#fdca26"
             ],
             [
              1,
              "#f0f921"
             ]
            ],
            "type": "heatmap"
           }
          ],
          "heatmapgl": [
           {
            "colorbar": {
             "outlinewidth": 0,
             "ticks": ""
            },
            "colorscale": [
             [
              0,
              "#0d0887"
             ],
             [
              0.1111111111111111,
              "#46039f"
             ],
             [
              0.2222222222222222,
              "#7201a8"
             ],
             [
              0.3333333333333333,
              "#9c179e"
             ],
             [
              0.4444444444444444,
              "#bd3786"
             ],
             [
              0.5555555555555556,
              "#d8576b"
             ],
             [
              0.6666666666666666,
              "#ed7953"
             ],
             [
              0.7777777777777778,
              "#fb9f3a"
             ],
             [
              0.8888888888888888,
              "#fdca26"
             ],
             [
              1,
              "#f0f921"
             ]
            ],
            "type": "heatmapgl"
           }
          ],
          "histogram": [
           {
            "marker": {
             "colorbar": {
              "outlinewidth": 0,
              "ticks": ""
             }
            },
            "type": "histogram"
           }
          ],
          "histogram2d": [
           {
            "colorbar": {
             "outlinewidth": 0,
             "ticks": ""
            },
            "colorscale": [
             [
              0,
              "#0d0887"
             ],
             [
              0.1111111111111111,
              "#46039f"
             ],
             [
              0.2222222222222222,
              "#7201a8"
             ],
             [
              0.3333333333333333,
              "#9c179e"
             ],
             [
              0.4444444444444444,
              "#bd3786"
             ],
             [
              0.5555555555555556,
              "#d8576b"
             ],
             [
              0.6666666666666666,
              "#ed7953"
             ],
             [
              0.7777777777777778,
              "#fb9f3a"
             ],
             [
              0.8888888888888888,
              "#fdca26"
             ],
             [
              1,
              "#f0f921"
             ]
            ],
            "type": "histogram2d"
           }
          ],
          "histogram2dcontour": [
           {
            "colorbar": {
             "outlinewidth": 0,
             "ticks": ""
            },
            "colorscale": [
             [
              0,
              "#0d0887"
             ],
             [
              0.1111111111111111,
              "#46039f"
             ],
             [
              0.2222222222222222,
              "#7201a8"
             ],
             [
              0.3333333333333333,
              "#9c179e"
             ],
             [
              0.4444444444444444,
              "#bd3786"
             ],
             [
              0.5555555555555556,
              "#d8576b"
             ],
             [
              0.6666666666666666,
              "#ed7953"
             ],
             [
              0.7777777777777778,
              "#fb9f3a"
             ],
             [
              0.8888888888888888,
              "#fdca26"
             ],
             [
              1,
              "#f0f921"
             ]
            ],
            "type": "histogram2dcontour"
           }
          ],
          "mesh3d": [
           {
            "colorbar": {
             "outlinewidth": 0,
             "ticks": ""
            },
            "type": "mesh3d"
           }
          ],
          "parcoords": [
           {
            "line": {
             "colorbar": {
              "outlinewidth": 0,
              "ticks": ""
             }
            },
            "type": "parcoords"
           }
          ],
          "pie": [
           {
            "automargin": true,
            "type": "pie"
           }
          ],
          "scatter": [
           {
            "marker": {
             "colorbar": {
              "outlinewidth": 0,
              "ticks": ""
             }
            },
            "type": "scatter"
           }
          ],
          "scatter3d": [
           {
            "line": {
             "colorbar": {
              "outlinewidth": 0,
              "ticks": ""
             }
            },
            "marker": {
             "colorbar": {
              "outlinewidth": 0,
              "ticks": ""
             }
            },
            "type": "scatter3d"
           }
          ],
          "scattercarpet": [
           {
            "marker": {
             "colorbar": {
              "outlinewidth": 0,
              "ticks": ""
             }
            },
            "type": "scattercarpet"
           }
          ],
          "scattergeo": [
           {
            "marker": {
             "colorbar": {
              "outlinewidth": 0,
              "ticks": ""
             }
            },
            "type": "scattergeo"
           }
          ],
          "scattergl": [
           {
            "marker": {
             "colorbar": {
              "outlinewidth": 0,
              "ticks": ""
             }
            },
            "type": "scattergl"
           }
          ],
          "scattermapbox": [
           {
            "marker": {
             "colorbar": {
              "outlinewidth": 0,
              "ticks": ""
             }
            },
            "type": "scattermapbox"
           }
          ],
          "scatterpolar": [
           {
            "marker": {
             "colorbar": {
              "outlinewidth": 0,
              "ticks": ""
             }
            },
            "type": "scatterpolar"
           }
          ],
          "scatterpolargl": [
           {
            "marker": {
             "colorbar": {
              "outlinewidth": 0,
              "ticks": ""
             }
            },
            "type": "scatterpolargl"
           }
          ],
          "scatterternary": [
           {
            "marker": {
             "colorbar": {
              "outlinewidth": 0,
              "ticks": ""
             }
            },
            "type": "scatterternary"
           }
          ],
          "surface": [
           {
            "colorbar": {
             "outlinewidth": 0,
             "ticks": ""
            },
            "colorscale": [
             [
              0,
              "#0d0887"
             ],
             [
              0.1111111111111111,
              "#46039f"
             ],
             [
              0.2222222222222222,
              "#7201a8"
             ],
             [
              0.3333333333333333,
              "#9c179e"
             ],
             [
              0.4444444444444444,
              "#bd3786"
             ],
             [
              0.5555555555555556,
              "#d8576b"
             ],
             [
              0.6666666666666666,
              "#ed7953"
             ],
             [
              0.7777777777777778,
              "#fb9f3a"
             ],
             [
              0.8888888888888888,
              "#fdca26"
             ],
             [
              1,
              "#f0f921"
             ]
            ],
            "type": "surface"
           }
          ],
          "table": [
           {
            "cells": {
             "fill": {
              "color": "#EBF0F8"
             },
             "line": {
              "color": "white"
             }
            },
            "header": {
             "fill": {
              "color": "#C8D4E3"
             },
             "line": {
              "color": "white"
             }
            },
            "type": "table"
           }
          ]
         },
         "layout": {
          "annotationdefaults": {
           "arrowcolor": "#2a3f5f",
           "arrowhead": 0,
           "arrowwidth": 1
          },
          "autotypenumbers": "strict",
          "coloraxis": {
           "colorbar": {
            "outlinewidth": 0,
            "ticks": ""
           }
          },
          "colorscale": {
           "diverging": [
            [
             0,
             "#8e0152"
            ],
            [
             0.1,
             "#c51b7d"
            ],
            [
             0.2,
             "#de77ae"
            ],
            [
             0.3,
             "#f1b6da"
            ],
            [
             0.4,
             "#fde0ef"
            ],
            [
             0.5,
             "#f7f7f7"
            ],
            [
             0.6,
             "#e6f5d0"
            ],
            [
             0.7,
             "#b8e186"
            ],
            [
             0.8,
             "#7fbc41"
            ],
            [
             0.9,
             "#4d9221"
            ],
            [
             1,
             "#276419"
            ]
           ],
           "sequential": [
            [
             0,
             "#0d0887"
            ],
            [
             0.1111111111111111,
             "#46039f"
            ],
            [
             0.2222222222222222,
             "#7201a8"
            ],
            [
             0.3333333333333333,
             "#9c179e"
            ],
            [
             0.4444444444444444,
             "#bd3786"
            ],
            [
             0.5555555555555556,
             "#d8576b"
            ],
            [
             0.6666666666666666,
             "#ed7953"
            ],
            [
             0.7777777777777778,
             "#fb9f3a"
            ],
            [
             0.8888888888888888,
             "#fdca26"
            ],
            [
             1,
             "#f0f921"
            ]
           ],
           "sequentialminus": [
            [
             0,
             "#0d0887"
            ],
            [
             0.1111111111111111,
             "#46039f"
            ],
            [
             0.2222222222222222,
             "#7201a8"
            ],
            [
             0.3333333333333333,
             "#9c179e"
            ],
            [
             0.4444444444444444,
             "#bd3786"
            ],
            [
             0.5555555555555556,
             "#d8576b"
            ],
            [
             0.6666666666666666,
             "#ed7953"
            ],
            [
             0.7777777777777778,
             "#fb9f3a"
            ],
            [
             0.8888888888888888,
             "#fdca26"
            ],
            [
             1,
             "#f0f921"
            ]
           ]
          },
          "colorway": [
           "#636efa",
           "#EF553B",
           "#00cc96",
           "#ab63fa",
           "#FFA15A",
           "#19d3f3",
           "#FF6692",
           "#B6E880",
           "#FF97FF",
           "#FECB52"
          ],
          "font": {
           "color": "#2a3f5f"
          },
          "geo": {
           "bgcolor": "white",
           "lakecolor": "white",
           "landcolor": "#E5ECF6",
           "showlakes": true,
           "showland": true,
           "subunitcolor": "white"
          },
          "hoverlabel": {
           "align": "left"
          },
          "hovermode": "closest",
          "mapbox": {
           "style": "light"
          },
          "paper_bgcolor": "white",
          "plot_bgcolor": "#E5ECF6",
          "polar": {
           "angularaxis": {
            "gridcolor": "white",
            "linecolor": "white",
            "ticks": ""
           },
           "bgcolor": "#E5ECF6",
           "radialaxis": {
            "gridcolor": "white",
            "linecolor": "white",
            "ticks": ""
           }
          },
          "scene": {
           "xaxis": {
            "backgroundcolor": "#E5ECF6",
            "gridcolor": "white",
            "gridwidth": 2,
            "linecolor": "white",
            "showbackground": true,
            "ticks": "",
            "zerolinecolor": "white"
           },
           "yaxis": {
            "backgroundcolor": "#E5ECF6",
            "gridcolor": "white",
            "gridwidth": 2,
            "linecolor": "white",
            "showbackground": true,
            "ticks": "",
            "zerolinecolor": "white"
           },
           "zaxis": {
            "backgroundcolor": "#E5ECF6",
            "gridcolor": "white",
            "gridwidth": 2,
            "linecolor": "white",
            "showbackground": true,
            "ticks": "",
            "zerolinecolor": "white"
           }
          },
          "shapedefaults": {
           "line": {
            "color": "#2a3f5f"
           }
          },
          "ternary": {
           "aaxis": {
            "gridcolor": "white",
            "linecolor": "white",
            "ticks": ""
           },
           "baxis": {
            "gridcolor": "white",
            "linecolor": "white",
            "ticks": ""
           },
           "bgcolor": "#E5ECF6",
           "caxis": {
            "gridcolor": "white",
            "linecolor": "white",
            "ticks": ""
           }
          },
          "title": {
           "x": 0.05
          },
          "xaxis": {
           "automargin": true,
           "gridcolor": "white",
           "linecolor": "white",
           "ticks": "",
           "title": {
            "standoff": 15
           },
           "zerolinecolor": "white",
           "zerolinewidth": 2
          },
          "yaxis": {
           "automargin": true,
           "gridcolor": "white",
           "linecolor": "white",
           "ticks": "",
           "title": {
            "standoff": 15
           },
           "zerolinecolor": "white",
           "zerolinewidth": 2
          }
         }
        },
        "title": {
         "text": "2015 Top/Bottom Countries"
        },
        "xaxis": {
         "anchor": "y",
         "domain": [
          0,
          1
         ],
         "title": {
          "text": "Happiness Score"
         }
        },
        "yaxis": {
         "anchor": "x",
         "domain": [
          0,
          1
         ],
         "title": {
          "text": "Countries"
         }
        }
       }
      },
      "text/html": [
       "<div>                            <div id=\"85c47801-567f-4033-aa9d-a90b500df65a\" class=\"plotly-graph-div\" style=\"height:525px; width:100%;\"></div>            <script type=\"text/javascript\">                require([\"plotly\"], function(Plotly) {                    window.PLOTLYENV=window.PLOTLYENV || {};                                    if (document.getElementById(\"85c47801-567f-4033-aa9d-a90b500df65a\")) {                    Plotly.newPlot(                        \"85c47801-567f-4033-aa9d-a90b500df65a\",                        [{\"alignmentgroup\": \"True\", \"hovertemplate\": \"Contributing Factors=Economy (GDP per Capita)<br>Happiness Score=%{x}<br>Countries=%{y}<extra></extra>\", \"legendgroup\": \"Economy (GDP per Capita)\", \"marker\": {\"color\": \"rgb(166,206,227)\"}, \"name\": \"Economy (GDP per Capita)\", \"offsetgroup\": \"Economy (GDP per Capita)\", \"orientation\": \"h\", \"showlegend\": true, \"textposition\": \"auto\", \"type\": \"bar\", \"x\": [0.20868, 0.0153, 0.6632, 0.28665, 0.22208000000000003, 0.25811999999999996, 0.17417, 0.34193, 0.20824, 0.2852, 1.33358, 1.2501799999999998, 1.33171, 1.32944, 1.29025, 1.32629, 1.459, 1.32548, 1.3023200000000001, 1.3965100000000001], \"xaxis\": \"x\", \"y\": [\"Togo\", \"Burundi\", \"Syria\", \"Benin\", \"Rwanda\", \"Burkina Faso\", \"Guinea\", \"Chad\", \"Madagascar\", \"Tanzania\", \"Australia\", \"New Zealand\", \"Sweden\", \"Netherlands\", \"Finland\", \"Canada\", \"Norway\", \"Denmark\", \"Iceland\", \"Switzerland\"], \"yaxis\": \"y\"}, {\"alignmentgroup\": \"True\", \"hovertemplate\": \"Contributing Factors=Health (Life Expectancy)<br>Happiness Score=%{x}<br>Countries=%{y}<extra></extra>\", \"legendgroup\": \"Health (Life Expectancy)\", \"marker\": {\"color\": \"rgb(31,120,180)\"}, \"name\": \"Health (Life Expectancy)\", \"offsetgroup\": \"Health (Life Expectancy)\", \"orientation\": \"h\", \"showlegend\": true, \"textposition\": \"auto\", \"type\": \"bar\", \"x\": [0.28443, 0.22396, 0.7219300000000001, 0.3191, 0.42863999999999997, 0.27125, 0.24009, 0.1501, 0.46721, 0.38215, 0.93156, 0.9083700000000001, 0.9108700000000001, 0.89284, 0.8891100000000001, 0.9056299999999999, 0.88521, 0.87464, 0.94784, 0.9414299999999999], \"xaxis\": \"x\", \"y\": [\"Togo\", \"Burundi\", \"Syria\", \"Benin\", \"Rwanda\", \"Burkina Faso\", \"Guinea\", \"Chad\", \"Madagascar\", \"Tanzania\", \"Australia\", \"New Zealand\", \"Sweden\", \"Netherlands\", \"Finland\", \"Canada\", \"Norway\", \"Denmark\", \"Iceland\", \"Switzerland\"], \"yaxis\": \"y\"}, {\"alignmentgroup\": \"True\", \"hovertemplate\": \"Contributing Factors=Generosity<br>Happiness Score=%{x}<br>Countries=%{y}<extra></extra>\", \"legendgroup\": \"Generosity\", \"marker\": {\"color\": \"rgb(178,223,138)\"}, \"name\": \"Generosity\", \"offsetgroup\": \"Generosity\", \"orientation\": \"h\", \"showlegend\": true, \"textposition\": \"auto\", \"type\": \"bar\", \"x\": [0.16680999999999999, 0.19727, 0.47179, 0.1826, 0.22628, 0.21746999999999997, 0.28657, 0.18386, 0.21333000000000002, 0.34376999999999996, 0.43562, 0.47501000000000004, 0.36262, 0.4761, 0.23351, 0.45811, 0.34699, 0.34139, 0.4363, 0.29678000000000004], \"xaxis\": \"x\", \"y\": [\"Togo\", \"Burundi\", \"Syria\", \"Benin\", \"Rwanda\", \"Burkina Faso\", \"Guinea\", \"Chad\", \"Madagascar\", \"Tanzania\", \"Australia\", \"New Zealand\", \"Sweden\", \"Netherlands\", \"Finland\", \"Canada\", \"Norway\", \"Denmark\", \"Iceland\", \"Switzerland\"], \"yaxis\": \"y\"}, {\"alignmentgroup\": \"True\", \"hovertemplate\": \"Contributing Factors=Freedom<br>Happiness Score=%{x}<br>Countries=%{y}<extra></extra>\", \"legendgroup\": \"Freedom\", \"marker\": {\"color\": \"rgb(51,160,44)\"}, \"name\": \"Freedom\", \"offsetgroup\": \"Freedom\", \"orientation\": \"h\", \"showlegend\": true, \"textposition\": \"auto\", \"type\": \"bar\", \"x\": [0.36453, 0.1185, 0.15684, 0.4845, 0.59201, 0.39493, 0.37725, 0.23501, 0.19184, 0.32878, 0.6512399999999999, 0.6393800000000001, 0.6598, 0.6157600000000001, 0.64169, 0.63297, 0.66973, 0.6493800000000001, 0.6287699999999999, 0.66557], \"xaxis\": \"x\", \"y\": [\"Togo\", \"Burundi\", \"Syria\", \"Benin\", \"Rwanda\", \"Burkina Faso\", \"Guinea\", \"Chad\", \"Madagascar\", \"Tanzania\", \"Australia\", \"New Zealand\", \"Sweden\", \"Netherlands\", \"Finland\", \"Canada\", \"Norway\", \"Denmark\", \"Iceland\", \"Switzerland\"], \"yaxis\": \"y\"}, {\"alignmentgroup\": \"True\", \"hovertemplate\": \"Contributing Factors=Trust (Government Corruption)<br>Happiness Score=%{x}<br>Countries=%{y}<extra></extra>\", \"legendgroup\": \"Trust (Government Corruption)\", \"marker\": {\"color\": \"rgb(251,154,153)\"}, \"name\": \"Trust (Government Corruption)\", \"offsetgroup\": \"Trust (Government Corruption)\", \"orientation\": \"h\", \"showlegend\": true, \"textposition\": \"auto\", \"type\": \"bar\", \"x\": [0.10730999999999999, 0.10062, 0.18905999999999998, 0.0801, 0.55191, 0.12832000000000002, 0.12139000000000001, 0.05269, 0.08123999999999999, 0.05747000000000001, 0.35636999999999996, 0.42922, 0.43843999999999994, 0.31814000000000003, 0.41372, 0.32957, 0.36503, 0.48357, 0.14145, 0.41978000000000004], \"xaxis\": \"x\", \"y\": [\"Togo\", \"Burundi\", \"Syria\", \"Benin\", \"Rwanda\", \"Burkina Faso\", \"Guinea\", \"Chad\", \"Madagascar\", \"Tanzania\", \"Australia\", \"New Zealand\", \"Sweden\", \"Netherlands\", \"Finland\", \"Canada\", \"Norway\", \"Denmark\", \"Iceland\", \"Switzerland\"], \"yaxis\": \"y\"}],                        {\"barmode\": \"stack\", \"legend\": {\"title\": {\"text\": \"Contributing Factors\"}, \"tracegroupgap\": 0}, \"template\": {\"data\": {\"bar\": [{\"error_x\": {\"color\": \"#2a3f5f\"}, \"error_y\": {\"color\": \"#2a3f5f\"}, \"marker\": {\"line\": {\"color\": \"#E5ECF6\", \"width\": 0.5}}, \"type\": \"bar\"}], \"barpolar\": [{\"marker\": {\"line\": {\"color\": \"#E5ECF6\", \"width\": 0.5}}, \"type\": \"barpolar\"}], \"carpet\": [{\"aaxis\": {\"endlinecolor\": \"#2a3f5f\", \"gridcolor\": \"white\", \"linecolor\": \"white\", \"minorgridcolor\": \"white\", \"startlinecolor\": \"#2a3f5f\"}, \"baxis\": {\"endlinecolor\": \"#2a3f5f\", \"gridcolor\": \"white\", \"linecolor\": \"white\", \"minorgridcolor\": \"white\", \"startlinecolor\": \"#2a3f5f\"}, \"type\": \"carpet\"}], \"choropleth\": [{\"colorbar\": {\"outlinewidth\": 0, \"ticks\": \"\"}, \"type\": \"choropleth\"}], \"contour\": [{\"colorbar\": {\"outlinewidth\": 0, \"ticks\": \"\"}, \"colorscale\": [[0.0, \"#0d0887\"], [0.1111111111111111, \"#46039f\"], [0.2222222222222222, \"#7201a8\"], [0.3333333333333333, \"#9c179e\"], [0.4444444444444444, \"#bd3786\"], [0.5555555555555556, \"#d8576b\"], [0.6666666666666666, \"#ed7953\"], [0.7777777777777778, \"#fb9f3a\"], [0.8888888888888888, \"#fdca26\"], [1.0, \"#f0f921\"]], \"type\": \"contour\"}], \"contourcarpet\": [{\"colorbar\": {\"outlinewidth\": 0, \"ticks\": \"\"}, \"type\": \"contourcarpet\"}], \"heatmap\": [{\"colorbar\": {\"outlinewidth\": 0, \"ticks\": \"\"}, \"colorscale\": [[0.0, \"#0d0887\"], [0.1111111111111111, \"#46039f\"], [0.2222222222222222, \"#7201a8\"], [0.3333333333333333, \"#9c179e\"], [0.4444444444444444, \"#bd3786\"], [0.5555555555555556, \"#d8576b\"], [0.6666666666666666, \"#ed7953\"], [0.7777777777777778, \"#fb9f3a\"], [0.8888888888888888, \"#fdca26\"], [1.0, \"#f0f921\"]], \"type\": \"heatmap\"}], \"heatmapgl\": [{\"colorbar\": {\"outlinewidth\": 0, \"ticks\": \"\"}, \"colorscale\": [[0.0, \"#0d0887\"], [0.1111111111111111, \"#46039f\"], [0.2222222222222222, \"#7201a8\"], [0.3333333333333333, \"#9c179e\"], [0.4444444444444444, \"#bd3786\"], [0.5555555555555556, \"#d8576b\"], [0.6666666666666666, \"#ed7953\"], [0.7777777777777778, \"#fb9f3a\"], [0.8888888888888888, \"#fdca26\"], [1.0, \"#f0f921\"]], \"type\": \"heatmapgl\"}], \"histogram\": [{\"marker\": {\"colorbar\": {\"outlinewidth\": 0, \"ticks\": \"\"}}, \"type\": \"histogram\"}], \"histogram2d\": [{\"colorbar\": {\"outlinewidth\": 0, \"ticks\": \"\"}, \"colorscale\": [[0.0, \"#0d0887\"], [0.1111111111111111, \"#46039f\"], [0.2222222222222222, \"#7201a8\"], [0.3333333333333333, \"#9c179e\"], [0.4444444444444444, \"#bd3786\"], [0.5555555555555556, \"#d8576b\"], [0.6666666666666666, \"#ed7953\"], [0.7777777777777778, \"#fb9f3a\"], [0.8888888888888888, \"#fdca26\"], [1.0, \"#f0f921\"]], \"type\": \"histogram2d\"}], \"histogram2dcontour\": [{\"colorbar\": {\"outlinewidth\": 0, \"ticks\": \"\"}, \"colorscale\": [[0.0, \"#0d0887\"], [0.1111111111111111, \"#46039f\"], [0.2222222222222222, \"#7201a8\"], [0.3333333333333333, \"#9c179e\"], [0.4444444444444444, \"#bd3786\"], [0.5555555555555556, \"#d8576b\"], [0.6666666666666666, \"#ed7953\"], [0.7777777777777778, \"#fb9f3a\"], [0.8888888888888888, \"#fdca26\"], [1.0, \"#f0f921\"]], \"type\": \"histogram2dcontour\"}], \"mesh3d\": [{\"colorbar\": {\"outlinewidth\": 0, \"ticks\": \"\"}, \"type\": \"mesh3d\"}], \"parcoords\": [{\"line\": {\"colorbar\": {\"outlinewidth\": 0, \"ticks\": \"\"}}, \"type\": \"parcoords\"}], \"pie\": [{\"automargin\": true, \"type\": \"pie\"}], \"scatter\": [{\"marker\": {\"colorbar\": {\"outlinewidth\": 0, \"ticks\": \"\"}}, \"type\": \"scatter\"}], \"scatter3d\": [{\"line\": {\"colorbar\": {\"outlinewidth\": 0, \"ticks\": \"\"}}, \"marker\": {\"colorbar\": {\"outlinewidth\": 0, \"ticks\": \"\"}}, \"type\": \"scatter3d\"}], \"scattercarpet\": [{\"marker\": {\"colorbar\": {\"outlinewidth\": 0, \"ticks\": \"\"}}, \"type\": \"scattercarpet\"}], \"scattergeo\": [{\"marker\": {\"colorbar\": {\"outlinewidth\": 0, \"ticks\": \"\"}}, \"type\": \"scattergeo\"}], \"scattergl\": [{\"marker\": {\"colorbar\": {\"outlinewidth\": 0, \"ticks\": \"\"}}, \"type\": \"scattergl\"}], \"scattermapbox\": [{\"marker\": {\"colorbar\": {\"outlinewidth\": 0, \"ticks\": \"\"}}, \"type\": \"scattermapbox\"}], \"scatterpolar\": [{\"marker\": {\"colorbar\": {\"outlinewidth\": 0, \"ticks\": \"\"}}, \"type\": \"scatterpolar\"}], \"scatterpolargl\": [{\"marker\": {\"colorbar\": {\"outlinewidth\": 0, \"ticks\": \"\"}}, \"type\": \"scatterpolargl\"}], \"scatterternary\": [{\"marker\": {\"colorbar\": {\"outlinewidth\": 0, \"ticks\": \"\"}}, \"type\": \"scatterternary\"}], \"surface\": [{\"colorbar\": {\"outlinewidth\": 0, \"ticks\": \"\"}, \"colorscale\": [[0.0, \"#0d0887\"], [0.1111111111111111, \"#46039f\"], [0.2222222222222222, \"#7201a8\"], [0.3333333333333333, \"#9c179e\"], [0.4444444444444444, \"#bd3786\"], [0.5555555555555556, \"#d8576b\"], [0.6666666666666666, \"#ed7953\"], [0.7777777777777778, \"#fb9f3a\"], [0.8888888888888888, \"#fdca26\"], [1.0, \"#f0f921\"]], \"type\": \"surface\"}], \"table\": [{\"cells\": {\"fill\": {\"color\": \"#EBF0F8\"}, \"line\": {\"color\": \"white\"}}, \"header\": {\"fill\": {\"color\": \"#C8D4E3\"}, \"line\": {\"color\": \"white\"}}, \"type\": \"table\"}]}, \"layout\": {\"annotationdefaults\": {\"arrowcolor\": \"#2a3f5f\", \"arrowhead\": 0, \"arrowwidth\": 1}, \"autotypenumbers\": \"strict\", \"coloraxis\": {\"colorbar\": {\"outlinewidth\": 0, \"ticks\": \"\"}}, \"colorscale\": {\"diverging\": [[0, \"#8e0152\"], [0.1, \"#c51b7d\"], [0.2, \"#de77ae\"], [0.3, \"#f1b6da\"], [0.4, \"#fde0ef\"], [0.5, \"#f7f7f7\"], [0.6, \"#e6f5d0\"], [0.7, \"#b8e186\"], [0.8, \"#7fbc41\"], [0.9, \"#4d9221\"], [1, \"#276419\"]], \"sequential\": [[0.0, \"#0d0887\"], [0.1111111111111111, \"#46039f\"], [0.2222222222222222, \"#7201a8\"], [0.3333333333333333, \"#9c179e\"], [0.4444444444444444, \"#bd3786\"], [0.5555555555555556, \"#d8576b\"], [0.6666666666666666, \"#ed7953\"], [0.7777777777777778, \"#fb9f3a\"], [0.8888888888888888, \"#fdca26\"], [1.0, \"#f0f921\"]], \"sequentialminus\": [[0.0, \"#0d0887\"], [0.1111111111111111, \"#46039f\"], [0.2222222222222222, \"#7201a8\"], [0.3333333333333333, \"#9c179e\"], [0.4444444444444444, \"#bd3786\"], [0.5555555555555556, \"#d8576b\"], [0.6666666666666666, \"#ed7953\"], [0.7777777777777778, \"#fb9f3a\"], [0.8888888888888888, \"#fdca26\"], [1.0, \"#f0f921\"]]}, \"colorway\": [\"#636efa\", \"#EF553B\", \"#00cc96\", \"#ab63fa\", \"#FFA15A\", \"#19d3f3\", \"#FF6692\", \"#B6E880\", \"#FF97FF\", \"#FECB52\"], \"font\": {\"color\": \"#2a3f5f\"}, \"geo\": {\"bgcolor\": \"white\", \"lakecolor\": \"white\", \"landcolor\": \"#E5ECF6\", \"showlakes\": true, \"showland\": true, \"subunitcolor\": \"white\"}, \"hoverlabel\": {\"align\": \"left\"}, \"hovermode\": \"closest\", \"mapbox\": {\"style\": \"light\"}, \"paper_bgcolor\": \"white\", \"plot_bgcolor\": \"#E5ECF6\", \"polar\": {\"angularaxis\": {\"gridcolor\": \"white\", \"linecolor\": \"white\", \"ticks\": \"\"}, \"bgcolor\": \"#E5ECF6\", \"radialaxis\": {\"gridcolor\": \"white\", \"linecolor\": \"white\", \"ticks\": \"\"}}, \"scene\": {\"xaxis\": {\"backgroundcolor\": \"#E5ECF6\", \"gridcolor\": \"white\", \"gridwidth\": 2, \"linecolor\": \"white\", \"showbackground\": true, \"ticks\": \"\", \"zerolinecolor\": \"white\"}, \"yaxis\": {\"backgroundcolor\": \"#E5ECF6\", \"gridcolor\": \"white\", \"gridwidth\": 2, \"linecolor\": \"white\", \"showbackground\": true, \"ticks\": \"\", \"zerolinecolor\": \"white\"}, \"zaxis\": {\"backgroundcolor\": \"#E5ECF6\", \"gridcolor\": \"white\", \"gridwidth\": 2, \"linecolor\": \"white\", \"showbackground\": true, \"ticks\": \"\", \"zerolinecolor\": \"white\"}}, \"shapedefaults\": {\"line\": {\"color\": \"#2a3f5f\"}}, \"ternary\": {\"aaxis\": {\"gridcolor\": \"white\", \"linecolor\": \"white\", \"ticks\": \"\"}, \"baxis\": {\"gridcolor\": \"white\", \"linecolor\": \"white\", \"ticks\": \"\"}, \"bgcolor\": \"#E5ECF6\", \"caxis\": {\"gridcolor\": \"white\", \"linecolor\": \"white\", \"ticks\": \"\"}}, \"title\": {\"x\": 0.05}, \"xaxis\": {\"automargin\": true, \"gridcolor\": \"white\", \"linecolor\": \"white\", \"ticks\": \"\", \"title\": {\"standoff\": 15}, \"zerolinecolor\": \"white\", \"zerolinewidth\": 2}, \"yaxis\": {\"automargin\": true, \"gridcolor\": \"white\", \"linecolor\": \"white\", \"ticks\": \"\", \"title\": {\"standoff\": 15}, \"zerolinecolor\": \"white\", \"zerolinewidth\": 2}}}, \"title\": {\"text\": \"2015 Top/Bottom Countries\"}, \"xaxis\": {\"anchor\": \"y\", \"domain\": [0.0, 1.0], \"title\": {\"text\": \"Happiness Score\"}}, \"yaxis\": {\"anchor\": \"x\", \"domain\": [0.0, 1.0], \"title\": {\"text\": \"Countries\"}}},                        {\"responsive\": true}                    ).then(function(){\n",
       "                            \n",
       "var gd = document.getElementById('85c47801-567f-4033-aa9d-a90b500df65a');\n",
       "var x = new MutationObserver(function (mutations, observer) {{\n",
       "        var display = window.getComputedStyle(gd).display;\n",
       "        if (!display || display === 'none') {{\n",
       "            console.log([gd, 'removed!']);\n",
       "            Plotly.purge(gd);\n",
       "            observer.disconnect();\n",
       "        }}\n",
       "}});\n",
       "\n",
       "// Listen for the removal of the full notebook cells\n",
       "var notebookContainer = gd.closest('#notebook-container');\n",
       "if (notebookContainer) {{\n",
       "    x.observe(notebookContainer, {childList: true});\n",
       "}}\n",
       "\n",
       "// Listen for the clearing of the current output cell\n",
       "var outputEl = gd.closest('.output');\n",
       "if (outputEl) {{\n",
       "    x.observe(outputEl, {childList: true});\n",
       "}}\n",
       "\n",
       "                        })                };                });            </script>        </div>"
      ]
     },
     "metadata": {},
     "output_type": "display_data"
    },
    {
     "data": {
      "application/vnd.plotly.v1+json": {
       "config": {
        "plotlyServerURL": "https://plot.ly"
       },
       "data": [
        {
         "alignmentgroup": "True",
         "hovertemplate": "Contributing Factors=Economy (GDP per Capita)<br>Happiness Score=%{x}<br>Countries=%{y}<extra></extra>",
         "legendgroup": "Economy (GDP per Capita)",
         "marker": {
          "color": "rgb(166,206,227)"
         },
         "name": "Economy (GDP per Capita)",
         "offsetgroup": "Economy (GDP per Capita)",
         "orientation": "h",
         "showlegend": true,
         "textposition": "auto",
         "type": "bar",
         "x": [
          0.06831,
          0.7471899999999999,
          0.28123000000000004,
          0.39499,
          0.32846,
          0.22415,
          0.10705999999999999,
          0.47155,
          0.27954,
          0.57939,
          1.45181,
          1.4444299999999999,
          1.36066,
          1.46468,
          1.44015,
          1.40598,
          1.57744,
          1.42666,
          1.5273299999999999,
          1.4417799999999998
         ],
         "xaxis": "x",
         "y": [
          "Burundi",
          "Syria",
          "Togo",
          "Benin",
          "Rwanda",
          "Guinea",
          "Liberia",
          "Tanzania",
          "Madagascar",
          "Yemen",
          "Sweden",
          "Australia",
          "New Zealand",
          "Netherlands",
          "Canada",
          "Finland",
          "Norway",
          "Iceland",
          "Switzerland",
          "Denmark"
         ],
         "yaxis": "y"
        },
        {
         "alignmentgroup": "True",
         "hovertemplate": "Contributing Factors=Health (Life Expectancy)<br>Happiness Score=%{x}<br>Countries=%{y}<extra></extra>",
         "legendgroup": "Health (Life Expectancy)",
         "marker": {
          "color": "rgb(31,120,180)"
         },
         "name": "Health (Life Expectancy)",
         "offsetgroup": "Health (Life Expectancy)",
         "orientation": "h",
         "showlegend": true,
         "textposition": "auto",
         "type": "bar",
         "x": [
          0.15747,
          0.6299399999999999,
          0.24811,
          0.21028000000000002,
          0.31865,
          0.18829,
          0.23165,
          0.35700000000000004,
          0.37109000000000003,
          0.31048000000000003,
          0.83121,
          0.8512,
          0.83096,
          0.8123100000000001,
          0.8276,
          0.81091,
          0.79579,
          0.8673299999999999,
          0.86303,
          0.79504
         ],
         "xaxis": "x",
         "y": [
          "Burundi",
          "Syria",
          "Togo",
          "Benin",
          "Rwanda",
          "Guinea",
          "Liberia",
          "Tanzania",
          "Madagascar",
          "Yemen",
          "Sweden",
          "Australia",
          "New Zealand",
          "Netherlands",
          "Canada",
          "Finland",
          "Norway",
          "Iceland",
          "Switzerland",
          "Denmark"
         ],
         "yaxis": "y"
        },
        {
         "alignmentgroup": "True",
         "hovertemplate": "Contributing Factors=Generosity<br>Happiness Score=%{x}<br>Countries=%{y}<extra></extra>",
         "legendgroup": "Generosity",
         "marker": {
          "color": "rgb(178,223,138)"
         },
         "name": "Generosity",
         "offsetgroup": "Generosity",
         "orientation": "h",
         "showlegend": true,
         "textposition": "auto",
         "type": "bar",
         "x": [
          0.2029,
          0.48396999999999996,
          0.17517,
          0.2018,
          0.23551999999999998,
          0.29914,
          0.24063,
          0.31472,
          0.2204,
          0.09821,
          0.38254,
          0.47407,
          0.49401000000000006,
          0.47416,
          0.44833999999999996,
          0.25492,
          0.37895,
          0.47678000000000004,
          0.28083,
          0.36171
         ],
         "xaxis": "x",
         "y": [
          "Burundi",
          "Syria",
          "Togo",
          "Benin",
          "Rwanda",
          "Guinea",
          "Liberia",
          "Tanzania",
          "Madagascar",
          "Yemen",
          "Sweden",
          "Australia",
          "New Zealand",
          "Netherlands",
          "Canada",
          "Finland",
          "Norway",
          "Iceland",
          "Switzerland",
          "Denmark"
         ],
         "yaxis": "y"
        },
        {
         "alignmentgroup": "True",
         "hovertemplate": "Contributing Factors=Freedom<br>Happiness Score=%{x}<br>Countries=%{y}<extra></extra>",
         "legendgroup": "Freedom",
         "marker": {
          "color": "rgb(51,160,44)"
         },
         "name": "Freedom",
         "offsetgroup": "Freedom",
         "orientation": "h",
         "showlegend": true,
         "textposition": "auto",
         "type": "bar",
         "x": [
          0.0432,
          0.06912,
          0.34678000000000003,
          0.39747,
          0.5432,
          0.30953,
          0.25748000000000004,
          0.3176,
          0.13684000000000002,
          0.2287,
          0.58218,
          0.5683699999999999,
          0.5814699999999999,
          0.55211,
          0.5737,
          0.57104,
          0.59609,
          0.56624,
          0.58557,
          0.5794100000000001
         ],
         "xaxis": "x",
         "y": [
          "Burundi",
          "Syria",
          "Togo",
          "Benin",
          "Rwanda",
          "Guinea",
          "Liberia",
          "Tanzania",
          "Madagascar",
          "Yemen",
          "Sweden",
          "Australia",
          "New Zealand",
          "Netherlands",
          "Canada",
          "Finland",
          "Norway",
          "Iceland",
          "Switzerland",
          "Denmark"
         ],
         "yaxis": "y"
        },
        {
         "alignmentgroup": "True",
         "hovertemplate": "Contributing Factors=Trust (Government Corruption)<br>Happiness Score=%{x}<br>Countries=%{y}<extra></extra>",
         "legendgroup": "Trust (Government Corruption)",
         "marker": {
          "color": "rgb(251,154,153)"
         },
         "name": "Trust (Government Corruption)",
         "offsetgroup": "Trust (Government Corruption)",
         "orientation": "h",
         "showlegend": true,
         "textposition": "auto",
         "type": "bar",
         "x": [
          0.09419,
          0.17232999999999998,
          0.11587,
          0.06681000000000001,
          0.50521,
          0.1192,
          0.04852,
          0.05099,
          0.07506,
          0.05892000000000001,
          0.40867,
          0.32331,
          0.41903999999999997,
          0.29927,
          0.31329,
          0.41003999999999996,
          0.35775999999999997,
          0.14975,
          0.41203,
          0.44453000000000004
         ],
         "xaxis": "x",
         "y": [
          "Burundi",
          "Syria",
          "Togo",
          "Benin",
          "Rwanda",
          "Guinea",
          "Liberia",
          "Tanzania",
          "Madagascar",
          "Yemen",
          "Sweden",
          "Australia",
          "New Zealand",
          "Netherlands",
          "Canada",
          "Finland",
          "Norway",
          "Iceland",
          "Switzerland",
          "Denmark"
         ],
         "yaxis": "y"
        }
       ],
       "layout": {
        "barmode": "stack",
        "legend": {
         "title": {
          "text": "Contributing Factors"
         },
         "tracegroupgap": 0
        },
        "template": {
         "data": {
          "bar": [
           {
            "error_x": {
             "color": "#2a3f5f"
            },
            "error_y": {
             "color": "#2a3f5f"
            },
            "marker": {
             "line": {
              "color": "#E5ECF6",
              "width": 0.5
             }
            },
            "type": "bar"
           }
          ],
          "barpolar": [
           {
            "marker": {
             "line": {
              "color": "#E5ECF6",
              "width": 0.5
             }
            },
            "type": "barpolar"
           }
          ],
          "carpet": [
           {
            "aaxis": {
             "endlinecolor": "#2a3f5f",
             "gridcolor": "white",
             "linecolor": "white",
             "minorgridcolor": "white",
             "startlinecolor": "#2a3f5f"
            },
            "baxis": {
             "endlinecolor": "#2a3f5f",
             "gridcolor": "white",
             "linecolor": "white",
             "minorgridcolor": "white",
             "startlinecolor": "#2a3f5f"
            },
            "type": "carpet"
           }
          ],
          "choropleth": [
           {
            "colorbar": {
             "outlinewidth": 0,
             "ticks": ""
            },
            "type": "choropleth"
           }
          ],
          "contour": [
           {
            "colorbar": {
             "outlinewidth": 0,
             "ticks": ""
            },
            "colorscale": [
             [
              0,
              "#0d0887"
             ],
             [
              0.1111111111111111,
              "#46039f"
             ],
             [
              0.2222222222222222,
              "#7201a8"
             ],
             [
              0.3333333333333333,
              "#9c179e"
             ],
             [
              0.4444444444444444,
              "#bd3786"
             ],
             [
              0.5555555555555556,
              "#d8576b"
             ],
             [
              0.6666666666666666,
              "#ed7953"
             ],
             [
              0.7777777777777778,
              "#fb9f3a"
             ],
             [
              0.8888888888888888,
              "#fdca26"
             ],
             [
              1,
              "#f0f921"
             ]
            ],
            "type": "contour"
           }
          ],
          "contourcarpet": [
           {
            "colorbar": {
             "outlinewidth": 0,
             "ticks": ""
            },
            "type": "contourcarpet"
           }
          ],
          "heatmap": [
           {
            "colorbar": {
             "outlinewidth": 0,
             "ticks": ""
            },
            "colorscale": [
             [
              0,
              "#0d0887"
             ],
             [
              0.1111111111111111,
              "#46039f"
             ],
             [
              0.2222222222222222,
              "#7201a8"
             ],
             [
              0.3333333333333333,
              "#9c179e"
             ],
             [
              0.4444444444444444,
              "#bd3786"
             ],
             [
              0.5555555555555556,
              "#d8576b"
             ],
             [
              0.6666666666666666,
              "#ed7953"
             ],
             [
              0.7777777777777778,
              "#fb9f3a"
             ],
             [
              0.8888888888888888,
              "#fdca26"
             ],
             [
              1,
              "#f0f921"
             ]
            ],
            "type": "heatmap"
           }
          ],
          "heatmapgl": [
           {
            "colorbar": {
             "outlinewidth": 0,
             "ticks": ""
            },
            "colorscale": [
             [
              0,
              "#0d0887"
             ],
             [
              0.1111111111111111,
              "#46039f"
             ],
             [
              0.2222222222222222,
              "#7201a8"
             ],
             [
              0.3333333333333333,
              "#9c179e"
             ],
             [
              0.4444444444444444,
              "#bd3786"
             ],
             [
              0.5555555555555556,
              "#d8576b"
             ],
             [
              0.6666666666666666,
              "#ed7953"
             ],
             [
              0.7777777777777778,
              "#fb9f3a"
             ],
             [
              0.8888888888888888,
              "#fdca26"
             ],
             [
              1,
              "#f0f921"
             ]
            ],
            "type": "heatmapgl"
           }
          ],
          "histogram": [
           {
            "marker": {
             "colorbar": {
              "outlinewidth": 0,
              "ticks": ""
             }
            },
            "type": "histogram"
           }
          ],
          "histogram2d": [
           {
            "colorbar": {
             "outlinewidth": 0,
             "ticks": ""
            },
            "colorscale": [
             [
              0,
              "#0d0887"
             ],
             [
              0.1111111111111111,
              "#46039f"
             ],
             [
              0.2222222222222222,
              "#7201a8"
             ],
             [
              0.3333333333333333,
              "#9c179e"
             ],
             [
              0.4444444444444444,
              "#bd3786"
             ],
             [
              0.5555555555555556,
              "#d8576b"
             ],
             [
              0.6666666666666666,
              "#ed7953"
             ],
             [
              0.7777777777777778,
              "#fb9f3a"
             ],
             [
              0.8888888888888888,
              "#fdca26"
             ],
             [
              1,
              "#f0f921"
             ]
            ],
            "type": "histogram2d"
           }
          ],
          "histogram2dcontour": [
           {
            "colorbar": {
             "outlinewidth": 0,
             "ticks": ""
            },
            "colorscale": [
             [
              0,
              "#0d0887"
             ],
             [
              0.1111111111111111,
              "#46039f"
             ],
             [
              0.2222222222222222,
              "#7201a8"
             ],
             [
              0.3333333333333333,
              "#9c179e"
             ],
             [
              0.4444444444444444,
              "#bd3786"
             ],
             [
              0.5555555555555556,
              "#d8576b"
             ],
             [
              0.6666666666666666,
              "#ed7953"
             ],
             [
              0.7777777777777778,
              "#fb9f3a"
             ],
             [
              0.8888888888888888,
              "#fdca26"
             ],
             [
              1,
              "#f0f921"
             ]
            ],
            "type": "histogram2dcontour"
           }
          ],
          "mesh3d": [
           {
            "colorbar": {
             "outlinewidth": 0,
             "ticks": ""
            },
            "type": "mesh3d"
           }
          ],
          "parcoords": [
           {
            "line": {
             "colorbar": {
              "outlinewidth": 0,
              "ticks": ""
             }
            },
            "type": "parcoords"
           }
          ],
          "pie": [
           {
            "automargin": true,
            "type": "pie"
           }
          ],
          "scatter": [
           {
            "marker": {
             "colorbar": {
              "outlinewidth": 0,
              "ticks": ""
             }
            },
            "type": "scatter"
           }
          ],
          "scatter3d": [
           {
            "line": {
             "colorbar": {
              "outlinewidth": 0,
              "ticks": ""
             }
            },
            "marker": {
             "colorbar": {
              "outlinewidth": 0,
              "ticks": ""
             }
            },
            "type": "scatter3d"
           }
          ],
          "scattercarpet": [
           {
            "marker": {
             "colorbar": {
              "outlinewidth": 0,
              "ticks": ""
             }
            },
            "type": "scattercarpet"
           }
          ],
          "scattergeo": [
           {
            "marker": {
             "colorbar": {
              "outlinewidth": 0,
              "ticks": ""
             }
            },
            "type": "scattergeo"
           }
          ],
          "scattergl": [
           {
            "marker": {
             "colorbar": {
              "outlinewidth": 0,
              "ticks": ""
             }
            },
            "type": "scattergl"
           }
          ],
          "scattermapbox": [
           {
            "marker": {
             "colorbar": {
              "outlinewidth": 0,
              "ticks": ""
             }
            },
            "type": "scattermapbox"
           }
          ],
          "scatterpolar": [
           {
            "marker": {
             "colorbar": {
              "outlinewidth": 0,
              "ticks": ""
             }
            },
            "type": "scatterpolar"
           }
          ],
          "scatterpolargl": [
           {
            "marker": {
             "colorbar": {
              "outlinewidth": 0,
              "ticks": ""
             }
            },
            "type": "scatterpolargl"
           }
          ],
          "scatterternary": [
           {
            "marker": {
             "colorbar": {
              "outlinewidth": 0,
              "ticks": ""
             }
            },
            "type": "scatterternary"
           }
          ],
          "surface": [
           {
            "colorbar": {
             "outlinewidth": 0,
             "ticks": ""
            },
            "colorscale": [
             [
              0,
              "#0d0887"
             ],
             [
              0.1111111111111111,
              "#46039f"
             ],
             [
              0.2222222222222222,
              "#7201a8"
             ],
             [
              0.3333333333333333,
              "#9c179e"
             ],
             [
              0.4444444444444444,
              "#bd3786"
             ],
             [
              0.5555555555555556,
              "#d8576b"
             ],
             [
              0.6666666666666666,
              "#ed7953"
             ],
             [
              0.7777777777777778,
              "#fb9f3a"
             ],
             [
              0.8888888888888888,
              "#fdca26"
             ],
             [
              1,
              "#f0f921"
             ]
            ],
            "type": "surface"
           }
          ],
          "table": [
           {
            "cells": {
             "fill": {
              "color": "#EBF0F8"
             },
             "line": {
              "color": "white"
             }
            },
            "header": {
             "fill": {
              "color": "#C8D4E3"
             },
             "line": {
              "color": "white"
             }
            },
            "type": "table"
           }
          ]
         },
         "layout": {
          "annotationdefaults": {
           "arrowcolor": "#2a3f5f",
           "arrowhead": 0,
           "arrowwidth": 1
          },
          "autotypenumbers": "strict",
          "coloraxis": {
           "colorbar": {
            "outlinewidth": 0,
            "ticks": ""
           }
          },
          "colorscale": {
           "diverging": [
            [
             0,
             "#8e0152"
            ],
            [
             0.1,
             "#c51b7d"
            ],
            [
             0.2,
             "#de77ae"
            ],
            [
             0.3,
             "#f1b6da"
            ],
            [
             0.4,
             "#fde0ef"
            ],
            [
             0.5,
             "#f7f7f7"
            ],
            [
             0.6,
             "#e6f5d0"
            ],
            [
             0.7,
             "#b8e186"
            ],
            [
             0.8,
             "#7fbc41"
            ],
            [
             0.9,
             "#4d9221"
            ],
            [
             1,
             "#276419"
            ]
           ],
           "sequential": [
            [
             0,
             "#0d0887"
            ],
            [
             0.1111111111111111,
             "#46039f"
            ],
            [
             0.2222222222222222,
             "#7201a8"
            ],
            [
             0.3333333333333333,
             "#9c179e"
            ],
            [
             0.4444444444444444,
             "#bd3786"
            ],
            [
             0.5555555555555556,
             "#d8576b"
            ],
            [
             0.6666666666666666,
             "#ed7953"
            ],
            [
             0.7777777777777778,
             "#fb9f3a"
            ],
            [
             0.8888888888888888,
             "#fdca26"
            ],
            [
             1,
             "#f0f921"
            ]
           ],
           "sequentialminus": [
            [
             0,
             "#0d0887"
            ],
            [
             0.1111111111111111,
             "#46039f"
            ],
            [
             0.2222222222222222,
             "#7201a8"
            ],
            [
             0.3333333333333333,
             "#9c179e"
            ],
            [
             0.4444444444444444,
             "#bd3786"
            ],
            [
             0.5555555555555556,
             "#d8576b"
            ],
            [
             0.6666666666666666,
             "#ed7953"
            ],
            [
             0.7777777777777778,
             "#fb9f3a"
            ],
            [
             0.8888888888888888,
             "#fdca26"
            ],
            [
             1,
             "#f0f921"
            ]
           ]
          },
          "colorway": [
           "#636efa",
           "#EF553B",
           "#00cc96",
           "#ab63fa",
           "#FFA15A",
           "#19d3f3",
           "#FF6692",
           "#B6E880",
           "#FF97FF",
           "#FECB52"
          ],
          "font": {
           "color": "#2a3f5f"
          },
          "geo": {
           "bgcolor": "white",
           "lakecolor": "white",
           "landcolor": "#E5ECF6",
           "showlakes": true,
           "showland": true,
           "subunitcolor": "white"
          },
          "hoverlabel": {
           "align": "left"
          },
          "hovermode": "closest",
          "mapbox": {
           "style": "light"
          },
          "paper_bgcolor": "white",
          "plot_bgcolor": "#E5ECF6",
          "polar": {
           "angularaxis": {
            "gridcolor": "white",
            "linecolor": "white",
            "ticks": ""
           },
           "bgcolor": "#E5ECF6",
           "radialaxis": {
            "gridcolor": "white",
            "linecolor": "white",
            "ticks": ""
           }
          },
          "scene": {
           "xaxis": {
            "backgroundcolor": "#E5ECF6",
            "gridcolor": "white",
            "gridwidth": 2,
            "linecolor": "white",
            "showbackground": true,
            "ticks": "",
            "zerolinecolor": "white"
           },
           "yaxis": {
            "backgroundcolor": "#E5ECF6",
            "gridcolor": "white",
            "gridwidth": 2,
            "linecolor": "white",
            "showbackground": true,
            "ticks": "",
            "zerolinecolor": "white"
           },
           "zaxis": {
            "backgroundcolor": "#E5ECF6",
            "gridcolor": "white",
            "gridwidth": 2,
            "linecolor": "white",
            "showbackground": true,
            "ticks": "",
            "zerolinecolor": "white"
           }
          },
          "shapedefaults": {
           "line": {
            "color": "#2a3f5f"
           }
          },
          "ternary": {
           "aaxis": {
            "gridcolor": "white",
            "linecolor": "white",
            "ticks": ""
           },
           "baxis": {
            "gridcolor": "white",
            "linecolor": "white",
            "ticks": ""
           },
           "bgcolor": "#E5ECF6",
           "caxis": {
            "gridcolor": "white",
            "linecolor": "white",
            "ticks": ""
           }
          },
          "title": {
           "x": 0.05
          },
          "xaxis": {
           "automargin": true,
           "gridcolor": "white",
           "linecolor": "white",
           "ticks": "",
           "title": {
            "standoff": 15
           },
           "zerolinecolor": "white",
           "zerolinewidth": 2
          },
          "yaxis": {
           "automargin": true,
           "gridcolor": "white",
           "linecolor": "white",
           "ticks": "",
           "title": {
            "standoff": 15
           },
           "zerolinecolor": "white",
           "zerolinewidth": 2
          }
         }
        },
        "title": {
         "text": "2016 Top/Bottom Countries"
        },
        "xaxis": {
         "anchor": "y",
         "domain": [
          0,
          1
         ],
         "title": {
          "text": "Happiness Score"
         }
        },
        "yaxis": {
         "anchor": "x",
         "domain": [
          0,
          1
         ],
         "title": {
          "text": "Countries"
         }
        }
       }
      },
      "text/html": [
       "<div>                            <div id=\"3b62df7a-af9a-422b-898d-9ebadc2e1e63\" class=\"plotly-graph-div\" style=\"height:525px; width:100%;\"></div>            <script type=\"text/javascript\">                require([\"plotly\"], function(Plotly) {                    window.PLOTLYENV=window.PLOTLYENV || {};                                    if (document.getElementById(\"3b62df7a-af9a-422b-898d-9ebadc2e1e63\")) {                    Plotly.newPlot(                        \"3b62df7a-af9a-422b-898d-9ebadc2e1e63\",                        [{\"alignmentgroup\": \"True\", \"hovertemplate\": \"Contributing Factors=Economy (GDP per Capita)<br>Happiness Score=%{x}<br>Countries=%{y}<extra></extra>\", \"legendgroup\": \"Economy (GDP per Capita)\", \"marker\": {\"color\": \"rgb(166,206,227)\"}, \"name\": \"Economy (GDP per Capita)\", \"offsetgroup\": \"Economy (GDP per Capita)\", \"orientation\": \"h\", \"showlegend\": true, \"textposition\": \"auto\", \"type\": \"bar\", \"x\": [0.06831, 0.7471899999999999, 0.28123000000000004, 0.39499, 0.32846, 0.22415, 0.10705999999999999, 0.47155, 0.27954, 0.57939, 1.45181, 1.4444299999999999, 1.36066, 1.46468, 1.44015, 1.40598, 1.57744, 1.42666, 1.5273299999999999, 1.4417799999999998], \"xaxis\": \"x\", \"y\": [\"Burundi\", \"Syria\", \"Togo\", \"Benin\", \"Rwanda\", \"Guinea\", \"Liberia\", \"Tanzania\", \"Madagascar\", \"Yemen\", \"Sweden\", \"Australia\", \"New Zealand\", \"Netherlands\", \"Canada\", \"Finland\", \"Norway\", \"Iceland\", \"Switzerland\", \"Denmark\"], \"yaxis\": \"y\"}, {\"alignmentgroup\": \"True\", \"hovertemplate\": \"Contributing Factors=Health (Life Expectancy)<br>Happiness Score=%{x}<br>Countries=%{y}<extra></extra>\", \"legendgroup\": \"Health (Life Expectancy)\", \"marker\": {\"color\": \"rgb(31,120,180)\"}, \"name\": \"Health (Life Expectancy)\", \"offsetgroup\": \"Health (Life Expectancy)\", \"orientation\": \"h\", \"showlegend\": true, \"textposition\": \"auto\", \"type\": \"bar\", \"x\": [0.15747, 0.6299399999999999, 0.24811, 0.21028000000000002, 0.31865, 0.18829, 0.23165, 0.35700000000000004, 0.37109000000000003, 0.31048000000000003, 0.83121, 0.8512, 0.83096, 0.8123100000000001, 0.8276, 0.81091, 0.79579, 0.8673299999999999, 0.86303, 0.79504], \"xaxis\": \"x\", \"y\": [\"Burundi\", \"Syria\", \"Togo\", \"Benin\", \"Rwanda\", \"Guinea\", \"Liberia\", \"Tanzania\", \"Madagascar\", \"Yemen\", \"Sweden\", \"Australia\", \"New Zealand\", \"Netherlands\", \"Canada\", \"Finland\", \"Norway\", \"Iceland\", \"Switzerland\", \"Denmark\"], \"yaxis\": \"y\"}, {\"alignmentgroup\": \"True\", \"hovertemplate\": \"Contributing Factors=Generosity<br>Happiness Score=%{x}<br>Countries=%{y}<extra></extra>\", \"legendgroup\": \"Generosity\", \"marker\": {\"color\": \"rgb(178,223,138)\"}, \"name\": \"Generosity\", \"offsetgroup\": \"Generosity\", \"orientation\": \"h\", \"showlegend\": true, \"textposition\": \"auto\", \"type\": \"bar\", \"x\": [0.2029, 0.48396999999999996, 0.17517, 0.2018, 0.23551999999999998, 0.29914, 0.24063, 0.31472, 0.2204, 0.09821, 0.38254, 0.47407, 0.49401000000000006, 0.47416, 0.44833999999999996, 0.25492, 0.37895, 0.47678000000000004, 0.28083, 0.36171], \"xaxis\": \"x\", \"y\": [\"Burundi\", \"Syria\", \"Togo\", \"Benin\", \"Rwanda\", \"Guinea\", \"Liberia\", \"Tanzania\", \"Madagascar\", \"Yemen\", \"Sweden\", \"Australia\", \"New Zealand\", \"Netherlands\", \"Canada\", \"Finland\", \"Norway\", \"Iceland\", \"Switzerland\", \"Denmark\"], \"yaxis\": \"y\"}, {\"alignmentgroup\": \"True\", \"hovertemplate\": \"Contributing Factors=Freedom<br>Happiness Score=%{x}<br>Countries=%{y}<extra></extra>\", \"legendgroup\": \"Freedom\", \"marker\": {\"color\": \"rgb(51,160,44)\"}, \"name\": \"Freedom\", \"offsetgroup\": \"Freedom\", \"orientation\": \"h\", \"showlegend\": true, \"textposition\": \"auto\", \"type\": \"bar\", \"x\": [0.0432, 0.06912, 0.34678000000000003, 0.39747, 0.5432, 0.30953, 0.25748000000000004, 0.3176, 0.13684000000000002, 0.2287, 0.58218, 0.5683699999999999, 0.5814699999999999, 0.55211, 0.5737, 0.57104, 0.59609, 0.56624, 0.58557, 0.5794100000000001], \"xaxis\": \"x\", \"y\": [\"Burundi\", \"Syria\", \"Togo\", \"Benin\", \"Rwanda\", \"Guinea\", \"Liberia\", \"Tanzania\", \"Madagascar\", \"Yemen\", \"Sweden\", \"Australia\", \"New Zealand\", \"Netherlands\", \"Canada\", \"Finland\", \"Norway\", \"Iceland\", \"Switzerland\", \"Denmark\"], \"yaxis\": \"y\"}, {\"alignmentgroup\": \"True\", \"hovertemplate\": \"Contributing Factors=Trust (Government Corruption)<br>Happiness Score=%{x}<br>Countries=%{y}<extra></extra>\", \"legendgroup\": \"Trust (Government Corruption)\", \"marker\": {\"color\": \"rgb(251,154,153)\"}, \"name\": \"Trust (Government Corruption)\", \"offsetgroup\": \"Trust (Government Corruption)\", \"orientation\": \"h\", \"showlegend\": true, \"textposition\": \"auto\", \"type\": \"bar\", \"x\": [0.09419, 0.17232999999999998, 0.11587, 0.06681000000000001, 0.50521, 0.1192, 0.04852, 0.05099, 0.07506, 0.05892000000000001, 0.40867, 0.32331, 0.41903999999999997, 0.29927, 0.31329, 0.41003999999999996, 0.35775999999999997, 0.14975, 0.41203, 0.44453000000000004], \"xaxis\": \"x\", \"y\": [\"Burundi\", \"Syria\", \"Togo\", \"Benin\", \"Rwanda\", \"Guinea\", \"Liberia\", \"Tanzania\", \"Madagascar\", \"Yemen\", \"Sweden\", \"Australia\", \"New Zealand\", \"Netherlands\", \"Canada\", \"Finland\", \"Norway\", \"Iceland\", \"Switzerland\", \"Denmark\"], \"yaxis\": \"y\"}],                        {\"barmode\": \"stack\", \"legend\": {\"title\": {\"text\": \"Contributing Factors\"}, \"tracegroupgap\": 0}, \"template\": {\"data\": {\"bar\": [{\"error_x\": {\"color\": \"#2a3f5f\"}, \"error_y\": {\"color\": \"#2a3f5f\"}, \"marker\": {\"line\": {\"color\": \"#E5ECF6\", \"width\": 0.5}}, \"type\": \"bar\"}], \"barpolar\": [{\"marker\": {\"line\": {\"color\": \"#E5ECF6\", \"width\": 0.5}}, \"type\": \"barpolar\"}], \"carpet\": [{\"aaxis\": {\"endlinecolor\": \"#2a3f5f\", \"gridcolor\": \"white\", \"linecolor\": \"white\", \"minorgridcolor\": \"white\", \"startlinecolor\": \"#2a3f5f\"}, \"baxis\": {\"endlinecolor\": \"#2a3f5f\", \"gridcolor\": \"white\", \"linecolor\": \"white\", \"minorgridcolor\": \"white\", \"startlinecolor\": \"#2a3f5f\"}, \"type\": \"carpet\"}], \"choropleth\": [{\"colorbar\": {\"outlinewidth\": 0, \"ticks\": \"\"}, \"type\": \"choropleth\"}], \"contour\": [{\"colorbar\": {\"outlinewidth\": 0, \"ticks\": \"\"}, \"colorscale\": [[0.0, \"#0d0887\"], [0.1111111111111111, \"#46039f\"], [0.2222222222222222, \"#7201a8\"], [0.3333333333333333, \"#9c179e\"], [0.4444444444444444, \"#bd3786\"], [0.5555555555555556, \"#d8576b\"], [0.6666666666666666, \"#ed7953\"], [0.7777777777777778, \"#fb9f3a\"], [0.8888888888888888, \"#fdca26\"], [1.0, \"#f0f921\"]], \"type\": \"contour\"}], \"contourcarpet\": [{\"colorbar\": {\"outlinewidth\": 0, \"ticks\": \"\"}, \"type\": \"contourcarpet\"}], \"heatmap\": [{\"colorbar\": {\"outlinewidth\": 0, \"ticks\": \"\"}, \"colorscale\": [[0.0, \"#0d0887\"], [0.1111111111111111, \"#46039f\"], [0.2222222222222222, \"#7201a8\"], [0.3333333333333333, \"#9c179e\"], [0.4444444444444444, \"#bd3786\"], [0.5555555555555556, \"#d8576b\"], [0.6666666666666666, \"#ed7953\"], [0.7777777777777778, \"#fb9f3a\"], [0.8888888888888888, \"#fdca26\"], [1.0, \"#f0f921\"]], \"type\": \"heatmap\"}], \"heatmapgl\": [{\"colorbar\": {\"outlinewidth\": 0, \"ticks\": \"\"}, \"colorscale\": [[0.0, \"#0d0887\"], [0.1111111111111111, \"#46039f\"], [0.2222222222222222, \"#7201a8\"], [0.3333333333333333, \"#9c179e\"], [0.4444444444444444, \"#bd3786\"], [0.5555555555555556, \"#d8576b\"], [0.6666666666666666, \"#ed7953\"], [0.7777777777777778, \"#fb9f3a\"], [0.8888888888888888, \"#fdca26\"], [1.0, \"#f0f921\"]], \"type\": \"heatmapgl\"}], \"histogram\": [{\"marker\": {\"colorbar\": {\"outlinewidth\": 0, \"ticks\": \"\"}}, \"type\": \"histogram\"}], \"histogram2d\": [{\"colorbar\": {\"outlinewidth\": 0, \"ticks\": \"\"}, \"colorscale\": [[0.0, \"#0d0887\"], [0.1111111111111111, \"#46039f\"], [0.2222222222222222, \"#7201a8\"], [0.3333333333333333, \"#9c179e\"], [0.4444444444444444, \"#bd3786\"], [0.5555555555555556, \"#d8576b\"], [0.6666666666666666, \"#ed7953\"], [0.7777777777777778, \"#fb9f3a\"], [0.8888888888888888, \"#fdca26\"], [1.0, \"#f0f921\"]], \"type\": \"histogram2d\"}], \"histogram2dcontour\": [{\"colorbar\": {\"outlinewidth\": 0, \"ticks\": \"\"}, \"colorscale\": [[0.0, \"#0d0887\"], [0.1111111111111111, \"#46039f\"], [0.2222222222222222, \"#7201a8\"], [0.3333333333333333, \"#9c179e\"], [0.4444444444444444, \"#bd3786\"], [0.5555555555555556, \"#d8576b\"], [0.6666666666666666, \"#ed7953\"], [0.7777777777777778, \"#fb9f3a\"], [0.8888888888888888, \"#fdca26\"], [1.0, \"#f0f921\"]], \"type\": \"histogram2dcontour\"}], \"mesh3d\": [{\"colorbar\": {\"outlinewidth\": 0, \"ticks\": \"\"}, \"type\": \"mesh3d\"}], \"parcoords\": [{\"line\": {\"colorbar\": {\"outlinewidth\": 0, \"ticks\": \"\"}}, \"type\": \"parcoords\"}], \"pie\": [{\"automargin\": true, \"type\": \"pie\"}], \"scatter\": [{\"marker\": {\"colorbar\": {\"outlinewidth\": 0, \"ticks\": \"\"}}, \"type\": \"scatter\"}], \"scatter3d\": [{\"line\": {\"colorbar\": {\"outlinewidth\": 0, \"ticks\": \"\"}}, \"marker\": {\"colorbar\": {\"outlinewidth\": 0, \"ticks\": \"\"}}, \"type\": \"scatter3d\"}], \"scattercarpet\": [{\"marker\": {\"colorbar\": {\"outlinewidth\": 0, \"ticks\": \"\"}}, \"type\": \"scattercarpet\"}], \"scattergeo\": [{\"marker\": {\"colorbar\": {\"outlinewidth\": 0, \"ticks\": \"\"}}, \"type\": \"scattergeo\"}], \"scattergl\": [{\"marker\": {\"colorbar\": {\"outlinewidth\": 0, \"ticks\": \"\"}}, \"type\": \"scattergl\"}], \"scattermapbox\": [{\"marker\": {\"colorbar\": {\"outlinewidth\": 0, \"ticks\": \"\"}}, \"type\": \"scattermapbox\"}], \"scatterpolar\": [{\"marker\": {\"colorbar\": {\"outlinewidth\": 0, \"ticks\": \"\"}}, \"type\": \"scatterpolar\"}], \"scatterpolargl\": [{\"marker\": {\"colorbar\": {\"outlinewidth\": 0, \"ticks\": \"\"}}, \"type\": \"scatterpolargl\"}], \"scatterternary\": [{\"marker\": {\"colorbar\": {\"outlinewidth\": 0, \"ticks\": \"\"}}, \"type\": \"scatterternary\"}], \"surface\": [{\"colorbar\": {\"outlinewidth\": 0, \"ticks\": \"\"}, \"colorscale\": [[0.0, \"#0d0887\"], [0.1111111111111111, \"#46039f\"], [0.2222222222222222, \"#7201a8\"], [0.3333333333333333, \"#9c179e\"], [0.4444444444444444, \"#bd3786\"], [0.5555555555555556, \"#d8576b\"], [0.6666666666666666, \"#ed7953\"], [0.7777777777777778, \"#fb9f3a\"], [0.8888888888888888, \"#fdca26\"], [1.0, \"#f0f921\"]], \"type\": \"surface\"}], \"table\": [{\"cells\": {\"fill\": {\"color\": \"#EBF0F8\"}, \"line\": {\"color\": \"white\"}}, \"header\": {\"fill\": {\"color\": \"#C8D4E3\"}, \"line\": {\"color\": \"white\"}}, \"type\": \"table\"}]}, \"layout\": {\"annotationdefaults\": {\"arrowcolor\": \"#2a3f5f\", \"arrowhead\": 0, \"arrowwidth\": 1}, \"autotypenumbers\": \"strict\", \"coloraxis\": {\"colorbar\": {\"outlinewidth\": 0, \"ticks\": \"\"}}, \"colorscale\": {\"diverging\": [[0, \"#8e0152\"], [0.1, \"#c51b7d\"], [0.2, \"#de77ae\"], [0.3, \"#f1b6da\"], [0.4, \"#fde0ef\"], [0.5, \"#f7f7f7\"], [0.6, \"#e6f5d0\"], [0.7, \"#b8e186\"], [0.8, \"#7fbc41\"], [0.9, \"#4d9221\"], [1, \"#276419\"]], \"sequential\": [[0.0, \"#0d0887\"], [0.1111111111111111, \"#46039f\"], [0.2222222222222222, \"#7201a8\"], [0.3333333333333333, \"#9c179e\"], [0.4444444444444444, \"#bd3786\"], [0.5555555555555556, \"#d8576b\"], [0.6666666666666666, \"#ed7953\"], [0.7777777777777778, \"#fb9f3a\"], [0.8888888888888888, \"#fdca26\"], [1.0, \"#f0f921\"]], \"sequentialminus\": [[0.0, \"#0d0887\"], [0.1111111111111111, \"#46039f\"], [0.2222222222222222, \"#7201a8\"], [0.3333333333333333, \"#9c179e\"], [0.4444444444444444, \"#bd3786\"], [0.5555555555555556, \"#d8576b\"], [0.6666666666666666, \"#ed7953\"], [0.7777777777777778, \"#fb9f3a\"], [0.8888888888888888, \"#fdca26\"], [1.0, \"#f0f921\"]]}, \"colorway\": [\"#636efa\", \"#EF553B\", \"#00cc96\", \"#ab63fa\", \"#FFA15A\", \"#19d3f3\", \"#FF6692\", \"#B6E880\", \"#FF97FF\", \"#FECB52\"], \"font\": {\"color\": \"#2a3f5f\"}, \"geo\": {\"bgcolor\": \"white\", \"lakecolor\": \"white\", \"landcolor\": \"#E5ECF6\", \"showlakes\": true, \"showland\": true, \"subunitcolor\": \"white\"}, \"hoverlabel\": {\"align\": \"left\"}, \"hovermode\": \"closest\", \"mapbox\": {\"style\": \"light\"}, \"paper_bgcolor\": \"white\", \"plot_bgcolor\": \"#E5ECF6\", \"polar\": {\"angularaxis\": {\"gridcolor\": \"white\", \"linecolor\": \"white\", \"ticks\": \"\"}, \"bgcolor\": \"#E5ECF6\", \"radialaxis\": {\"gridcolor\": \"white\", \"linecolor\": \"white\", \"ticks\": \"\"}}, \"scene\": {\"xaxis\": {\"backgroundcolor\": \"#E5ECF6\", \"gridcolor\": \"white\", \"gridwidth\": 2, \"linecolor\": \"white\", \"showbackground\": true, \"ticks\": \"\", \"zerolinecolor\": \"white\"}, \"yaxis\": {\"backgroundcolor\": \"#E5ECF6\", \"gridcolor\": \"white\", \"gridwidth\": 2, \"linecolor\": \"white\", \"showbackground\": true, \"ticks\": \"\", \"zerolinecolor\": \"white\"}, \"zaxis\": {\"backgroundcolor\": \"#E5ECF6\", \"gridcolor\": \"white\", \"gridwidth\": 2, \"linecolor\": \"white\", \"showbackground\": true, \"ticks\": \"\", \"zerolinecolor\": \"white\"}}, \"shapedefaults\": {\"line\": {\"color\": \"#2a3f5f\"}}, \"ternary\": {\"aaxis\": {\"gridcolor\": \"white\", \"linecolor\": \"white\", \"ticks\": \"\"}, \"baxis\": {\"gridcolor\": \"white\", \"linecolor\": \"white\", \"ticks\": \"\"}, \"bgcolor\": \"#E5ECF6\", \"caxis\": {\"gridcolor\": \"white\", \"linecolor\": \"white\", \"ticks\": \"\"}}, \"title\": {\"x\": 0.05}, \"xaxis\": {\"automargin\": true, \"gridcolor\": \"white\", \"linecolor\": \"white\", \"ticks\": \"\", \"title\": {\"standoff\": 15}, \"zerolinecolor\": \"white\", \"zerolinewidth\": 2}, \"yaxis\": {\"automargin\": true, \"gridcolor\": \"white\", \"linecolor\": \"white\", \"ticks\": \"\", \"title\": {\"standoff\": 15}, \"zerolinecolor\": \"white\", \"zerolinewidth\": 2}}}, \"title\": {\"text\": \"2016 Top/Bottom Countries\"}, \"xaxis\": {\"anchor\": \"y\", \"domain\": [0.0, 1.0], \"title\": {\"text\": \"Happiness Score\"}}, \"yaxis\": {\"anchor\": \"x\", \"domain\": [0.0, 1.0], \"title\": {\"text\": \"Countries\"}}},                        {\"responsive\": true}                    ).then(function(){\n",
       "                            \n",
       "var gd = document.getElementById('3b62df7a-af9a-422b-898d-9ebadc2e1e63');\n",
       "var x = new MutationObserver(function (mutations, observer) {{\n",
       "        var display = window.getComputedStyle(gd).display;\n",
       "        if (!display || display === 'none') {{\n",
       "            console.log([gd, 'removed!']);\n",
       "            Plotly.purge(gd);\n",
       "            observer.disconnect();\n",
       "        }}\n",
       "}});\n",
       "\n",
       "// Listen for the removal of the full notebook cells\n",
       "var notebookContainer = gd.closest('#notebook-container');\n",
       "if (notebookContainer) {{\n",
       "    x.observe(notebookContainer, {childList: true});\n",
       "}}\n",
       "\n",
       "// Listen for the clearing of the current output cell\n",
       "var outputEl = gd.closest('.output');\n",
       "if (outputEl) {{\n",
       "    x.observe(outputEl, {childList: true});\n",
       "}}\n",
       "\n",
       "                        })                };                });            </script>        </div>"
      ]
     },
     "metadata": {},
     "output_type": "display_data"
    },
    {
     "data": {
      "application/vnd.plotly.v1+json": {
       "config": {
        "plotlyServerURL": "https://plot.ly"
       },
       "data": [
        {
         "alignmentgroup": "True",
         "hovertemplate": "Contributing Factors=Economy (GDP per Capita)<br>Happiness Score=%{x}<br>Countries=%{y}<extra></extra>",
         "legendgroup": "Economy (GDP per Capita)",
         "marker": {
          "color": "rgb(166,206,227)"
         },
         "name": "Economy (GDP per Capita)",
         "offsetgroup": "Economy (GDP per Capita)",
         "orientation": "h",
         "showlegend": true,
         "textposition": "auto",
         "type": "bar",
         "x": [
          0.09162256866693501,
          0.511135876178741,
          0.777153134346008,
          0.368745893239975,
          0.30544471740722695,
          0.24454993009567302,
          0.11904179304838199,
          0.5916834473609921,
          0.368610262870789,
          0.305808693170547,
          1.4844149351120002,
          1.49438726902008,
          1.40570604801178,
          1.47920441627502,
          1.50394463539124,
          1.44357192516327,
          1.5649795532226598,
          1.480633020401,
          1.48238301277161,
          1.6164631843566901
         ],
         "xaxis": "x",
         "y": [
          "Burundi",
          "Tanzania",
          "Syria",
          "Rwanda",
          "Togo",
          "Guinea",
          "Liberia",
          "Yemen",
          "Haiti",
          "Madagascar",
          "Australia",
          "Sweden",
          "New Zealand",
          "Canada",
          "Netherlands",
          "Finland",
          "Switzerland",
          "Iceland",
          "Denmark",
          "Norway"
         ],
         "yaxis": "y"
        },
        {
         "alignmentgroup": "True",
         "hovertemplate": "Contributing Factors=Health (Life Expectancy)<br>Happiness Score=%{x}<br>Countries=%{y}<extra></extra>",
         "legendgroup": "Health (Life Expectancy)",
         "marker": {
          "color": "rgb(31,120,180)"
         },
         "name": "Health (Life Expectancy)",
         "offsetgroup": "Health (Life Expectancy)",
         "orientation": "h",
         "showlegend": true,
         "textposition": "auto",
         "type": "bar",
         "x": [
          0.151610791683197,
          0.364509284496307,
          0.5005333423614501,
          0.326424807310104,
          0.247105568647385,
          0.194129139184952,
          0.229918196797371,
          0.310080915689468,
          0.277321130037308,
          0.375223308801651,
          0.84388679265976,
          0.830875158309937,
          0.816759705543518,
          0.83455765247345,
          0.8106961250305179,
          0.80915766954422,
          0.858131289482117,
          0.8335521221160892,
          0.7925655245780941,
          0.796666502952576
         ],
         "xaxis": "x",
         "y": [
          "Burundi",
          "Tanzania",
          "Syria",
          "Rwanda",
          "Togo",
          "Guinea",
          "Liberia",
          "Yemen",
          "Haiti",
          "Madagascar",
          "Australia",
          "Sweden",
          "New Zealand",
          "Canada",
          "Netherlands",
          "Finland",
          "Switzerland",
          "Iceland",
          "Denmark",
          "Norway"
         ],
         "yaxis": "y"
        },
        {
         "alignmentgroup": "True",
         "hovertemplate": "Contributing Factors=Generosity<br>Happiness Score=%{x}<br>Countries=%{y}<extra></extra>",
         "legendgroup": "Generosity",
         "marker": {
          "color": "rgb(178,223,138)"
         },
         "name": "Generosity",
         "offsetgroup": "Generosity",
         "orientation": "h",
         "showlegend": true,
         "textposition": "auto",
         "type": "bar",
         "x": [
          0.20443518459796897,
          0.354256361722946,
          0.49366372823715204,
          0.25275602936744695,
          0.19689615070819896,
          0.264815092086792,
          0.26654988527298,
          0.104125209152699,
          0.48920378088951094,
          0.208732530474663,
          0.47769924998283403,
          0.38539925217628496,
          0.500005125999451,
          0.435539722442627,
          0.47048982977867104,
          0.24548277258873,
          0.29054927825927696,
          0.47554022073745705,
          0.3552804887294771,
          0.36201223731041
         ],
         "xaxis": "x",
         "y": [
          "Burundi",
          "Tanzania",
          "Syria",
          "Rwanda",
          "Togo",
          "Guinea",
          "Liberia",
          "Yemen",
          "Haiti",
          "Madagascar",
          "Australia",
          "Sweden",
          "New Zealand",
          "Canada",
          "Netherlands",
          "Finland",
          "Switzerland",
          "Iceland",
          "Denmark",
          "Norway"
         ],
         "yaxis": "y"
        },
        {
         "alignmentgroup": "True",
         "hovertemplate": "Contributing Factors=Freedom<br>Happiness Score=%{x}<br>Countries=%{y}<extra></extra>",
         "legendgroup": "Freedom",
         "marker": {
          "color": "rgb(51,160,44)"
         },
         "name": "Freedom",
         "offsetgroup": "Freedom",
         "orientation": "h",
         "showlegend": true,
         "textposition": "auto",
         "type": "bar",
         "x": [
          0.0599007532000542,
          0.390017777681351,
          0.0815394446253777,
          0.5818438529968261,
          0.38042613863945,
          0.348587512969971,
          0.33288118243217496,
          0.24946372210979503,
          0.0303698573261499,
          0.18919676542282102,
          0.601607382297516,
          0.612924098968506,
          0.6140621304512021,
          0.611100912094116,
          0.5853844881057739,
          0.6179508566856379,
          0.620070576667786,
          0.6271626353263849,
          0.626006722450256,
          0.635422587394714
         ],
         "xaxis": "x",
         "y": [
          "Burundi",
          "Tanzania",
          "Syria",
          "Rwanda",
          "Togo",
          "Guinea",
          "Liberia",
          "Yemen",
          "Haiti",
          "Madagascar",
          "Australia",
          "Sweden",
          "New Zealand",
          "Canada",
          "Netherlands",
          "Finland",
          "Switzerland",
          "Iceland",
          "Denmark",
          "Norway"
         ],
         "yaxis": "y"
        },
        {
         "alignmentgroup": "True",
         "hovertemplate": "Contributing Factors=Trust (Government Corruption)<br>Happiness Score=%{x}<br>Countries=%{y}<extra></extra>",
         "legendgroup": "Trust (Government Corruption)",
         "marker": {
          "color": "rgb(251,154,153)"
         },
         "name": "Trust (Government Corruption)",
         "offsetgroup": "Trust (Government Corruption)",
         "orientation": "h",
         "showlegend": true,
         "textposition": "auto",
         "type": "bar",
         "x": [
          0.0841479450464249,
          0.0660351067781448,
          0.15134713053703303,
          0.455220013856888,
          0.0956650152802467,
          0.110937617719173,
          0.0389482490718365,
          0.0567674227058887,
          0.0998721495270729,
          0.0672319754958153,
          0.301183730363846,
          0.384398728609085,
          0.38281670212745705,
          0.287371516227722,
          0.282661825418472,
          0.38261154294014,
          0.36700728535652205,
          0.15352655947208402,
          0.40077006816863997,
          0.31596383452415505
         ],
         "xaxis": "x",
         "y": [
          "Burundi",
          "Tanzania",
          "Syria",
          "Rwanda",
          "Togo",
          "Guinea",
          "Liberia",
          "Yemen",
          "Haiti",
          "Madagascar",
          "Australia",
          "Sweden",
          "New Zealand",
          "Canada",
          "Netherlands",
          "Finland",
          "Switzerland",
          "Iceland",
          "Denmark",
          "Norway"
         ],
         "yaxis": "y"
        }
       ],
       "layout": {
        "barmode": "stack",
        "legend": {
         "title": {
          "text": "Contributing Factors"
         },
         "tracegroupgap": 0
        },
        "template": {
         "data": {
          "bar": [
           {
            "error_x": {
             "color": "#2a3f5f"
            },
            "error_y": {
             "color": "#2a3f5f"
            },
            "marker": {
             "line": {
              "color": "#E5ECF6",
              "width": 0.5
             }
            },
            "type": "bar"
           }
          ],
          "barpolar": [
           {
            "marker": {
             "line": {
              "color": "#E5ECF6",
              "width": 0.5
             }
            },
            "type": "barpolar"
           }
          ],
          "carpet": [
           {
            "aaxis": {
             "endlinecolor": "#2a3f5f",
             "gridcolor": "white",
             "linecolor": "white",
             "minorgridcolor": "white",
             "startlinecolor": "#2a3f5f"
            },
            "baxis": {
             "endlinecolor": "#2a3f5f",
             "gridcolor": "white",
             "linecolor": "white",
             "minorgridcolor": "white",
             "startlinecolor": "#2a3f5f"
            },
            "type": "carpet"
           }
          ],
          "choropleth": [
           {
            "colorbar": {
             "outlinewidth": 0,
             "ticks": ""
            },
            "type": "choropleth"
           }
          ],
          "contour": [
           {
            "colorbar": {
             "outlinewidth": 0,
             "ticks": ""
            },
            "colorscale": [
             [
              0,
              "#0d0887"
             ],
             [
              0.1111111111111111,
              "#46039f"
             ],
             [
              0.2222222222222222,
              "#7201a8"
             ],
             [
              0.3333333333333333,
              "#9c179e"
             ],
             [
              0.4444444444444444,
              "#bd3786"
             ],
             [
              0.5555555555555556,
              "#d8576b"
             ],
             [
              0.6666666666666666,
              "#ed7953"
             ],
             [
              0.7777777777777778,
              "#fb9f3a"
             ],
             [
              0.8888888888888888,
              "#fdca26"
             ],
             [
              1,
              "#f0f921"
             ]
            ],
            "type": "contour"
           }
          ],
          "contourcarpet": [
           {
            "colorbar": {
             "outlinewidth": 0,
             "ticks": ""
            },
            "type": "contourcarpet"
           }
          ],
          "heatmap": [
           {
            "colorbar": {
             "outlinewidth": 0,
             "ticks": ""
            },
            "colorscale": [
             [
              0,
              "#0d0887"
             ],
             [
              0.1111111111111111,
              "#46039f"
             ],
             [
              0.2222222222222222,
              "#7201a8"
             ],
             [
              0.3333333333333333,
              "#9c179e"
             ],
             [
              0.4444444444444444,
              "#bd3786"
             ],
             [
              0.5555555555555556,
              "#d8576b"
             ],
             [
              0.6666666666666666,
              "#ed7953"
             ],
             [
              0.7777777777777778,
              "#fb9f3a"
             ],
             [
              0.8888888888888888,
              "#fdca26"
             ],
             [
              1,
              "#f0f921"
             ]
            ],
            "type": "heatmap"
           }
          ],
          "heatmapgl": [
           {
            "colorbar": {
             "outlinewidth": 0,
             "ticks": ""
            },
            "colorscale": [
             [
              0,
              "#0d0887"
             ],
             [
              0.1111111111111111,
              "#46039f"
             ],
             [
              0.2222222222222222,
              "#7201a8"
             ],
             [
              0.3333333333333333,
              "#9c179e"
             ],
             [
              0.4444444444444444,
              "#bd3786"
             ],
             [
              0.5555555555555556,
              "#d8576b"
             ],
             [
              0.6666666666666666,
              "#ed7953"
             ],
             [
              0.7777777777777778,
              "#fb9f3a"
             ],
             [
              0.8888888888888888,
              "#fdca26"
             ],
             [
              1,
              "#f0f921"
             ]
            ],
            "type": "heatmapgl"
           }
          ],
          "histogram": [
           {
            "marker": {
             "colorbar": {
              "outlinewidth": 0,
              "ticks": ""
             }
            },
            "type": "histogram"
           }
          ],
          "histogram2d": [
           {
            "colorbar": {
             "outlinewidth": 0,
             "ticks": ""
            },
            "colorscale": [
             [
              0,
              "#0d0887"
             ],
             [
              0.1111111111111111,
              "#46039f"
             ],
             [
              0.2222222222222222,
              "#7201a8"
             ],
             [
              0.3333333333333333,
              "#9c179e"
             ],
             [
              0.4444444444444444,
              "#bd3786"
             ],
             [
              0.5555555555555556,
              "#d8576b"
             ],
             [
              0.6666666666666666,
              "#ed7953"
             ],
             [
              0.7777777777777778,
              "#fb9f3a"
             ],
             [
              0.8888888888888888,
              "#fdca26"
             ],
             [
              1,
              "#f0f921"
             ]
            ],
            "type": "histogram2d"
           }
          ],
          "histogram2dcontour": [
           {
            "colorbar": {
             "outlinewidth": 0,
             "ticks": ""
            },
            "colorscale": [
             [
              0,
              "#0d0887"
             ],
             [
              0.1111111111111111,
              "#46039f"
             ],
             [
              0.2222222222222222,
              "#7201a8"
             ],
             [
              0.3333333333333333,
              "#9c179e"
             ],
             [
              0.4444444444444444,
              "#bd3786"
             ],
             [
              0.5555555555555556,
              "#d8576b"
             ],
             [
              0.6666666666666666,
              "#ed7953"
             ],
             [
              0.7777777777777778,
              "#fb9f3a"
             ],
             [
              0.8888888888888888,
              "#fdca26"
             ],
             [
              1,
              "#f0f921"
             ]
            ],
            "type": "histogram2dcontour"
           }
          ],
          "mesh3d": [
           {
            "colorbar": {
             "outlinewidth": 0,
             "ticks": ""
            },
            "type": "mesh3d"
           }
          ],
          "parcoords": [
           {
            "line": {
             "colorbar": {
              "outlinewidth": 0,
              "ticks": ""
             }
            },
            "type": "parcoords"
           }
          ],
          "pie": [
           {
            "automargin": true,
            "type": "pie"
           }
          ],
          "scatter": [
           {
            "marker": {
             "colorbar": {
              "outlinewidth": 0,
              "ticks": ""
             }
            },
            "type": "scatter"
           }
          ],
          "scatter3d": [
           {
            "line": {
             "colorbar": {
              "outlinewidth": 0,
              "ticks": ""
             }
            },
            "marker": {
             "colorbar": {
              "outlinewidth": 0,
              "ticks": ""
             }
            },
            "type": "scatter3d"
           }
          ],
          "scattercarpet": [
           {
            "marker": {
             "colorbar": {
              "outlinewidth": 0,
              "ticks": ""
             }
            },
            "type": "scattercarpet"
           }
          ],
          "scattergeo": [
           {
            "marker": {
             "colorbar": {
              "outlinewidth": 0,
              "ticks": ""
             }
            },
            "type": "scattergeo"
           }
          ],
          "scattergl": [
           {
            "marker": {
             "colorbar": {
              "outlinewidth": 0,
              "ticks": ""
             }
            },
            "type": "scattergl"
           }
          ],
          "scattermapbox": [
           {
            "marker": {
             "colorbar": {
              "outlinewidth": 0,
              "ticks": ""
             }
            },
            "type": "scattermapbox"
           }
          ],
          "scatterpolar": [
           {
            "marker": {
             "colorbar": {
              "outlinewidth": 0,
              "ticks": ""
             }
            },
            "type": "scatterpolar"
           }
          ],
          "scatterpolargl": [
           {
            "marker": {
             "colorbar": {
              "outlinewidth": 0,
              "ticks": ""
             }
            },
            "type": "scatterpolargl"
           }
          ],
          "scatterternary": [
           {
            "marker": {
             "colorbar": {
              "outlinewidth": 0,
              "ticks": ""
             }
            },
            "type": "scatterternary"
           }
          ],
          "surface": [
           {
            "colorbar": {
             "outlinewidth": 0,
             "ticks": ""
            },
            "colorscale": [
             [
              0,
              "#0d0887"
             ],
             [
              0.1111111111111111,
              "#46039f"
             ],
             [
              0.2222222222222222,
              "#7201a8"
             ],
             [
              0.3333333333333333,
              "#9c179e"
             ],
             [
              0.4444444444444444,
              "#bd3786"
             ],
             [
              0.5555555555555556,
              "#d8576b"
             ],
             [
              0.6666666666666666,
              "#ed7953"
             ],
             [
              0.7777777777777778,
              "#fb9f3a"
             ],
             [
              0.8888888888888888,
              "#fdca26"
             ],
             [
              1,
              "#f0f921"
             ]
            ],
            "type": "surface"
           }
          ],
          "table": [
           {
            "cells": {
             "fill": {
              "color": "#EBF0F8"
             },
             "line": {
              "color": "white"
             }
            },
            "header": {
             "fill": {
              "color": "#C8D4E3"
             },
             "line": {
              "color": "white"
             }
            },
            "type": "table"
           }
          ]
         },
         "layout": {
          "annotationdefaults": {
           "arrowcolor": "#2a3f5f",
           "arrowhead": 0,
           "arrowwidth": 1
          },
          "autotypenumbers": "strict",
          "coloraxis": {
           "colorbar": {
            "outlinewidth": 0,
            "ticks": ""
           }
          },
          "colorscale": {
           "diverging": [
            [
             0,
             "#8e0152"
            ],
            [
             0.1,
             "#c51b7d"
            ],
            [
             0.2,
             "#de77ae"
            ],
            [
             0.3,
             "#f1b6da"
            ],
            [
             0.4,
             "#fde0ef"
            ],
            [
             0.5,
             "#f7f7f7"
            ],
            [
             0.6,
             "#e6f5d0"
            ],
            [
             0.7,
             "#b8e186"
            ],
            [
             0.8,
             "#7fbc41"
            ],
            [
             0.9,
             "#4d9221"
            ],
            [
             1,
             "#276419"
            ]
           ],
           "sequential": [
            [
             0,
             "#0d0887"
            ],
            [
             0.1111111111111111,
             "#46039f"
            ],
            [
             0.2222222222222222,
             "#7201a8"
            ],
            [
             0.3333333333333333,
             "#9c179e"
            ],
            [
             0.4444444444444444,
             "#bd3786"
            ],
            [
             0.5555555555555556,
             "#d8576b"
            ],
            [
             0.6666666666666666,
             "#ed7953"
            ],
            [
             0.7777777777777778,
             "#fb9f3a"
            ],
            [
             0.8888888888888888,
             "#fdca26"
            ],
            [
             1,
             "#f0f921"
            ]
           ],
           "sequentialminus": [
            [
             0,
             "#0d0887"
            ],
            [
             0.1111111111111111,
             "#46039f"
            ],
            [
             0.2222222222222222,
             "#7201a8"
            ],
            [
             0.3333333333333333,
             "#9c179e"
            ],
            [
             0.4444444444444444,
             "#bd3786"
            ],
            [
             0.5555555555555556,
             "#d8576b"
            ],
            [
             0.6666666666666666,
             "#ed7953"
            ],
            [
             0.7777777777777778,
             "#fb9f3a"
            ],
            [
             0.8888888888888888,
             "#fdca26"
            ],
            [
             1,
             "#f0f921"
            ]
           ]
          },
          "colorway": [
           "#636efa",
           "#EF553B",
           "#00cc96",
           "#ab63fa",
           "#FFA15A",
           "#19d3f3",
           "#FF6692",
           "#B6E880",
           "#FF97FF",
           "#FECB52"
          ],
          "font": {
           "color": "#2a3f5f"
          },
          "geo": {
           "bgcolor": "white",
           "lakecolor": "white",
           "landcolor": "#E5ECF6",
           "showlakes": true,
           "showland": true,
           "subunitcolor": "white"
          },
          "hoverlabel": {
           "align": "left"
          },
          "hovermode": "closest",
          "mapbox": {
           "style": "light"
          },
          "paper_bgcolor": "white",
          "plot_bgcolor": "#E5ECF6",
          "polar": {
           "angularaxis": {
            "gridcolor": "white",
            "linecolor": "white",
            "ticks": ""
           },
           "bgcolor": "#E5ECF6",
           "radialaxis": {
            "gridcolor": "white",
            "linecolor": "white",
            "ticks": ""
           }
          },
          "scene": {
           "xaxis": {
            "backgroundcolor": "#E5ECF6",
            "gridcolor": "white",
            "gridwidth": 2,
            "linecolor": "white",
            "showbackground": true,
            "ticks": "",
            "zerolinecolor": "white"
           },
           "yaxis": {
            "backgroundcolor": "#E5ECF6",
            "gridcolor": "white",
            "gridwidth": 2,
            "linecolor": "white",
            "showbackground": true,
            "ticks": "",
            "zerolinecolor": "white"
           },
           "zaxis": {
            "backgroundcolor": "#E5ECF6",
            "gridcolor": "white",
            "gridwidth": 2,
            "linecolor": "white",
            "showbackground": true,
            "ticks": "",
            "zerolinecolor": "white"
           }
          },
          "shapedefaults": {
           "line": {
            "color": "#2a3f5f"
           }
          },
          "ternary": {
           "aaxis": {
            "gridcolor": "white",
            "linecolor": "white",
            "ticks": ""
           },
           "baxis": {
            "gridcolor": "white",
            "linecolor": "white",
            "ticks": ""
           },
           "bgcolor": "#E5ECF6",
           "caxis": {
            "gridcolor": "white",
            "linecolor": "white",
            "ticks": ""
           }
          },
          "title": {
           "x": 0.05
          },
          "xaxis": {
           "automargin": true,
           "gridcolor": "white",
           "linecolor": "white",
           "ticks": "",
           "title": {
            "standoff": 15
           },
           "zerolinecolor": "white",
           "zerolinewidth": 2
          },
          "yaxis": {
           "automargin": true,
           "gridcolor": "white",
           "linecolor": "white",
           "ticks": "",
           "title": {
            "standoff": 15
           },
           "zerolinecolor": "white",
           "zerolinewidth": 2
          }
         }
        },
        "title": {
         "text": "2017 Top/Bottom Countries"
        },
        "xaxis": {
         "anchor": "y",
         "domain": [
          0,
          1
         ],
         "title": {
          "text": "Happiness Score"
         }
        },
        "yaxis": {
         "anchor": "x",
         "domain": [
          0,
          1
         ],
         "title": {
          "text": "Countries"
         }
        }
       }
      },
      "text/html": [
       "<div>                            <div id=\"d93cd6f9-5102-4120-ad94-24c49f23d8c4\" class=\"plotly-graph-div\" style=\"height:525px; width:100%;\"></div>            <script type=\"text/javascript\">                require([\"plotly\"], function(Plotly) {                    window.PLOTLYENV=window.PLOTLYENV || {};                                    if (document.getElementById(\"d93cd6f9-5102-4120-ad94-24c49f23d8c4\")) {                    Plotly.newPlot(                        \"d93cd6f9-5102-4120-ad94-24c49f23d8c4\",                        [{\"alignmentgroup\": \"True\", \"hovertemplate\": \"Contributing Factors=Economy (GDP per Capita)<br>Happiness Score=%{x}<br>Countries=%{y}<extra></extra>\", \"legendgroup\": \"Economy (GDP per Capita)\", \"marker\": {\"color\": \"rgb(166,206,227)\"}, \"name\": \"Economy (GDP per Capita)\", \"offsetgroup\": \"Economy (GDP per Capita)\", \"orientation\": \"h\", \"showlegend\": true, \"textposition\": \"auto\", \"type\": \"bar\", \"x\": [0.09162256866693501, 0.511135876178741, 0.777153134346008, 0.368745893239975, 0.30544471740722695, 0.24454993009567302, 0.11904179304838199, 0.5916834473609921, 0.368610262870789, 0.305808693170547, 1.4844149351120002, 1.49438726902008, 1.40570604801178, 1.47920441627502, 1.50394463539124, 1.44357192516327, 1.5649795532226598, 1.480633020401, 1.48238301277161, 1.6164631843566901], \"xaxis\": \"x\", \"y\": [\"Burundi\", \"Tanzania\", \"Syria\", \"Rwanda\", \"Togo\", \"Guinea\", \"Liberia\", \"Yemen\", \"Haiti\", \"Madagascar\", \"Australia\", \"Sweden\", \"New Zealand\", \"Canada\", \"Netherlands\", \"Finland\", \"Switzerland\", \"Iceland\", \"Denmark\", \"Norway\"], \"yaxis\": \"y\"}, {\"alignmentgroup\": \"True\", \"hovertemplate\": \"Contributing Factors=Health (Life Expectancy)<br>Happiness Score=%{x}<br>Countries=%{y}<extra></extra>\", \"legendgroup\": \"Health (Life Expectancy)\", \"marker\": {\"color\": \"rgb(31,120,180)\"}, \"name\": \"Health (Life Expectancy)\", \"offsetgroup\": \"Health (Life Expectancy)\", \"orientation\": \"h\", \"showlegend\": true, \"textposition\": \"auto\", \"type\": \"bar\", \"x\": [0.151610791683197, 0.364509284496307, 0.5005333423614501, 0.326424807310104, 0.247105568647385, 0.194129139184952, 0.229918196797371, 0.310080915689468, 0.277321130037308, 0.375223308801651, 0.84388679265976, 0.830875158309937, 0.816759705543518, 0.83455765247345, 0.8106961250305179, 0.80915766954422, 0.858131289482117, 0.8335521221160892, 0.7925655245780941, 0.796666502952576], \"xaxis\": \"x\", \"y\": [\"Burundi\", \"Tanzania\", \"Syria\", \"Rwanda\", \"Togo\", \"Guinea\", \"Liberia\", \"Yemen\", \"Haiti\", \"Madagascar\", \"Australia\", \"Sweden\", \"New Zealand\", \"Canada\", \"Netherlands\", \"Finland\", \"Switzerland\", \"Iceland\", \"Denmark\", \"Norway\"], \"yaxis\": \"y\"}, {\"alignmentgroup\": \"True\", \"hovertemplate\": \"Contributing Factors=Generosity<br>Happiness Score=%{x}<br>Countries=%{y}<extra></extra>\", \"legendgroup\": \"Generosity\", \"marker\": {\"color\": \"rgb(178,223,138)\"}, \"name\": \"Generosity\", \"offsetgroup\": \"Generosity\", \"orientation\": \"h\", \"showlegend\": true, \"textposition\": \"auto\", \"type\": \"bar\", \"x\": [0.20443518459796897, 0.354256361722946, 0.49366372823715204, 0.25275602936744695, 0.19689615070819896, 0.264815092086792, 0.26654988527298, 0.104125209152699, 0.48920378088951094, 0.208732530474663, 0.47769924998283403, 0.38539925217628496, 0.500005125999451, 0.435539722442627, 0.47048982977867104, 0.24548277258873, 0.29054927825927696, 0.47554022073745705, 0.3552804887294771, 0.36201223731041], \"xaxis\": \"x\", \"y\": [\"Burundi\", \"Tanzania\", \"Syria\", \"Rwanda\", \"Togo\", \"Guinea\", \"Liberia\", \"Yemen\", \"Haiti\", \"Madagascar\", \"Australia\", \"Sweden\", \"New Zealand\", \"Canada\", \"Netherlands\", \"Finland\", \"Switzerland\", \"Iceland\", \"Denmark\", \"Norway\"], \"yaxis\": \"y\"}, {\"alignmentgroup\": \"True\", \"hovertemplate\": \"Contributing Factors=Freedom<br>Happiness Score=%{x}<br>Countries=%{y}<extra></extra>\", \"legendgroup\": \"Freedom\", \"marker\": {\"color\": \"rgb(51,160,44)\"}, \"name\": \"Freedom\", \"offsetgroup\": \"Freedom\", \"orientation\": \"h\", \"showlegend\": true, \"textposition\": \"auto\", \"type\": \"bar\", \"x\": [0.0599007532000542, 0.390017777681351, 0.0815394446253777, 0.5818438529968261, 0.38042613863945, 0.348587512969971, 0.33288118243217496, 0.24946372210979503, 0.0303698573261499, 0.18919676542282102, 0.601607382297516, 0.612924098968506, 0.6140621304512021, 0.611100912094116, 0.5853844881057739, 0.6179508566856379, 0.620070576667786, 0.6271626353263849, 0.626006722450256, 0.635422587394714], \"xaxis\": \"x\", \"y\": [\"Burundi\", \"Tanzania\", \"Syria\", \"Rwanda\", \"Togo\", \"Guinea\", \"Liberia\", \"Yemen\", \"Haiti\", \"Madagascar\", \"Australia\", \"Sweden\", \"New Zealand\", \"Canada\", \"Netherlands\", \"Finland\", \"Switzerland\", \"Iceland\", \"Denmark\", \"Norway\"], \"yaxis\": \"y\"}, {\"alignmentgroup\": \"True\", \"hovertemplate\": \"Contributing Factors=Trust (Government Corruption)<br>Happiness Score=%{x}<br>Countries=%{y}<extra></extra>\", \"legendgroup\": \"Trust (Government Corruption)\", \"marker\": {\"color\": \"rgb(251,154,153)\"}, \"name\": \"Trust (Government Corruption)\", \"offsetgroup\": \"Trust (Government Corruption)\", \"orientation\": \"h\", \"showlegend\": true, \"textposition\": \"auto\", \"type\": \"bar\", \"x\": [0.0841479450464249, 0.0660351067781448, 0.15134713053703303, 0.455220013856888, 0.0956650152802467, 0.110937617719173, 0.0389482490718365, 0.0567674227058887, 0.0998721495270729, 0.0672319754958153, 0.301183730363846, 0.384398728609085, 0.38281670212745705, 0.287371516227722, 0.282661825418472, 0.38261154294014, 0.36700728535652205, 0.15352655947208402, 0.40077006816863997, 0.31596383452415505], \"xaxis\": \"x\", \"y\": [\"Burundi\", \"Tanzania\", \"Syria\", \"Rwanda\", \"Togo\", \"Guinea\", \"Liberia\", \"Yemen\", \"Haiti\", \"Madagascar\", \"Australia\", \"Sweden\", \"New Zealand\", \"Canada\", \"Netherlands\", \"Finland\", \"Switzerland\", \"Iceland\", \"Denmark\", \"Norway\"], \"yaxis\": \"y\"}],                        {\"barmode\": \"stack\", \"legend\": {\"title\": {\"text\": \"Contributing Factors\"}, \"tracegroupgap\": 0}, \"template\": {\"data\": {\"bar\": [{\"error_x\": {\"color\": \"#2a3f5f\"}, \"error_y\": {\"color\": \"#2a3f5f\"}, \"marker\": {\"line\": {\"color\": \"#E5ECF6\", \"width\": 0.5}}, \"type\": \"bar\"}], \"barpolar\": [{\"marker\": {\"line\": {\"color\": \"#E5ECF6\", \"width\": 0.5}}, \"type\": \"barpolar\"}], \"carpet\": [{\"aaxis\": {\"endlinecolor\": \"#2a3f5f\", \"gridcolor\": \"white\", \"linecolor\": \"white\", \"minorgridcolor\": \"white\", \"startlinecolor\": \"#2a3f5f\"}, \"baxis\": {\"endlinecolor\": \"#2a3f5f\", \"gridcolor\": \"white\", \"linecolor\": \"white\", \"minorgridcolor\": \"white\", \"startlinecolor\": \"#2a3f5f\"}, \"type\": \"carpet\"}], \"choropleth\": [{\"colorbar\": {\"outlinewidth\": 0, \"ticks\": \"\"}, \"type\": \"choropleth\"}], \"contour\": [{\"colorbar\": {\"outlinewidth\": 0, \"ticks\": \"\"}, \"colorscale\": [[0.0, \"#0d0887\"], [0.1111111111111111, \"#46039f\"], [0.2222222222222222, \"#7201a8\"], [0.3333333333333333, \"#9c179e\"], [0.4444444444444444, \"#bd3786\"], [0.5555555555555556, \"#d8576b\"], [0.6666666666666666, \"#ed7953\"], [0.7777777777777778, \"#fb9f3a\"], [0.8888888888888888, \"#fdca26\"], [1.0, \"#f0f921\"]], \"type\": \"contour\"}], \"contourcarpet\": [{\"colorbar\": {\"outlinewidth\": 0, \"ticks\": \"\"}, \"type\": \"contourcarpet\"}], \"heatmap\": [{\"colorbar\": {\"outlinewidth\": 0, \"ticks\": \"\"}, \"colorscale\": [[0.0, \"#0d0887\"], [0.1111111111111111, \"#46039f\"], [0.2222222222222222, \"#7201a8\"], [0.3333333333333333, \"#9c179e\"], [0.4444444444444444, \"#bd3786\"], [0.5555555555555556, \"#d8576b\"], [0.6666666666666666, \"#ed7953\"], [0.7777777777777778, \"#fb9f3a\"], [0.8888888888888888, \"#fdca26\"], [1.0, \"#f0f921\"]], \"type\": \"heatmap\"}], \"heatmapgl\": [{\"colorbar\": {\"outlinewidth\": 0, \"ticks\": \"\"}, \"colorscale\": [[0.0, \"#0d0887\"], [0.1111111111111111, \"#46039f\"], [0.2222222222222222, \"#7201a8\"], [0.3333333333333333, \"#9c179e\"], [0.4444444444444444, \"#bd3786\"], [0.5555555555555556, \"#d8576b\"], [0.6666666666666666, \"#ed7953\"], [0.7777777777777778, \"#fb9f3a\"], [0.8888888888888888, \"#fdca26\"], [1.0, \"#f0f921\"]], \"type\": \"heatmapgl\"}], \"histogram\": [{\"marker\": {\"colorbar\": {\"outlinewidth\": 0, \"ticks\": \"\"}}, \"type\": \"histogram\"}], \"histogram2d\": [{\"colorbar\": {\"outlinewidth\": 0, \"ticks\": \"\"}, \"colorscale\": [[0.0, \"#0d0887\"], [0.1111111111111111, \"#46039f\"], [0.2222222222222222, \"#7201a8\"], [0.3333333333333333, \"#9c179e\"], [0.4444444444444444, \"#bd3786\"], [0.5555555555555556, \"#d8576b\"], [0.6666666666666666, \"#ed7953\"], [0.7777777777777778, \"#fb9f3a\"], [0.8888888888888888, \"#fdca26\"], [1.0, \"#f0f921\"]], \"type\": \"histogram2d\"}], \"histogram2dcontour\": [{\"colorbar\": {\"outlinewidth\": 0, \"ticks\": \"\"}, \"colorscale\": [[0.0, \"#0d0887\"], [0.1111111111111111, \"#46039f\"], [0.2222222222222222, \"#7201a8\"], [0.3333333333333333, \"#9c179e\"], [0.4444444444444444, \"#bd3786\"], [0.5555555555555556, \"#d8576b\"], [0.6666666666666666, \"#ed7953\"], [0.7777777777777778, \"#fb9f3a\"], [0.8888888888888888, \"#fdca26\"], [1.0, \"#f0f921\"]], \"type\": \"histogram2dcontour\"}], \"mesh3d\": [{\"colorbar\": {\"outlinewidth\": 0, \"ticks\": \"\"}, \"type\": \"mesh3d\"}], \"parcoords\": [{\"line\": {\"colorbar\": {\"outlinewidth\": 0, \"ticks\": \"\"}}, \"type\": \"parcoords\"}], \"pie\": [{\"automargin\": true, \"type\": \"pie\"}], \"scatter\": [{\"marker\": {\"colorbar\": {\"outlinewidth\": 0, \"ticks\": \"\"}}, \"type\": \"scatter\"}], \"scatter3d\": [{\"line\": {\"colorbar\": {\"outlinewidth\": 0, \"ticks\": \"\"}}, \"marker\": {\"colorbar\": {\"outlinewidth\": 0, \"ticks\": \"\"}}, \"type\": \"scatter3d\"}], \"scattercarpet\": [{\"marker\": {\"colorbar\": {\"outlinewidth\": 0, \"ticks\": \"\"}}, \"type\": \"scattercarpet\"}], \"scattergeo\": [{\"marker\": {\"colorbar\": {\"outlinewidth\": 0, \"ticks\": \"\"}}, \"type\": \"scattergeo\"}], \"scattergl\": [{\"marker\": {\"colorbar\": {\"outlinewidth\": 0, \"ticks\": \"\"}}, \"type\": \"scattergl\"}], \"scattermapbox\": [{\"marker\": {\"colorbar\": {\"outlinewidth\": 0, \"ticks\": \"\"}}, \"type\": \"scattermapbox\"}], \"scatterpolar\": [{\"marker\": {\"colorbar\": {\"outlinewidth\": 0, \"ticks\": \"\"}}, \"type\": \"scatterpolar\"}], \"scatterpolargl\": [{\"marker\": {\"colorbar\": {\"outlinewidth\": 0, \"ticks\": \"\"}}, \"type\": \"scatterpolargl\"}], \"scatterternary\": [{\"marker\": {\"colorbar\": {\"outlinewidth\": 0, \"ticks\": \"\"}}, \"type\": \"scatterternary\"}], \"surface\": [{\"colorbar\": {\"outlinewidth\": 0, \"ticks\": \"\"}, \"colorscale\": [[0.0, \"#0d0887\"], [0.1111111111111111, \"#46039f\"], [0.2222222222222222, \"#7201a8\"], [0.3333333333333333, \"#9c179e\"], [0.4444444444444444, \"#bd3786\"], [0.5555555555555556, \"#d8576b\"], [0.6666666666666666, \"#ed7953\"], [0.7777777777777778, \"#fb9f3a\"], [0.8888888888888888, \"#fdca26\"], [1.0, \"#f0f921\"]], \"type\": \"surface\"}], \"table\": [{\"cells\": {\"fill\": {\"color\": \"#EBF0F8\"}, \"line\": {\"color\": \"white\"}}, \"header\": {\"fill\": {\"color\": \"#C8D4E3\"}, \"line\": {\"color\": \"white\"}}, \"type\": \"table\"}]}, \"layout\": {\"annotationdefaults\": {\"arrowcolor\": \"#2a3f5f\", \"arrowhead\": 0, \"arrowwidth\": 1}, \"autotypenumbers\": \"strict\", \"coloraxis\": {\"colorbar\": {\"outlinewidth\": 0, \"ticks\": \"\"}}, \"colorscale\": {\"diverging\": [[0, \"#8e0152\"], [0.1, \"#c51b7d\"], [0.2, \"#de77ae\"], [0.3, \"#f1b6da\"], [0.4, \"#fde0ef\"], [0.5, \"#f7f7f7\"], [0.6, \"#e6f5d0\"], [0.7, \"#b8e186\"], [0.8, \"#7fbc41\"], [0.9, \"#4d9221\"], [1, \"#276419\"]], \"sequential\": [[0.0, \"#0d0887\"], [0.1111111111111111, \"#46039f\"], [0.2222222222222222, \"#7201a8\"], [0.3333333333333333, \"#9c179e\"], [0.4444444444444444, \"#bd3786\"], [0.5555555555555556, \"#d8576b\"], [0.6666666666666666, \"#ed7953\"], [0.7777777777777778, \"#fb9f3a\"], [0.8888888888888888, \"#fdca26\"], [1.0, \"#f0f921\"]], \"sequentialminus\": [[0.0, \"#0d0887\"], [0.1111111111111111, \"#46039f\"], [0.2222222222222222, \"#7201a8\"], [0.3333333333333333, \"#9c179e\"], [0.4444444444444444, \"#bd3786\"], [0.5555555555555556, \"#d8576b\"], [0.6666666666666666, \"#ed7953\"], [0.7777777777777778, \"#fb9f3a\"], [0.8888888888888888, \"#fdca26\"], [1.0, \"#f0f921\"]]}, \"colorway\": [\"#636efa\", \"#EF553B\", \"#00cc96\", \"#ab63fa\", \"#FFA15A\", \"#19d3f3\", \"#FF6692\", \"#B6E880\", \"#FF97FF\", \"#FECB52\"], \"font\": {\"color\": \"#2a3f5f\"}, \"geo\": {\"bgcolor\": \"white\", \"lakecolor\": \"white\", \"landcolor\": \"#E5ECF6\", \"showlakes\": true, \"showland\": true, \"subunitcolor\": \"white\"}, \"hoverlabel\": {\"align\": \"left\"}, \"hovermode\": \"closest\", \"mapbox\": {\"style\": \"light\"}, \"paper_bgcolor\": \"white\", \"plot_bgcolor\": \"#E5ECF6\", \"polar\": {\"angularaxis\": {\"gridcolor\": \"white\", \"linecolor\": \"white\", \"ticks\": \"\"}, \"bgcolor\": \"#E5ECF6\", \"radialaxis\": {\"gridcolor\": \"white\", \"linecolor\": \"white\", \"ticks\": \"\"}}, \"scene\": {\"xaxis\": {\"backgroundcolor\": \"#E5ECF6\", \"gridcolor\": \"white\", \"gridwidth\": 2, \"linecolor\": \"white\", \"showbackground\": true, \"ticks\": \"\", \"zerolinecolor\": \"white\"}, \"yaxis\": {\"backgroundcolor\": \"#E5ECF6\", \"gridcolor\": \"white\", \"gridwidth\": 2, \"linecolor\": \"white\", \"showbackground\": true, \"ticks\": \"\", \"zerolinecolor\": \"white\"}, \"zaxis\": {\"backgroundcolor\": \"#E5ECF6\", \"gridcolor\": \"white\", \"gridwidth\": 2, \"linecolor\": \"white\", \"showbackground\": true, \"ticks\": \"\", \"zerolinecolor\": \"white\"}}, \"shapedefaults\": {\"line\": {\"color\": \"#2a3f5f\"}}, \"ternary\": {\"aaxis\": {\"gridcolor\": \"white\", \"linecolor\": \"white\", \"ticks\": \"\"}, \"baxis\": {\"gridcolor\": \"white\", \"linecolor\": \"white\", \"ticks\": \"\"}, \"bgcolor\": \"#E5ECF6\", \"caxis\": {\"gridcolor\": \"white\", \"linecolor\": \"white\", \"ticks\": \"\"}}, \"title\": {\"x\": 0.05}, \"xaxis\": {\"automargin\": true, \"gridcolor\": \"white\", \"linecolor\": \"white\", \"ticks\": \"\", \"title\": {\"standoff\": 15}, \"zerolinecolor\": \"white\", \"zerolinewidth\": 2}, \"yaxis\": {\"automargin\": true, \"gridcolor\": \"white\", \"linecolor\": \"white\", \"ticks\": \"\", \"title\": {\"standoff\": 15}, \"zerolinecolor\": \"white\", \"zerolinewidth\": 2}}}, \"title\": {\"text\": \"2017 Top/Bottom Countries\"}, \"xaxis\": {\"anchor\": \"y\", \"domain\": [0.0, 1.0], \"title\": {\"text\": \"Happiness Score\"}}, \"yaxis\": {\"anchor\": \"x\", \"domain\": [0.0, 1.0], \"title\": {\"text\": \"Countries\"}}},                        {\"responsive\": true}                    ).then(function(){\n",
       "                            \n",
       "var gd = document.getElementById('d93cd6f9-5102-4120-ad94-24c49f23d8c4');\n",
       "var x = new MutationObserver(function (mutations, observer) {{\n",
       "        var display = window.getComputedStyle(gd).display;\n",
       "        if (!display || display === 'none') {{\n",
       "            console.log([gd, 'removed!']);\n",
       "            Plotly.purge(gd);\n",
       "            observer.disconnect();\n",
       "        }}\n",
       "}});\n",
       "\n",
       "// Listen for the removal of the full notebook cells\n",
       "var notebookContainer = gd.closest('#notebook-container');\n",
       "if (notebookContainer) {{\n",
       "    x.observe(notebookContainer, {childList: true});\n",
       "}}\n",
       "\n",
       "// Listen for the clearing of the current output cell\n",
       "var outputEl = gd.closest('.output');\n",
       "if (outputEl) {{\n",
       "    x.observe(outputEl, {childList: true});\n",
       "}}\n",
       "\n",
       "                        })                };                });            </script>        </div>"
      ]
     },
     "metadata": {},
     "output_type": "display_data"
    },
    {
     "data": {
      "application/vnd.plotly.v1+json": {
       "config": {
        "plotlyServerURL": "https://plot.ly"
       },
       "data": [
        {
         "alignmentgroup": "True",
         "hovertemplate": "Contributing Factors=Economy (GDP per Capita)<br>Happiness Score=%{x}<br>Countries=%{y}<extra></extra>",
         "legendgroup": "Economy (GDP per Capita)",
         "marker": {
          "color": "rgb(166,206,227)"
         },
         "name": "Economy (GDP per Capita)",
         "offsetgroup": "Economy (GDP per Capita)",
         "orientation": "h",
         "showlegend": true,
         "textposition": "auto",
         "type": "bar",
         "x": [
          0.091,
          0.455,
          0.442,
          0.332,
          0.6890000000000001,
          0.076,
          0.315,
          0.18600000000000003,
          1.0170000000000001,
          0.35700000000000004,
          1.34,
          1.355,
          1.268,
          1.33,
          1.361,
          1.42,
          1.3430000000000002,
          1.351,
          1.456,
          1.305
         ],
         "xaxis": "x",
         "y": [
          "Burundi",
          "Tanzania",
          "Yemen",
          "Rwanda",
          "Syria",
          "Liberia",
          "Haiti",
          "Malawi",
          "Botswana",
          "Zimbabwe",
          "Australia",
          "Sweden",
          "New Zealand",
          "Canada",
          "Netherlands",
          "Switzerland",
          "Iceland",
          "Denmark",
          "Norway",
          "Finland"
         ],
         "yaxis": "y"
        },
        {
         "alignmentgroup": "True",
         "hovertemplate": "Contributing Factors=Health (Life Expectancy)<br>Happiness Score=%{x}<br>Countries=%{y}<extra></extra>",
         "legendgroup": "Health (Life Expectancy)",
         "marker": {
          "color": "rgb(31,120,180)"
         },
         "name": "Health (Life Expectancy)",
         "offsetgroup": "Health (Life Expectancy)",
         "orientation": "h",
         "showlegend": true,
         "textposition": "auto",
         "type": "bar",
         "x": [
          0.145,
          0.381,
          0.34299999999999997,
          0.4,
          0.539,
          0.267,
          0.289,
          0.306,
          0.41700000000000004,
          0.248,
          0.91,
          0.9129999999999999,
          0.8759999999999999,
          0.8959999999999999,
          0.878,
          0.927,
          0.914,
          0.868,
          0.861,
          0.8740000000000001
         ],
         "xaxis": "x",
         "y": [
          "Burundi",
          "Tanzania",
          "Yemen",
          "Rwanda",
          "Syria",
          "Liberia",
          "Haiti",
          "Malawi",
          "Botswana",
          "Zimbabwe",
          "Australia",
          "Sweden",
          "New Zealand",
          "Canada",
          "Netherlands",
          "Switzerland",
          "Iceland",
          "Denmark",
          "Norway",
          "Finland"
         ],
         "yaxis": "y"
        },
        {
         "alignmentgroup": "True",
         "hovertemplate": "Contributing Factors=Generosity<br>Happiness Score=%{x}<br>Countries=%{y}<extra></extra>",
         "legendgroup": "Generosity",
         "marker": {
          "color": "rgb(178,223,138)"
         },
         "name": "Generosity",
         "offsetgroup": "Generosity",
         "orientation": "h",
         "showlegend": true,
         "textposition": "auto",
         "type": "bar",
         "x": [
          0.149,
          0.27,
          0.083,
          0.2,
          0.376,
          0.20600000000000002,
          0.392,
          0.21,
          0.042,
          0.132,
          0.361,
          0.285,
          0.365,
          0.321,
          0.33299999999999996,
          0.256,
          0.353,
          0.284,
          0.28600000000000003,
          0.20199999999999999
         ],
         "xaxis": "x",
         "y": [
          "Burundi",
          "Tanzania",
          "Yemen",
          "Rwanda",
          "Syria",
          "Liberia",
          "Haiti",
          "Malawi",
          "Botswana",
          "Zimbabwe",
          "Australia",
          "Sweden",
          "New Zealand",
          "Canada",
          "Netherlands",
          "Switzerland",
          "Iceland",
          "Denmark",
          "Norway",
          "Finland"
         ],
         "yaxis": "y"
        },
        {
         "alignmentgroup": "True",
         "hovertemplate": "Contributing Factors=Freedom<br>Happiness Score=%{x}<br>Countries=%{y}<extra></extra>",
         "legendgroup": "Freedom",
         "marker": {
          "color": "rgb(51,160,44)"
         },
         "name": "Freedom",
         "offsetgroup": "Freedom",
         "orientation": "h",
         "showlegend": true,
         "textposition": "auto",
         "type": "bar",
         "x": [
          0.065,
          0.48100000000000004,
          0.244,
          0.636,
          0.08800000000000001,
          0.419,
          0.025,
          0.531,
          0.557,
          0.406,
          0.647,
          0.659,
          0.669,
          0.653,
          0.638,
          0.66,
          0.677,
          0.6829999999999999,
          0.6859999999999999,
          0.6809999999999999
         ],
         "xaxis": "x",
         "y": [
          "Burundi",
          "Tanzania",
          "Yemen",
          "Rwanda",
          "Syria",
          "Liberia",
          "Haiti",
          "Malawi",
          "Botswana",
          "Zimbabwe",
          "Australia",
          "Sweden",
          "New Zealand",
          "Canada",
          "Netherlands",
          "Switzerland",
          "Iceland",
          "Denmark",
          "Norway",
          "Finland"
         ],
         "yaxis": "y"
        },
        {
         "alignmentgroup": "True",
         "hovertemplate": "Contributing Factors=Trust (Government Corruption)<br>Happiness Score=%{x}<br>Countries=%{y}<extra></extra>",
         "legendgroup": "Trust (Government Corruption)",
         "marker": {
          "color": "rgb(251,154,153)"
         },
         "name": "Trust (Government Corruption)",
         "offsetgroup": "Trust (Government Corruption)",
         "orientation": "h",
         "showlegend": true,
         "textposition": "auto",
         "type": "bar",
         "x": [
          0.076,
          0.09699999999999999,
          0.064,
          0.444,
          0.14400000000000002,
          0.03,
          0.10400000000000001,
          0.08,
          0.092,
          0.099,
          0.302,
          0.38299999999999995,
          0.389,
          0.29100000000000004,
          0.295,
          0.35700000000000004,
          0.138,
          0.408,
          0.34,
          0.39299999999999996
         ],
         "xaxis": "x",
         "y": [
          "Burundi",
          "Tanzania",
          "Yemen",
          "Rwanda",
          "Syria",
          "Liberia",
          "Haiti",
          "Malawi",
          "Botswana",
          "Zimbabwe",
          "Australia",
          "Sweden",
          "New Zealand",
          "Canada",
          "Netherlands",
          "Switzerland",
          "Iceland",
          "Denmark",
          "Norway",
          "Finland"
         ],
         "yaxis": "y"
        }
       ],
       "layout": {
        "barmode": "stack",
        "legend": {
         "title": {
          "text": "Contributing Factors"
         },
         "tracegroupgap": 0
        },
        "template": {
         "data": {
          "bar": [
           {
            "error_x": {
             "color": "#2a3f5f"
            },
            "error_y": {
             "color": "#2a3f5f"
            },
            "marker": {
             "line": {
              "color": "#E5ECF6",
              "width": 0.5
             }
            },
            "type": "bar"
           }
          ],
          "barpolar": [
           {
            "marker": {
             "line": {
              "color": "#E5ECF6",
              "width": 0.5
             }
            },
            "type": "barpolar"
           }
          ],
          "carpet": [
           {
            "aaxis": {
             "endlinecolor": "#2a3f5f",
             "gridcolor": "white",
             "linecolor": "white",
             "minorgridcolor": "white",
             "startlinecolor": "#2a3f5f"
            },
            "baxis": {
             "endlinecolor": "#2a3f5f",
             "gridcolor": "white",
             "linecolor": "white",
             "minorgridcolor": "white",
             "startlinecolor": "#2a3f5f"
            },
            "type": "carpet"
           }
          ],
          "choropleth": [
           {
            "colorbar": {
             "outlinewidth": 0,
             "ticks": ""
            },
            "type": "choropleth"
           }
          ],
          "contour": [
           {
            "colorbar": {
             "outlinewidth": 0,
             "ticks": ""
            },
            "colorscale": [
             [
              0,
              "#0d0887"
             ],
             [
              0.1111111111111111,
              "#46039f"
             ],
             [
              0.2222222222222222,
              "#7201a8"
             ],
             [
              0.3333333333333333,
              "#9c179e"
             ],
             [
              0.4444444444444444,
              "#bd3786"
             ],
             [
              0.5555555555555556,
              "#d8576b"
             ],
             [
              0.6666666666666666,
              "#ed7953"
             ],
             [
              0.7777777777777778,
              "#fb9f3a"
             ],
             [
              0.8888888888888888,
              "#fdca26"
             ],
             [
              1,
              "#f0f921"
             ]
            ],
            "type": "contour"
           }
          ],
          "contourcarpet": [
           {
            "colorbar": {
             "outlinewidth": 0,
             "ticks": ""
            },
            "type": "contourcarpet"
           }
          ],
          "heatmap": [
           {
            "colorbar": {
             "outlinewidth": 0,
             "ticks": ""
            },
            "colorscale": [
             [
              0,
              "#0d0887"
             ],
             [
              0.1111111111111111,
              "#46039f"
             ],
             [
              0.2222222222222222,
              "#7201a8"
             ],
             [
              0.3333333333333333,
              "#9c179e"
             ],
             [
              0.4444444444444444,
              "#bd3786"
             ],
             [
              0.5555555555555556,
              "#d8576b"
             ],
             [
              0.6666666666666666,
              "#ed7953"
             ],
             [
              0.7777777777777778,
              "#fb9f3a"
             ],
             [
              0.8888888888888888,
              "#fdca26"
             ],
             [
              1,
              "#f0f921"
             ]
            ],
            "type": "heatmap"
           }
          ],
          "heatmapgl": [
           {
            "colorbar": {
             "outlinewidth": 0,
             "ticks": ""
            },
            "colorscale": [
             [
              0,
              "#0d0887"
             ],
             [
              0.1111111111111111,
              "#46039f"
             ],
             [
              0.2222222222222222,
              "#7201a8"
             ],
             [
              0.3333333333333333,
              "#9c179e"
             ],
             [
              0.4444444444444444,
              "#bd3786"
             ],
             [
              0.5555555555555556,
              "#d8576b"
             ],
             [
              0.6666666666666666,
              "#ed7953"
             ],
             [
              0.7777777777777778,
              "#fb9f3a"
             ],
             [
              0.8888888888888888,
              "#fdca26"
             ],
             [
              1,
              "#f0f921"
             ]
            ],
            "type": "heatmapgl"
           }
          ],
          "histogram": [
           {
            "marker": {
             "colorbar": {
              "outlinewidth": 0,
              "ticks": ""
             }
            },
            "type": "histogram"
           }
          ],
          "histogram2d": [
           {
            "colorbar": {
             "outlinewidth": 0,
             "ticks": ""
            },
            "colorscale": [
             [
              0,
              "#0d0887"
             ],
             [
              0.1111111111111111,
              "#46039f"
             ],
             [
              0.2222222222222222,
              "#7201a8"
             ],
             [
              0.3333333333333333,
              "#9c179e"
             ],
             [
              0.4444444444444444,
              "#bd3786"
             ],
             [
              0.5555555555555556,
              "#d8576b"
             ],
             [
              0.6666666666666666,
              "#ed7953"
             ],
             [
              0.7777777777777778,
              "#fb9f3a"
             ],
             [
              0.8888888888888888,
              "#fdca26"
             ],
             [
              1,
              "#f0f921"
             ]
            ],
            "type": "histogram2d"
           }
          ],
          "histogram2dcontour": [
           {
            "colorbar": {
             "outlinewidth": 0,
             "ticks": ""
            },
            "colorscale": [
             [
              0,
              "#0d0887"
             ],
             [
              0.1111111111111111,
              "#46039f"
             ],
             [
              0.2222222222222222,
              "#7201a8"
             ],
             [
              0.3333333333333333,
              "#9c179e"
             ],
             [
              0.4444444444444444,
              "#bd3786"
             ],
             [
              0.5555555555555556,
              "#d8576b"
             ],
             [
              0.6666666666666666,
              "#ed7953"
             ],
             [
              0.7777777777777778,
              "#fb9f3a"
             ],
             [
              0.8888888888888888,
              "#fdca26"
             ],
             [
              1,
              "#f0f921"
             ]
            ],
            "type": "histogram2dcontour"
           }
          ],
          "mesh3d": [
           {
            "colorbar": {
             "outlinewidth": 0,
             "ticks": ""
            },
            "type": "mesh3d"
           }
          ],
          "parcoords": [
           {
            "line": {
             "colorbar": {
              "outlinewidth": 0,
              "ticks": ""
             }
            },
            "type": "parcoords"
           }
          ],
          "pie": [
           {
            "automargin": true,
            "type": "pie"
           }
          ],
          "scatter": [
           {
            "marker": {
             "colorbar": {
              "outlinewidth": 0,
              "ticks": ""
             }
            },
            "type": "scatter"
           }
          ],
          "scatter3d": [
           {
            "line": {
             "colorbar": {
              "outlinewidth": 0,
              "ticks": ""
             }
            },
            "marker": {
             "colorbar": {
              "outlinewidth": 0,
              "ticks": ""
             }
            },
            "type": "scatter3d"
           }
          ],
          "scattercarpet": [
           {
            "marker": {
             "colorbar": {
              "outlinewidth": 0,
              "ticks": ""
             }
            },
            "type": "scattercarpet"
           }
          ],
          "scattergeo": [
           {
            "marker": {
             "colorbar": {
              "outlinewidth": 0,
              "ticks": ""
             }
            },
            "type": "scattergeo"
           }
          ],
          "scattergl": [
           {
            "marker": {
             "colorbar": {
              "outlinewidth": 0,
              "ticks": ""
             }
            },
            "type": "scattergl"
           }
          ],
          "scattermapbox": [
           {
            "marker": {
             "colorbar": {
              "outlinewidth": 0,
              "ticks": ""
             }
            },
            "type": "scattermapbox"
           }
          ],
          "scatterpolar": [
           {
            "marker": {
             "colorbar": {
              "outlinewidth": 0,
              "ticks": ""
             }
            },
            "type": "scatterpolar"
           }
          ],
          "scatterpolargl": [
           {
            "marker": {
             "colorbar": {
              "outlinewidth": 0,
              "ticks": ""
             }
            },
            "type": "scatterpolargl"
           }
          ],
          "scatterternary": [
           {
            "marker": {
             "colorbar": {
              "outlinewidth": 0,
              "ticks": ""
             }
            },
            "type": "scatterternary"
           }
          ],
          "surface": [
           {
            "colorbar": {
             "outlinewidth": 0,
             "ticks": ""
            },
            "colorscale": [
             [
              0,
              "#0d0887"
             ],
             [
              0.1111111111111111,
              "#46039f"
             ],
             [
              0.2222222222222222,
              "#7201a8"
             ],
             [
              0.3333333333333333,
              "#9c179e"
             ],
             [
              0.4444444444444444,
              "#bd3786"
             ],
             [
              0.5555555555555556,
              "#d8576b"
             ],
             [
              0.6666666666666666,
              "#ed7953"
             ],
             [
              0.7777777777777778,
              "#fb9f3a"
             ],
             [
              0.8888888888888888,
              "#fdca26"
             ],
             [
              1,
              "#f0f921"
             ]
            ],
            "type": "surface"
           }
          ],
          "table": [
           {
            "cells": {
             "fill": {
              "color": "#EBF0F8"
             },
             "line": {
              "color": "white"
             }
            },
            "header": {
             "fill": {
              "color": "#C8D4E3"
             },
             "line": {
              "color": "white"
             }
            },
            "type": "table"
           }
          ]
         },
         "layout": {
          "annotationdefaults": {
           "arrowcolor": "#2a3f5f",
           "arrowhead": 0,
           "arrowwidth": 1
          },
          "autotypenumbers": "strict",
          "coloraxis": {
           "colorbar": {
            "outlinewidth": 0,
            "ticks": ""
           }
          },
          "colorscale": {
           "diverging": [
            [
             0,
             "#8e0152"
            ],
            [
             0.1,
             "#c51b7d"
            ],
            [
             0.2,
             "#de77ae"
            ],
            [
             0.3,
             "#f1b6da"
            ],
            [
             0.4,
             "#fde0ef"
            ],
            [
             0.5,
             "#f7f7f7"
            ],
            [
             0.6,
             "#e6f5d0"
            ],
            [
             0.7,
             "#b8e186"
            ],
            [
             0.8,
             "#7fbc41"
            ],
            [
             0.9,
             "#4d9221"
            ],
            [
             1,
             "#276419"
            ]
           ],
           "sequential": [
            [
             0,
             "#0d0887"
            ],
            [
             0.1111111111111111,
             "#46039f"
            ],
            [
             0.2222222222222222,
             "#7201a8"
            ],
            [
             0.3333333333333333,
             "#9c179e"
            ],
            [
             0.4444444444444444,
             "#bd3786"
            ],
            [
             0.5555555555555556,
             "#d8576b"
            ],
            [
             0.6666666666666666,
             "#ed7953"
            ],
            [
             0.7777777777777778,
             "#fb9f3a"
            ],
            [
             0.8888888888888888,
             "#fdca26"
            ],
            [
             1,
             "#f0f921"
            ]
           ],
           "sequentialminus": [
            [
             0,
             "#0d0887"
            ],
            [
             0.1111111111111111,
             "#46039f"
            ],
            [
             0.2222222222222222,
             "#7201a8"
            ],
            [
             0.3333333333333333,
             "#9c179e"
            ],
            [
             0.4444444444444444,
             "#bd3786"
            ],
            [
             0.5555555555555556,
             "#d8576b"
            ],
            [
             0.6666666666666666,
             "#ed7953"
            ],
            [
             0.7777777777777778,
             "#fb9f3a"
            ],
            [
             0.8888888888888888,
             "#fdca26"
            ],
            [
             1,
             "#f0f921"
            ]
           ]
          },
          "colorway": [
           "#636efa",
           "#EF553B",
           "#00cc96",
           "#ab63fa",
           "#FFA15A",
           "#19d3f3",
           "#FF6692",
           "#B6E880",
           "#FF97FF",
           "#FECB52"
          ],
          "font": {
           "color": "#2a3f5f"
          },
          "geo": {
           "bgcolor": "white",
           "lakecolor": "white",
           "landcolor": "#E5ECF6",
           "showlakes": true,
           "showland": true,
           "subunitcolor": "white"
          },
          "hoverlabel": {
           "align": "left"
          },
          "hovermode": "closest",
          "mapbox": {
           "style": "light"
          },
          "paper_bgcolor": "white",
          "plot_bgcolor": "#E5ECF6",
          "polar": {
           "angularaxis": {
            "gridcolor": "white",
            "linecolor": "white",
            "ticks": ""
           },
           "bgcolor": "#E5ECF6",
           "radialaxis": {
            "gridcolor": "white",
            "linecolor": "white",
            "ticks": ""
           }
          },
          "scene": {
           "xaxis": {
            "backgroundcolor": "#E5ECF6",
            "gridcolor": "white",
            "gridwidth": 2,
            "linecolor": "white",
            "showbackground": true,
            "ticks": "",
            "zerolinecolor": "white"
           },
           "yaxis": {
            "backgroundcolor": "#E5ECF6",
            "gridcolor": "white",
            "gridwidth": 2,
            "linecolor": "white",
            "showbackground": true,
            "ticks": "",
            "zerolinecolor": "white"
           },
           "zaxis": {
            "backgroundcolor": "#E5ECF6",
            "gridcolor": "white",
            "gridwidth": 2,
            "linecolor": "white",
            "showbackground": true,
            "ticks": "",
            "zerolinecolor": "white"
           }
          },
          "shapedefaults": {
           "line": {
            "color": "#2a3f5f"
           }
          },
          "ternary": {
           "aaxis": {
            "gridcolor": "white",
            "linecolor": "white",
            "ticks": ""
           },
           "baxis": {
            "gridcolor": "white",
            "linecolor": "white",
            "ticks": ""
           },
           "bgcolor": "#E5ECF6",
           "caxis": {
            "gridcolor": "white",
            "linecolor": "white",
            "ticks": ""
           }
          },
          "title": {
           "x": 0.05
          },
          "xaxis": {
           "automargin": true,
           "gridcolor": "white",
           "linecolor": "white",
           "ticks": "",
           "title": {
            "standoff": 15
           },
           "zerolinecolor": "white",
           "zerolinewidth": 2
          },
          "yaxis": {
           "automargin": true,
           "gridcolor": "white",
           "linecolor": "white",
           "ticks": "",
           "title": {
            "standoff": 15
           },
           "zerolinecolor": "white",
           "zerolinewidth": 2
          }
         }
        },
        "title": {
         "text": "2018 Top/Bottom Countries"
        },
        "xaxis": {
         "anchor": "y",
         "domain": [
          0,
          1
         ],
         "title": {
          "text": "Happiness Score"
         }
        },
        "yaxis": {
         "anchor": "x",
         "domain": [
          0,
          1
         ],
         "title": {
          "text": "Countries"
         }
        }
       }
      },
      "text/html": [
       "<div>                            <div id=\"1d5b3627-c454-4e19-b2e0-51dfdb8c1a76\" class=\"plotly-graph-div\" style=\"height:525px; width:100%;\"></div>            <script type=\"text/javascript\">                require([\"plotly\"], function(Plotly) {                    window.PLOTLYENV=window.PLOTLYENV || {};                                    if (document.getElementById(\"1d5b3627-c454-4e19-b2e0-51dfdb8c1a76\")) {                    Plotly.newPlot(                        \"1d5b3627-c454-4e19-b2e0-51dfdb8c1a76\",                        [{\"alignmentgroup\": \"True\", \"hovertemplate\": \"Contributing Factors=Economy (GDP per Capita)<br>Happiness Score=%{x}<br>Countries=%{y}<extra></extra>\", \"legendgroup\": \"Economy (GDP per Capita)\", \"marker\": {\"color\": \"rgb(166,206,227)\"}, \"name\": \"Economy (GDP per Capita)\", \"offsetgroup\": \"Economy (GDP per Capita)\", \"orientation\": \"h\", \"showlegend\": true, \"textposition\": \"auto\", \"type\": \"bar\", \"x\": [0.091, 0.455, 0.442, 0.332, 0.6890000000000001, 0.076, 0.315, 0.18600000000000003, 1.0170000000000001, 0.35700000000000004, 1.34, 1.355, 1.268, 1.33, 1.361, 1.42, 1.3430000000000002, 1.351, 1.456, 1.305], \"xaxis\": \"x\", \"y\": [\"Burundi\", \"Tanzania\", \"Yemen\", \"Rwanda\", \"Syria\", \"Liberia\", \"Haiti\", \"Malawi\", \"Botswana\", \"Zimbabwe\", \"Australia\", \"Sweden\", \"New Zealand\", \"Canada\", \"Netherlands\", \"Switzerland\", \"Iceland\", \"Denmark\", \"Norway\", \"Finland\"], \"yaxis\": \"y\"}, {\"alignmentgroup\": \"True\", \"hovertemplate\": \"Contributing Factors=Health (Life Expectancy)<br>Happiness Score=%{x}<br>Countries=%{y}<extra></extra>\", \"legendgroup\": \"Health (Life Expectancy)\", \"marker\": {\"color\": \"rgb(31,120,180)\"}, \"name\": \"Health (Life Expectancy)\", \"offsetgroup\": \"Health (Life Expectancy)\", \"orientation\": \"h\", \"showlegend\": true, \"textposition\": \"auto\", \"type\": \"bar\", \"x\": [0.145, 0.381, 0.34299999999999997, 0.4, 0.539, 0.267, 0.289, 0.306, 0.41700000000000004, 0.248, 0.91, 0.9129999999999999, 0.8759999999999999, 0.8959999999999999, 0.878, 0.927, 0.914, 0.868, 0.861, 0.8740000000000001], \"xaxis\": \"x\", \"y\": [\"Burundi\", \"Tanzania\", \"Yemen\", \"Rwanda\", \"Syria\", \"Liberia\", \"Haiti\", \"Malawi\", \"Botswana\", \"Zimbabwe\", \"Australia\", \"Sweden\", \"New Zealand\", \"Canada\", \"Netherlands\", \"Switzerland\", \"Iceland\", \"Denmark\", \"Norway\", \"Finland\"], \"yaxis\": \"y\"}, {\"alignmentgroup\": \"True\", \"hovertemplate\": \"Contributing Factors=Generosity<br>Happiness Score=%{x}<br>Countries=%{y}<extra></extra>\", \"legendgroup\": \"Generosity\", \"marker\": {\"color\": \"rgb(178,223,138)\"}, \"name\": \"Generosity\", \"offsetgroup\": \"Generosity\", \"orientation\": \"h\", \"showlegend\": true, \"textposition\": \"auto\", \"type\": \"bar\", \"x\": [0.149, 0.27, 0.083, 0.2, 0.376, 0.20600000000000002, 0.392, 0.21, 0.042, 0.132, 0.361, 0.285, 0.365, 0.321, 0.33299999999999996, 0.256, 0.353, 0.284, 0.28600000000000003, 0.20199999999999999], \"xaxis\": \"x\", \"y\": [\"Burundi\", \"Tanzania\", \"Yemen\", \"Rwanda\", \"Syria\", \"Liberia\", \"Haiti\", \"Malawi\", \"Botswana\", \"Zimbabwe\", \"Australia\", \"Sweden\", \"New Zealand\", \"Canada\", \"Netherlands\", \"Switzerland\", \"Iceland\", \"Denmark\", \"Norway\", \"Finland\"], \"yaxis\": \"y\"}, {\"alignmentgroup\": \"True\", \"hovertemplate\": \"Contributing Factors=Freedom<br>Happiness Score=%{x}<br>Countries=%{y}<extra></extra>\", \"legendgroup\": \"Freedom\", \"marker\": {\"color\": \"rgb(51,160,44)\"}, \"name\": \"Freedom\", \"offsetgroup\": \"Freedom\", \"orientation\": \"h\", \"showlegend\": true, \"textposition\": \"auto\", \"type\": \"bar\", \"x\": [0.065, 0.48100000000000004, 0.244, 0.636, 0.08800000000000001, 0.419, 0.025, 0.531, 0.557, 0.406, 0.647, 0.659, 0.669, 0.653, 0.638, 0.66, 0.677, 0.6829999999999999, 0.6859999999999999, 0.6809999999999999], \"xaxis\": \"x\", \"y\": [\"Burundi\", \"Tanzania\", \"Yemen\", \"Rwanda\", \"Syria\", \"Liberia\", \"Haiti\", \"Malawi\", \"Botswana\", \"Zimbabwe\", \"Australia\", \"Sweden\", \"New Zealand\", \"Canada\", \"Netherlands\", \"Switzerland\", \"Iceland\", \"Denmark\", \"Norway\", \"Finland\"], \"yaxis\": \"y\"}, {\"alignmentgroup\": \"True\", \"hovertemplate\": \"Contributing Factors=Trust (Government Corruption)<br>Happiness Score=%{x}<br>Countries=%{y}<extra></extra>\", \"legendgroup\": \"Trust (Government Corruption)\", \"marker\": {\"color\": \"rgb(251,154,153)\"}, \"name\": \"Trust (Government Corruption)\", \"offsetgroup\": \"Trust (Government Corruption)\", \"orientation\": \"h\", \"showlegend\": true, \"textposition\": \"auto\", \"type\": \"bar\", \"x\": [0.076, 0.09699999999999999, 0.064, 0.444, 0.14400000000000002, 0.03, 0.10400000000000001, 0.08, 0.092, 0.099, 0.302, 0.38299999999999995, 0.389, 0.29100000000000004, 0.295, 0.35700000000000004, 0.138, 0.408, 0.34, 0.39299999999999996], \"xaxis\": \"x\", \"y\": [\"Burundi\", \"Tanzania\", \"Yemen\", \"Rwanda\", \"Syria\", \"Liberia\", \"Haiti\", \"Malawi\", \"Botswana\", \"Zimbabwe\", \"Australia\", \"Sweden\", \"New Zealand\", \"Canada\", \"Netherlands\", \"Switzerland\", \"Iceland\", \"Denmark\", \"Norway\", \"Finland\"], \"yaxis\": \"y\"}],                        {\"barmode\": \"stack\", \"legend\": {\"title\": {\"text\": \"Contributing Factors\"}, \"tracegroupgap\": 0}, \"template\": {\"data\": {\"bar\": [{\"error_x\": {\"color\": \"#2a3f5f\"}, \"error_y\": {\"color\": \"#2a3f5f\"}, \"marker\": {\"line\": {\"color\": \"#E5ECF6\", \"width\": 0.5}}, \"type\": \"bar\"}], \"barpolar\": [{\"marker\": {\"line\": {\"color\": \"#E5ECF6\", \"width\": 0.5}}, \"type\": \"barpolar\"}], \"carpet\": [{\"aaxis\": {\"endlinecolor\": \"#2a3f5f\", \"gridcolor\": \"white\", \"linecolor\": \"white\", \"minorgridcolor\": \"white\", \"startlinecolor\": \"#2a3f5f\"}, \"baxis\": {\"endlinecolor\": \"#2a3f5f\", \"gridcolor\": \"white\", \"linecolor\": \"white\", \"minorgridcolor\": \"white\", \"startlinecolor\": \"#2a3f5f\"}, \"type\": \"carpet\"}], \"choropleth\": [{\"colorbar\": {\"outlinewidth\": 0, \"ticks\": \"\"}, \"type\": \"choropleth\"}], \"contour\": [{\"colorbar\": {\"outlinewidth\": 0, \"ticks\": \"\"}, \"colorscale\": [[0.0, \"#0d0887\"], [0.1111111111111111, \"#46039f\"], [0.2222222222222222, \"#7201a8\"], [0.3333333333333333, \"#9c179e\"], [0.4444444444444444, \"#bd3786\"], [0.5555555555555556, \"#d8576b\"], [0.6666666666666666, \"#ed7953\"], [0.7777777777777778, \"#fb9f3a\"], [0.8888888888888888, \"#fdca26\"], [1.0, \"#f0f921\"]], \"type\": \"contour\"}], \"contourcarpet\": [{\"colorbar\": {\"outlinewidth\": 0, \"ticks\": \"\"}, \"type\": \"contourcarpet\"}], \"heatmap\": [{\"colorbar\": {\"outlinewidth\": 0, \"ticks\": \"\"}, \"colorscale\": [[0.0, \"#0d0887\"], [0.1111111111111111, \"#46039f\"], [0.2222222222222222, \"#7201a8\"], [0.3333333333333333, \"#9c179e\"], [0.4444444444444444, \"#bd3786\"], [0.5555555555555556, \"#d8576b\"], [0.6666666666666666, \"#ed7953\"], [0.7777777777777778, \"#fb9f3a\"], [0.8888888888888888, \"#fdca26\"], [1.0, \"#f0f921\"]], \"type\": \"heatmap\"}], \"heatmapgl\": [{\"colorbar\": {\"outlinewidth\": 0, \"ticks\": \"\"}, \"colorscale\": [[0.0, \"#0d0887\"], [0.1111111111111111, \"#46039f\"], [0.2222222222222222, \"#7201a8\"], [0.3333333333333333, \"#9c179e\"], [0.4444444444444444, \"#bd3786\"], [0.5555555555555556, \"#d8576b\"], [0.6666666666666666, \"#ed7953\"], [0.7777777777777778, \"#fb9f3a\"], [0.8888888888888888, \"#fdca26\"], [1.0, \"#f0f921\"]], \"type\": \"heatmapgl\"}], \"histogram\": [{\"marker\": {\"colorbar\": {\"outlinewidth\": 0, \"ticks\": \"\"}}, \"type\": \"histogram\"}], \"histogram2d\": [{\"colorbar\": {\"outlinewidth\": 0, \"ticks\": \"\"}, \"colorscale\": [[0.0, \"#0d0887\"], [0.1111111111111111, \"#46039f\"], [0.2222222222222222, \"#7201a8\"], [0.3333333333333333, \"#9c179e\"], [0.4444444444444444, \"#bd3786\"], [0.5555555555555556, \"#d8576b\"], [0.6666666666666666, \"#ed7953\"], [0.7777777777777778, \"#fb9f3a\"], [0.8888888888888888, \"#fdca26\"], [1.0, \"#f0f921\"]], \"type\": \"histogram2d\"}], \"histogram2dcontour\": [{\"colorbar\": {\"outlinewidth\": 0, \"ticks\": \"\"}, \"colorscale\": [[0.0, \"#0d0887\"], [0.1111111111111111, \"#46039f\"], [0.2222222222222222, \"#7201a8\"], [0.3333333333333333, \"#9c179e\"], [0.4444444444444444, \"#bd3786\"], [0.5555555555555556, \"#d8576b\"], [0.6666666666666666, \"#ed7953\"], [0.7777777777777778, \"#fb9f3a\"], [0.8888888888888888, \"#fdca26\"], [1.0, \"#f0f921\"]], \"type\": \"histogram2dcontour\"}], \"mesh3d\": [{\"colorbar\": {\"outlinewidth\": 0, \"ticks\": \"\"}, \"type\": \"mesh3d\"}], \"parcoords\": [{\"line\": {\"colorbar\": {\"outlinewidth\": 0, \"ticks\": \"\"}}, \"type\": \"parcoords\"}], \"pie\": [{\"automargin\": true, \"type\": \"pie\"}], \"scatter\": [{\"marker\": {\"colorbar\": {\"outlinewidth\": 0, \"ticks\": \"\"}}, \"type\": \"scatter\"}], \"scatter3d\": [{\"line\": {\"colorbar\": {\"outlinewidth\": 0, \"ticks\": \"\"}}, \"marker\": {\"colorbar\": {\"outlinewidth\": 0, \"ticks\": \"\"}}, \"type\": \"scatter3d\"}], \"scattercarpet\": [{\"marker\": {\"colorbar\": {\"outlinewidth\": 0, \"ticks\": \"\"}}, \"type\": \"scattercarpet\"}], \"scattergeo\": [{\"marker\": {\"colorbar\": {\"outlinewidth\": 0, \"ticks\": \"\"}}, \"type\": \"scattergeo\"}], \"scattergl\": [{\"marker\": {\"colorbar\": {\"outlinewidth\": 0, \"ticks\": \"\"}}, \"type\": \"scattergl\"}], \"scattermapbox\": [{\"marker\": {\"colorbar\": {\"outlinewidth\": 0, \"ticks\": \"\"}}, \"type\": \"scattermapbox\"}], \"scatterpolar\": [{\"marker\": {\"colorbar\": {\"outlinewidth\": 0, \"ticks\": \"\"}}, \"type\": \"scatterpolar\"}], \"scatterpolargl\": [{\"marker\": {\"colorbar\": {\"outlinewidth\": 0, \"ticks\": \"\"}}, \"type\": \"scatterpolargl\"}], \"scatterternary\": [{\"marker\": {\"colorbar\": {\"outlinewidth\": 0, \"ticks\": \"\"}}, \"type\": \"scatterternary\"}], \"surface\": [{\"colorbar\": {\"outlinewidth\": 0, \"ticks\": \"\"}, \"colorscale\": [[0.0, \"#0d0887\"], [0.1111111111111111, \"#46039f\"], [0.2222222222222222, \"#7201a8\"], [0.3333333333333333, \"#9c179e\"], [0.4444444444444444, \"#bd3786\"], [0.5555555555555556, \"#d8576b\"], [0.6666666666666666, \"#ed7953\"], [0.7777777777777778, \"#fb9f3a\"], [0.8888888888888888, \"#fdca26\"], [1.0, \"#f0f921\"]], \"type\": \"surface\"}], \"table\": [{\"cells\": {\"fill\": {\"color\": \"#EBF0F8\"}, \"line\": {\"color\": \"white\"}}, \"header\": {\"fill\": {\"color\": \"#C8D4E3\"}, \"line\": {\"color\": \"white\"}}, \"type\": \"table\"}]}, \"layout\": {\"annotationdefaults\": {\"arrowcolor\": \"#2a3f5f\", \"arrowhead\": 0, \"arrowwidth\": 1}, \"autotypenumbers\": \"strict\", \"coloraxis\": {\"colorbar\": {\"outlinewidth\": 0, \"ticks\": \"\"}}, \"colorscale\": {\"diverging\": [[0, \"#8e0152\"], [0.1, \"#c51b7d\"], [0.2, \"#de77ae\"], [0.3, \"#f1b6da\"], [0.4, \"#fde0ef\"], [0.5, \"#f7f7f7\"], [0.6, \"#e6f5d0\"], [0.7, \"#b8e186\"], [0.8, \"#7fbc41\"], [0.9, \"#4d9221\"], [1, \"#276419\"]], \"sequential\": [[0.0, \"#0d0887\"], [0.1111111111111111, \"#46039f\"], [0.2222222222222222, \"#7201a8\"], [0.3333333333333333, \"#9c179e\"], [0.4444444444444444, \"#bd3786\"], [0.5555555555555556, \"#d8576b\"], [0.6666666666666666, \"#ed7953\"], [0.7777777777777778, \"#fb9f3a\"], [0.8888888888888888, \"#fdca26\"], [1.0, \"#f0f921\"]], \"sequentialminus\": [[0.0, \"#0d0887\"], [0.1111111111111111, \"#46039f\"], [0.2222222222222222, \"#7201a8\"], [0.3333333333333333, \"#9c179e\"], [0.4444444444444444, \"#bd3786\"], [0.5555555555555556, \"#d8576b\"], [0.6666666666666666, \"#ed7953\"], [0.7777777777777778, \"#fb9f3a\"], [0.8888888888888888, \"#fdca26\"], [1.0, \"#f0f921\"]]}, \"colorway\": [\"#636efa\", \"#EF553B\", \"#00cc96\", \"#ab63fa\", \"#FFA15A\", \"#19d3f3\", \"#FF6692\", \"#B6E880\", \"#FF97FF\", \"#FECB52\"], \"font\": {\"color\": \"#2a3f5f\"}, \"geo\": {\"bgcolor\": \"white\", \"lakecolor\": \"white\", \"landcolor\": \"#E5ECF6\", \"showlakes\": true, \"showland\": true, \"subunitcolor\": \"white\"}, \"hoverlabel\": {\"align\": \"left\"}, \"hovermode\": \"closest\", \"mapbox\": {\"style\": \"light\"}, \"paper_bgcolor\": \"white\", \"plot_bgcolor\": \"#E5ECF6\", \"polar\": {\"angularaxis\": {\"gridcolor\": \"white\", \"linecolor\": \"white\", \"ticks\": \"\"}, \"bgcolor\": \"#E5ECF6\", \"radialaxis\": {\"gridcolor\": \"white\", \"linecolor\": \"white\", \"ticks\": \"\"}}, \"scene\": {\"xaxis\": {\"backgroundcolor\": \"#E5ECF6\", \"gridcolor\": \"white\", \"gridwidth\": 2, \"linecolor\": \"white\", \"showbackground\": true, \"ticks\": \"\", \"zerolinecolor\": \"white\"}, \"yaxis\": {\"backgroundcolor\": \"#E5ECF6\", \"gridcolor\": \"white\", \"gridwidth\": 2, \"linecolor\": \"white\", \"showbackground\": true, \"ticks\": \"\", \"zerolinecolor\": \"white\"}, \"zaxis\": {\"backgroundcolor\": \"#E5ECF6\", \"gridcolor\": \"white\", \"gridwidth\": 2, \"linecolor\": \"white\", \"showbackground\": true, \"ticks\": \"\", \"zerolinecolor\": \"white\"}}, \"shapedefaults\": {\"line\": {\"color\": \"#2a3f5f\"}}, \"ternary\": {\"aaxis\": {\"gridcolor\": \"white\", \"linecolor\": \"white\", \"ticks\": \"\"}, \"baxis\": {\"gridcolor\": \"white\", \"linecolor\": \"white\", \"ticks\": \"\"}, \"bgcolor\": \"#E5ECF6\", \"caxis\": {\"gridcolor\": \"white\", \"linecolor\": \"white\", \"ticks\": \"\"}}, \"title\": {\"x\": 0.05}, \"xaxis\": {\"automargin\": true, \"gridcolor\": \"white\", \"linecolor\": \"white\", \"ticks\": \"\", \"title\": {\"standoff\": 15}, \"zerolinecolor\": \"white\", \"zerolinewidth\": 2}, \"yaxis\": {\"automargin\": true, \"gridcolor\": \"white\", \"linecolor\": \"white\", \"ticks\": \"\", \"title\": {\"standoff\": 15}, \"zerolinecolor\": \"white\", \"zerolinewidth\": 2}}}, \"title\": {\"text\": \"2018 Top/Bottom Countries\"}, \"xaxis\": {\"anchor\": \"y\", \"domain\": [0.0, 1.0], \"title\": {\"text\": \"Happiness Score\"}}, \"yaxis\": {\"anchor\": \"x\", \"domain\": [0.0, 1.0], \"title\": {\"text\": \"Countries\"}}},                        {\"responsive\": true}                    ).then(function(){\n",
       "                            \n",
       "var gd = document.getElementById('1d5b3627-c454-4e19-b2e0-51dfdb8c1a76');\n",
       "var x = new MutationObserver(function (mutations, observer) {{\n",
       "        var display = window.getComputedStyle(gd).display;\n",
       "        if (!display || display === 'none') {{\n",
       "            console.log([gd, 'removed!']);\n",
       "            Plotly.purge(gd);\n",
       "            observer.disconnect();\n",
       "        }}\n",
       "}});\n",
       "\n",
       "// Listen for the removal of the full notebook cells\n",
       "var notebookContainer = gd.closest('#notebook-container');\n",
       "if (notebookContainer) {{\n",
       "    x.observe(notebookContainer, {childList: true});\n",
       "}}\n",
       "\n",
       "// Listen for the clearing of the current output cell\n",
       "var outputEl = gd.closest('.output');\n",
       "if (outputEl) {{\n",
       "    x.observe(outputEl, {childList: true});\n",
       "}}\n",
       "\n",
       "                        })                };                });            </script>        </div>"
      ]
     },
     "metadata": {},
     "output_type": "display_data"
    },
    {
     "data": {
      "application/vnd.plotly.v1+json": {
       "config": {
        "plotlyServerURL": "https://plot.ly"
       },
       "data": [
        {
         "alignmentgroup": "True",
         "hovertemplate": "Contributing Factors=Economy (GDP per Capita)<br>Happiness Score=%{x}<br>Countries=%{y}<extra></extra>",
         "legendgroup": "Economy (GDP per Capita)",
         "marker": {
          "color": "rgb(166,206,227)"
         },
         "name": "Economy (GDP per Capita)",
         "offsetgroup": "Economy (GDP per Capita)",
         "orientation": "h",
         "showlegend": true,
         "textposition": "auto",
         "type": "bar",
         "x": [
          0.47600000000000003,
          0.359,
          0.287,
          0.191,
          0.619,
          1.041,
          0.32299999999999995,
          0.366,
          0.046,
          0.27399999999999997,
          1.376,
          1.365,
          1.3030000000000002,
          1.3869999999999998,
          1.452,
          1.396,
          1.38,
          1.4880000000000002,
          1.383,
          1.34
         ],
         "xaxis": "x",
         "y": [
          "Tanzania",
          "Rwanda",
          "Yemen",
          "Malawi",
          "Syria",
          "Botswana",
          "Haiti",
          "Zimbabwe",
          "Burundi",
          "Madagascar",
          "Austria",
          "Canada",
          "New Zealand",
          "Sweden",
          "Switzerland",
          "Netherlands",
          "Iceland",
          "Norway",
          "Denmark",
          "Finland"
         ],
         "yaxis": "y"
        },
        {
         "alignmentgroup": "True",
         "hovertemplate": "Contributing Factors=Health (Life Expectancy)<br>Happiness Score=%{x}<br>Countries=%{y}<extra></extra>",
         "legendgroup": "Health (Life Expectancy)",
         "marker": {
          "color": "rgb(31,120,180)"
         },
         "name": "Health (Life Expectancy)",
         "offsetgroup": "Health (Life Expectancy)",
         "orientation": "h",
         "showlegend": true,
         "textposition": "auto",
         "type": "bar",
         "x": [
          0.499,
          0.614,
          0.46299999999999997,
          0.495,
          0.44,
          0.5379999999999999,
          0.449,
          0.433,
          0.38,
          0.555,
          1.016,
          1.0390000000000001,
          1.026,
          1.0090000000000001,
          1.052,
          0.9990000000000001,
          1.026,
          1.028,
          0.996,
          0.986
         ],
         "xaxis": "x",
         "y": [
          "Tanzania",
          "Rwanda",
          "Yemen",
          "Malawi",
          "Syria",
          "Botswana",
          "Haiti",
          "Zimbabwe",
          "Burundi",
          "Madagascar",
          "Austria",
          "Canada",
          "New Zealand",
          "Sweden",
          "Switzerland",
          "Netherlands",
          "Iceland",
          "Norway",
          "Denmark",
          "Finland"
         ],
         "yaxis": "y"
        },
        {
         "alignmentgroup": "True",
         "hovertemplate": "Contributing Factors=Generosity<br>Happiness Score=%{x}<br>Countries=%{y}<extra></extra>",
         "legendgroup": "Generosity",
         "marker": {
          "color": "rgb(178,223,138)"
         },
         "name": "Generosity",
         "offsetgroup": "Generosity",
         "orientation": "h",
         "showlegend": true,
         "textposition": "auto",
         "type": "bar",
         "x": [
          0.276,
          0.217,
          0.10800000000000001,
          0.218,
          0.331,
          0.025,
          0.419,
          0.151,
          0.17600000000000002,
          0.16899999999999998,
          0.244,
          0.285,
          0.33,
          0.267,
          0.263,
          0.322,
          0.354,
          0.271,
          0.252,
          0.153
         ],
         "xaxis": "x",
         "y": [
          "Tanzania",
          "Rwanda",
          "Yemen",
          "Malawi",
          "Syria",
          "Botswana",
          "Haiti",
          "Zimbabwe",
          "Burundi",
          "Madagascar",
          "Austria",
          "Canada",
          "New Zealand",
          "Sweden",
          "Switzerland",
          "Netherlands",
          "Iceland",
          "Norway",
          "Denmark",
          "Finland"
         ],
         "yaxis": "y"
        },
        {
         "alignmentgroup": "True",
         "hovertemplate": "Contributing Factors=Freedom<br>Happiness Score=%{x}<br>Countries=%{y}<extra></extra>",
         "legendgroup": "Freedom",
         "marker": {
          "color": "rgb(51,160,44)"
         },
         "name": "Freedom",
         "offsetgroup": "Freedom",
         "orientation": "h",
         "showlegend": true,
         "textposition": "auto",
         "type": "bar",
         "x": [
          0.41700000000000004,
          0.555,
          0.14300000000000002,
          0.44299999999999995,
          0.013000000000000001,
          0.455,
          0.026000000000000002,
          0.361,
          0.22,
          0.14800000000000002,
          0.532,
          0.584,
          0.585,
          0.574,
          0.5720000000000001,
          0.557,
          0.591,
          0.603,
          0.5920000000000001,
          0.596
         ],
         "xaxis": "x",
         "y": [
          "Tanzania",
          "Rwanda",
          "Yemen",
          "Malawi",
          "Syria",
          "Botswana",
          "Haiti",
          "Zimbabwe",
          "Burundi",
          "Madagascar",
          "Austria",
          "Canada",
          "New Zealand",
          "Sweden",
          "Switzerland",
          "Netherlands",
          "Iceland",
          "Norway",
          "Denmark",
          "Finland"
         ],
         "yaxis": "y"
        },
        {
         "alignmentgroup": "True",
         "hovertemplate": "Contributing Factors=Trust (Government Corruption)<br>Happiness Score=%{x}<br>Countries=%{y}<extra></extra>",
         "legendgroup": "Trust (Government Corruption)",
         "marker": {
          "color": "rgb(251,154,153)"
         },
         "name": "Trust (Government Corruption)",
         "offsetgroup": "Trust (Government Corruption)",
         "orientation": "h",
         "showlegend": true,
         "textposition": "auto",
         "type": "bar",
         "x": [
          0.147,
          0.41100000000000003,
          0.077,
          0.08900000000000001,
          0.141,
          0.1,
          0.11,
          0.08900000000000001,
          0.18,
          0.040999999999999995,
          0.226,
          0.308,
          0.38,
          0.373,
          0.34299999999999997,
          0.298,
          0.11800000000000001,
          0.341,
          0.41,
          0.39299999999999996
         ],
         "xaxis": "x",
         "y": [
          "Tanzania",
          "Rwanda",
          "Yemen",
          "Malawi",
          "Syria",
          "Botswana",
          "Haiti",
          "Zimbabwe",
          "Burundi",
          "Madagascar",
          "Austria",
          "Canada",
          "New Zealand",
          "Sweden",
          "Switzerland",
          "Netherlands",
          "Iceland",
          "Norway",
          "Denmark",
          "Finland"
         ],
         "yaxis": "y"
        }
       ],
       "layout": {
        "barmode": "stack",
        "legend": {
         "title": {
          "text": "Contributing Factors"
         },
         "tracegroupgap": 0
        },
        "template": {
         "data": {
          "bar": [
           {
            "error_x": {
             "color": "#2a3f5f"
            },
            "error_y": {
             "color": "#2a3f5f"
            },
            "marker": {
             "line": {
              "color": "#E5ECF6",
              "width": 0.5
             }
            },
            "type": "bar"
           }
          ],
          "barpolar": [
           {
            "marker": {
             "line": {
              "color": "#E5ECF6",
              "width": 0.5
             }
            },
            "type": "barpolar"
           }
          ],
          "carpet": [
           {
            "aaxis": {
             "endlinecolor": "#2a3f5f",
             "gridcolor": "white",
             "linecolor": "white",
             "minorgridcolor": "white",
             "startlinecolor": "#2a3f5f"
            },
            "baxis": {
             "endlinecolor": "#2a3f5f",
             "gridcolor": "white",
             "linecolor": "white",
             "minorgridcolor": "white",
             "startlinecolor": "#2a3f5f"
            },
            "type": "carpet"
           }
          ],
          "choropleth": [
           {
            "colorbar": {
             "outlinewidth": 0,
             "ticks": ""
            },
            "type": "choropleth"
           }
          ],
          "contour": [
           {
            "colorbar": {
             "outlinewidth": 0,
             "ticks": ""
            },
            "colorscale": [
             [
              0,
              "#0d0887"
             ],
             [
              0.1111111111111111,
              "#46039f"
             ],
             [
              0.2222222222222222,
              "#7201a8"
             ],
             [
              0.3333333333333333,
              "#9c179e"
             ],
             [
              0.4444444444444444,
              "#bd3786"
             ],
             [
              0.5555555555555556,
              "#d8576b"
             ],
             [
              0.6666666666666666,
              "#ed7953"
             ],
             [
              0.7777777777777778,
              "#fb9f3a"
             ],
             [
              0.8888888888888888,
              "#fdca26"
             ],
             [
              1,
              "#f0f921"
             ]
            ],
            "type": "contour"
           }
          ],
          "contourcarpet": [
           {
            "colorbar": {
             "outlinewidth": 0,
             "ticks": ""
            },
            "type": "contourcarpet"
           }
          ],
          "heatmap": [
           {
            "colorbar": {
             "outlinewidth": 0,
             "ticks": ""
            },
            "colorscale": [
             [
              0,
              "#0d0887"
             ],
             [
              0.1111111111111111,
              "#46039f"
             ],
             [
              0.2222222222222222,
              "#7201a8"
             ],
             [
              0.3333333333333333,
              "#9c179e"
             ],
             [
              0.4444444444444444,
              "#bd3786"
             ],
             [
              0.5555555555555556,
              "#d8576b"
             ],
             [
              0.6666666666666666,
              "#ed7953"
             ],
             [
              0.7777777777777778,
              "#fb9f3a"
             ],
             [
              0.8888888888888888,
              "#fdca26"
             ],
             [
              1,
              "#f0f921"
             ]
            ],
            "type": "heatmap"
           }
          ],
          "heatmapgl": [
           {
            "colorbar": {
             "outlinewidth": 0,
             "ticks": ""
            },
            "colorscale": [
             [
              0,
              "#0d0887"
             ],
             [
              0.1111111111111111,
              "#46039f"
             ],
             [
              0.2222222222222222,
              "#7201a8"
             ],
             [
              0.3333333333333333,
              "#9c179e"
             ],
             [
              0.4444444444444444,
              "#bd3786"
             ],
             [
              0.5555555555555556,
              "#d8576b"
             ],
             [
              0.6666666666666666,
              "#ed7953"
             ],
             [
              0.7777777777777778,
              "#fb9f3a"
             ],
             [
              0.8888888888888888,
              "#fdca26"
             ],
             [
              1,
              "#f0f921"
             ]
            ],
            "type": "heatmapgl"
           }
          ],
          "histogram": [
           {
            "marker": {
             "colorbar": {
              "outlinewidth": 0,
              "ticks": ""
             }
            },
            "type": "histogram"
           }
          ],
          "histogram2d": [
           {
            "colorbar": {
             "outlinewidth": 0,
             "ticks": ""
            },
            "colorscale": [
             [
              0,
              "#0d0887"
             ],
             [
              0.1111111111111111,
              "#46039f"
             ],
             [
              0.2222222222222222,
              "#7201a8"
             ],
             [
              0.3333333333333333,
              "#9c179e"
             ],
             [
              0.4444444444444444,
              "#bd3786"
             ],
             [
              0.5555555555555556,
              "#d8576b"
             ],
             [
              0.6666666666666666,
              "#ed7953"
             ],
             [
              0.7777777777777778,
              "#fb9f3a"
             ],
             [
              0.8888888888888888,
              "#fdca26"
             ],
             [
              1,
              "#f0f921"
             ]
            ],
            "type": "histogram2d"
           }
          ],
          "histogram2dcontour": [
           {
            "colorbar": {
             "outlinewidth": 0,
             "ticks": ""
            },
            "colorscale": [
             [
              0,
              "#0d0887"
             ],
             [
              0.1111111111111111,
              "#46039f"
             ],
             [
              0.2222222222222222,
              "#7201a8"
             ],
             [
              0.3333333333333333,
              "#9c179e"
             ],
             [
              0.4444444444444444,
              "#bd3786"
             ],
             [
              0.5555555555555556,
              "#d8576b"
             ],
             [
              0.6666666666666666,
              "#ed7953"
             ],
             [
              0.7777777777777778,
              "#fb9f3a"
             ],
             [
              0.8888888888888888,
              "#fdca26"
             ],
             [
              1,
              "#f0f921"
             ]
            ],
            "type": "histogram2dcontour"
           }
          ],
          "mesh3d": [
           {
            "colorbar": {
             "outlinewidth": 0,
             "ticks": ""
            },
            "type": "mesh3d"
           }
          ],
          "parcoords": [
           {
            "line": {
             "colorbar": {
              "outlinewidth": 0,
              "ticks": ""
             }
            },
            "type": "parcoords"
           }
          ],
          "pie": [
           {
            "automargin": true,
            "type": "pie"
           }
          ],
          "scatter": [
           {
            "marker": {
             "colorbar": {
              "outlinewidth": 0,
              "ticks": ""
             }
            },
            "type": "scatter"
           }
          ],
          "scatter3d": [
           {
            "line": {
             "colorbar": {
              "outlinewidth": 0,
              "ticks": ""
             }
            },
            "marker": {
             "colorbar": {
              "outlinewidth": 0,
              "ticks": ""
             }
            },
            "type": "scatter3d"
           }
          ],
          "scattercarpet": [
           {
            "marker": {
             "colorbar": {
              "outlinewidth": 0,
              "ticks": ""
             }
            },
            "type": "scattercarpet"
           }
          ],
          "scattergeo": [
           {
            "marker": {
             "colorbar": {
              "outlinewidth": 0,
              "ticks": ""
             }
            },
            "type": "scattergeo"
           }
          ],
          "scattergl": [
           {
            "marker": {
             "colorbar": {
              "outlinewidth": 0,
              "ticks": ""
             }
            },
            "type": "scattergl"
           }
          ],
          "scattermapbox": [
           {
            "marker": {
             "colorbar": {
              "outlinewidth": 0,
              "ticks": ""
             }
            },
            "type": "scattermapbox"
           }
          ],
          "scatterpolar": [
           {
            "marker": {
             "colorbar": {
              "outlinewidth": 0,
              "ticks": ""
             }
            },
            "type": "scatterpolar"
           }
          ],
          "scatterpolargl": [
           {
            "marker": {
             "colorbar": {
              "outlinewidth": 0,
              "ticks": ""
             }
            },
            "type": "scatterpolargl"
           }
          ],
          "scatterternary": [
           {
            "marker": {
             "colorbar": {
              "outlinewidth": 0,
              "ticks": ""
             }
            },
            "type": "scatterternary"
           }
          ],
          "surface": [
           {
            "colorbar": {
             "outlinewidth": 0,
             "ticks": ""
            },
            "colorscale": [
             [
              0,
              "#0d0887"
             ],
             [
              0.1111111111111111,
              "#46039f"
             ],
             [
              0.2222222222222222,
              "#7201a8"
             ],
             [
              0.3333333333333333,
              "#9c179e"
             ],
             [
              0.4444444444444444,
              "#bd3786"
             ],
             [
              0.5555555555555556,
              "#d8576b"
             ],
             [
              0.6666666666666666,
              "#ed7953"
             ],
             [
              0.7777777777777778,
              "#fb9f3a"
             ],
             [
              0.8888888888888888,
              "#fdca26"
             ],
             [
              1,
              "#f0f921"
             ]
            ],
            "type": "surface"
           }
          ],
          "table": [
           {
            "cells": {
             "fill": {
              "color": "#EBF0F8"
             },
             "line": {
              "color": "white"
             }
            },
            "header": {
             "fill": {
              "color": "#C8D4E3"
             },
             "line": {
              "color": "white"
             }
            },
            "type": "table"
           }
          ]
         },
         "layout": {
          "annotationdefaults": {
           "arrowcolor": "#2a3f5f",
           "arrowhead": 0,
           "arrowwidth": 1
          },
          "autotypenumbers": "strict",
          "coloraxis": {
           "colorbar": {
            "outlinewidth": 0,
            "ticks": ""
           }
          },
          "colorscale": {
           "diverging": [
            [
             0,
             "#8e0152"
            ],
            [
             0.1,
             "#c51b7d"
            ],
            [
             0.2,
             "#de77ae"
            ],
            [
             0.3,
             "#f1b6da"
            ],
            [
             0.4,
             "#fde0ef"
            ],
            [
             0.5,
             "#f7f7f7"
            ],
            [
             0.6,
             "#e6f5d0"
            ],
            [
             0.7,
             "#b8e186"
            ],
            [
             0.8,
             "#7fbc41"
            ],
            [
             0.9,
             "#4d9221"
            ],
            [
             1,
             "#276419"
            ]
           ],
           "sequential": [
            [
             0,
             "#0d0887"
            ],
            [
             0.1111111111111111,
             "#46039f"
            ],
            [
             0.2222222222222222,
             "#7201a8"
            ],
            [
             0.3333333333333333,
             "#9c179e"
            ],
            [
             0.4444444444444444,
             "#bd3786"
            ],
            [
             0.5555555555555556,
             "#d8576b"
            ],
            [
             0.6666666666666666,
             "#ed7953"
            ],
            [
             0.7777777777777778,
             "#fb9f3a"
            ],
            [
             0.8888888888888888,
             "#fdca26"
            ],
            [
             1,
             "#f0f921"
            ]
           ],
           "sequentialminus": [
            [
             0,
             "#0d0887"
            ],
            [
             0.1111111111111111,
             "#46039f"
            ],
            [
             0.2222222222222222,
             "#7201a8"
            ],
            [
             0.3333333333333333,
             "#9c179e"
            ],
            [
             0.4444444444444444,
             "#bd3786"
            ],
            [
             0.5555555555555556,
             "#d8576b"
            ],
            [
             0.6666666666666666,
             "#ed7953"
            ],
            [
             0.7777777777777778,
             "#fb9f3a"
            ],
            [
             0.8888888888888888,
             "#fdca26"
            ],
            [
             1,
             "#f0f921"
            ]
           ]
          },
          "colorway": [
           "#636efa",
           "#EF553B",
           "#00cc96",
           "#ab63fa",
           "#FFA15A",
           "#19d3f3",
           "#FF6692",
           "#B6E880",
           "#FF97FF",
           "#FECB52"
          ],
          "font": {
           "color": "#2a3f5f"
          },
          "geo": {
           "bgcolor": "white",
           "lakecolor": "white",
           "landcolor": "#E5ECF6",
           "showlakes": true,
           "showland": true,
           "subunitcolor": "white"
          },
          "hoverlabel": {
           "align": "left"
          },
          "hovermode": "closest",
          "mapbox": {
           "style": "light"
          },
          "paper_bgcolor": "white",
          "plot_bgcolor": "#E5ECF6",
          "polar": {
           "angularaxis": {
            "gridcolor": "white",
            "linecolor": "white",
            "ticks": ""
           },
           "bgcolor": "#E5ECF6",
           "radialaxis": {
            "gridcolor": "white",
            "linecolor": "white",
            "ticks": ""
           }
          },
          "scene": {
           "xaxis": {
            "backgroundcolor": "#E5ECF6",
            "gridcolor": "white",
            "gridwidth": 2,
            "linecolor": "white",
            "showbackground": true,
            "ticks": "",
            "zerolinecolor": "white"
           },
           "yaxis": {
            "backgroundcolor": "#E5ECF6",
            "gridcolor": "white",
            "gridwidth": 2,
            "linecolor": "white",
            "showbackground": true,
            "ticks": "",
            "zerolinecolor": "white"
           },
           "zaxis": {
            "backgroundcolor": "#E5ECF6",
            "gridcolor": "white",
            "gridwidth": 2,
            "linecolor": "white",
            "showbackground": true,
            "ticks": "",
            "zerolinecolor": "white"
           }
          },
          "shapedefaults": {
           "line": {
            "color": "#2a3f5f"
           }
          },
          "ternary": {
           "aaxis": {
            "gridcolor": "white",
            "linecolor": "white",
            "ticks": ""
           },
           "baxis": {
            "gridcolor": "white",
            "linecolor": "white",
            "ticks": ""
           },
           "bgcolor": "#E5ECF6",
           "caxis": {
            "gridcolor": "white",
            "linecolor": "white",
            "ticks": ""
           }
          },
          "title": {
           "x": 0.05
          },
          "xaxis": {
           "automargin": true,
           "gridcolor": "white",
           "linecolor": "white",
           "ticks": "",
           "title": {
            "standoff": 15
           },
           "zerolinecolor": "white",
           "zerolinewidth": 2
          },
          "yaxis": {
           "automargin": true,
           "gridcolor": "white",
           "linecolor": "white",
           "ticks": "",
           "title": {
            "standoff": 15
           },
           "zerolinecolor": "white",
           "zerolinewidth": 2
          }
         }
        },
        "title": {
         "text": "2019 Top/Bottom Countries"
        },
        "xaxis": {
         "anchor": "y",
         "domain": [
          0,
          1
         ],
         "title": {
          "text": "Happiness Score"
         }
        },
        "yaxis": {
         "anchor": "x",
         "domain": [
          0,
          1
         ],
         "title": {
          "text": "Countries"
         }
        }
       }
      },
      "text/html": [
       "<div>                            <div id=\"976d30a4-2700-4b2b-81c0-b76b847acf4c\" class=\"plotly-graph-div\" style=\"height:525px; width:100%;\"></div>            <script type=\"text/javascript\">                require([\"plotly\"], function(Plotly) {                    window.PLOTLYENV=window.PLOTLYENV || {};                                    if (document.getElementById(\"976d30a4-2700-4b2b-81c0-b76b847acf4c\")) {                    Plotly.newPlot(                        \"976d30a4-2700-4b2b-81c0-b76b847acf4c\",                        [{\"alignmentgroup\": \"True\", \"hovertemplate\": \"Contributing Factors=Economy (GDP per Capita)<br>Happiness Score=%{x}<br>Countries=%{y}<extra></extra>\", \"legendgroup\": \"Economy (GDP per Capita)\", \"marker\": {\"color\": \"rgb(166,206,227)\"}, \"name\": \"Economy (GDP per Capita)\", \"offsetgroup\": \"Economy (GDP per Capita)\", \"orientation\": \"h\", \"showlegend\": true, \"textposition\": \"auto\", \"type\": \"bar\", \"x\": [0.47600000000000003, 0.359, 0.287, 0.191, 0.619, 1.041, 0.32299999999999995, 0.366, 0.046, 0.27399999999999997, 1.376, 1.365, 1.3030000000000002, 1.3869999999999998, 1.452, 1.396, 1.38, 1.4880000000000002, 1.383, 1.34], \"xaxis\": \"x\", \"y\": [\"Tanzania\", \"Rwanda\", \"Yemen\", \"Malawi\", \"Syria\", \"Botswana\", \"Haiti\", \"Zimbabwe\", \"Burundi\", \"Madagascar\", \"Austria\", \"Canada\", \"New Zealand\", \"Sweden\", \"Switzerland\", \"Netherlands\", \"Iceland\", \"Norway\", \"Denmark\", \"Finland\"], \"yaxis\": \"y\"}, {\"alignmentgroup\": \"True\", \"hovertemplate\": \"Contributing Factors=Health (Life Expectancy)<br>Happiness Score=%{x}<br>Countries=%{y}<extra></extra>\", \"legendgroup\": \"Health (Life Expectancy)\", \"marker\": {\"color\": \"rgb(31,120,180)\"}, \"name\": \"Health (Life Expectancy)\", \"offsetgroup\": \"Health (Life Expectancy)\", \"orientation\": \"h\", \"showlegend\": true, \"textposition\": \"auto\", \"type\": \"bar\", \"x\": [0.499, 0.614, 0.46299999999999997, 0.495, 0.44, 0.5379999999999999, 0.449, 0.433, 0.38, 0.555, 1.016, 1.0390000000000001, 1.026, 1.0090000000000001, 1.052, 0.9990000000000001, 1.026, 1.028, 0.996, 0.986], \"xaxis\": \"x\", \"y\": [\"Tanzania\", \"Rwanda\", \"Yemen\", \"Malawi\", \"Syria\", \"Botswana\", \"Haiti\", \"Zimbabwe\", \"Burundi\", \"Madagascar\", \"Austria\", \"Canada\", \"New Zealand\", \"Sweden\", \"Switzerland\", \"Netherlands\", \"Iceland\", \"Norway\", \"Denmark\", \"Finland\"], \"yaxis\": \"y\"}, {\"alignmentgroup\": \"True\", \"hovertemplate\": \"Contributing Factors=Generosity<br>Happiness Score=%{x}<br>Countries=%{y}<extra></extra>\", \"legendgroup\": \"Generosity\", \"marker\": {\"color\": \"rgb(178,223,138)\"}, \"name\": \"Generosity\", \"offsetgroup\": \"Generosity\", \"orientation\": \"h\", \"showlegend\": true, \"textposition\": \"auto\", \"type\": \"bar\", \"x\": [0.276, 0.217, 0.10800000000000001, 0.218, 0.331, 0.025, 0.419, 0.151, 0.17600000000000002, 0.16899999999999998, 0.244, 0.285, 0.33, 0.267, 0.263, 0.322, 0.354, 0.271, 0.252, 0.153], \"xaxis\": \"x\", \"y\": [\"Tanzania\", \"Rwanda\", \"Yemen\", \"Malawi\", \"Syria\", \"Botswana\", \"Haiti\", \"Zimbabwe\", \"Burundi\", \"Madagascar\", \"Austria\", \"Canada\", \"New Zealand\", \"Sweden\", \"Switzerland\", \"Netherlands\", \"Iceland\", \"Norway\", \"Denmark\", \"Finland\"], \"yaxis\": \"y\"}, {\"alignmentgroup\": \"True\", \"hovertemplate\": \"Contributing Factors=Freedom<br>Happiness Score=%{x}<br>Countries=%{y}<extra></extra>\", \"legendgroup\": \"Freedom\", \"marker\": {\"color\": \"rgb(51,160,44)\"}, \"name\": \"Freedom\", \"offsetgroup\": \"Freedom\", \"orientation\": \"h\", \"showlegend\": true, \"textposition\": \"auto\", \"type\": \"bar\", \"x\": [0.41700000000000004, 0.555, 0.14300000000000002, 0.44299999999999995, 0.013000000000000001, 0.455, 0.026000000000000002, 0.361, 0.22, 0.14800000000000002, 0.532, 0.584, 0.585, 0.574, 0.5720000000000001, 0.557, 0.591, 0.603, 0.5920000000000001, 0.596], \"xaxis\": \"x\", \"y\": [\"Tanzania\", \"Rwanda\", \"Yemen\", \"Malawi\", \"Syria\", \"Botswana\", \"Haiti\", \"Zimbabwe\", \"Burundi\", \"Madagascar\", \"Austria\", \"Canada\", \"New Zealand\", \"Sweden\", \"Switzerland\", \"Netherlands\", \"Iceland\", \"Norway\", \"Denmark\", \"Finland\"], \"yaxis\": \"y\"}, {\"alignmentgroup\": \"True\", \"hovertemplate\": \"Contributing Factors=Trust (Government Corruption)<br>Happiness Score=%{x}<br>Countries=%{y}<extra></extra>\", \"legendgroup\": \"Trust (Government Corruption)\", \"marker\": {\"color\": \"rgb(251,154,153)\"}, \"name\": \"Trust (Government Corruption)\", \"offsetgroup\": \"Trust (Government Corruption)\", \"orientation\": \"h\", \"showlegend\": true, \"textposition\": \"auto\", \"type\": \"bar\", \"x\": [0.147, 0.41100000000000003, 0.077, 0.08900000000000001, 0.141, 0.1, 0.11, 0.08900000000000001, 0.18, 0.040999999999999995, 0.226, 0.308, 0.38, 0.373, 0.34299999999999997, 0.298, 0.11800000000000001, 0.341, 0.41, 0.39299999999999996], \"xaxis\": \"x\", \"y\": [\"Tanzania\", \"Rwanda\", \"Yemen\", \"Malawi\", \"Syria\", \"Botswana\", \"Haiti\", \"Zimbabwe\", \"Burundi\", \"Madagascar\", \"Austria\", \"Canada\", \"New Zealand\", \"Sweden\", \"Switzerland\", \"Netherlands\", \"Iceland\", \"Norway\", \"Denmark\", \"Finland\"], \"yaxis\": \"y\"}],                        {\"barmode\": \"stack\", \"legend\": {\"title\": {\"text\": \"Contributing Factors\"}, \"tracegroupgap\": 0}, \"template\": {\"data\": {\"bar\": [{\"error_x\": {\"color\": \"#2a3f5f\"}, \"error_y\": {\"color\": \"#2a3f5f\"}, \"marker\": {\"line\": {\"color\": \"#E5ECF6\", \"width\": 0.5}}, \"type\": \"bar\"}], \"barpolar\": [{\"marker\": {\"line\": {\"color\": \"#E5ECF6\", \"width\": 0.5}}, \"type\": \"barpolar\"}], \"carpet\": [{\"aaxis\": {\"endlinecolor\": \"#2a3f5f\", \"gridcolor\": \"white\", \"linecolor\": \"white\", \"minorgridcolor\": \"white\", \"startlinecolor\": \"#2a3f5f\"}, \"baxis\": {\"endlinecolor\": \"#2a3f5f\", \"gridcolor\": \"white\", \"linecolor\": \"white\", \"minorgridcolor\": \"white\", \"startlinecolor\": \"#2a3f5f\"}, \"type\": \"carpet\"}], \"choropleth\": [{\"colorbar\": {\"outlinewidth\": 0, \"ticks\": \"\"}, \"type\": \"choropleth\"}], \"contour\": [{\"colorbar\": {\"outlinewidth\": 0, \"ticks\": \"\"}, \"colorscale\": [[0.0, \"#0d0887\"], [0.1111111111111111, \"#46039f\"], [0.2222222222222222, \"#7201a8\"], [0.3333333333333333, \"#9c179e\"], [0.4444444444444444, \"#bd3786\"], [0.5555555555555556, \"#d8576b\"], [0.6666666666666666, \"#ed7953\"], [0.7777777777777778, \"#fb9f3a\"], [0.8888888888888888, \"#fdca26\"], [1.0, \"#f0f921\"]], \"type\": \"contour\"}], \"contourcarpet\": [{\"colorbar\": {\"outlinewidth\": 0, \"ticks\": \"\"}, \"type\": \"contourcarpet\"}], \"heatmap\": [{\"colorbar\": {\"outlinewidth\": 0, \"ticks\": \"\"}, \"colorscale\": [[0.0, \"#0d0887\"], [0.1111111111111111, \"#46039f\"], [0.2222222222222222, \"#7201a8\"], [0.3333333333333333, \"#9c179e\"], [0.4444444444444444, \"#bd3786\"], [0.5555555555555556, \"#d8576b\"], [0.6666666666666666, \"#ed7953\"], [0.7777777777777778, \"#fb9f3a\"], [0.8888888888888888, \"#fdca26\"], [1.0, \"#f0f921\"]], \"type\": \"heatmap\"}], \"heatmapgl\": [{\"colorbar\": {\"outlinewidth\": 0, \"ticks\": \"\"}, \"colorscale\": [[0.0, \"#0d0887\"], [0.1111111111111111, \"#46039f\"], [0.2222222222222222, \"#7201a8\"], [0.3333333333333333, \"#9c179e\"], [0.4444444444444444, \"#bd3786\"], [0.5555555555555556, \"#d8576b\"], [0.6666666666666666, \"#ed7953\"], [0.7777777777777778, \"#fb9f3a\"], [0.8888888888888888, \"#fdca26\"], [1.0, \"#f0f921\"]], \"type\": \"heatmapgl\"}], \"histogram\": [{\"marker\": {\"colorbar\": {\"outlinewidth\": 0, \"ticks\": \"\"}}, \"type\": \"histogram\"}], \"histogram2d\": [{\"colorbar\": {\"outlinewidth\": 0, \"ticks\": \"\"}, \"colorscale\": [[0.0, \"#0d0887\"], [0.1111111111111111, \"#46039f\"], [0.2222222222222222, \"#7201a8\"], [0.3333333333333333, \"#9c179e\"], [0.4444444444444444, \"#bd3786\"], [0.5555555555555556, \"#d8576b\"], [0.6666666666666666, \"#ed7953\"], [0.7777777777777778, \"#fb9f3a\"], [0.8888888888888888, \"#fdca26\"], [1.0, \"#f0f921\"]], \"type\": \"histogram2d\"}], \"histogram2dcontour\": [{\"colorbar\": {\"outlinewidth\": 0, \"ticks\": \"\"}, \"colorscale\": [[0.0, \"#0d0887\"], [0.1111111111111111, \"#46039f\"], [0.2222222222222222, \"#7201a8\"], [0.3333333333333333, \"#9c179e\"], [0.4444444444444444, \"#bd3786\"], [0.5555555555555556, \"#d8576b\"], [0.6666666666666666, \"#ed7953\"], [0.7777777777777778, \"#fb9f3a\"], [0.8888888888888888, \"#fdca26\"], [1.0, \"#f0f921\"]], \"type\": \"histogram2dcontour\"}], \"mesh3d\": [{\"colorbar\": {\"outlinewidth\": 0, \"ticks\": \"\"}, \"type\": \"mesh3d\"}], \"parcoords\": [{\"line\": {\"colorbar\": {\"outlinewidth\": 0, \"ticks\": \"\"}}, \"type\": \"parcoords\"}], \"pie\": [{\"automargin\": true, \"type\": \"pie\"}], \"scatter\": [{\"marker\": {\"colorbar\": {\"outlinewidth\": 0, \"ticks\": \"\"}}, \"type\": \"scatter\"}], \"scatter3d\": [{\"line\": {\"colorbar\": {\"outlinewidth\": 0, \"ticks\": \"\"}}, \"marker\": {\"colorbar\": {\"outlinewidth\": 0, \"ticks\": \"\"}}, \"type\": \"scatter3d\"}], \"scattercarpet\": [{\"marker\": {\"colorbar\": {\"outlinewidth\": 0, \"ticks\": \"\"}}, \"type\": \"scattercarpet\"}], \"scattergeo\": [{\"marker\": {\"colorbar\": {\"outlinewidth\": 0, \"ticks\": \"\"}}, \"type\": \"scattergeo\"}], \"scattergl\": [{\"marker\": {\"colorbar\": {\"outlinewidth\": 0, \"ticks\": \"\"}}, \"type\": \"scattergl\"}], \"scattermapbox\": [{\"marker\": {\"colorbar\": {\"outlinewidth\": 0, \"ticks\": \"\"}}, \"type\": \"scattermapbox\"}], \"scatterpolar\": [{\"marker\": {\"colorbar\": {\"outlinewidth\": 0, \"ticks\": \"\"}}, \"type\": \"scatterpolar\"}], \"scatterpolargl\": [{\"marker\": {\"colorbar\": {\"outlinewidth\": 0, \"ticks\": \"\"}}, \"type\": \"scatterpolargl\"}], \"scatterternary\": [{\"marker\": {\"colorbar\": {\"outlinewidth\": 0, \"ticks\": \"\"}}, \"type\": \"scatterternary\"}], \"surface\": [{\"colorbar\": {\"outlinewidth\": 0, \"ticks\": \"\"}, \"colorscale\": [[0.0, \"#0d0887\"], [0.1111111111111111, \"#46039f\"], [0.2222222222222222, \"#7201a8\"], [0.3333333333333333, \"#9c179e\"], [0.4444444444444444, \"#bd3786\"], [0.5555555555555556, \"#d8576b\"], [0.6666666666666666, \"#ed7953\"], [0.7777777777777778, \"#fb9f3a\"], [0.8888888888888888, \"#fdca26\"], [1.0, \"#f0f921\"]], \"type\": \"surface\"}], \"table\": [{\"cells\": {\"fill\": {\"color\": \"#EBF0F8\"}, \"line\": {\"color\": \"white\"}}, \"header\": {\"fill\": {\"color\": \"#C8D4E3\"}, \"line\": {\"color\": \"white\"}}, \"type\": \"table\"}]}, \"layout\": {\"annotationdefaults\": {\"arrowcolor\": \"#2a3f5f\", \"arrowhead\": 0, \"arrowwidth\": 1}, \"autotypenumbers\": \"strict\", \"coloraxis\": {\"colorbar\": {\"outlinewidth\": 0, \"ticks\": \"\"}}, \"colorscale\": {\"diverging\": [[0, \"#8e0152\"], [0.1, \"#c51b7d\"], [0.2, \"#de77ae\"], [0.3, \"#f1b6da\"], [0.4, \"#fde0ef\"], [0.5, \"#f7f7f7\"], [0.6, \"#e6f5d0\"], [0.7, \"#b8e186\"], [0.8, \"#7fbc41\"], [0.9, \"#4d9221\"], [1, \"#276419\"]], \"sequential\": [[0.0, \"#0d0887\"], [0.1111111111111111, \"#46039f\"], [0.2222222222222222, \"#7201a8\"], [0.3333333333333333, \"#9c179e\"], [0.4444444444444444, \"#bd3786\"], [0.5555555555555556, \"#d8576b\"], [0.6666666666666666, \"#ed7953\"], [0.7777777777777778, \"#fb9f3a\"], [0.8888888888888888, \"#fdca26\"], [1.0, \"#f0f921\"]], \"sequentialminus\": [[0.0, \"#0d0887\"], [0.1111111111111111, \"#46039f\"], [0.2222222222222222, \"#7201a8\"], [0.3333333333333333, \"#9c179e\"], [0.4444444444444444, \"#bd3786\"], [0.5555555555555556, \"#d8576b\"], [0.6666666666666666, \"#ed7953\"], [0.7777777777777778, \"#fb9f3a\"], [0.8888888888888888, \"#fdca26\"], [1.0, \"#f0f921\"]]}, \"colorway\": [\"#636efa\", \"#EF553B\", \"#00cc96\", \"#ab63fa\", \"#FFA15A\", \"#19d3f3\", \"#FF6692\", \"#B6E880\", \"#FF97FF\", \"#FECB52\"], \"font\": {\"color\": \"#2a3f5f\"}, \"geo\": {\"bgcolor\": \"white\", \"lakecolor\": \"white\", \"landcolor\": \"#E5ECF6\", \"showlakes\": true, \"showland\": true, \"subunitcolor\": \"white\"}, \"hoverlabel\": {\"align\": \"left\"}, \"hovermode\": \"closest\", \"mapbox\": {\"style\": \"light\"}, \"paper_bgcolor\": \"white\", \"plot_bgcolor\": \"#E5ECF6\", \"polar\": {\"angularaxis\": {\"gridcolor\": \"white\", \"linecolor\": \"white\", \"ticks\": \"\"}, \"bgcolor\": \"#E5ECF6\", \"radialaxis\": {\"gridcolor\": \"white\", \"linecolor\": \"white\", \"ticks\": \"\"}}, \"scene\": {\"xaxis\": {\"backgroundcolor\": \"#E5ECF6\", \"gridcolor\": \"white\", \"gridwidth\": 2, \"linecolor\": \"white\", \"showbackground\": true, \"ticks\": \"\", \"zerolinecolor\": \"white\"}, \"yaxis\": {\"backgroundcolor\": \"#E5ECF6\", \"gridcolor\": \"white\", \"gridwidth\": 2, \"linecolor\": \"white\", \"showbackground\": true, \"ticks\": \"\", \"zerolinecolor\": \"white\"}, \"zaxis\": {\"backgroundcolor\": \"#E5ECF6\", \"gridcolor\": \"white\", \"gridwidth\": 2, \"linecolor\": \"white\", \"showbackground\": true, \"ticks\": \"\", \"zerolinecolor\": \"white\"}}, \"shapedefaults\": {\"line\": {\"color\": \"#2a3f5f\"}}, \"ternary\": {\"aaxis\": {\"gridcolor\": \"white\", \"linecolor\": \"white\", \"ticks\": \"\"}, \"baxis\": {\"gridcolor\": \"white\", \"linecolor\": \"white\", \"ticks\": \"\"}, \"bgcolor\": \"#E5ECF6\", \"caxis\": {\"gridcolor\": \"white\", \"linecolor\": \"white\", \"ticks\": \"\"}}, \"title\": {\"x\": 0.05}, \"xaxis\": {\"automargin\": true, \"gridcolor\": \"white\", \"linecolor\": \"white\", \"ticks\": \"\", \"title\": {\"standoff\": 15}, \"zerolinecolor\": \"white\", \"zerolinewidth\": 2}, \"yaxis\": {\"automargin\": true, \"gridcolor\": \"white\", \"linecolor\": \"white\", \"ticks\": \"\", \"title\": {\"standoff\": 15}, \"zerolinecolor\": \"white\", \"zerolinewidth\": 2}}}, \"title\": {\"text\": \"2019 Top/Bottom Countries\"}, \"xaxis\": {\"anchor\": \"y\", \"domain\": [0.0, 1.0], \"title\": {\"text\": \"Happiness Score\"}}, \"yaxis\": {\"anchor\": \"x\", \"domain\": [0.0, 1.0], \"title\": {\"text\": \"Countries\"}}},                        {\"responsive\": true}                    ).then(function(){\n",
       "                            \n",
       "var gd = document.getElementById('976d30a4-2700-4b2b-81c0-b76b847acf4c');\n",
       "var x = new MutationObserver(function (mutations, observer) {{\n",
       "        var display = window.getComputedStyle(gd).display;\n",
       "        if (!display || display === 'none') {{\n",
       "            console.log([gd, 'removed!']);\n",
       "            Plotly.purge(gd);\n",
       "            observer.disconnect();\n",
       "        }}\n",
       "}});\n",
       "\n",
       "// Listen for the removal of the full notebook cells\n",
       "var notebookContainer = gd.closest('#notebook-container');\n",
       "if (notebookContainer) {{\n",
       "    x.observe(notebookContainer, {childList: true});\n",
       "}}\n",
       "\n",
       "// Listen for the clearing of the current output cell\n",
       "var outputEl = gd.closest('.output');\n",
       "if (outputEl) {{\n",
       "    x.observe(outputEl, {childList: true});\n",
       "}}\n",
       "\n",
       "                        })                };                });            </script>        </div>"
      ]
     },
     "metadata": {},
     "output_type": "display_data"
    }
   ],
   "source": [
    "# Creating empty dictionaries to contain top 10 and bottom 10 countries\n",
    "top_countries = {}\n",
    "bottom_countries = {}\n",
    "combined_countries = {}\n",
    "\n",
    "# Looping to get the dataframes for 5 years\n",
    "for year in years:\n",
    "    top_countries[year] = df[year].set_index('Country')\n",
    "    \n",
    "    # Getting the top 10 countries using loc\n",
    "    top_countries[year] = df[year].loc[:, ['Country',\n",
    "                                           'Economy (GDP per Capita)',\n",
    "                                           'Health (Life Expectancy)',\n",
    "                                           'Generosity', 'Freedom',\n",
    "                                           'Trust (Government Corruption)']].head(10)\n",
    "    \n",
    "    # Getting the bottom 10 countries using loc\n",
    "    bottom_countries[year] = df[year].loc[:, ['Country',\n",
    "                                           'Economy (GDP per Capita)',\n",
    "                                           'Health (Life Expectancy)',\n",
    "                                           'Generosity', 'Freedom',\n",
    "                                           'Trust (Government Corruption)']].tail(10)\n",
    "    \n",
    "    # Combining top and bottom countries\n",
    "    combined_countries[year] = pd.concat([bottom_countries[year][::-1],\n",
    "                                         top_countries[year][::-1]]).set_index('Country', drop=True)\n",
    "    \n",
    "    # Plot the figure\n",
    "    fig = px.bar(combined_countries[year], \n",
    "                 color_discrete_sequence = px.colors.colorbrewer.Paired, \n",
    "                 orientation = 'h', \n",
    "                 title = f'{year} Top/Bottom Countries', \n",
    "                 barmode = 'stack', \n",
    "                 labels = dict(Country=\"Countries\", \n",
    "                               value=\"Happiness Score\",\n",
    "                               variable = \"Contributing Factors\"))\n",
    "    \n",
    "    fig.show()"
   ]
  },
  {
   "cell_type": "code",
   "execution_count": null,
   "metadata": {},
   "outputs": [],
   "source": [
    "df"
   ]
  },
  {
   "cell_type": "code",
   "execution_count": null,
   "metadata": {},
   "outputs": [],
   "source": [
    "a = plt.figure(figsize =(10,6))\n",
    "heatmap_corr={}\n",
    "\n",
    "\n",
    "for year in years:\n",
    "    heatmap_corr[year] = df[year]\n",
    "    fig = plt.figure(figsize =(10,6))\n",
    "    print(f\"Correlational Heatmap - {year}\")\n",
    "    # Seaborn graph using heatmap\n",
    "    sns.heatmap(heatmap_corr[year].corr(), annot=True)\n",
    "    plt.show()"
   ]
  },
  {
   "cell_type": "code",
   "execution_count": null,
   "metadata": {},
   "outputs": [],
   "source": []
  },
  {
   "cell_type": "code",
   "execution_count": 34,
   "metadata": {},
   "outputs": [
    {
     "data": {
      "text/plain": [
       "{2015:      Happiness Rank  Happiness Score  Economy (GDP per Capita)  \\\n",
       " 0                 1            7.587                   1.39651   \n",
       " 1                 2            7.561                   1.30232   \n",
       " 2                 3            7.527                   1.32548   \n",
       " 3                 4            7.522                   1.45900   \n",
       " 4                 5            7.427                   1.32629   \n",
       " ..              ...              ...                       ...   \n",
       " 125             154            3.465                   0.22208   \n",
       " 126             155            3.340                   0.28665   \n",
       " 127             156            3.006                   0.66320   \n",
       " 128             157            2.905                   0.01530   \n",
       " 129             158            2.839                   0.20868   \n",
       " \n",
       "      Health (Life Expectancy)  Generosity  Freedom  \\\n",
       " 0                     0.94143     0.29678  0.66557   \n",
       " 1                     0.94784     0.43630  0.62877   \n",
       " 2                     0.87464     0.34139  0.64938   \n",
       " 3                     0.88521     0.34699  0.66973   \n",
       " 4                     0.90563     0.45811  0.63297   \n",
       " ..                        ...         ...      ...   \n",
       " 125                   0.42864     0.22628  0.59201   \n",
       " 126                   0.31910     0.18260  0.48450   \n",
       " 127                   0.72193     0.47179  0.15684   \n",
       " 128                   0.22396     0.19727  0.11850   \n",
       " 129                   0.28443     0.16681  0.36453   \n",
       " \n",
       "      Trust (Government Corruption)      Country  \n",
       " 0                          0.41978  Switzerland  \n",
       " 1                          0.14145      Iceland  \n",
       " 2                          0.48357      Denmark  \n",
       " 3                          0.36503       Norway  \n",
       " 4                          0.32957       Canada  \n",
       " ..                             ...          ...  \n",
       " 125                        0.55191       Rwanda  \n",
       " 126                        0.08010        Benin  \n",
       " 127                        0.18906        Syria  \n",
       " 128                        0.10062      Burundi  \n",
       " 129                        0.10731         Togo  \n",
       " \n",
       " [130 rows x 8 columns],\n",
       " 2016:      Happiness Rank  Happiness Score  Economy (GDP per Capita)  \\\n",
       " 2                 1            7.526                   1.44178   \n",
       " 0                 2            7.509                   1.52733   \n",
       " 1                 3            7.501                   1.42666   \n",
       " 3                 4            7.498                   1.57744   \n",
       " 5                 5            7.413                   1.40598   \n",
       " ..              ...              ...                       ...   \n",
       " 125             152            3.515                   0.32846   \n",
       " 126             153            3.484                   0.39499   \n",
       " 129             155            3.303                   0.28123   \n",
       " 127             156            3.069                   0.74719   \n",
       " 128             157            2.905                   0.06831   \n",
       " \n",
       "      Health (Life Expectancy)  Generosity  Freedom  \\\n",
       " 2                     0.79504     0.36171  0.57941   \n",
       " 0                     0.86303     0.28083  0.58557   \n",
       " 1                     0.86733     0.47678  0.56624   \n",
       " 3                     0.79579     0.37895  0.59609   \n",
       " 5                     0.81091     0.25492  0.57104   \n",
       " ..                        ...         ...      ...   \n",
       " 125                   0.31865     0.23552  0.54320   \n",
       " 126                   0.21028     0.20180  0.39747   \n",
       " 129                   0.24811     0.17517  0.34678   \n",
       " 127                   0.62994     0.48397  0.06912   \n",
       " 128                   0.15747     0.20290  0.04320   \n",
       " \n",
       "      Trust (Government Corruption)      Country  \n",
       " 2                          0.44453      Denmark  \n",
       " 0                          0.41203  Switzerland  \n",
       " 1                          0.14975      Iceland  \n",
       " 3                          0.35776       Norway  \n",
       " 5                          0.41004      Finland  \n",
       " ..                             ...          ...  \n",
       " 125                        0.50521       Rwanda  \n",
       " 126                        0.06681        Benin  \n",
       " 129                        0.11587         Togo  \n",
       " 127                        0.17233        Syria  \n",
       " 128                        0.09419      Burundi  \n",
       " \n",
       " [130 rows x 8 columns],\n",
       " 2017:      Happiness Rank  Happiness Score  Economy (GDP per Capita)  \\\n",
       " 3                 1            7.537                  1.616463   \n",
       " 2                 2            7.522                  1.482383   \n",
       " 1                 3            7.504                  1.480633   \n",
       " 0                 4            7.494                  1.564980   \n",
       " 5                 5            7.469                  1.443572   \n",
       " ..              ...              ...                       ...   \n",
       " 129             150            3.495                  0.305445   \n",
       " 125             151            3.471                  0.368746   \n",
       " 127             152            3.462                  0.777153   \n",
       " 120             153            3.349                  0.511136   \n",
       " 128             154            2.905                  0.091623   \n",
       " \n",
       "      Health (Life Expectancy)  Generosity   Freedom  \\\n",
       " 3                    0.796667    0.362012  0.635423   \n",
       " 2                    0.792566    0.355280  0.626007   \n",
       " 1                    0.833552    0.475540  0.627163   \n",
       " 0                    0.858131    0.290549  0.620071   \n",
       " 5                    0.809158    0.245483  0.617951   \n",
       " ..                        ...         ...       ...   \n",
       " 129                  0.247106    0.196896  0.380426   \n",
       " 125                  0.326425    0.252756  0.581844   \n",
       " 127                  0.500533    0.493664  0.081539   \n",
       " 120                  0.364509    0.354256  0.390018   \n",
       " 128                  0.151611    0.204435  0.059901   \n",
       " \n",
       "      Trust (Government Corruption)      Country  \n",
       " 3                         0.315964       Norway  \n",
       " 2                         0.400770      Denmark  \n",
       " 1                         0.153527      Iceland  \n",
       " 0                         0.367007  Switzerland  \n",
       " 5                         0.382612      Finland  \n",
       " ..                             ...          ...  \n",
       " 129                       0.095665         Togo  \n",
       " 125                       0.455220       Rwanda  \n",
       " 127                       0.151347        Syria  \n",
       " 120                       0.066035     Tanzania  \n",
       " 128                       0.084148      Burundi  \n",
       " \n",
       " [130 rows x 8 columns],\n",
       " 2018:      Happiness Rank  Happiness Score  Economy (GDP per Capita)  \\\n",
       " 5                 1            7.632                     1.305   \n",
       " 3                 2            7.594                     1.456   \n",
       " 2                 3            7.555                     1.351   \n",
       " 1                 4            7.495                     1.343   \n",
       " 0                 5            7.487                     1.420   \n",
       " ..              ...              ...                       ...   \n",
       " 127             150            3.462                     0.689   \n",
       " 125             151            3.408                     0.332   \n",
       " 114             152            3.355                     0.442   \n",
       " 120             153            3.303                     0.455   \n",
       " 128             156            2.905                     0.091   \n",
       " \n",
       "      Health (Life Expectancy)  Generosity  Freedom  \\\n",
       " 5                       0.874       0.202    0.681   \n",
       " 3                       0.861       0.286    0.686   \n",
       " 2                       0.868       0.284    0.683   \n",
       " 1                       0.914       0.353    0.677   \n",
       " 0                       0.927       0.256    0.660   \n",
       " ..                        ...         ...      ...   \n",
       " 127                     0.539       0.376    0.088   \n",
       " 125                     0.400       0.200    0.636   \n",
       " 114                     0.343       0.083    0.244   \n",
       " 120                     0.381       0.270    0.481   \n",
       " 128                     0.145       0.149    0.065   \n",
       " \n",
       "      Trust (Government Corruption)      Country  \n",
       " 5                            0.393      Finland  \n",
       " 3                            0.340       Norway  \n",
       " 2                            0.408      Denmark  \n",
       " 1                            0.138      Iceland  \n",
       " 0                            0.357  Switzerland  \n",
       " ..                             ...          ...  \n",
       " 127                          0.144        Syria  \n",
       " 125                          0.444       Rwanda  \n",
       " 114                          0.064        Yemen  \n",
       " 120                          0.097     Tanzania  \n",
       " 128                          0.076      Burundi  \n",
       " \n",
       " [130 rows x 8 columns],\n",
       " 2019:      Happiness Rank  Happiness Score  Economy (GDP per Capita)  \\\n",
       " 5                 1            7.769                     1.340   \n",
       " 2                 2            7.600                     1.383   \n",
       " 3                 3            7.554                     1.488   \n",
       " 1                 4            7.494                     1.380   \n",
       " 6                 5            7.488                     1.396   \n",
       " ..              ...              ...                       ...   \n",
       " 127             149            3.462                     0.619   \n",
       " 109             150            3.410                     0.191   \n",
       " 114             151            3.380                     0.287   \n",
       " 125             152            3.334                     0.359   \n",
       " 120             153            3.231                     0.476   \n",
       " \n",
       "      Health (Life Expectancy)  Generosity  Freedom  \\\n",
       " 5                       0.986       0.153    0.596   \n",
       " 2                       0.996       0.252    0.592   \n",
       " 3                       1.028       0.271    0.603   \n",
       " 1                       1.026       0.354    0.591   \n",
       " 6                       0.999       0.322    0.557   \n",
       " ..                        ...         ...      ...   \n",
       " 127                     0.440       0.331    0.013   \n",
       " 109                     0.495       0.218    0.443   \n",
       " 114                     0.463       0.108    0.143   \n",
       " 125                     0.614       0.217    0.555   \n",
       " 120                     0.499       0.276    0.417   \n",
       " \n",
       "      Trust (Government Corruption)      Country  \n",
       " 5                            0.393      Finland  \n",
       " 2                            0.410      Denmark  \n",
       " 3                            0.341       Norway  \n",
       " 1                            0.118      Iceland  \n",
       " 6                            0.298  Netherlands  \n",
       " ..                             ...          ...  \n",
       " 127                          0.141        Syria  \n",
       " 109                          0.089       Malawi  \n",
       " 114                          0.077        Yemen  \n",
       " 125                          0.411       Rwanda  \n",
       " 120                          0.147     Tanzania  \n",
       " \n",
       " [130 rows x 8 columns]}"
      ]
     },
     "execution_count": 34,
     "metadata": {},
     "output_type": "execute_result"
    }
   ],
   "source": [
    "df"
   ]
  },
  {
   "cell_type": "code",
   "execution_count": null,
   "metadata": {},
   "outputs": [],
   "source": []
  }
 ],
 "metadata": {
  "kernelspec": {
   "display_name": "Python 3",
   "language": "python",
   "name": "python3"
  },
  "language_info": {
   "codemirror_mode": {
    "name": "ipython",
    "version": 3
   },
   "file_extension": ".py",
   "mimetype": "text/x-python",
   "name": "python",
   "nbconvert_exporter": "python",
   "pygments_lexer": "ipython3",
   "version": "3.8.5"
  }
 },
 "nbformat": 4,
 "nbformat_minor": 4
}
